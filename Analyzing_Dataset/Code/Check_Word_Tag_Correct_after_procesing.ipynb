{
 "cells": [
  {
   "cell_type": "markdown",
   "metadata": {},
   "source": [
    "This code is to check whether word tag pair geenrated after processing json file has same length as well as correct tagging is done or not"
   ]
  },
  {
   "cell_type": "code",
   "execution_count": 1,
   "metadata": {},
   "outputs": [],
   "source": [
    "import os"
   ]
  },
  {
   "cell_type": "code",
   "execution_count": 2,
   "metadata": {},
   "outputs": [],
   "source": [
    "content_dir = '../../Data/input/content'\n",
    "tag_dir = '../../Data/input/new_tags'"
   ]
  },
  {
   "cell_type": "code",
   "execution_count": 7,
   "metadata": {},
   "outputs": [
    {
     "name": "stdout",
     "output_type": "stream",
     "text": [
      "1087 0\n"
     ]
    }
   ],
   "source": [
    "tatal_count = 0\n",
    "faulty_count = 0\n",
    "for f in os.listdir(content_dir):\n",
    "    tatal_count = tatal_count + 1\n",
    "    content_file = os.path.join(content_dir, f)\n",
    "    tag_file = os.path.join(tag_dir, f)\n",
    "    words = list()\n",
    "    tags = list()\n",
    "    with open(content_file, 'rt') as cf:\n",
    "        for line in cf:\n",
    "            for word in line.split():\n",
    "                words.append(word)\n",
    "\n",
    "    with open(tag_file, 'rt') as tf:\n",
    "        for line in tf:\n",
    "            for tag in line.split():\n",
    "                tags.append(tag)\n",
    "    word_len = len(words)\n",
    "    tag_len = len(tags)\n",
    "    \n",
    "    if word_len != tag_len:\n",
    "        faulty_count = faulty_count + 1\n",
    "        print(f)\n",
    "print(tatal_count, faulty_count)"
   ]
  },
  {
   "cell_type": "code",
   "execution_count": 4,
   "metadata": {},
   "outputs": [],
   "source": [
    "content_file = os.path.join(content_dir, 'ev_094_st_017.txt')\n",
    "tag_file = os.path.join(tag_dir, 'ev_094_st_017.txt')\n",
    "\n",
    "words = list()\n",
    "tags = list()\n",
    "with open(content_file, 'rt') as cf:\n",
    "    for line in cf:\n",
    "        for word in line.split():\n",
    "            words.append(word)\n",
    "\n",
    "with open(tag_file, 'rt') as tf:\n",
    "    for line in tf:\n",
    "        for tag in line.split():\n",
    "            tags.append(tag)\n",
    "            "
   ]
  },
  {
   "cell_type": "code",
   "execution_count": 5,
   "metadata": {},
   "outputs": [
    {
     "name": "stdout",
     "output_type": "stream",
     "text": [
      "2118\n",
      "2118\n"
     ]
    }
   ],
   "source": [
    "print(len(words))\n",
    "print(len(tags))"
   ]
  },
  {
   "cell_type": "code",
   "execution_count": 6,
   "metadata": {},
   "outputs": [
    {
     "name": "stdout",
     "output_type": "stream",
     "text": [
      "View O\n",
      "PhotosPatna O\n",
      ", O\n",
      "Oct O\n",
      "27 O\n",
      ": O\n",
      "BJP ORG_Others\n",
      "'s O\n",
      "prime O\n",
      "ministerial O\n",
      "candidate O\n",
      "Narendra PER_Others\n",
      "Modi PER_Others\n",
      "addressed O\n",
      "a O\n",
      "mega O\n",
      "BJP ORG_Others\n",
      "rally O\n",
      "here O\n",
      "on O\n",
      "Sunday O\n",
      ". O\n",
      "The O\n",
      "rally O\n",
      "was O\n",
      "preceded O\n",
      "by O\n",
      "a O\n",
      "series O\n",
      "of O\n",
      "low-intensity O\n",
      "blasts O\n",
      "in O\n",
      "the O\n",
      "Bihar LOC_Event\n",
      "capital O\n",
      ", O\n",
      "which O\n",
      "led O\n",
      "to O\n",
      "the O\n",
      "death O\n",
      "of O\n",
      "one O\n",
      "person O\n",
      ". O\n",
      ". O\n",
      ". O\n",
      "2.30 O\n",
      "pm O\n",
      ". O\n",
      ". O\n",
      "Narendra PER_Others\n",
      "Modi PER_Others\n",
      "concludes O\n",
      "his O\n",
      "speech O\n",
      ". O\n",
      ". O\n",
      ". O\n",
      "Modi PER_Others\n",
      "asks O\n",
      "people O\n",
      "to O\n",
      "return O\n",
      "home O\n",
      "safely O\n",
      ". O\n",
      "`` O\n",
      "You O\n",
      "have O\n",
      "won O\n",
      "the O\n",
      "heart O\n",
      "of O\n",
      "India LOC_Others\n",
      ". O\n",
      "'' O\n",
      "he O\n",
      "said O\n",
      ". O\n",
      ". O\n",
      ". O\n",
      "Modi PER_Others\n",
      "on O\n",
      "Muslims O\n",
      "and O\n",
      "development O\n",
      ". O\n",
      ". O\n",
      "`` O\n",
      "Both O\n",
      "Hindus O\n",
      "and O\n",
      "Muslims O\n",
      "need O\n",
      "to O\n",
      "fight O\n"
     ]
    }
   ],
   "source": [
    "for i in range(98):\n",
    "    print(words[i], tags[i])"
   ]
  }
 ],
 "metadata": {
  "kernelspec": {
   "display_name": "Python 3",
   "language": "python",
   "name": "python3"
  },
  "language_info": {
   "codemirror_mode": {
    "name": "ipython",
    "version": 3
   },
   "file_extension": ".py",
   "mimetype": "text/x-python",
   "name": "python",
   "nbconvert_exporter": "python",
   "pygments_lexer": "ipython3",
   "version": "3.5.2"
  }
 },
 "nbformat": 4,
 "nbformat_minor": 2
}
