{
 "cells": [
  {
   "cell_type": "markdown",
   "metadata": {},
   "source": [
    "Move the files to mismtach length folder, whose word length and tag length do not match"
   ]
  },
  {
   "cell_type": "code",
   "execution_count": 6,
   "metadata": {},
   "outputs": [],
   "source": [
    "import os\n",
    "import shutil\n",
    "\n",
    "content_dir = '../../Data/input/content'\n",
    "tag_dir = '../../Data/input/new_tags'\n",
    "data_dir = '../../Data'\n",
    "\n",
    "target_content_dir = '../../Data/mismtach/content'\n",
    "target_tag_dir = '../../Data/mismtach/tags'\n",
    "\n",
    "with open(os.path.join(data_dir, 'List_of_faulty_files.txt')) as f:\n",
    "    for line in f:\n",
    "        line = line.strip('\\n')\n",
    "        shutil.move(os.path.join(content_dir, line), os.path.join(target_content_dir, line))\n",
    "        shutil.move(os.path.join(tag_dir, line), os.path.join(target_tag_dir, line))    "
   ]
  }
 ],
 "metadata": {
  "kernelspec": {
   "display_name": "Python 3",
   "language": "python",
   "name": "python3"
  },
  "language_info": {
   "codemirror_mode": {
    "name": "ipython",
    "version": 3
   },
   "file_extension": ".py",
   "mimetype": "text/x-python",
   "name": "python",
   "nbconvert_exporter": "python",
   "pygments_lexer": "ipython3",
   "version": "3.5.2"
  }
 },
 "nbformat": 4,
 "nbformat_minor": 2
}
