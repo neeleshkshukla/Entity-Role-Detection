{
 "cells": [
  {
   "cell_type": "markdown",
   "metadata": {},
   "source": [
    "We are assuming that an entity will play the same role in doc/event level.\n",
    "\n",
    "This code is to check that."
   ]
  },
  {
   "cell_type": "code",
   "execution_count": 49,
   "metadata": {},
   "outputs": [],
   "source": [
    "import os\n",
    "import matplotlib.pylab as plt\n",
    "import numpy as np"
   ]
  },
  {
   "cell_type": "code",
   "execution_count": 6,
   "metadata": {},
   "outputs": [],
   "source": [
    "corpus_dir = '../../Data/input'\n",
    "content_dir_name = 'content'\n",
    "tag_dir_name = 'new_tags'\n",
    "\n",
    "content_dir = os.path.join(corpus_dir, content_dir_name)\n",
    "tag_dir = os.path.join(corpus_dir, tag_dir_name)\n",
    "\n",
    "tag_list = ['LOC_Event', 'LOC_Accused', 'LOC_Victim', 'LOC_Others', 'ORG_Accused', 'ORG_Victim', 'ORG_Others', 'PER_Victim', 'PER_Others', 'PER_Accused']"
   ]
  },
  {
   "cell_type": "code",
   "execution_count": 34,
   "metadata": {},
   "outputs": [],
   "source": [
    "doc_role_entity_dict = dict()\n",
    "doc_count_entity_dict = dict()\n",
    "   \n",
    "count = 0\n",
    "for f in os.listdir(content_dir):\n",
    "    #if count > 0:\n",
    "        #break;\n",
    "    #count= count + 1\n",
    "    #print(f)\n",
    "    entity_role_dict = dict()\n",
    "    entity_count_dict = dict()\n",
    "    content_file = os.path.join(content_dir, f)\n",
    "    tag_file = os.path.join(tag_dir, f)\n",
    "    words = list()\n",
    "    tags = list()\n",
    "    with open(content_file, 'rt') as cf:\n",
    "        for line in cf:\n",
    "            for word in line.strip('\\n').split():\n",
    "                words.append(word)\n",
    "\n",
    "    with open(tag_file, 'rt') as tf:\n",
    "        for line in tf:\n",
    "            for tag in line.strip('\\n').split():\n",
    "                tags.append(tag)\n",
    "    word_len = len(words)\n",
    "    tag_len = len(tags)\n",
    "    if word_len == tag_len:\n",
    "        i = 0\n",
    "        while i < word_len:\n",
    "\n",
    "            if tags[i] in tag_list:\n",
    "                entity_start_index = i\n",
    "                entity_end_index = i \n",
    "                while entity_end_index< word_len -1 and tags[entity_end_index] == tags[entity_end_index+1]:\n",
    "                    entity_end_index = entity_end_index + 1\n",
    "                i = entity_end_index;\n",
    "                \n",
    "                entity_slice = slice(entity_start_index,entity_end_index+1)\n",
    "                entity = '_'.join(words[entity_slice])\n",
    "                entity_tag = tags[entity_end_index]\n",
    "                \n",
    "                    \n",
    "                if entity in entity_role_dict.keys():\n",
    "                    assigned_roles = entity_role_dict[entity]\n",
    "                    entity_count_dict[entity] = entity_count_dict[entity] + 1\n",
    "                   \n",
    "                    if entity_tag in assigned_roles:\n",
    "                        pass\n",
    "                    else:\n",
    "                        assigned_roles.append(entity_tag)\n",
    "                        entity_role_dict[entity] = assigned_roles\n",
    "                        \n",
    "                else:\n",
    "                    assigned_roles = list()\n",
    "                    assigned_roles.append(entity_tag)\n",
    "                    entity_role_dict[entity] = assigned_roles\n",
    "                    entity_count_dict[entity] = 1\n",
    "                \n",
    "                \n",
    "            doc_role_entity_dict[f] = entity_role_dict\n",
    "            doc_count_entity_dict[f] = entity_count_dict\n",
    "            \n",
    "            i = i+1"
   ]
  },
  {
   "cell_type": "code",
   "execution_count": 58,
   "metadata": {},
   "outputs": [
    {
     "name": "stdout",
     "output_type": "stream",
     "text": [
      "# Entities #Occurences in doc\n",
      "13193 \t\t 1\n",
      "2242 \t\t 2\n",
      "738 \t\t 3\n",
      "358 \t\t 4\n",
      "180 \t\t 5\n",
      "97 \t\t 6\n",
      "61 \t\t 7\n",
      "31 \t\t 8\n",
      "28 \t\t 9\n",
      "16 \t\t 10\n",
      "10 \t\t 11\n",
      "4 \t\t 12\n",
      "8 \t\t 13\n",
      "3 \t\t 14\n",
      "5 \t\t 15\n",
      "4 \t\t 16\n",
      "3 \t\t 17\n",
      "2 \t\t 19\n",
      "2 \t\t 20\n",
      "2 \t\t 26\n",
      "1 \t\t 28\n",
      "1 \t\t 29\n",
      "1 \t\t 41\n",
      "1 \t\t 64\n",
      "1 \t\t 89\n",
      "1 \t\t 99\n"
     ]
    }
   ],
   "source": [
    "# Get the number of entities having multiple counts\n",
    "entity_occurences_dict = dict()\n",
    "for doc in doc_count_entity_dict.keys():\n",
    "    entity_count_dict = doc_count_entity_dict[doc]\n",
    "    for entity in entity_count_dict.keys():\n",
    "        count = entity_count_dict[entity]\n",
    "        if count in entity_occurences_dict.keys():\n",
    "            entity_occurences_dict[count] = entity_occurences_dict[count] + 1\n",
    "        else:\n",
    "            entity_occurences_dict[count] = 1\n",
    "\n",
    "lists = sorted(entity_occurences_dict.items())\n",
    "x, y = zip(*lists) # unpack a list of pairs into two tuples\n",
    "\n",
    "print('# Entities', '#Occurences in doc')\n",
    "for i in range(len(x)):\n",
    "    print(y[i],'\\t\\t', x[i])\n"
   ]
  }
 ],
 "metadata": {
  "kernelspec": {
   "display_name": "Python 3",
   "language": "python",
   "name": "python3"
  },
  "language_info": {
   "codemirror_mode": {
    "name": "ipython",
    "version": 3
   },
   "file_extension": ".py",
   "mimetype": "text/x-python",
   "name": "python",
   "nbconvert_exporter": "python",
   "pygments_lexer": "ipython3",
   "version": "3.5.2"
  }
 },
 "nbformat": 4,
 "nbformat_minor": 2
}
