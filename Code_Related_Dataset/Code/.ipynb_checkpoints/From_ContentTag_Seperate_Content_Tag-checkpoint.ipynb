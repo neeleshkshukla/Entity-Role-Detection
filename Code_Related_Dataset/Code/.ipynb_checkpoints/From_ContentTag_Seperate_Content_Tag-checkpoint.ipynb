{
 "cells": [
  {
   "cell_type": "code",
   "execution_count": 1,
   "metadata": {},
   "outputs": [],
   "source": [
    "import os"
   ]
  },
  {
   "cell_type": "code",
   "execution_count": 2,
   "metadata": {},
   "outputs": [],
   "source": [
    "content_tags_folder = '../../Data/input/content_tags'\n",
    "\n",
    "content_folder = '../../Data/input/rectified/content'\n",
    "tags_folder = '../../Data/input/rectified/new_tags'\n",
    "\n",
    "stop_words = '../../Data/stopwords_to_remove.txt'"
   ]
  },
  {
   "cell_type": "code",
   "execution_count": 3,
   "metadata": {},
   "outputs": [
    {
     "name": "stdout",
     "output_type": "stream",
     "text": [
      "{'themselves', '?', 'their', 'from', 'himself', 'its', 'not', 'whom', 'having', 'hows', \"can't\", 'once', '%', \"why's\", 'any', ',', 'do', \"mustn't\", '{', 'very', 'again', 'didnt', 'and', '!!', 'mustnt', '`', \"shan't\", \"you'd\", 'there', 'all', \"he's\", \"shouldn't\", \"they've\", 'hes', '^', 'below', \"i'm\", 'when', 'but', 'theres', 'for', 'only', 'too', 'by', 'through', 'an', '!', 'cannot', 'whats', 'him', 'werent', '-lsb-', \"haven't\", \"we're\", \"where's\", \"'s\", 'these', ']', \"we've\", 'theyve', 'or', 'no', '-rsb-', 'most', \"we'd\", 'how', 'what', '###', 'cant', 'while', 'because', 'that', \"''\", 'under', 'theirs', 'heres', \"he'll\", \"what's\", \"won't\", \"they'll\", 'theyre', 'shouldnt', \"let's\", \"that's\", 'nor', '-rrb-', \"we'll\", '\"', '-', 'above', 'you', 'return', 'so', 'with', 'they', \"he'd\", 'until', '??', 'his', '-lrb-', 'then', 'am', 'my', \"don't\", 'could', 'wheres', \"there's\", 'doing', \"they're\", ';', \"you've\", 'yours', ':', 'other', 'such', '<', '&', \"you'll\", \"she'd\", 'each', \"hadn't\", 'hers', 'why', '[', 'into', 'isnt', 'than', 'doesnt', 'where', ')', '...', \"didn't\", \"weren't\", '>', 'dont', 'yourselves', 'im', \"wouldn't\", 'does', 'down', 'should', \"'\", 'youre', 'arent', 'hadnt', 'wont', '+', 'youve', \"isn't\", '}', '#', \"'ll\", 'her', \"how's\", \"she's\", \"hasn't\", 'both', 'here', \"she'll\", 'more', 'we', \"aren't\", 'can', 'he', 'a', 'ought', \"couldn't\", 'wouldnt', 'whos', 'out', 'yourself', 'our', 'myself', 'itself', 'ourselves', 'those', \"you're\", 'this', 'whens', 'had', 'the', 'few', \"i've\", 'shes', 'havent', 'during', 'me', 'some', 'being', 'before', \"doesn't\", '``', \"i'll\", 'who', 'after', 'herself', 'would', 'which', 'thats', 'wasnt', 'against', \"here's\", 'in', 'shant', '..', 'youll', \"it's\", \"i'd\", '!?', 'further', '.', '@', 'your', 'own', 'same', '?!', 'between', 'be', 'she', 'hasnt', 'i', 'if', 'lets', \"who's\", 'whys', 'ours ', 'couldnt', \"'m\", \"wasn't\", 'youd', 'about', '(', \"when's\", 'them', \"they'd\", 'it', '*', 'did', 'theyll', '$'}\n"
     ]
    }
   ],
   "source": [
    "stopWrods = set()\n",
    "\n",
    "with open(stop_words, 'rt') as stopword_file:\n",
    "    for line in stopword_file:\n",
    "        stopWrods.add(line.strip('\\n'))\n",
    "        \n",
    "print(stopWrods)"
   ]
  },
  {
   "cell_type": "code",
   "execution_count": 16,
   "metadata": {},
   "outputs": [],
   "source": [
    "for f in os.listdir(content_tags_folder):\n",
    "    content = ''\n",
    "    tag = ''\n",
    "    content_tag_file = os.path.join(content_tags_folder, f)\n",
    "    content_file = os.path.join(content_folder, f)\n",
    "    tag_file = os.path.join(tags_folder, f)\n",
    "  \n",
    "    with open(content_tag_file, 'rt') as ctf:\n",
    "        line_no = 1\n",
    "        try:\n",
    "            for line in ctf:\n",
    "                line = line.strip().lower()\n",
    "                if line != '':\n",
    "                    content_tag = line.split('\\t')\n",
    "                    if content_tag[0] not in stopWrods:\n",
    "                        if line_no == 1:\n",
    "                            content = content+ content_tag[0]\n",
    "                            tag = tag + content_tag[1]\n",
    "                        else:\n",
    "                            content = content+' '+content_tag[0]\n",
    "                            tag = tag + ' ' + content_tag[1]\n",
    "                    line_no = line_no + 1\n",
    "        except Exception as e:\n",
    "            print(f,e, 'at line', line_no)\n",
    "    with open(content_file, 'wt') as cf:\n",
    "        cf.write(content)\n",
    "    with open(tag_file, 'wt') as tf:\n",
    "        tf.write(tag)"
   ]
  },
  {
   "cell_type": "code",
   "execution_count": 7,
   "metadata": {},
   "outputs": [
    {
     "name": "stdout",
     "output_type": "stream",
     "text": [
      "taj\n",
      "mahal\n",
      "is\n",
      "big\n"
     ]
    }
   ],
   "source": [
    "string = 'the taj mahal is big'\n",
    "\n",
    "for word in string.split():\n",
    "    if word not in stopWrods:\n",
    "        print(word)"
   ]
  }
 ],
 "metadata": {
  "kernelspec": {
   "display_name": "Python 3",
   "language": "python",
   "name": "python3"
  },
  "language_info": {
   "codemirror_mode": {
    "name": "ipython",
    "version": 3
   },
   "file_extension": ".py",
   "mimetype": "text/x-python",
   "name": "python",
   "nbconvert_exporter": "python",
   "pygments_lexer": "ipython3",
   "version": "3.5.2"
  }
 },
 "nbformat": 4,
 "nbformat_minor": 2
}
