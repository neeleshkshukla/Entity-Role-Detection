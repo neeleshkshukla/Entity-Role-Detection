{
 "cells": [
  {
   "cell_type": "code",
   "execution_count": 1,
   "metadata": {},
   "outputs": [],
   "source": [
    "import os"
   ]
  },
  {
   "cell_type": "code",
   "execution_count": 3,
   "metadata": {},
   "outputs": [],
   "source": [
    "content_tags_folder = '../../Data/input/content_tags'\n",
    "\n",
    "content_folder = '../../Data/input/rectified/content'\n",
    "tags_folder = '../../Data/input/rectified/new_tags'"
   ]
  },
  {
   "cell_type": "code",
   "execution_count": 12,
   "metadata": {},
   "outputs": [
    {
     "name": "stdout",
     "output_type": "stream",
     "text": [
      "2012_10_18_st-822.txt list index out of range\n",
      "2012_10_4_st-750.txt list index out of range\n",
      "2012_11_30_st-777.txt list index out of range\n",
      "2012_7_14_st-909.txt list index out of range\n",
      "2012_9_6_st-825.txt list index out of range\n",
      "2013_6_12_st-775.txt list index out of range\n",
      "ev_013_st_001.txt list index out of range\n",
      "ev_015_st_008.txt list index out of range\n",
      "ev_017_st_002.txt list index out of range\n",
      "ev_019_st_030.txt list index out of range\n",
      "ev_019_st_031.txt list index out of range\n",
      "ev_019_st_032.txt list index out of range\n",
      "ev_019_st_033.txt list index out of range\n",
      "ev_019_st_034.txt list index out of range\n",
      "ev_019_st_036.txt list index out of range\n",
      "ev_019_st_038.txt list index out of range\n",
      "ev_019_st_039.txt list index out of range\n",
      "ev_019_st_041.txt list index out of range\n",
      "ev_019_st_044.txt list index out of range\n",
      "ev_019_st_046.txt list index out of range\n",
      "ev_019_st_049.txt list index out of range\n",
      "ev_019_st_050.txt list index out of range\n"
     ]
    }
   ],
   "source": [
    "for f in os.listdir(content_tags_folder):\n",
    "    content = ''\n",
    "    tag = ''\n",
    "    content_tag_file = os.path.join(content_tags_folder, f)\n",
    "    content_file = os.path.join(content_folder, f)\n",
    "    tag_file = os.path.join(tags_folder, f)\n",
    "    try:\n",
    "        with open(content_tag_file, 'rt') as ctf:\n",
    "            line_no = 1\n",
    "            for line in ctf:\n",
    "                line = line.strip()\n",
    "                if line != '':\n",
    "                    content_tag = line.split('\\t')\n",
    "                    if line_no == 1:\n",
    "                        content = content+ content_tag[0]\n",
    "                        tag = tag + content_tag[1]\n",
    "                    else:\n",
    "                        content = content+' '+content_tag[0]\n",
    "                        tag = tag + ' ' + content_tag[1]\n",
    "                line_no = line_no + 1\n",
    "    except Exception as e:\n",
    "        print(f,e)\n",
    "    with open(content_file, 'wt') as cf:\n",
    "        cf.write(content)\n",
    "    with open(tag_file, 'wt') as tf:\n",
    "        tf.write(tag)"
   ]
  }
 ],
 "metadata": {
  "kernelspec": {
   "display_name": "Python 3",
   "language": "python",
   "name": "python3"
  },
  "language_info": {
   "codemirror_mode": {
    "name": "ipython",
    "version": 3
   },
   "file_extension": ".py",
   "mimetype": "text/x-python",
   "name": "python",
   "nbconvert_exporter": "python",
   "pygments_lexer": "ipython3",
   "version": "3.5.2"
  }
 },
 "nbformat": 4,
 "nbformat_minor": 2
}
