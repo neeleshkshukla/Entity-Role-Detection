{
 "cells": [
  {
   "cell_type": "markdown",
   "metadata": {},
   "source": [
    "Write_Word_Tag_In_Same_file"
   ]
  },
  {
   "cell_type": "code",
   "execution_count": 1,
   "metadata": {},
   "outputs": [],
   "source": [
    "import os"
   ]
  },
  {
   "cell_type": "code",
   "execution_count": 2,
   "metadata": {},
   "outputs": [],
   "source": [
    "content_dir = '../../Data/input/content'\n",
    "tag_dir = '../../Data/input/new_tags'\n",
    "output_dir = '../../Data/input/content_tags'"
   ]
  },
  {
   "cell_type": "code",
   "execution_count": 9,
   "metadata": {},
   "outputs": [],
   "source": [
    "for f in os.listdir(content_dir):\n",
    "    content_tag = ''\n",
    "    content_file = os.path.join(content_dir, f)\n",
    "    tag_file = os.path.join(tag_dir, f)\n",
    "    words = list()\n",
    "    tags = list()\n",
    "    with open(content_file, 'rt') as cf:\n",
    "        for line in cf:\n",
    "            for word in line.split():\n",
    "                words.append(word)\n",
    "\n",
    "    with open(tag_file, 'rt') as tf:\n",
    "        for line in tf:\n",
    "            for tag in line.split():\n",
    "                tags.append(tag)\n",
    "    word_len = len(words)\n",
    "    tag_len = len(tags)\n",
    "    \n",
    "    if word_len == tag_len:\n",
    "        for i in range(word_len):\n",
    "            content_tag = content_tag + words[i]+'\\t'+tags[i]+'\\n'\n",
    "            \n",
    "        \n",
    "        with open(os.path.join(output_dir, f), 'wt') as fw:\n",
    "            fw.write(content_tag)\n",
    "        "
   ]
  }
 ],
 "metadata": {
  "kernelspec": {
   "display_name": "Python 3",
   "language": "python",
   "name": "python3"
  },
  "language_info": {
   "codemirror_mode": {
    "name": "ipython",
    "version": 3
   },
   "file_extension": ".py",
   "mimetype": "text/x-python",
   "name": "python",
   "nbconvert_exporter": "python",
   "pygments_lexer": "ipython3",
   "version": "3.5.2"
  }
 },
 "nbformat": 4,
 "nbformat_minor": 2
}
