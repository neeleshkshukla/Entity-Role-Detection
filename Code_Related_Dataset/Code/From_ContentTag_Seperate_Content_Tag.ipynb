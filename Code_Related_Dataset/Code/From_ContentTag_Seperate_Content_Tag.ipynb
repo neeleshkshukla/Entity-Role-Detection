{
 "cells": [
  {
   "cell_type": "code",
   "execution_count": 1,
   "metadata": {},
   "outputs": [],
   "source": [
    "import os"
   ]
  },
  {
   "cell_type": "code",
   "execution_count": 3,
   "metadata": {},
   "outputs": [],
   "source": [
    "content_tags_folder = '../../Data/input/content_tags'\n",
    "\n",
    "content_folder = '../../Data/input/rectified/content'\n",
    "tags_folder = '../../Data/input/rectified/new_tags'"
   ]
  },
  {
   "cell_type": "code",
   "execution_count": 16,
   "metadata": {},
   "outputs": [],
   "source": [
    "for f in os.listdir(content_tags_folder):\n",
    "    content = ''\n",
    "    tag = ''\n",
    "    content_tag_file = os.path.join(content_tags_folder, f)\n",
    "    content_file = os.path.join(content_folder, f)\n",
    "    tag_file = os.path.join(tags_folder, f)\n",
    "  \n",
    "    with open(content_tag_file, 'rt') as ctf:\n",
    "        line_no = 1\n",
    "        try:\n",
    "            for line in ctf:\n",
    "                line = line.strip()\n",
    "                if line != '':\n",
    "                    content_tag = line.split('\\t')\n",
    "                    if line_no == 1:\n",
    "                        content = content+ content_tag[0]\n",
    "                        tag = tag + content_tag[1]\n",
    "                    else:\n",
    "                        content = content+' '+content_tag[0]\n",
    "                        tag = tag + ' ' + content_tag[1]\n",
    "                    line_no = line_no + 1\n",
    "        except Exception as e:\n",
    "            print(f,e, 'at line', line_no)\n",
    "    with open(content_file, 'wt') as cf:\n",
    "        cf.write(content)\n",
    "    with open(tag_file, 'wt') as tf:\n",
    "        tf.write(tag)"
   ]
  }
 ],
 "metadata": {
  "kernelspec": {
   "display_name": "Python 3",
   "language": "python",
   "name": "python3"
  },
  "language_info": {
   "codemirror_mode": {
    "name": "ipython",
    "version": 3
   },
   "file_extension": ".py",
   "mimetype": "text/x-python",
   "name": "python",
   "nbconvert_exporter": "python",
   "pygments_lexer": "ipython3",
   "version": "3.5.2"
  }
 },
 "nbformat": 4,
 "nbformat_minor": 2
}
