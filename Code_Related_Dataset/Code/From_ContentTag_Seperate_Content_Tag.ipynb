{
 "cells": [
  {
   "cell_type": "code",
   "execution_count": 1,
   "metadata": {},
   "outputs": [],
   "source": [
    "import os"
   ]
  },
  {
   "cell_type": "code",
   "execution_count": 2,
   "metadata": {},
   "outputs": [],
   "source": [
    "content_tags_folder = '../../Data/input/content_tags'\n",
    "\n",
    "content_folder = '../../Data/input/rectified/content'\n",
    "tags_folder = '../../Data/input/rectified/new_tags'\n",
    "\n",
    "stop_words = '../../Data/stopwords_to_remove.txt'"
   ]
  },
  {
   "cell_type": "code",
   "execution_count": 3,
   "metadata": {},
   "outputs": [
    {
     "name": "stdout",
     "output_type": "stream",
     "text": [
      "{'has', '*', '-rsb-', 'been', \"there's\", 'yourself', 'her', 'an', 'nor', \"couldn't\", '%', 'where', 'is', '+', '&', 'hasnt', '@', 'if', \"he'll\", 'below', \"don't\", 'werent', 'hows', 'for', 'who', 'a', 'off', 'why', 'are', '}', '{', 'hadnt', 'being', 'there', \"'\", 'few', \"won't\", \"when's\", 'having', \"'ll\", \"we'll\", 'shes', \"weren't\", '>', 'would', ';', 'whats', 'but', \"she'd\", \"i'll\", 'through', '..', 'am', 'such', 'whys', '(', 'further', 'wont', 'at', \"doesn't\", 'after', 'these', 'against', 'itself', 'their', 'be', 'they', '?!', 'most', 'out', \"you'd\", 'theirs', '!', \"here's\", 'me', \"they've\", \"i'd\", 'those', 'with', \"it's\", 'when', 'do', 'then', 'dont', 'your', 'in', \"we've\", \"where's\", 'arent', \"i've\", 'its', 'more', 'his', 'i', \"why's\", '[', \"they're\", \"shan't\", 'all', 'how', 'over', 'the', 'did', 'them', 'wouldnt', ']', 'havent', 'before', \"she's\", \"they'll\", '?', 'didnt', 'Mr.', 'both', 'too', \"you'll\", '^', 'any', '!!', 'up', 'which', \"who's\", 'again', '-lsb-', 'also', 'because', 'had', '#', 'return', 'under', '-lrb-', 'shant', 'thats', '$', '`', 'own', 'doesnt', 'here', 'while', \"that's\", ',', \"hasn't\", 'from', '<', \"he's\", 'to', 'theyve', \"mustn't\", 'doing', 'myself', 'during', \"how's\", 'until', \"he'd\", 'isnt', 'hers', 'theyre', '...', 'as', 'very', 'heres', 'im', \"we'd\", \"didn't\", \"'s\", 'was', 'ours ', 'does', 'whos', \"''\", 'and', 'yours', 'each', \"you're\", 'once', 'some', '-', \"they'd\", 'of', 'other', 'hes', 'youve', 'couldnt', 'himself', 'should', \"what's\", \"can't\", \"aren't\", 'whens', \"she'll\", 'we', 'into', 'she', \"you've\", 'whom', \"shouldn't\", 'shouldnt', 'mustnt', 'my', \"hadn't\", '??', 'have', \"isn't\", 'yourselves', ':', 'he', \"i'm\", 'not', 'only', 'youll', 'that', 'so', 'herself', 'youd', 'what', 'than', 'cannot', 'could', 'our', 'themselves', 'theres', 'can', ')', 'wasnt', 'or', 'theyll', 'it', 'cant', 'lets', \"haven't\", 'you', 'ought', 'on', '!?', 'above', 'were', 'youre', 'by', '.', 'down', \"we're\", 'same', \"wasn't\", '\"', 'this', 'no', \"let's\", 'him', 'ourselves', 'between', '-rrb-', 'about', \"'m\", 'wheres', \"wouldn't\", '``', '###'}\n"
     ]
    }
   ],
   "source": [
    "stopWrods = set()\n",
    "\n",
    "with open(stop_words, 'rt') as stopword_file:\n",
    "    for line in stopword_file:\n",
    "        stopWrods.add(line.strip('\\n'))\n",
    "        \n",
    "print(stopWrods)"
   ]
  },
  {
   "cell_type": "code",
   "execution_count": 7,
   "metadata": {},
   "outputs": [],
   "source": [
    "for f in os.listdir(content_tags_folder):\n",
    "    content = ''\n",
    "    tag = ''\n",
    "    content_tag_file = os.path.join(content_tags_folder, f)\n",
    "    content_file = os.path.join(content_folder, f)\n",
    "    tag_file = os.path.join(tags_folder, f)\n",
    "  \n",
    "    with open(content_tag_file, 'rt') as ctf:\n",
    "        line_no = 1\n",
    "        try:\n",
    "            for line in ctf:\n",
    "                line = line.strip()\n",
    "                if line != '':\n",
    "                    content_tag = line.split('\\t')\n",
    "                    word = content_tag[0].lower() \n",
    "                    if word not in stopWrods:\n",
    "                        if line_no == 1:\n",
    "                            content = content+ word\n",
    "                            tag = tag + content_tag[1]\n",
    "                        else:\n",
    "                            content = content+' '+ word\n",
    "                            tag = tag + ' ' + content_tag[1]\n",
    "                    line_no = line_no + 1\n",
    "        except Exception as e:\n",
    "            print(f,e, 'at line', line_no)\n",
    "    with open(content_file, 'wt') as cf:\n",
    "        cf.write(content)\n",
    "    with open(tag_file, 'wt') as tf:\n",
    "        tf.write(tag)"
   ]
  },
  {
   "cell_type": "code",
   "execution_count": 7,
   "metadata": {},
   "outputs": [
    {
     "name": "stdout",
     "output_type": "stream",
     "text": [
      "taj\n",
      "mahal\n",
      "is\n",
      "big\n"
     ]
    }
   ],
   "source": [
    "string = 'the taj mahal is big'\n",
    "\n",
    "for word in string.split():\n",
    "    if word not in stopWrods:\n",
    "        print(word)"
   ]
  }
 ],
 "metadata": {
  "kernelspec": {
   "display_name": "Python 3",
   "language": "python",
   "name": "python3"
  },
  "language_info": {
   "codemirror_mode": {
    "name": "ipython",
    "version": 3
   },
   "file_extension": ".py",
   "mimetype": "text/x-python",
   "name": "python",
   "nbconvert_exporter": "python",
   "pygments_lexer": "ipython3",
   "version": "3.5.2"
  }
 },
 "nbformat": 4,
 "nbformat_minor": 2
}
