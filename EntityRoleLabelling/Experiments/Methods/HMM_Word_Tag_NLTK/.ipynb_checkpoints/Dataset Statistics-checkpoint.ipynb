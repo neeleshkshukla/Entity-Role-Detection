{
 "cells": [
  {
   "cell_type": "code",
   "execution_count": 3,
   "metadata": {},
   "outputs": [
    {
     "name": "stdout",
     "output_type": "stream",
     "text": [
      "PER_Others 8340\n",
      "PER_Victim 1121\n",
      "PER_Accused 2756\n",
      "ORG_Victim 301\n",
      "ORG_Accused 2504\n",
      "ORG_Others 9693\n",
      "LOC_Accused 568\n",
      "LOC_Others 7912\n",
      "LOC_Event 5895\n",
      "LOC_Victim 189\n"
     ]
    }
   ],
   "source": [
    "## Count frequencies of tags\n",
    "\n",
    "import os\n",
    "\n",
    "tag_dir = '../../../../Data/input/new_tags'\n",
    "\n",
    "actual_tag_count = dict()\n",
    "actual_tag_count['PER_Others'] = 0\n",
    "actual_tag_count['PER_Victim'] = 0\n",
    "actual_tag_count['PER_Accused'] = 0\n",
    "actual_tag_count['ORG_Victim'] = 0\n",
    "actual_tag_count['ORG_Accused'] = 0\n",
    "actual_tag_count['ORG_Others'] = 0\n",
    "actual_tag_count['LOC_Accused'] = 0\n",
    "actual_tag_count['LOC_Others'] = 0\n",
    "actual_tag_count['LOC_Event'] = 0\n",
    "actual_tag_count['LOC_Victim'] = 0\n",
    "\n",
    "for f in os.listdir(tag_dir):\n",
    "    tag_file_path = os.path.join(tag_dir, f)\n",
    "    lines_in_tag_file = []\n",
    "    with open(tag_file_path, \"rt\") as tag_file:\n",
    "        for line in tag_file:\n",
    "            lines_in_tag_file.append(line)\n",
    "            len_tag_line = len(lines_in_tag_file)\n",
    "            for i in range(len_tag_line):\n",
    "                tag_in_file = lines_in_tag_file[i].split()\n",
    "                length = len(tag_in_file)\n",
    "                for j in range(length):\n",
    "                    if tag_in_file[j] in actual_tag_count.keys():\n",
    "                        actual_tag_count[tag_in_file[j]] = actual_tag_count[tag_in_file[j]] + 1\n",
    "                        \n",
    "print ('PER_Others '+str(actual_tag_count['PER_Others']))\n",
    "print ('PER_Victim '+str(actual_tag_count['PER_Victim']))\n",
    "print ('PER_Accused '+str(actual_tag_count['PER_Accused']))\n",
    "print ('ORG_Victim '+str(actual_tag_count['ORG_Victim']))\n",
    "print ('ORG_Accused '+str(actual_tag_count['ORG_Accused']))\n",
    "print ('ORG_Others '+str(actual_tag_count['ORG_Others']))\n",
    "print ('LOC_Accused '+str(actual_tag_count['LOC_Accused']))\n",
    "print ('LOC_Others '+str(actual_tag_count['LOC_Others']))\n",
    "print ('LOC_Event '+str(actual_tag_count['LOC_Event']))\n",
    "print ('LOC_Victim '+str(actual_tag_count['LOC_Victim']))\n",
    "    "
   ]
  }
 ],
 "metadata": {
  "kernelspec": {
   "display_name": "Python 3",
   "language": "python",
   "name": "python3"
  },
  "language_info": {
   "codemirror_mode": {
    "name": "ipython",
    "version": 3
   },
   "file_extension": ".py",
   "mimetype": "text/x-python",
   "name": "python",
   "nbconvert_exporter": "python",
   "pygments_lexer": "ipython3",
   "version": "3.5.2"
  }
 },
 "nbformat": 4,
 "nbformat_minor": 2
}
