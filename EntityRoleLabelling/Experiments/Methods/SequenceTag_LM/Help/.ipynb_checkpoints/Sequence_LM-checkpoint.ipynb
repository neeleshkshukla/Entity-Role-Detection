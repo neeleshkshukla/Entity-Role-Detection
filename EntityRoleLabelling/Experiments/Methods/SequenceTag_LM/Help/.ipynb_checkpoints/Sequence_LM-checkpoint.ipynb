{
 "cells": [
  {
   "cell_type": "code",
   "execution_count": null,
   "metadata": {},
   "outputs": [],
   "source": [
    "import os\n",
    "\n",
    "tag_dir = '../Data/new_tags'\n",
    "sequencePath = '../Data/tag_sequence.txt'\n",
    "\n",
    "fout = open(sequencePath, 'w')\n",
    "\n",
    "for f in os.listdir(tag_dir):\n",
    "    filepath = os.path.join(tag_dir, f)\n",
    "    with open(filepath, \"rt\") as fin:\n",
    "        for line in fin:\n",
    "            fout.write(line)\n",
    "        fout.write(\" \")\n",
    "    fout.write(\" \")\n",
    "\n",
    "fout.close()\n"
   ]
  }
 ],
 "metadata": {
  "kernelspec": {
   "display_name": "Python 2",
   "language": "python",
   "name": "python2"
  },
  "language_info": {
   "codemirror_mode": {
    "name": "ipython",
    "version": 2
   },
   "file_extension": ".py",
   "mimetype": "text/x-python",
   "name": "python",
   "nbconvert_exporter": "python",
   "pygments_lexer": "ipython2",
   "version": "2.7.12"
  }
 },
 "nbformat": 4,
 "nbformat_minor": 2
}
