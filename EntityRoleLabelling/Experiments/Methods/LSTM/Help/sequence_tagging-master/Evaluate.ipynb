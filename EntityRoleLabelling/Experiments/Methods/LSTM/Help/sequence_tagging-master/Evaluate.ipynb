{
 "cells": [
  {
   "cell_type": "code",
   "execution_count": 1,
   "metadata": {},
   "outputs": [],
   "source": [
    "from model.data_utils import CoNLLDataset\n",
    "from model.ner_model import NERModel\n",
    "from model.config import Config\n",
    "import os"
   ]
  },
  {
   "cell_type": "code",
   "execution_count": 2,
   "metadata": {},
   "outputs": [
    {
     "name": "stderr",
     "output_type": "stream",
     "text": [
      "/usr/local/lib/python2.7/dist-packages/tensorflow/python/ops/gradients_impl.py:93: UserWarning: Converting sparse IndexedSlices to a dense Tensor of unknown shape. This may consume a large amount of memory.\n",
      "  \"Converting sparse IndexedSlices to a dense Tensor of unknown shape. \"\n",
      "Initializing tf session\n",
      "Reloading the latest trained model...\n"
     ]
    },
    {
     "name": "stdout",
     "output_type": "stream",
     "text": [
      "INFO:tensorflow:Restoring parameters from results/test/model.weights/\n"
     ]
    },
    {
     "name": "stderr",
     "output_type": "stream",
     "text": [
      "Restoring parameters from results/test/model.weights/\n"
     ]
    }
   ],
   "source": [
    "config = Config()\n",
    "model = NERModel(config)\n",
    "model.build()\n",
    "model.restore_session(config.dir_model)"
   ]
  },
  {
   "cell_type": "code",
   "execution_count": 3,
   "metadata": {},
   "outputs": [
    {
     "name": "stdout",
     "output_type": "stream",
     "text": [
      "['O', 'O', 'O', 'O', 'O', 'O', 'O', 'O', 'O', 'LOC_Others', 'O', 'O', 'PER_Accused', 'O', 'O', 'O', 'O', 'O', 'O', 'O', 'ORG_Others', 'O', 'O', 'O', 'O', 'PER_Accused', 'O', 'O', 'O', 'LOC_Others']\n"
     ]
    }
   ],
   "source": [
    "sentence = \"Staff Reporter Terror suspect is the prime accused in Kozhikode twin-blast case Nazir to be taken to blast sites today NIA has secured custody of Nazir for 10 days KOZHIKODE\"\n",
    "words_raw = sentence.strip().split(\" \")\n",
    "preds = model.predict(words_raw)\n",
    "print preds"
   ]
  },
  {
   "cell_type": "code",
   "execution_count": 4,
   "metadata": {},
   "outputs": [],
   "source": [
    "actual_tag_count = dict()\n",
    "matched_tag_count = dict()\n",
    "matched_tag_count['PER_Others'] = 0\n",
    "actual_tag_count['PER_Others'] = 0\n",
    "matched_tag_count['PER_Victim'] = 0\n",
    "actual_tag_count['PER_Victim'] = 0\n",
    "matched_tag_count['PER_Accused'] = 0\n",
    "actual_tag_count['PER_Accused'] = 0\n",
    "matched_tag_count['ORG_Victim'] = 0\n",
    "actual_tag_count['ORG_Victim'] = 0\n",
    "matched_tag_count['ORG_Accused'] = 0\n",
    "actual_tag_count['ORG_Accused'] = 0\n",
    "matched_tag_count['ORG_Others'] = 0\n",
    "actual_tag_count['ORG_Others'] = 0\n",
    "matched_tag_count['LOC_Accused'] = 0\n",
    "actual_tag_count['LOC_Accused'] = 0\n",
    "matched_tag_count['LOC_Others'] = 0\n",
    "actual_tag_count['LOC_Others'] = 0\n",
    "matched_tag_count['LOC_Event'] = 0\n",
    "actual_tag_count['LOC_Event'] = 0\n",
    "matched_tag_count['LOC_Victim'] = 0\n",
    "actual_tag_count['LOC_Victim'] = 0\n",
    "\n",
    "'''doc_dir = 'data/content'\n",
    "tag_dir = 'data/new_tags'\n",
    "\n",
    "for f in test_file_list:\n",
    "    word_file_path = os.path.join(doc_dir, f)\n",
    "    tag_file_path = os.path.join(tag_dir, f)\n",
    "    predicted_tags = []\n",
    "    with open(word_file_path, \"rt\") as word_file:\n",
    "        for line in word_file:\n",
    "            predicted_tags = model.predict(line.split())\n",
    "            #print predicted_tags\n",
    "    if len(predicted_tags) > 0:\n",
    "        actual_tags = []\n",
    "        with open(tag_file_path, \"rt\") as tag_file:\n",
    "            for line in tag_file:\n",
    "                actual_tags = line.split()\n",
    "        result_len = min(len(predicted_tags), len(actual_tags))\n",
    "        \n",
    "        for i in xrange(result_len):\n",
    "            #print predicted_tags[i][1], actual_tags[i]\n",
    "            if actual_tags[i] in actual_tag_count.keys():\n",
    "                actual_tag_count[actual_tags[i]] = actual_tag_count[actual_tags[i]] + 1\n",
    "                \n",
    "            if actual_tags[i] == predicted_tags[i]:\n",
    "                if actual_tags[i] in matched_tag_count.keys():\n",
    "                    matched_tag_count[actual_tags[i]] = matched_tag_count[actual_tags[i]] + 1\n",
    "'''\n",
    "\n",
    "test_file_path = 'data/test.txt'\n",
    "\n",
    "with open(test_file_path, \"rt\") as test_file:\n",
    "    words = []\n",
    "    actual_tags = []\n",
    "    for line in test_file:\n",
    "        if line != '\\n':\n",
    "            tokens = line.split()\n",
    "            words.append(tokens[0])\n",
    "            actual_tags.append(tokens[1])\n",
    "        else:\n",
    "            # We have read one sentence\n",
    "            predicted_tags = model.predict(words)\n",
    "            result_len = min(len(predicted_tags), len(actual_tags))\n",
    "            for i in xrange(result_len):\n",
    "                if actual_tags[i] in actual_tag_count.keys():\n",
    "                    actual_tag_count[actual_tags[i]] = actual_tag_count[actual_tags[i]] + 1\n",
    "                if actual_tags[i] == predicted_tags[i]:\n",
    "                    if actual_tags[i] in matched_tag_count.keys():\n",
    "                        matched_tag_count[actual_tags[i]] = matched_tag_count[actual_tags[i]] + 1\n",
    "            # One sentence finished. Reinitialize\n",
    "            words = []\n",
    "            actual_tags = []"
   ]
  },
  {
   "cell_type": "code",
   "execution_count": 5,
   "metadata": {},
   "outputs": [
    {
     "name": "stdout",
     "output_type": "stream",
     "text": [
      "======= Accuracy Class Wise =====================\n",
      "\n",
      "Class    Matched Total %\n",
      "--------------------------\n",
      "PER_Others: 664 823 80%\n",
      "PER_Victim: 50 182 27%\n",
      "PER_Accused: 232 428 54%\n",
      "ORG_Victim: 5 34 14%\n",
      "ORG_Accused: 245 317 77%\n",
      "ORG_Others: 679 1145 59%\n",
      "LOC_Accused: 4 75 5%\n",
      "LOC_Others: 492 907 54%\n",
      "LOC_Event: 372 680 54%\n",
      "LOC_Victim: 0 12 0%\n"
     ]
    }
   ],
   "source": [
    "print('======= Accuracy Class Wise =====================\\n')\n",
    "\n",
    "print('Class    Matched Total %')\n",
    "print('--------------------------')\n",
    "print ('PER_Others: '+str(matched_tag_count['PER_Others'])+ ' ' + str(actual_tag_count['PER_Others'])+ ' ' + str(matched_tag_count['PER_Others']*100/actual_tag_count['PER_Others'])+'%')\n",
    "print ('PER_Victim: '+str(matched_tag_count['PER_Victim'])+ ' ' + str(actual_tag_count['PER_Victim'])+ ' '+str(matched_tag_count['PER_Victim']*100/actual_tag_count['PER_Victim'])+'%')\n",
    "print ('PER_Accused: '+str(matched_tag_count['PER_Accused'])+ ' ' + str(actual_tag_count['PER_Accused'])+ ' '+str(matched_tag_count['PER_Accused']*100/actual_tag_count['PER_Accused'])+'%')\n",
    "print ('ORG_Victim: '+str(matched_tag_count['ORG_Victim']) + ' '+ str(actual_tag_count['ORG_Victim'])+ ' '+str(matched_tag_count['ORG_Victim']*100/actual_tag_count['ORG_Victim'])+'%')\n",
    "print ('ORG_Accused: '+str(matched_tag_count['ORG_Accused']) + ' '+ str(actual_tag_count['ORG_Accused'])+ ' '+str(matched_tag_count['ORG_Accused']*100/actual_tag_count['ORG_Accused'])+'%')\n",
    "print ('ORG_Others: '+str(matched_tag_count['ORG_Others']) + ' '+ str(actual_tag_count['ORG_Others'])+ ' '+str(matched_tag_count['ORG_Others']*100/actual_tag_count['ORG_Others'])+'%')\n",
    "print ('LOC_Accused: '+str(matched_tag_count['LOC_Accused'])+ ' ' + str(actual_tag_count['LOC_Accused'])+ ' '+str(matched_tag_count['LOC_Accused']*100/actual_tag_count['LOC_Accused'])+'%')\n",
    "print ('LOC_Others: '+str(matched_tag_count['LOC_Others'])+ ' ' + str(actual_tag_count['LOC_Others'])+ ' '+str(matched_tag_count['LOC_Others']*100/actual_tag_count['LOC_Others'])+'%')\n",
    "print ('LOC_Event: '+str(matched_tag_count['LOC_Event']) + ' '+ str(actual_tag_count['LOC_Event'])+ ' '+str(matched_tag_count['LOC_Event']*100/actual_tag_count['LOC_Event'])+'%')\n",
    "print ('LOC_Victim: '+str(matched_tag_count['LOC_Victim']) + ' '+ str(actual_tag_count['LOC_Victim'])+ ' '+str(matched_tag_count['LOC_Victim']*100/actual_tag_count['LOC_Victim'])+'%')"
   ]
  }
 ],
 "metadata": {
  "kernelspec": {
   "display_name": "Python 2",
   "language": "python",
   "name": "python2"
  },
  "language_info": {
   "codemirror_mode": {
    "name": "ipython",
    "version": 2
   },
   "file_extension": ".py",
   "mimetype": "text/x-python",
   "name": "python",
   "nbconvert_exporter": "python",
   "pygments_lexer": "ipython2",
   "version": "2.7.12"
  }
 },
 "nbformat": 4,
 "nbformat_minor": 2
}
