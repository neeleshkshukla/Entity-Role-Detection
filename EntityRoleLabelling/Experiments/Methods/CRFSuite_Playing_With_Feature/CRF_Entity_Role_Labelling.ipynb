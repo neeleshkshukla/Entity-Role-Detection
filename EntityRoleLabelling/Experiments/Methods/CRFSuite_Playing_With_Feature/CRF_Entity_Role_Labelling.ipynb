{
 "cells": [
  {
   "cell_type": "code",
   "execution_count": 1,
   "metadata": {},
   "outputs": [
    {
     "name": "stdout",
     "output_type": "stream",
     "text": [
      "0.19.0\n"
     ]
    }
   ],
   "source": [
    "from itertools import chain\n",
    "import nltk\n",
    "from sklearn.metrics import classification_report, confusion_matrix\n",
    "from sklearn.preprocessing import LabelBinarizer\n",
    "import sklearn\n",
    "import pycrfsuite\n",
    "import os\n",
    "import numpy as np\n",
    "\n",
    "print(sklearn.__version__)"
   ]
  },
  {
   "cell_type": "code",
   "execution_count": 2,
   "metadata": {},
   "outputs": [
    {
     "name": "stdout",
     "output_type": "stream",
     "text": [
      "1045\n",
      "262\n"
     ]
    }
   ],
   "source": [
    "# Divide in train and test files [80:20] \n",
    "\n",
    "# Directory having content\n",
    "\n",
    "doc_dir = 'Data/content'\n",
    "\n",
    "train_file_list = []\n",
    "test_file_list = []\n",
    "\n",
    "for f in os.listdir(doc_dir):\n",
    "    #Random Sampling\n",
    "    if np.random.uniform(0,1)< 0.8:\n",
    "        train_file_list.append(f)\n",
    "    else:\n",
    "        test_file_list.append(f)\n",
    "\n",
    "print len(train_file_list)\n",
    "print len(test_file_list)"
   ]
  },
  {
   "cell_type": "code",
   "execution_count": 3,
   "metadata": {},
   "outputs": [
    {
     "name": "stdout",
     "output_type": "stream",
     "text": [
      "[('Five', 'O'), ('people', 'O'), ('were', 'O'), ('killed', 'O'), ('and', 'O'), ('over', 'O'), ('50', 'O'), ('injured', 'O'), ('in', 'O'), ('three', 'O'), ('blasts', 'O'), ('set', 'O'), ('off', 'O'), ('by', 'O'), ('insurgent', 'O'), ('outfit', 'O'), ('ULFA', 'ORG_Others'), ('here', 'O'), ('today', 'O'), ('hours', 'O'), ('before', 'O'), ('Union', 'O'), ('Home', 'O'), ('Minister', 'O'), ('P', 'PER_Others'), ('Chidambaram', 'PER_Others'), (\"'s\", 'O'), ('visit', 'O'), ('to', 'O'), ('review', 'O'), ('law', 'O'), ('and', 'O'), ('order', 'O'), ('situation', 'O'), ('in', 'O'), ('the', 'O'), ('state', 'O'), ('rocked', 'O'), ('by', 'O'), ('deadly', 'O'), ('blasts', 'O'), ('that', 'O'), ('left', 'O'), ('88', 'O'), ('dead', 'O'), ('two', 'O'), ('months', 'O'), ('ago', 'O'), ('.', 'O'), ('.', 'O'), ('.', 'O'), ('Three', 'O'), ('people', 'O'), ('were', 'O'), ('killed', 'O'), ('and', 'O'), ('35', 'O'), ('injured', 'O'), (',', 'O'), ('including', 'O'), ('four', 'O'), ('women', 'O'), (',', 'O'), ('when', 'O'), ('a', 'O'), ('bomb', 'O'), ('planted', 'O'), ('in', 'O'), ('front', 'O'), ('of', 'O'), ('a', 'O'), ('closed', 'O'), ('sweet', 'O'), ('shop', 'O'), ('exploded', 'O'), ('near', 'O'), ('upmarket', 'O'), ('Bhangagarh', 'LOC_Event'), ('flyover', 'O'), ('on', 'O'), ('the', 'O'), ('busy', 'O'), ('Guwahati-Shillong', 'O'), ('road', 'O'), ('at', 'O'), ('around', 'O'), ('5:45', 'O'), ('pm', 'O'), ('.', 'O'), ('.', 'O'), ('.', 'O'), ('Two', 'O'), ('persons', 'O'), ('died', 'O'), ('on', 'O'), ('way', 'O'), ('to', 'O'), ('hospital', 'O'), ('while', 'O'), ('another', 'O'), ('succumbed', 'O'), ('to', 'O'), ('his', 'O'), ('injuries', 'O'), ('at', 'O'), ('the', 'O'), ('Guwahati', 'ORG_Others'), ('Medical', 'ORG_Others'), ('College', 'ORG_Others'), ('Hospital', 'ORG_Others'), (',', 'O'), ('DGP', 'O'), ('G', 'O'), ('M', 'O'), ('Srivastava', 'PER_Others'), ('said', 'O'), ('.', 'O'), ('.', 'O'), ('.', 'O'), ('Two', 'O'), ('of', 'O'), ('the', 'O'), ('dead', 'O'), ('were', 'O'), ('identified', 'O'), ('as', 'O'), ('Amal', 'PER_Victim'), ('Das', 'PER_Victim'), ('and', 'O'), ('Kahil', 'PER_Victim'), ('Sheikh', 'PER_Victim'), ('.', 'O'), ('.', 'O'), ('.', 'O'), ('A', 'O'), ('bomb', 'O'), ('kept', 'O'), ('in', 'O'), ('a', 'O'), ('bicycle', 'O'), ('exploded', 'O'), ('at', 'O'), ('a', 'O'), ('market', 'O'), ('in', 'O'), ('the', 'O'), ('Bhootnath', 'LOC_Event'), ('area', 'O'), (',', 'O'), ('the', 'O'), ('route', 'O'), ('which', 'O'), ('Chidambaram', 'PER_Others'), ('was', 'O'), ('to', 'O'), ('take', 'O'), ('on', 'O'), ('his', 'O'), ('way', 'O'), ('from', 'O'), ('the', 'O'), ('airport', 'O'), (',', 'O'), ('under', 'O'), ('Baralumukh', 'LOC_Others'), ('police', 'O'), ('station', 'O'), ('around', 'O'), ('5.30', 'O'), ('pm', 'O'), ('in', 'O'), ('which', 'O'), ('two', 'O'), ('persons', 'O'), ('were', 'O'), ('killed', 'O'), ('and', 'O'), ('12', 'O'), ('others', 'O'), ('injured', 'O'), (',', 'O'), ('official', 'O'), ('sources', 'O'), ('said', 'O'), ('.', 'O'), ('.', 'O'), ('.', 'O'), ('An', 'O'), ('Improvised', 'O'), ('Explosive', 'O'), ('Devise', 'O'), ('(', 'O'), ('IED', 'O'), (')', 'O'), ('kept', 'O'), ('in', 'O'), ('a', 'O'), ('Gauhati', 'O'), ('Municipal', 'O'), ('Corporation', 'O'), ('(', 'O'), ('GMC', 'O'), (')', 'O'), ('dustbin', 'O'), ('went', 'O'), ('off', 'O'), ('at', 'O'), ('around', 'O'), ('3.30', 'O'), ('pm', 'O'), ('injuring', 'O'), ('three', 'O'), ('persons', 'O'), ('in', 'O'), ('Birubari', 'LOC_Event'), ('Tiniali', 'LOC_Event'), ('area', 'O'), ('.', 'O'), ('.', 'O'), ('.', 'O'), ('The', 'O'), ('blasts', 'O'), ('came', 'O'), ('a', 'O'), ('day', 'O'), ('ahead', 'O'), ('of', 'O'), ('Prime', 'O'), ('Minister', 'O'), ('Manmohan', 'PER_Others'), ('Singh', 'PER_Others'), (\"'s\", 'O'), ('arrival', 'O'), ('here', 'O'), ('tomorrow', 'O'), ('enroute', 'O'), ('Shillong', 'LOC_Others'), ('to', 'O'), ('inaugurate', 'O'), ('the', 'O'), ('Indian', 'ORG_Others'), ('Science', 'ORG_Others'), ('Congress', 'ORG_Others'), ('there', 'O'), ('on', 'O'), ('January', 'O'), ('three', 'O'), ('.', 'O'), ('.', 'O'), ('.', 'O'), ('Chidmabaram', 'PER_Others'), ('arrived', 'O'), ('at', 'O'), ('the', 'O'), ('Lokopriyo', 'LOC_Others'), ('Gopinath', 'LOC_Others'), ('Bordoloi', 'LOC_Others'), ('international', 'LOC_Others'), ('airport', 'LOC_Others'), ('on', 'O'), ('a', 'O'), ('two-day', 'O'), ('visit', 'O'), ('to', 'O'), ('the', 'O'), ('state', 'O'), ('to', 'O'), ('review', 'O'), ('Assam', 'LOC_Event'), (\"'s\", 'O'), ('law', 'O'), ('and', 'O'), ('order', 'O'), ('situation', 'O'), ('and', 'O'), ('attend', 'O'), ('a', 'O'), ('meeting', 'O'), ('of', 'O'), ('the', 'O'), ('Unified', 'O'), ('Command', 'O'), ('headed', 'O'), ('by', 'O'), ('Chief', 'O'), ('Minister', 'O'), ('Tarun', 'PER_Others'), ('Gogoi', 'PER_Others'), ('.', 'O'), ('.', 'O'), ('.', 'O'), ('.', 'O')]\n"
     ]
    }
   ],
   "source": [
    "# Build Tagged dataset to be fed in nltk hmm tagger\n",
    "# It is a list of tagged sentences. \n",
    "# training_data = [ [(word, tag), (word, tag).....]\n",
    "# [(word, tag), (word, tag).....]\n",
    "#]\n",
    "\n",
    "# Directory having tags\n",
    "tag_dir = 'Data/new_tags'\n",
    "\n",
    "training_data = []\n",
    "\n",
    "for f in train_file_list:\n",
    "    training_sentences =[]\n",
    "    word_file_path = os.path.join(doc_dir, f)\n",
    "    tag_file_path = os.path.join(tag_dir, f)\n",
    "    lines_in_word_file = []\n",
    "    lines_in_tag_file = []\n",
    "    with open(word_file_path, \"rt\") as word_file:\n",
    "        for line in word_file:\n",
    "            lines_in_word_file.append(line)\n",
    "    with open(tag_file_path, \"rt\") as tag_file:\n",
    "        for line in tag_file:\n",
    "            lines_in_tag_file.append(line)\n",
    "    if (len(lines_in_word_file) == len(lines_in_tag_file)) and len(lines_in_word_file) > 0:\n",
    "        for i in xrange(len(lines_in_word_file)):\n",
    "            word_in_file = lines_in_word_file[i].split()\n",
    "            tag_in_file = lines_in_tag_file[i].split()\n",
    "            pairs_in_line = []\n",
    "            length = min(len(word_in_file), len(tag_in_file))\n",
    "            #Create the word_tag pair\n",
    "            for j in xrange(length):\n",
    "                pairs_in_line.append((word_in_file[j], tag_in_file[j]));\n",
    "            training_sentences.append(pairs_in_line)\n",
    "    if len(training_sentences) > 0:\n",
    "        training_data.extend(training_sentences)\n",
    "\n",
    "print training_data[0]"
   ]
  },
  {
   "cell_type": "code",
   "execution_count": 4,
   "metadata": {},
   "outputs": [],
   "source": [
    "def word2features(sent, i):\n",
    "    word = sent[i][0]\n",
    "    features = [\n",
    "        'bias',\n",
    "        'word.lower=' + word.lower(),\n",
    "        'word[-3:]=' + word[-3:],\n",
    "        'word[-2:]=' + word[-2:],\n",
    "        'word.isupper=%s' % word.isupper(),\n",
    "        'word.istitle=%s' % word.istitle(),\n",
    "        'word.isdigit=%s' % word.isdigit(),\n",
    "    ]\n",
    "    if i > 0:\n",
    "        word1 = sent[i-1][0]\n",
    "        tag1 = sent[i-1][1]\n",
    "        features.extend([\n",
    "            '-1:word.lower=' + word1.lower(),\n",
    "            '-1:word.istitle=%s' % word1.istitle(),\n",
    "            '-1:word.isupper=%s' % word1.isupper(),\n",
    "           # '-1:tag1=' + tag1,\n",
    "        ])\n",
    "    else:\n",
    "        features.append('BOS')\n",
    "    if i < len(sent)-1:\n",
    "        word1 = sent[i+1][0]\n",
    "        features.extend([\n",
    "            '+1:word.lower=' + word1.lower(),\n",
    "            '+1:word.istitle=%s' % word1.istitle(),\n",
    "            '+1:word.isupper=%s' % word1.isupper(),\n",
    "        ])\n",
    "    else:\n",
    "        features.append('EOS')\n",
    "        \n",
    "    return features\n",
    "\n",
    "\n",
    "def sent2features(sent):\n",
    "    return [word2features(sent, i) for i in range(len(sent))]\n",
    "\n",
    "def sent2tags(sent):\n",
    "    return [tag for word, tag in sent]\n",
    "\n",
    "def sent2words(sent):\n",
    "    return [word for word, tag in sent] "
   ]
  },
  {
   "cell_type": "code",
   "execution_count": 5,
   "metadata": {},
   "outputs": [
    {
     "name": "stdout",
     "output_type": "stream",
     "text": [
      "[('Five', 'O'), ('people', 'O'), ('were', 'O'), ('killed', 'O'), ('and', 'O'), ('over', 'O'), ('50', 'O'), ('injured', 'O'), ('in', 'O'), ('three', 'O'), ('blasts', 'O'), ('set', 'O'), ('off', 'O'), ('by', 'O'), ('insurgent', 'O'), ('outfit', 'O'), ('ULFA', 'ORG_Others'), ('here', 'O'), ('today', 'O'), ('hours', 'O'), ('before', 'O'), ('Union', 'O'), ('Home', 'O'), ('Minister', 'O'), ('P', 'PER_Others'), ('Chidambaram', 'PER_Others'), (\"'s\", 'O'), ('visit', 'O'), ('to', 'O'), ('review', 'O'), ('law', 'O'), ('and', 'O'), ('order', 'O'), ('situation', 'O'), ('in', 'O'), ('the', 'O'), ('state', 'O'), ('rocked', 'O'), ('by', 'O'), ('deadly', 'O'), ('blasts', 'O'), ('that', 'O'), ('left', 'O'), ('88', 'O'), ('dead', 'O'), ('two', 'O'), ('months', 'O'), ('ago', 'O'), ('.', 'O'), ('.', 'O'), ('.', 'O'), ('Three', 'O'), ('people', 'O'), ('were', 'O'), ('killed', 'O'), ('and', 'O'), ('35', 'O'), ('injured', 'O'), (',', 'O'), ('including', 'O'), ('four', 'O'), ('women', 'O'), (',', 'O'), ('when', 'O'), ('a', 'O'), ('bomb', 'O'), ('planted', 'O'), ('in', 'O'), ('front', 'O'), ('of', 'O'), ('a', 'O'), ('closed', 'O'), ('sweet', 'O'), ('shop', 'O'), ('exploded', 'O'), ('near', 'O'), ('upmarket', 'O'), ('Bhangagarh', 'LOC_Event'), ('flyover', 'O'), ('on', 'O'), ('the', 'O'), ('busy', 'O'), ('Guwahati-Shillong', 'O'), ('road', 'O'), ('at', 'O'), ('around', 'O'), ('5:45', 'O'), ('pm', 'O'), ('.', 'O'), ('.', 'O'), ('.', 'O'), ('Two', 'O'), ('persons', 'O'), ('died', 'O'), ('on', 'O'), ('way', 'O'), ('to', 'O'), ('hospital', 'O'), ('while', 'O'), ('another', 'O'), ('succumbed', 'O'), ('to', 'O'), ('his', 'O'), ('injuries', 'O'), ('at', 'O'), ('the', 'O'), ('Guwahati', 'ORG_Others'), ('Medical', 'ORG_Others'), ('College', 'ORG_Others'), ('Hospital', 'ORG_Others'), (',', 'O'), ('DGP', 'O'), ('G', 'O'), ('M', 'O'), ('Srivastava', 'PER_Others'), ('said', 'O'), ('.', 'O'), ('.', 'O'), ('.', 'O'), ('Two', 'O'), ('of', 'O'), ('the', 'O'), ('dead', 'O'), ('were', 'O'), ('identified', 'O'), ('as', 'O'), ('Amal', 'PER_Victim'), ('Das', 'PER_Victim'), ('and', 'O'), ('Kahil', 'PER_Victim'), ('Sheikh', 'PER_Victim'), ('.', 'O'), ('.', 'O'), ('.', 'O'), ('A', 'O'), ('bomb', 'O'), ('kept', 'O'), ('in', 'O'), ('a', 'O'), ('bicycle', 'O'), ('exploded', 'O'), ('at', 'O'), ('a', 'O'), ('market', 'O'), ('in', 'O'), ('the', 'O'), ('Bhootnath', 'LOC_Event'), ('area', 'O'), (',', 'O'), ('the', 'O'), ('route', 'O'), ('which', 'O'), ('Chidambaram', 'PER_Others'), ('was', 'O'), ('to', 'O'), ('take', 'O'), ('on', 'O'), ('his', 'O'), ('way', 'O'), ('from', 'O'), ('the', 'O'), ('airport', 'O'), (',', 'O'), ('under', 'O'), ('Baralumukh', 'LOC_Others'), ('police', 'O'), ('station', 'O'), ('around', 'O'), ('5.30', 'O'), ('pm', 'O'), ('in', 'O'), ('which', 'O'), ('two', 'O'), ('persons', 'O'), ('were', 'O'), ('killed', 'O'), ('and', 'O'), ('12', 'O'), ('others', 'O'), ('injured', 'O'), (',', 'O'), ('official', 'O'), ('sources', 'O'), ('said', 'O'), ('.', 'O'), ('.', 'O'), ('.', 'O'), ('An', 'O'), ('Improvised', 'O'), ('Explosive', 'O'), ('Devise', 'O'), ('(', 'O'), ('IED', 'O'), (')', 'O'), ('kept', 'O'), ('in', 'O'), ('a', 'O'), ('Gauhati', 'O'), ('Municipal', 'O'), ('Corporation', 'O'), ('(', 'O'), ('GMC', 'O'), (')', 'O'), ('dustbin', 'O'), ('went', 'O'), ('off', 'O'), ('at', 'O'), ('around', 'O'), ('3.30', 'O'), ('pm', 'O'), ('injuring', 'O'), ('three', 'O'), ('persons', 'O'), ('in', 'O'), ('Birubari', 'LOC_Event'), ('Tiniali', 'LOC_Event'), ('area', 'O'), ('.', 'O'), ('.', 'O'), ('.', 'O'), ('The', 'O'), ('blasts', 'O'), ('came', 'O'), ('a', 'O'), ('day', 'O'), ('ahead', 'O'), ('of', 'O'), ('Prime', 'O'), ('Minister', 'O'), ('Manmohan', 'PER_Others'), ('Singh', 'PER_Others'), (\"'s\", 'O'), ('arrival', 'O'), ('here', 'O'), ('tomorrow', 'O'), ('enroute', 'O'), ('Shillong', 'LOC_Others'), ('to', 'O'), ('inaugurate', 'O'), ('the', 'O'), ('Indian', 'ORG_Others'), ('Science', 'ORG_Others'), ('Congress', 'ORG_Others'), ('there', 'O'), ('on', 'O'), ('January', 'O'), ('three', 'O'), ('.', 'O'), ('.', 'O'), ('.', 'O'), ('Chidmabaram', 'PER_Others'), ('arrived', 'O'), ('at', 'O'), ('the', 'O'), ('Lokopriyo', 'LOC_Others'), ('Gopinath', 'LOC_Others'), ('Bordoloi', 'LOC_Others'), ('international', 'LOC_Others'), ('airport', 'LOC_Others'), ('on', 'O'), ('a', 'O'), ('two-day', 'O'), ('visit', 'O'), ('to', 'O'), ('the', 'O'), ('state', 'O'), ('to', 'O'), ('review', 'O'), ('Assam', 'LOC_Event'), (\"'s\", 'O'), ('law', 'O'), ('and', 'O'), ('order', 'O'), ('situation', 'O'), ('and', 'O'), ('attend', 'O'), ('a', 'O'), ('meeting', 'O'), ('of', 'O'), ('the', 'O'), ('Unified', 'O'), ('Command', 'O'), ('headed', 'O'), ('by', 'O'), ('Chief', 'O'), ('Minister', 'O'), ('Tarun', 'PER_Others'), ('Gogoi', 'PER_Others'), ('.', 'O'), ('.', 'O'), ('.', 'O'), ('.', 'O')]\n",
      "['bias', 'word.lower=five', 'word[-3:]=ive', 'word[-2:]=ve', 'word.isupper=False', 'word.istitle=True', 'word.isdigit=False', 'BOS', '+1:word.lower=people', '+1:word.istitle=False', '+1:word.isupper=False']\n",
      "O\n",
      "Five\n"
     ]
    }
   ],
   "source": [
    "print training_data[0]\n",
    "print sent2features(training_data[0])[0]\n",
    "print sent2tags(training_data[0])[0]\n",
    "print sent2words(training_data[0])[0]"
   ]
  },
  {
   "cell_type": "code",
   "execution_count": 6,
   "metadata": {},
   "outputs": [],
   "source": [
    "x_train = [sent2features(s) for s in training_data]\n",
    "y_train = [sent2tags(s) for s in training_data]"
   ]
  },
  {
   "cell_type": "code",
   "execution_count": 7,
   "metadata": {},
   "outputs": [],
   "source": [
    "trainer = pycrfsuite.Trainer(verbose=False)\n",
    "\n",
    "for xseq, yseq in zip(x_train, y_train):\n",
    "    trainer.append(xseq, yseq)"
   ]
  },
  {
   "cell_type": "code",
   "execution_count": 8,
   "metadata": {},
   "outputs": [],
   "source": [
    "trainer.set_params({\n",
    "    'c1': 1.0,   # coefficient for L1 penalty\n",
    "    'c2': 1e-3,  # coefficient for L2 penalty\n",
    "    'max_iterations': 50,  # stop earlier\n",
    "\n",
    "    # include transitions that are possible, but not observed\n",
    "    'feature.possible_transitions': True\n",
    "})"
   ]
  },
  {
   "cell_type": "code",
   "execution_count": 9,
   "metadata": {},
   "outputs": [
    {
     "data": {
      "text/plain": [
       "['feature.minfreq',\n",
       " 'feature.possible_states',\n",
       " 'feature.possible_transitions',\n",
       " 'c1',\n",
       " 'c2',\n",
       " 'max_iterations',\n",
       " 'num_memories',\n",
       " 'epsilon',\n",
       " 'period',\n",
       " 'delta',\n",
       " 'linesearch',\n",
       " 'max_linesearch']"
      ]
     },
     "execution_count": 9,
     "metadata": {},
     "output_type": "execute_result"
    }
   ],
   "source": [
    "trainer.params()"
   ]
  },
  {
   "cell_type": "code",
   "execution_count": 10,
   "metadata": {},
   "outputs": [],
   "source": [
    "# Train and save the model\n",
    "trainer.train('osint-bomb-blast.crfsuite')"
   ]
  },
  {
   "cell_type": "code",
   "execution_count": 11,
   "metadata": {},
   "outputs": [
    {
     "data": {
      "text/plain": [
       "<contextlib.closing at 0x7f6416afa710>"
      ]
     },
     "execution_count": 11,
     "metadata": {},
     "output_type": "execute_result"
    }
   ],
   "source": [
    "tagger = pycrfsuite.Tagger()\n",
    "tagger.open('osint-bomb-blast.crfsuite')"
   ]
  },
  {
   "cell_type": "code",
   "execution_count": 12,
   "metadata": {},
   "outputs": [
    {
     "name": "stdout",
     "output_type": "stream",
     "text": [
      "[('An', 'O'), ('explosion', 'O'), ('in', 'O'), ('a', 'O'), ('bus', 'O'), ('carrying', 'O'), ('employees', 'O'), ('of', 'O'), ('the', 'O'), ('state', 'ORG_Others'), ('secretariat', 'ORG_Others'), ('of', 'O'), ('Khyber', 'LOC_Others'), ('Pakhtunkhwa', 'LOC_Others'), ('(', 'LOC_Others'), ('KPK', 'LOC_Others'), (')', 'LOC_Others'), ('government', 'ORG_Others'), ('on', 'O'), ('Friday', 'O'), ('afternoon', 'O'), ('killed', 'O'), ('at', 'O'), ('least', 'O'), ('19', 'O'), ('of', 'O'), ('them', 'O'), ('and', 'O'), ('injured', 'O'), ('45', 'O'), (',', 'O'), ('according', 'O'), ('to', 'O'), ('Shiraz', 'PER_Others'), ('Paracha', 'PER_Others'), (',', 'O'), ('spokesperson', 'O'), ('for', 'O'), ('the', 'O'), ('KPK', 'LOC_Others'), ('Chief', 'O'), ('Minister', 'O'), ('.', 'O'), ('This', 'O'), ('comes', 'O'), ('after', 'O'), ('Sundays', 'O'), ('Peshawar', 'LOC_Event'), ('church', 'O'), ('blast', 'O'), ('that', 'O'), ('claimed', 'O'), ('80', 'O'), ('lives', 'O'), ('.', 'O'), ('Police', 'ORG_Others'), ('said', 'O'), ('a', 'O'), ('timer', 'O'), ('device', 'O'), ('was', 'O'), ('used', 'O'), ('to', 'O'), ('set', 'O'), ('off', 'O'), ('the', 'O'), ('bomb', 'O'), ('which', 'O'), ('could', 'O'), ('have', 'O'), ('been', 'O'), ('placed', 'O'), ('in', 'O'), ('a', 'O'), ('bag', 'O'), ('in', 'O'), ('the', 'O'), ('bus', 'O'), ('.', 'O'), ('Mr.', 'O'), ('Paracha', 'PER_Others'), ('told', 'O'), ('The', 'ORG_Others'), ('Hindu', 'ORG_Others'), ('on', 'O'), ('the', 'O'), ('phone', 'O'), ('that', 'O'), ('the', 'O'), ('bus', 'O'), ('was', 'O'), ('ferrying', 'O'), ('more', 'O'), ('than', 'O'), ('60', 'O'), ('government', 'ORG_Others'), ('employees', 'O'), ('back', 'O'), ('home', 'O'), ('when', 'O'), ('the', 'O'), ('incident', 'O'), ('happened', 'O'), (',', 'O'), ('15', 'O'), ('km', 'O'), ('away', 'O'), ('from', 'O'), ('Peshawar', 'LOC_Others'), ('.', 'O'), ('Meena', 'PER_Others'), ('Menon', 'PER_Others'), ('OPEN', 'O')]\n"
     ]
    }
   ],
   "source": [
    "# Create test data\n",
    "test_data = []\n",
    "for f in test_file_list:\n",
    "    test_sentences =[]\n",
    "    word_file_path = os.path.join(doc_dir, f)\n",
    "    tag_file_path = os.path.join(tag_dir, f)\n",
    "    lines_in_word_file = []\n",
    "    lines_in_tag_file = []\n",
    "    with open(word_file_path, \"rt\") as word_file:\n",
    "        for line in word_file:\n",
    "            lines_in_word_file.append(line)\n",
    "    with open(tag_file_path, \"rt\") as tag_file:\n",
    "        for line in tag_file:\n",
    "            lines_in_tag_file.append(line)\n",
    "    if (len(lines_in_word_file) == len(lines_in_tag_file)) and len(lines_in_word_file) > 0:\n",
    "        for i in xrange(len(lines_in_word_file)):\n",
    "            word_in_file = lines_in_word_file[i].split()\n",
    "            tag_in_file = lines_in_tag_file[i].split()\n",
    "            pairs_in_line = []\n",
    "            length = min(len(word_in_file), len(tag_in_file))\n",
    "            #Create the word_tag pair\n",
    "            for j in xrange(length):\n",
    "                pairs_in_line.append((word_in_file[j], tag_in_file[j]));\n",
    "            test_sentences.append(pairs_in_line)\n",
    "    if len(test_sentences) > 0:\n",
    "        test_data.extend(test_sentences)\n",
    "\n",
    "print test_data[0]"
   ]
  },
  {
   "cell_type": "code",
   "execution_count": 13,
   "metadata": {},
   "outputs": [
    {
     "name": "stdout",
     "output_type": "stream",
     "text": [
      "An explosion in a bus carrying employees of the state secretariat of Khyber Pakhtunkhwa ( KPK ) government on Friday afternoon killed at least 19 of them and injured 45 , according to Shiraz Paracha , spokesperson for the KPK Chief Minister . This comes after Sundays Peshawar church blast that claimed 80 lives . Police said a timer device was used to set off the bomb which could have been placed in a bag in the bus . Mr. Paracha told The Hindu on the phone that the bus was ferrying more than 60 government employees back home when the incident happened , 15 km away from Peshawar . Meena Menon OPEN\n",
      "('Predicted:', 'O O O O O O O O O O O O LOC_Event LOC_Event O O O O O O O O O O O O O O O O O O O PER_Others PER_Others O O O O O O O O O O O O O O O O O O O O O O O O O O O O O O O O O O O O O O O O O O O O O PER_Others O ORG_Others ORG_Others O O O O O O O O O O O O O O O O O O O O O O O O O O O O O')\n",
      "('Correct:  ', 'O O O O O O O O O ORG_Others ORG_Others O LOC_Others LOC_Others LOC_Others LOC_Others LOC_Others ORG_Others O O O O O O O O O O O O O O O PER_Others PER_Others O O O O LOC_Others O O O O O O O LOC_Event O O O O O O O ORG_Others O O O O O O O O O O O O O O O O O O O O O O O O PER_Others O ORG_Others ORG_Others O O O O O O O O O O O ORG_Others O O O O O O O O O O O O LOC_Others O PER_Others PER_Others O')\n"
     ]
    }
   ],
   "source": [
    "example_sent = test_data[0]\n",
    "print(' '.join(sent2words(example_sent)))\n",
    "\n",
    "print(\"Predicted:\", ' '.join(tagger.tag(sent2features(example_sent))))\n",
    "print(\"Correct:  \", ' '.join(sent2tags(example_sent)))"
   ]
  },
  {
   "cell_type": "code",
   "execution_count": 14,
   "metadata": {},
   "outputs": [],
   "source": [
    "def report(y_true, y_pred):\n",
    "    \"\"\"\n",
    "    Classification report for a list of BIO-encoded sequences.\n",
    "    It computes token-level metrics and discards \"O\" labels.\n",
    "    \n",
    "    Note that it requires scikit-learn 0.15+ (or a version from github master)\n",
    "    to calculate averages properly!\n",
    "    \"\"\"\n",
    "    lb = LabelBinarizer()\n",
    "    y_true_combined = lb.fit_transform(list(chain.from_iterable(y_true)))\n",
    "    y_pred_combined = lb.transform(list(chain.from_iterable(y_pred)))\n",
    "        \n",
    "    tagset = set(lb.classes_) - {'O'}\n",
    "    tagset = sorted(tagset, key=lambda tag: tag.split('-', 1)[::-1])\n",
    "    class_indices = {cls: idx for idx, cls in enumerate(lb.classes_)}\n",
    "    \n",
    "    return classification_report(\n",
    "        y_true_combined,\n",
    "        y_pred_combined,\n",
    "        labels = [class_indices[cls] for cls in tagset],\n",
    "        target_names = tagset,\n",
    "    )"
   ]
  },
  {
   "cell_type": "code",
   "execution_count": 15,
   "metadata": {},
   "outputs": [],
   "source": [
    "x_test = [sent2features(s) for s in test_data]\n",
    "y_test = [sent2tags(s) for s in test_data]"
   ]
  },
  {
   "cell_type": "code",
   "execution_count": 16,
   "metadata": {},
   "outputs": [
    {
     "name": "stdout",
     "output_type": "stream",
     "text": [
      "CPU times: user 1.02 s, sys: 8 ms, total: 1.03 s\n",
      "Wall time: 1.03 s\n"
     ]
    }
   ],
   "source": [
    "%%time\n",
    "y_pred = [tagger.tag(xseq) for xseq in x_test]"
   ]
  },
  {
   "cell_type": "code",
   "execution_count": 17,
   "metadata": {},
   "outputs": [
    {
     "name": "stdout",
     "output_type": "stream",
     "text": [
      "             precision    recall  f1-score   support\n",
      "\n",
      "    Accused       0.00      0.00      0.00        65\n",
      "      Event       0.00      0.00      0.00        81\n",
      "LOC_Accused       0.22      0.02      0.04       100\n",
      "  LOC_Assoc       0.00      0.00      0.00        81\n",
      "  LOC_Event       0.52      0.39      0.44      1287\n",
      " LOC_Others       0.59      0.58      0.58      1860\n",
      " LOC_Victim       0.00      0.00      0.00        30\n",
      "   Location       0.33      0.01      0.02       129\n",
      "ORG_Accused       0.66      0.62      0.64       517\n",
      "  ORG_Assoc       0.00      0.00      0.00        15\n",
      " ORG_Others       0.70      0.58      0.64      2463\n",
      " ORG_Victim       0.33      0.03      0.05        68\n",
      "PER_Accused       0.58      0.40      0.47       679\n",
      "  PER_Assoc       0.00      0.00      0.00        66\n",
      " PER_Others       0.77      0.75      0.76      2080\n",
      " PER_Victim       0.33      0.16      0.21       309\n",
      "     Victim       0.00      0.00      0.00        16\n",
      "\n",
      "avg / total       0.61      0.53      0.56      9846\n",
      "\n"
     ]
    },
    {
     "name": "stderr",
     "output_type": "stream",
     "text": [
      "/usr/local/lib/python2.7/dist-packages/sklearn/metrics/classification.py:1135: UndefinedMetricWarning: Precision and F-score are ill-defined and being set to 0.0 in labels with no predicted samples.\n",
      "  'precision', 'predicted', average, warn_for)\n"
     ]
    }
   ],
   "source": [
    "print(report(y_test, y_pred))"
   ]
  },
  {
   "cell_type": "code",
   "execution_count": 18,
   "metadata": {},
   "outputs": [
    {
     "name": "stdout",
     "output_type": "stream",
     "text": [
      "261\n",
      "261\n"
     ]
    }
   ],
   "source": [
    "num_test_data = len(y_test)\n",
    "print len(y_pred)\n",
    "print num_test_data"
   ]
  },
  {
   "cell_type": "code",
   "execution_count": 19,
   "metadata": {},
   "outputs": [],
   "source": [
    "# Test\n",
    "actual_tag_count = dict()\n",
    "matched_tag_count = dict()\n",
    "matched_tag_count['PER_Others'] = 0\n",
    "actual_tag_count['PER_Others'] = 0\n",
    "matched_tag_count['PER_Victim'] = 0\n",
    "actual_tag_count['PER_Victim'] = 0\n",
    "matched_tag_count['PER_Accused'] = 0\n",
    "actual_tag_count['PER_Accused'] = 0\n",
    "matched_tag_count['ORG_Victim'] = 0\n",
    "actual_tag_count['ORG_Victim'] = 0\n",
    "matched_tag_count['ORG_Accused'] = 0\n",
    "actual_tag_count['ORG_Accused'] = 0\n",
    "matched_tag_count['ORG_Others'] = 0\n",
    "actual_tag_count['ORG_Others'] = 0\n",
    "matched_tag_count['LOC_Accused'] = 0\n",
    "actual_tag_count['LOC_Accused'] = 0\n",
    "matched_tag_count['LOC_Others'] = 0\n",
    "actual_tag_count['LOC_Others'] = 0\n",
    "matched_tag_count['LOC_Event'] = 0\n",
    "actual_tag_count['LOC_Event'] = 0\n",
    "matched_tag_count['LOC_Victim'] = 0\n",
    "actual_tag_count['LOC_Victim'] = 0\n",
    "\n",
    "for i in xrange(num_test_data):\n",
    "    y_test_i = y_test[i]\n",
    "    y_pred_i = y_pred[i]\n",
    "    test_tag_length = len(y_test[i])\n",
    "    predicted_tag_length = len(y_pred[i])\n",
    "    for j in xrange(test_tag_length):\n",
    "        if y_test_i[j] in actual_tag_count.keys():\n",
    "            actual_tag_count[y_test_i[j]] = actual_tag_count[y_test_i[j]] + 1\n",
    "        \n",
    "        if y_test_i[j] == y_pred_i[j]:\n",
    "            if y_test_i[j] in matched_tag_count.keys():\n",
    "                matched_tag_count[y_test_i[j]] = matched_tag_count[y_test_i[j]] + 1"
   ]
  },
  {
   "cell_type": "code",
   "execution_count": 20,
   "metadata": {},
   "outputs": [
    {
     "name": "stdout",
     "output_type": "stream",
     "text": [
      "======= Accuracy Class Wise =====================\n",
      "\n",
      "Class    Matched Total %\n",
      "--------------------------\n",
      "PER_Others: 1562 2080 75%\n",
      "PER_Victim: 48 309 15%\n",
      "PER_Accused: 270 679 39%\n",
      "ORG_Victim: 2 68 2%\n",
      "ORG_Accused: 323 517 62%\n",
      "ORG_Others: 1436 2463 58%\n",
      "LOC_Accused: 2 100 2%\n",
      "LOC_Others: 1079 1860 58%\n",
      "LOC_Event: 498 1287 38%\n",
      "LOC_Victim: 0 30 0%\n"
     ]
    }
   ],
   "source": [
    "print('======= Accuracy Class Wise =====================\\n')\n",
    "\n",
    "print('Class    Matched Total %')\n",
    "print('--------------------------')\n",
    "print ('PER_Others: '+str(matched_tag_count['PER_Others'])+ ' ' + str(actual_tag_count['PER_Others'])+ ' ' + str(matched_tag_count['PER_Others']*100/actual_tag_count['PER_Others'])+'%')\n",
    "print ('PER_Victim: '+str(matched_tag_count['PER_Victim'])+ ' ' + str(actual_tag_count['PER_Victim'])+ ' '+str(matched_tag_count['PER_Victim']*100/actual_tag_count['PER_Victim'])+'%')\n",
    "print ('PER_Accused: '+str(matched_tag_count['PER_Accused'])+ ' ' + str(actual_tag_count['PER_Accused'])+ ' '+str(matched_tag_count['PER_Accused']*100/actual_tag_count['PER_Accused'])+'%')\n",
    "print ('ORG_Victim: '+str(matched_tag_count['ORG_Victim']) + ' '+ str(actual_tag_count['ORG_Victim'])+ ' '+str(matched_tag_count['ORG_Victim']*100/actual_tag_count['ORG_Victim'])+'%')\n",
    "print ('ORG_Accused: '+str(matched_tag_count['ORG_Accused']) + ' '+ str(actual_tag_count['ORG_Accused'])+ ' '+str(matched_tag_count['ORG_Accused']*100/actual_tag_count['ORG_Accused'])+'%')\n",
    "print ('ORG_Others: '+str(matched_tag_count['ORG_Others']) + ' '+ str(actual_tag_count['ORG_Others'])+ ' '+str(matched_tag_count['ORG_Others']*100/actual_tag_count['ORG_Others'])+'%')\n",
    "print ('LOC_Accused: '+str(matched_tag_count['LOC_Accused'])+ ' ' + str(actual_tag_count['LOC_Accused'])+ ' '+str(matched_tag_count['LOC_Accused']*100/actual_tag_count['LOC_Accused'])+'%')\n",
    "print ('LOC_Others: '+str(matched_tag_count['LOC_Others'])+ ' ' + str(actual_tag_count['LOC_Others'])+ ' '+str(matched_tag_count['LOC_Others']*100/actual_tag_count['LOC_Others'])+'%')\n",
    "print ('LOC_Event: '+str(matched_tag_count['LOC_Event']) + ' '+ str(actual_tag_count['LOC_Event'])+ ' '+str(matched_tag_count['LOC_Event']*100/actual_tag_count['LOC_Event'])+'%')\n",
    "print ('LOC_Victim: '+str(matched_tag_count['LOC_Victim']) + ' '+ str(actual_tag_count['LOC_Victim'])+ ' '+str(matched_tag_count['LOC_Victim']*100/actual_tag_count['LOC_Victim'])+'%')"
   ]
  }
 ],
 "metadata": {
  "kernelspec": {
   "display_name": "Python 2",
   "language": "python",
   "name": "python2"
  },
  "language_info": {
   "codemirror_mode": {
    "name": "ipython",
    "version": 2
   },
   "file_extension": ".py",
   "mimetype": "text/x-python",
   "name": "python",
   "nbconvert_exporter": "python",
   "pygments_lexer": "ipython2",
   "version": "2.7.12"
  }
 },
 "nbformat": 4,
 "nbformat_minor": 2
}
