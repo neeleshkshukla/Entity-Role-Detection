{
 "cells": [
  {
   "cell_type": "code",
   "execution_count": 42,
   "metadata": {},
   "outputs": [
    {
     "name": "stdout",
     "output_type": "stream",
     "text": [
      "0.19.0\n"
     ]
    }
   ],
   "source": [
    "from itertools import chain\n",
    "import nltk\n",
    "from sklearn.metrics import classification_report, confusion_matrix\n",
    "from sklearn.preprocessing import LabelBinarizer\n",
    "import sklearn\n",
    "import pycrfsuite\n",
    "import os\n",
    "import numpy as np\n",
    "import math\n",
    "\n",
    "print(sklearn.__version__)"
   ]
  },
  {
   "cell_type": "code",
   "execution_count": 43,
   "metadata": {},
   "outputs": [
    {
     "name": "stdout",
     "output_type": "stream",
     "text": [
      "1037\n",
      "270\n"
     ]
    }
   ],
   "source": [
    "# Divide in train and test files [80:20] \n",
    "\n",
    "# Directory having content\n",
    "\n",
    "doc_dir = 'Data/content'\n",
    "\n",
    "train_file_list = []\n",
    "test_file_list = []\n",
    "\n",
    "for f in os.listdir(doc_dir):\n",
    "    #Random Sampling\n",
    "    if np.random.uniform(0,1)< 0.8:\n",
    "        train_file_list.append(f)\n",
    "    else:\n",
    "        test_file_list.append(f)\n",
    "\n",
    "print len(train_file_list)\n",
    "print len(test_file_list)"
   ]
  },
  {
   "cell_type": "code",
   "execution_count": 44,
   "metadata": {},
   "outputs": [],
   "source": [
    "# Build Tagged dataset to be fed in nltk hmm tagger\n",
    "# It is a list of tagged sentences. \n",
    "# training_data = [ [(word, tag), (word, tag).....]\n",
    "# [(word, tag), (word, tag).....]\n",
    "#]\n",
    "\n",
    "# Directory having tags\n",
    "tag_dir = 'Data/new_tags'\n",
    "\n",
    "training_data = []\n",
    "\n",
    "for f in train_file_list:\n",
    "    training_sentences =[]\n",
    "    word_file_path = os.path.join(doc_dir, f)\n",
    "    tag_file_path = os.path.join(tag_dir, f)\n",
    "    lines_in_word_file = []\n",
    "    lines_in_tag_file = []\n",
    "    with open(word_file_path, \"rt\") as word_file:\n",
    "        for line in word_file:\n",
    "            lines_in_word_file.append(line)\n",
    "    with open(tag_file_path, \"rt\") as tag_file:\n",
    "        for line in tag_file:\n",
    "            lines_in_tag_file.append(line)\n",
    "    if (len(lines_in_word_file) == len(lines_in_tag_file)) and len(lines_in_word_file) > 0:\n",
    "        for i in xrange(len(lines_in_word_file)):\n",
    "            word_in_file = lines_in_word_file[i].split()\n",
    "            tag_in_file = lines_in_tag_file[i].split()\n",
    "            pairs_in_line = []\n",
    "            length = min(len(word_in_file), len(tag_in_file))\n",
    "            #Create the word_tag pair\n",
    "            for j in xrange(length):\n",
    "                pairs_in_line.append((word_in_file[j], tag_in_file[j]));\n",
    "            training_sentences.append(pairs_in_line)\n",
    "    if len(training_sentences) > 0:\n",
    "        training_data.extend(training_sentences)\n",
    "\n",
    "#print training_data[0]"
   ]
  },
  {
   "cell_type": "code",
   "execution_count": 45,
   "metadata": {},
   "outputs": [],
   "source": [
    "def word2features(sent, i):\n",
    "    N = len(sent)\n",
    "    word = sent[i][0]\n",
    "    count = 0\n",
    "    for j in xrange(N):\n",
    "        if sent[j][0] == word:\n",
    "            count = count + 1\n",
    "    score = math.log10((1+float(count)/N) * (float(1+N-i)/N))\n",
    "    \n",
    "    features = [\n",
    "        'bias',\n",
    "        'word.lower=' + word.lower(),\n",
    "        'word[-3:]=' + word[-3:],\n",
    "        'word[-2:]=' + word[-2:],\n",
    "        'word.isupper=%s' % word.isupper(),\n",
    "        'word.istitle=%s' % word.istitle(),\n",
    "        'word.isdigit=%s' % word.isdigit(),\n",
    "        'word.score=%d' % score,\n",
    "    ]\n",
    "    if i > 0:\n",
    "        word1 = sent[i-1][0]\n",
    "        tag1 = sent[i-1][1]\n",
    "        features.extend([\n",
    "            '-1:word.lower=' + word1.lower(),\n",
    "            '-1:word.istitle=%s' % word1.istitle(),\n",
    "            '-1:word.isupper=%s' % word1.isupper(),\n",
    "           # '-1:tag1=' + tag1,\n",
    "        ])\n",
    "    else:\n",
    "        features.append('BOS')\n",
    "    if i < len(sent)-1:\n",
    "        word1 = sent[i+1][0]\n",
    "        features.extend([\n",
    "            '+1:word.lower=' + word1.lower(),\n",
    "            '+1:word.istitle=%s' % word1.istitle(),\n",
    "            '+1:word.isupper=%s' % word1.isupper(),\n",
    "        ])\n",
    "    else:\n",
    "        features.append('EOS')\n",
    "        \n",
    "    return features\n",
    "\n",
    "\n",
    "def sent2features(sent):\n",
    "    return [word2features(sent, i) for i in range(len(sent))]\n",
    "\n",
    "def sent2tags(sent):\n",
    "    return [tag for word, tag in sent]\n",
    "\n",
    "def sent2words(sent):\n",
    "    return [word for word, tag in sent] "
   ]
  },
  {
   "cell_type": "code",
   "execution_count": 46,
   "metadata": {},
   "outputs": [
    {
     "name": "stdout",
     "output_type": "stream",
     "text": [
      "[('Five', 'O'), ('people', 'O'), ('were', 'O'), ('killed', 'O'), ('and', 'O'), ('over', 'O'), ('50', 'O'), ('injured', 'O'), ('in', 'O'), ('three', 'O'), ('blasts', 'O'), ('set', 'O'), ('off', 'O'), ('by', 'O'), ('insurgent', 'O'), ('outfit', 'O'), ('ULFA', 'ORG_Others'), ('here', 'O'), ('today', 'O'), ('hours', 'O'), ('before', 'O'), ('Union', 'O'), ('Home', 'O'), ('Minister', 'O'), ('P', 'PER_Others'), ('Chidambaram', 'PER_Others'), (\"'s\", 'O'), ('visit', 'O'), ('to', 'O'), ('review', 'O'), ('law', 'O'), ('and', 'O'), ('order', 'O'), ('situation', 'O'), ('in', 'O'), ('the', 'O'), ('state', 'O'), ('rocked', 'O'), ('by', 'O'), ('deadly', 'O'), ('blasts', 'O'), ('that', 'O'), ('left', 'O'), ('88', 'O'), ('dead', 'O'), ('two', 'O'), ('months', 'O'), ('ago', 'O'), ('.', 'O'), ('.', 'O'), ('.', 'O'), ('Three', 'O'), ('people', 'O'), ('were', 'O'), ('killed', 'O'), ('and', 'O'), ('35', 'O'), ('injured', 'O'), (',', 'O'), ('including', 'O'), ('four', 'O'), ('women', 'O'), (',', 'O'), ('when', 'O'), ('a', 'O'), ('bomb', 'O'), ('planted', 'O'), ('in', 'O'), ('front', 'O'), ('of', 'O'), ('a', 'O'), ('closed', 'O'), ('sweet', 'O'), ('shop', 'O'), ('exploded', 'O'), ('near', 'O'), ('upmarket', 'O'), ('Bhangagarh', 'LOC_Event'), ('flyover', 'O'), ('on', 'O'), ('the', 'O'), ('busy', 'O'), ('Guwahati-Shillong', 'O'), ('road', 'O'), ('at', 'O'), ('around', 'O'), ('5:45', 'O'), ('pm', 'O'), ('.', 'O'), ('.', 'O'), ('.', 'O'), ('Two', 'O'), ('persons', 'O'), ('died', 'O'), ('on', 'O'), ('way', 'O'), ('to', 'O'), ('hospital', 'O'), ('while', 'O'), ('another', 'O'), ('succumbed', 'O'), ('to', 'O'), ('his', 'O'), ('injuries', 'O'), ('at', 'O'), ('the', 'O'), ('Guwahati', 'ORG_Others'), ('Medical', 'ORG_Others'), ('College', 'ORG_Others'), ('Hospital', 'ORG_Others'), (',', 'O'), ('DGP', 'O'), ('G', 'O'), ('M', 'O'), ('Srivastava', 'PER_Others'), ('said', 'O'), ('.', 'O'), ('.', 'O'), ('.', 'O'), ('Two', 'O'), ('of', 'O'), ('the', 'O'), ('dead', 'O'), ('were', 'O'), ('identified', 'O'), ('as', 'O'), ('Amal', 'PER_Victim'), ('Das', 'PER_Victim'), ('and', 'O'), ('Kahil', 'PER_Victim'), ('Sheikh', 'PER_Victim'), ('.', 'O'), ('.', 'O'), ('.', 'O'), ('A', 'O'), ('bomb', 'O'), ('kept', 'O'), ('in', 'O'), ('a', 'O'), ('bicycle', 'O'), ('exploded', 'O'), ('at', 'O'), ('a', 'O'), ('market', 'O'), ('in', 'O'), ('the', 'O'), ('Bhootnath', 'LOC_Event'), ('area', 'O'), (',', 'O'), ('the', 'O'), ('route', 'O'), ('which', 'O'), ('Chidambaram', 'PER_Others'), ('was', 'O'), ('to', 'O'), ('take', 'O'), ('on', 'O'), ('his', 'O'), ('way', 'O'), ('from', 'O'), ('the', 'O'), ('airport', 'O'), (',', 'O'), ('under', 'O'), ('Baralumukh', 'LOC_Others'), ('police', 'O'), ('station', 'O'), ('around', 'O'), ('5.30', 'O'), ('pm', 'O'), ('in', 'O'), ('which', 'O'), ('two', 'O'), ('persons', 'O'), ('were', 'O'), ('killed', 'O'), ('and', 'O'), ('12', 'O'), ('others', 'O'), ('injured', 'O'), (',', 'O'), ('official', 'O'), ('sources', 'O'), ('said', 'O'), ('.', 'O'), ('.', 'O'), ('.', 'O'), ('An', 'O'), ('Improvised', 'O'), ('Explosive', 'O'), ('Devise', 'O'), ('(', 'O'), ('IED', 'O'), (')', 'O'), ('kept', 'O'), ('in', 'O'), ('a', 'O'), ('Gauhati', 'O'), ('Municipal', 'O'), ('Corporation', 'O'), ('(', 'O'), ('GMC', 'O'), (')', 'O'), ('dustbin', 'O'), ('went', 'O'), ('off', 'O'), ('at', 'O'), ('around', 'O'), ('3.30', 'O'), ('pm', 'O'), ('injuring', 'O'), ('three', 'O'), ('persons', 'O'), ('in', 'O'), ('Birubari', 'LOC_Event'), ('Tiniali', 'LOC_Event'), ('area', 'O'), ('.', 'O'), ('.', 'O'), ('.', 'O'), ('The', 'O'), ('blasts', 'O'), ('came', 'O'), ('a', 'O'), ('day', 'O'), ('ahead', 'O'), ('of', 'O'), ('Prime', 'O'), ('Minister', 'O'), ('Manmohan', 'PER_Others'), ('Singh', 'PER_Others'), (\"'s\", 'O'), ('arrival', 'O'), ('here', 'O'), ('tomorrow', 'O'), ('enroute', 'O'), ('Shillong', 'LOC_Others'), ('to', 'O'), ('inaugurate', 'O'), ('the', 'O'), ('Indian', 'ORG_Others'), ('Science', 'ORG_Others'), ('Congress', 'ORG_Others'), ('there', 'O'), ('on', 'O'), ('January', 'O'), ('three', 'O'), ('.', 'O'), ('.', 'O'), ('.', 'O'), ('Chidmabaram', 'PER_Others'), ('arrived', 'O'), ('at', 'O'), ('the', 'O'), ('Lokopriyo', 'LOC_Others'), ('Gopinath', 'LOC_Others'), ('Bordoloi', 'LOC_Others'), ('international', 'LOC_Others'), ('airport', 'LOC_Others'), ('on', 'O'), ('a', 'O'), ('two-day', 'O'), ('visit', 'O'), ('to', 'O'), ('the', 'O'), ('state', 'O'), ('to', 'O'), ('review', 'O'), ('Assam', 'LOC_Event'), (\"'s\", 'O'), ('law', 'O'), ('and', 'O'), ('order', 'O'), ('situation', 'O'), ('and', 'O'), ('attend', 'O'), ('a', 'O'), ('meeting', 'O'), ('of', 'O'), ('the', 'O'), ('Unified', 'O'), ('Command', 'O'), ('headed', 'O'), ('by', 'O'), ('Chief', 'O'), ('Minister', 'O'), ('Tarun', 'PER_Others'), ('Gogoi', 'PER_Others'), ('.', 'O'), ('.', 'O'), ('.', 'O'), ('.', 'O')]\n",
      "['bias', 'word.lower=five', 'word[-3:]=ive', 'word[-2:]=ve', 'word.isupper=False', 'word.istitle=True', 'word.isdigit=False', 'word.score=0', 'BOS', '+1:word.lower=people', '+1:word.istitle=False', '+1:word.isupper=False']\n",
      "O\n",
      "Five\n"
     ]
    }
   ],
   "source": [
    "print training_data[0]\n",
    "print sent2features(training_data[0])[0]\n",
    "print sent2tags(training_data[0])[0]\n",
    "print sent2words(training_data[0])[0]"
   ]
  },
  {
   "cell_type": "code",
   "execution_count": 47,
   "metadata": {},
   "outputs": [],
   "source": [
    "x_train = [sent2features(s) for s in training_data]\n",
    "y_train = [sent2tags(s) for s in training_data]"
   ]
  },
  {
   "cell_type": "code",
   "execution_count": 48,
   "metadata": {},
   "outputs": [],
   "source": [
    "trainer = pycrfsuite.Trainer(verbose=False)\n",
    "\n",
    "for xseq, yseq in zip(x_train, y_train):\n",
    "    trainer.append(xseq, yseq)"
   ]
  },
  {
   "cell_type": "code",
   "execution_count": 49,
   "metadata": {},
   "outputs": [],
   "source": [
    "trainer.set_params({\n",
    "    'c1': 1.0,   # coefficient for L1 penalty\n",
    "    'c2': 1e-3,  # coefficient for L2 penalty\n",
    "    'max_iterations': 50,  # stop earlier\n",
    "\n",
    "    # include transitions that are possible, but not observed\n",
    "    'feature.possible_transitions': True\n",
    "})"
   ]
  },
  {
   "cell_type": "code",
   "execution_count": 50,
   "metadata": {},
   "outputs": [
    {
     "data": {
      "text/plain": [
       "['feature.minfreq',\n",
       " 'feature.possible_states',\n",
       " 'feature.possible_transitions',\n",
       " 'c1',\n",
       " 'c2',\n",
       " 'max_iterations',\n",
       " 'num_memories',\n",
       " 'epsilon',\n",
       " 'period',\n",
       " 'delta',\n",
       " 'linesearch',\n",
       " 'max_linesearch']"
      ]
     },
     "execution_count": 50,
     "metadata": {},
     "output_type": "execute_result"
    }
   ],
   "source": [
    "trainer.params()"
   ]
  },
  {
   "cell_type": "code",
   "execution_count": 51,
   "metadata": {},
   "outputs": [],
   "source": [
    "# Train and save the model\n",
    "trainer.train('osint-bomb-blast.crfsuite.wordscore')"
   ]
  },
  {
   "cell_type": "code",
   "execution_count": 52,
   "metadata": {},
   "outputs": [
    {
     "data": {
      "text/plain": [
       "<contextlib.closing at 0x7fed4c5724d0>"
      ]
     },
     "execution_count": 52,
     "metadata": {},
     "output_type": "execute_result"
    }
   ],
   "source": [
    "tagger = pycrfsuite.Tagger()\n",
    "tagger.open('osint-bomb-blast.crfsuite.wordscore')"
   ]
  },
  {
   "cell_type": "code",
   "execution_count": 53,
   "metadata": {},
   "outputs": [
    {
     "name": "stdout",
     "output_type": "stream",
     "text": [
      "[('-LCB-', 'O'), ('mosimage', 'O'), ('-RCB-', 'O'), ('Three', 'O'), ('persons', 'O'), (',', 'O'), ('including', 'O'), ('an', 'O'), ('11-year-old', 'O'), ('boy', 'O'), (',', 'O'), ('were', 'O'), ('killed', 'O'), ('and', 'O'), ('seventeen', 'O'), ('injured', 'O'), ('in', 'O'), ('a', 'O'), ('blast', 'O'), ('that', 'O'), ('shook', 'O'), ('Mehrauli', 'LOC_Event'), ('area', 'O'), ('of', 'O'), ('south', 'LOC_Others'), ('Delhi', 'LOC_Others'), ('.', 'O'), ('Injured', 'O'), ('have', 'O'), ('been', 'O'), ('rushed', 'O'), ('to', 'O'), ('AIIMStrauma', 'O'), ('centre', 'O'), (',', 'O'), ('police', 'O'), ('said.Sources', 'O'), ('in', 'O'), ('the', 'O'), ('police', 'O'), ('say', 'O'), ('two', 'O'), ('people', 'O'), ('have', 'O'), ('been', 'O'), ('detained', 'O'), ('at', 'O'), ('the', 'O'), ('Delhi', 'LOC_Others'), ('IGI', 'O'), ('airport', 'O'), ('in', 'O'), ('connection', 'O'), ('with', 'O'), ('the', 'O'), ('blast', 'O'), ('.', 'O'), ('Ammonium', 'O'), ('nitrate', 'O'), ('and', 'O'), ('nails', 'O'), ('were', 'O'), ('reportedly', 'O'), ('used', 'O'), ('to', 'O'), ('make', 'O'), ('the', 'O'), ('bomb', 'O'), (',', 'O'), ('similar', 'O'), ('to', 'O'), ('the', 'O'), ('ones', 'O'), ('used', 'O'), ('in', 'O'), ('the', 'O'), ('September', 'O'), ('13', 'O'), ('blasts.The', 'O'), ('terror', 'O'), ('attack', 'O'), (',', 'O'), ('within', 'O'), ('a', 'O'), ('stone', 'O'), (\"'s\", 'O'), ('throw', 'O'), ('of', 'O'), ('Delhi', 'LOC_Others'), (\"'s\", 'O'), ('landmark', 'O'), ('Qutub', 'LOC_Others'), ('Minar', 'LOC_Others'), (',', 'O'), ('came', 'O'), ('exactly', 'O'), ('a', 'O'), ('fortnight', 'O'), ('after', 'O'), ('a', 'O'), ('series', 'O'), ('of', 'O'), ('bombings', 'O'), ('left', 'O'), ('24', 'O'), ('people', 'O'), ('dead', 'O'), ('in', 'O'), ('the', 'O'), ('national', 'O'), ('capital', 'O'), ('.', 'O'), ('(', 'O'), ('AIIMS', 'ORG_Others'), ('helpline', 'O'), (':', 'O'), ('91-11-26588500', 'O'), (',', 'O'), ('26589900', 'O'), (',', 'O'), ('26588700', 'O'), (';', 'O'), ('Safdarjung', 'ORG_Others'), ('Hospital', 'ORG_Others'), ('helpline', 'O'), (':', 'O'), ('91-11-2619469', 'O'), (')', 'O'), ('Two', 'O'), ('youths', 'O'), ('on', 'O'), ('a', 'O'), ('motorcycleleft', 'O'), ('a', 'O'), ('container', 'O'), ('in', 'O'), ('a', 'O'), ('black', 'O'), ('polythene', 'O'), ('bag', 'O'), ('outside', 'O'), ('an', 'O'), ('electronic', 'O'), ('shop', 'O'), ('and', 'O'), ('sped', 'O'), ('off', 'O'), ('.', 'O'), ('It', 'O'), ('began', 'O'), ('smoking', 'O'), ('and', 'O'), ('soon', 'O'), ('after', 'O'), ('there', 'O'), ('was', 'O'), ('a', 'O'), ('huge', 'O'), ('explosion', 'O'), (',', 'O'), ('said', 'O'), ('Pritam', 'PER_Others'), (',', 'O'), ('an', 'O'), ('eyewitness', 'O'), ('.', 'O'), ('The', 'O'), ('motorcycle', 'O'), ('allegedly', 'O'), ('used', 'O'), ('by', 'O'), ('the', 'O'), ('suspects', 'O'), ('has', 'O'), ('been', 'O'), ('recovered', 'O'), ('by', 'O'), ('the', 'O'), ('police.The', 'O'), ('blast', 'O'), ('went', 'O'), ('off', 'O'), ('around', 'O'), ('2.15', 'O'), ('p.m.', 'O'), ('when', 'O'), ('crowds', 'O'), ('were', 'O'), ('milling', 'O'), ('around', 'O'), ('the', 'O'), ('area', 'O'), (',', 'O'), ('in', 'O'), ('the', 'O'), ('popular', 'O'), ('flower', 'O'), ('market', 'O'), ('in', 'O'), ('Mehrauli', 'O'), ('.', 'O'), ('Initial', 'O'), ('reports', 'O'), ('indicated', 'O'), ('that', 'O'), ('it', 'O'), ('was', 'O'), ('a', 'O'), ('low-intensity', 'O'), ('blast', 'O'), (',', 'O'), ('police', 'O'), ('said.Police', 'O'), (',', 'O'), ('the', 'O'), ('fire', 'O'), ('brigade', 'O'), ('and', 'O'), ('ambulances', 'O'), ('rushed', 'O'), ('to', 'O'), ('the', 'O'), ('spot', 'O'), ('and', 'O'), ('the', 'O'), ('injured', 'O'), ('were', 'O'), ('taken', 'O'), ('to', 'O'), ('the', 'O'), ('All', 'ORG_Others'), ('India', 'ORG_Others'), ('Institute', 'ORG_Others'), ('of', 'ORG_Others'), ('Medical', 'ORG_Others'), ('Sciences', 'ORG_Others'), ('and', 'O'), ('Safdarjang', 'ORG_Others'), ('Hospital.The', 'ORG_Others'), ('area', 'O'), ('was', 'O'), ('cordoned', 'O'), ('off', 'O'), ('and', 'O'), ('most', 'O'), ('shopkeepers', 'O'), ('downed', 'O'), ('their', 'O'), ('shutters', 'O'), ('as', 'O'), ('panic', 'O'), ('prevailed.The', 'O'), ('impact', 'O'), ('of', 'O'), ('the', 'O'), ('blast', 'O'), ('was', 'O'), ('quite', 'O'), ('huge', 'O'), ('as', 'O'), ('glass', 'O'), ('panes', 'O'), ('of', 'O'), ('many', 'O'), ('shops', 'O'), ('were', 'O'), ('shattered', 'O'), ('and', 'O'), ('blood', 'O'), ('pooled', 'O'), ('in', 'O'), ('front', 'O'), ('of', 'O'), ('a', 'O'), ('few', 'O'), ('shops.We', 'O'), ('received', 'O'), ('a', 'O'), ('call', 'O'), ('at', 'O'), ('around', 'O'), ('2.15', 'O'), ('p.m.', 'O'), ('about', 'O'), ('an', 'O'), ('explosion', 'O'), ('in', 'O'), ('Mehrauli', 'LOC_Event'), ('in', 'O'), ('south', 'LOC_Others'), ('Delhi', 'LOC_Others'), ('.', 'O'), ('At', 'O'), ('that', 'O'), ('time', 'O'), ('we', 'O'), ('had', 'O'), ('reports', 'O'), ('of', 'O'), ('six', 'O'), ('people', 'O'), ('being', 'O'), ('seriously', 'O'), ('injured', 'O'), (',', 'O'), ('said', 'O'), ('Ajay', 'PER_Others'), ('Kashyap', 'PER_Others'), (',', 'O'), ('joint', 'O'), ('commissioner', 'O'), ('(', 'O'), ('southern', 'O'), ('range', 'O'), (')', 'O'), ('.', 'O'), ('My', 'O'), ('brother', 'O'), (',', 'O'), ('Sanjay', 'PER_Victim'), (',', 'O'), ('was', 'O'), ('injured', 'O'), ('in', 'O'), ('the', 'O'), ('blast', 'O'), ('.', 'O'), ('There', 'O'), ('was', 'O'), ('a', 'O'), ('deafening', 'O'), ('explosion', 'O'), ('and', 'O'), ('people', 'O'), ('began', 'O'), ('to', 'O'), ('run', 'O'), ('for', 'O'), ('their', 'O'), ('lives', 'O'), ('fearing', 'O'), ('more', 'O'), ('blasts', 'O'), (',', 'O'), ('said', 'O'), ('Bambam', 'PER_Others'), ('Kumar', 'PER_Others'), (',', 'O'), ('who', 'O'), ('helped', 'O'), ('his', 'O'), ('brother', 'O'), ('into', 'O'), ('an', 'O'), ('ambulance.Exactly', 'O'), ('two', 'O'), ('weeks', 'O'), ('back', 'O'), (',', 'O'), ('24', 'O'), ('people', 'O'), ('were', 'O'), ('killed', 'O'), ('and', 'O'), ('over', 'O'), ('100', 'O'), ('injured', 'O'), ('in', 'O'), ('serial', 'O'), ('blasts', 'O'), ('in', 'O'), ('various', 'O'), ('parts', 'O'), ('of', 'O'), ('the', 'O'), ('Indian', 'O'), ('capital', 'O'), ('.', 'O'), ('The', 'O'), ('earlier', 'O'), ('series', 'O'), ('of', 'O'), ('five', 'O'), ('blasts', 'O'), ('had', 'O'), ('all', 'O'), ('taken', 'O'), ('place', 'O'), ('in', 'O'), ('crowded', 'O'), ('markets', 'O'), ('and', 'O'), ('office', 'O'), ('areas', 'O'), ('.', 'O'), ('Official', 'O'), ('figures', 'O'), ('from', 'O'), ('AIIMS', 'LOC_Others'), (':', 'O'), ('According', 'O'), ('to', 'O'), ('an', 'O'), ('official', 'O'), ('of', 'O'), ('the', 'O'), ('All', 'ORG_Others'), ('India', 'ORG_Others'), ('Institute', 'ORG_Others'), ('of', 'ORG_Others'), ('Medical', 'ORG_Others'), ('Sciences', 'ORG_Others'), ('(', 'O'), ('AIIMS', 'ORG_Others'), (')', 'O'), ('three', 'O'), ('people', 'O'), ('including', 'O'), ('one', 'O'), ('child', 'O'), ('has', 'O'), ('been', 'O'), ('killed.Seven', 'O'), ('of', 'O'), ('them', 'O'), ('are', 'O'), ('reported', 'O'), ('to', 'O'), ('be', 'O'), ('critical', 'O'), (',', 'O'), ('while', 'O'), ('one', 'O'), ('was', 'O'), ('brought', 'O'), ('dead', 'O'), ('to', 'O'), ('the', 'O'), ('hospital.Out', 'O'), ('of', 'O'), ('the', 'O'), ('17', 'O'), ('people', 'O'), ('brought', 'O'), ('to', 'O'), ('the', 'O'), ('hospital', 'O'), ('11', 'O'), ('are', 'O'), ('men', 'O'), (',', 'O'), ('three', 'O'), ('women', 'O'), ('and', 'O'), ('three', 'O'), ('children.List', 'O'), ('of', 'O'), ('the', 'O'), ('victims', 'O'), (':', 'O'), ('Following', 'O'), ('is', 'O'), ('the', 'O'), ('list', 'O'), ('of', 'O'), ('the', 'O'), ('injured', 'O'), ('people', 'O'), ('admitted', 'O'), ('to', 'O'), ('AIIMS', 'ORG_Others'), ('after', 'O'), ('the', 'O'), ('blast', 'O'), (':', 'O'), ('Sheetal', 'PER_Victim'), ('(', 'O'), ('11', 'O'), (')', 'O'), (',', 'O'), ('Suresh', 'PER_Victim'), ('(', 'O'), ('27', 'O'), (')', 'O'), (',', 'O'), ('Allauddin', 'PER_Victim'), ('(', 'O'), ('24', 'O'), (')', 'O'), (',', 'O'), ('Nehar', 'PER_Victim'), ('(', 'O'), ('31', 'O'), (')', 'O'), (',', 'O'), ('Vinod', 'PER_Victim'), ('(', 'O'), ('46', 'O'), (')', 'O'), (',', 'O'), ('Shyam', 'PER_Victim'), ('(', 'O'), ('24', 'O'), (')', 'O'), (',', 'O'), ('Bhim', 'PER_Victim'), ('Singh', 'PER_Victim'), ('(', 'O'), ('56', 'O'), (')', 'O'), (',', 'O'), ('Shakeel', 'PER_Victim'), ('(', 'O'), ('24', 'O'), (')', 'O'), (',', 'O'), ('Vikas', 'PER_Victim'), ('(', 'O'), ('10', 'O'), (')', 'O'), (',', 'O'), ('Gynendra', 'PER_Victim'), ('(', 'O'), ('35', 'O'), (')', 'O'), (',', 'O'), ('Kusum', 'PER_Victim'), ('(', 'O'), ('35', 'O'), (')', 'O'), (',', 'O'), ('Pradip', 'PER_Victim'), ('(', 'O'), ('21', 'O'), (')', 'O'), (',', 'O'), ('Satyajeet', 'PER_Victim'), ('Choudhary', 'PER_Victim'), (',', 'O'), ('Ustad', 'PER_Victim'), ('Ansari', 'PER_Victim'), (',', 'O'), ('Piyush', 'PER_Victim'), ('(', 'O'), ('23', 'O'), (')', 'O'), ('Rahul', 'PER_Victim'), ('(', 'O'), ('24', 'O'), (')', 'O'), ('Bikash', 'PER_Victim'), ('(', 'O'), ('24', 'O'), (')', 'O'), ('Pradeep', 'PER_Victim'), ('(', 'O'), ('40', 'O'), (')', 'O'), ('Four', 'O'), ('children', 'O'), ('were', 'O'), ('yet', 'O'), ('to', 'O'), ('be', 'O'), ('identified', 'O'), ('while', 'O'), ('one', 'O'), ('person', 'O'), ('has', 'O'), ('been', 'O'), ('admitted', 'O'), ('in', 'O'), ('Fortis', 'ORG_Others'), ('Hospital', 'ORG_Others'), ('.', 'O'), ('He', 'O'), ('has', 'O'), ('been', 'O'), ('identified', 'O'), ('as', 'O'), ('Baldev', 'PER_Victim'), ('Raj', 'PER_Victim'), ('.', 'O'), ('Emergency', 'O'), ('meetingI', 'O'), ('had', 'O'), ('discussions', 'O'), ('with', 'O'), ('the', 'O'), ('home', 'O'), ('minister.We', 'O'), ('should', 'O'), ('wait', 'O'), ('for', 'O'), ('the', 'O'), ('investigations', 'O'), (',', 'O'), ('saidExternal', 'O'), ('Affairs', 'O'), ('Minister', 'O'), ('Pranab', 'PER_Others'), ('Mukherjee', 'PER_Others'), ('after', 'O'), ('coming', 'O'), ('out', 'O'), ('of', 'O'), ('the', 'O'), ('emergency', 'O'), ('meeting', 'O'), ('at', 'O'), ('his', 'O'), ('residence', 'O'), ('in', 'O'), ('New', 'LOC_Others'), ('Delhi', 'LOC_Others'), ('.', 'O'), ('Senior', 'O'), ('leaders', 'O'), ('were', 'O'), ('present', 'O'), ('at', 'O'), ('the', 'O'), ('meeting', 'O'), ('to', 'O'), ('review', 'O'), ('the', 'O'), ('security', 'O'), ('situation', 'O'), ('of', 'O'), ('the', 'O'), ('Capital', 'O'), ('.', 'O'), ('Compensation', 'O'), ('announcedDelhi', 'O'), ('Chief', 'O'), ('Minister', 'O'), ('Sheila', 'PER_Others'), ('Dikshit', 'PER_Others'), ('announces', 'O'), ('Rs', 'O'), ('5', 'O'), ('lakh', 'O'), ('as', 'O'), ('compensation', 'O'), ('to', 'O'), ('the', 'O'), ('family', 'O'), ('of', 'O'), ('the', 'O'), ('boy', 'O'), ('killed', 'O'), ('in', 'O'), ('South', 'LOC_Others'), ('Delhi', 'LOC_Others'), ('blast', 'O'), ('and', 'O'), ('Rs', 'O'), ('50,000', 'O'), ('each', 'O'), ('to', 'O'), ('the', 'O'), ('injured', 'O'), ('.', 'O'), ('REACTIONSOpposition', 'O'), ('leader', 'O'), ('L.', 'PER_Others'), ('K.', 'PER_Others'), ('Advani', 'PER_Others'), ('lashed', 'O'), ('out', 'O'), ('at', 'O'), ('the', 'O'), ('government', 'O'), ('following', 'O'), ('the', 'O'), ('blasts', 'O'), ('in', 'O'), ('Mehrauli', 'LOC_Event'), ('in', 'O'), ('Delhi', 'LOC_Others'), ('on', 'O'), ('Saturday', 'O'), ('.', 'O'), ('Advani', 'PER_Others'), ('said', 'O'), ('that', 'O'), ('the', 'O'), ('UPA', 'ORG_Others'), ('government', 'ORG_Others'), ('has', 'O'), ('failed', 'O'), ('to', 'O'), ('combat', 'O'), ('terror', 'O'), ('and', 'O'), ('that', 'O'), ('is', 'O'), ('why', 'O'), ('blasts', 'O'), ('are', 'O'), ('rocking', 'O'), ('the', 'O'), ('country', 'O'), ('one', 'O'), ('after', 'O'), ('the', 'O'), ('other.Delhi', 'O'), ('Police', 'O'), ('Commissioner', 'O'), ('YS', 'PER_Others'), ('Dadwal', 'PER_Others'), (',', 'O'), ('We', 'O'), ('are', 'O'), ('investigating', 'O'), ('the', 'O'), ('case', 'O'), ('.', 'O'), ('Preliminary', 'O'), ('investigations', 'O'), ('suggest', 'O'), ('that', 'O'), ('two', 'O'), ('boys', 'O'), ('came', 'O'), ('on', 'O'), ('a', 'O'), ('blackmotorcycle', 'O'), ('and', 'O'), ('dropped', 'O'), ('a', 'O'), ('polythene', 'O'), ('bag', 'O'), ('.', 'O'), ('A', 'O'), ('child', 'O'), ('picked', 'O'), ('up', 'O'), ('the', 'O'), ('bag', 'O'), ('and', 'O'), ('the', 'O'), ('blast', 'O'), ('occurred', 'O'), ('immediately', 'O'), ('after', 'O'), ('that', 'O'), ('.', 'O'), ('The', 'O'), ('toll', 'O'), ('stands', 'O'), ('at', 'O'), ('1', 'O'), ('dead', 'O'), ('and', 'O'), ('18', 'O'), ('injured.Mayor', 'O'), ('of', 'O'), ('Delhi', 'LOC_Others'), (',', 'O'), ('Aarti', 'PER_Others'), ('Mehta', 'PER_Others'), (',', 'O'), ('has', 'O'), ('dubbed', 'O'), ('the', 'O'), ('blasts', 'O'), ('in', 'O'), ('Mehrauli', 'LOC_Others'), ('as', 'LOC_Others'), ('shameful.Mehta', 'LOC_Others'), ('said', 'O'), ('that', 'O'), ('security', 'O'), ('of', 'O'), ('people', 'O'), ('is', 'O'), ('the', 'O'), ('top', 'O'), ('most', 'O'), ('priority', 'O'), ('at', 'O'), ('the', 'O'), ('moment', 'O'), ('.', 'O'), ('I', 'O'), ('have', 'O'), ('sent', 'O'), ('Deputy', 'O'), ('Commissioner', 'O'), ('of', 'O'), ('Police', 'O'), ('to', 'O'), ('the', 'O'), ('blast', 'O'), ('site', 'O'), ('to', 'O'), ('ensure', 'O'), ('security', 'O'), (',', 'O'), ('she', 'O'), ('said.Government', 'O'), ('can', 'O'), ('not', 'O'), ('run', 'O'), ('away', 'O'), ('from', 'O'), ('its', 'O'), ('responsibility', 'O'), ('to', 'O'), ('provide', 'O'), ('safety', 'O'), ('to', 'O'), ('the', 'O'), ('people', 'O'), (',', 'O'), ('Mehta', 'PER_Others'), ('said', 'O'), ('while', 'O'), ('speaking', 'O'), ('to', 'O'), ('a', 'O'), ('news', 'O'), ('channel.Aarti', 'O'), ('Mehta', 'O'), ('also', 'O'), ('reiterated', 'O'), ('the', 'O'), ('demand', 'O'), ('for', 'O'), ('stricter', 'O'), ('laws', 'O'), ('to', 'O'), ('deal', 'O'), ('with', 'O'), ('the', 'O'), ('recent', 'O'), ('spate', 'O'), ('of', 'O'), ('terror', 'O'), ('attacks', 'O'), ('in', 'O'), ('India.The', 'O'), ('PRO', 'O'), ('of', 'O'), ('Delhi', 'ORG_Others'), ('Police', 'ORG_Others'), ('Rajan', 'PER_Others'), ('Bhagat', 'PER_Others'), ('informed', 'O'), ('that', 'O'), ('the', 'O'), ('youth', 'O'), ('sitting', 'O'), ('as', 'O'), ('pillion', 'O'), ('was', 'O'), ('wearing', 'O'), ('a', 'O'), ('black', 'O'), ('and', 'O'), ('white', 'O'), ('T-shirt', 'O'), ('.', 'O'), ('He', 'O'), ('requested', 'O'), ('the', 'O'), ('general', 'O'), ('public', 'O'), ('to', 'O'), ('stay', 'O'), ('alert', 'O'), ('and', 'O'), ('inform', 'O'), ('police', 'O'), ('in', 'O'), ('case', 'O'), ('they', 'O'), ('see', 'O'), ('any', 'O'), ('suspicious', 'O'), ('object.Bharatiya', 'O'), ('Janata', 'O'), ('Party', 'O'), (\"'s\", 'O'), ('(', 'O'), ('BJP', 'ORG_Others'), (')', 'O'), ('leader', 'O'), ('Vijay', 'PER_Others'), ('Kumar', 'PER_Others'), ('Malhotra', 'PER_Others'), ('on', 'O'), ('Saturday', 'O'), ('demanded', 'O'), ('the', 'O'), ('resignation', 'O'), ('of', 'O'), ('Home', 'O'), ('Minister', 'O'), ('Shivraj', 'PER_Others'), ('Patil', 'PER_Others'), ('following', 'O'), ('a', 'O'), ('bomb', 'O'), ('blast', 'O'), ('in', 'O'), ('Delhi', 'LOC_Others'), (\"'s\", 'O'), ('Mehrauli', 'O'), ('area.He', 'O'), ('should', 'O'), ('resign', 'O'), (',', 'O'), ('Malhotra', 'PER_Others'), ('told', 'O'), ('reporters', 'O'), ('in', 'O'), ('New', 'LOC_Others'), ('Delhi', 'LOC_Others'), ('.', 'O'), ('If', 'O'), ('he', 'O'), ('can', 'O'), ('not', 'O'), ('stop', 'O'), ('these', 'O'), ('incidents', 'O'), ('even', 'O'), ('in', 'O'), ('the', 'O'), ('capital', 'O'), (',', 'O'), ('he', 'O'), ('has', 'O'), ('no', 'O'), ('right', 'O'), ('to', 'O'), ('hold', 'O'), ('the', 'O'), ('post.Malhotra', 'O'), (',', 'O'), ('who', 'O'), ('was', 'O'), ('on', 'O'), ('Friday', 'O'), ('named', 'O'), ('the', 'O'), ('BJP', 'ORG_Others'), (\"'s\", 'O'), ('chief', 'O'), ('ministerial', 'O'), ('candidate', 'O'), (',', 'O'), ('added', 'O'), (':', 'O'), ('It', 'O'), ('is', 'O'), ('the', 'O'), ('lapse', 'O'), ('of', 'O'), ('the', 'O'), ('home', 'O'), ('minister.Related', 'O'), ('linksShivraj', 'O'), ('Patil', 'O'), ('reviews', 'O'), ('securityShivraj', 'O'), ('Patil', 'O'), ('condemns', 'O'), ('Delhi', 'LOC_Others'), ('blast', 'LOC_Others'), ('.', 'O')]\n"
     ]
    }
   ],
   "source": [
    "# Create test data\n",
    "test_data = []\n",
    "for f in test_file_list:\n",
    "    test_sentences =[]\n",
    "    word_file_path = os.path.join(doc_dir, f)\n",
    "    tag_file_path = os.path.join(tag_dir, f)\n",
    "    lines_in_word_file = []\n",
    "    lines_in_tag_file = []\n",
    "    with open(word_file_path, \"rt\") as word_file:\n",
    "        for line in word_file:\n",
    "            lines_in_word_file.append(line)\n",
    "    with open(tag_file_path, \"rt\") as tag_file:\n",
    "        for line in tag_file:\n",
    "            lines_in_tag_file.append(line)\n",
    "    if (len(lines_in_word_file) == len(lines_in_tag_file)) and len(lines_in_word_file) > 0:\n",
    "        for i in xrange(len(lines_in_word_file)):\n",
    "            word_in_file = lines_in_word_file[i].split()\n",
    "            tag_in_file = lines_in_tag_file[i].split()\n",
    "            pairs_in_line = []\n",
    "            length = min(len(word_in_file), len(tag_in_file))\n",
    "            #Create the word_tag pair\n",
    "            for j in xrange(length):\n",
    "                pairs_in_line.append((word_in_file[j], tag_in_file[j]));\n",
    "            test_sentences.append(pairs_in_line)\n",
    "    if len(test_sentences) > 0:\n",
    "        test_data.extend(test_sentences)\n",
    "\n",
    "print test_data[0]"
   ]
  },
  {
   "cell_type": "code",
   "execution_count": 54,
   "metadata": {},
   "outputs": [
    {
     "name": "stdout",
     "output_type": "stream",
     "text": [
      "-LCB- mosimage -RCB- Three persons , including an 11-year-old boy , were killed and seventeen injured in a blast that shook Mehrauli area of south Delhi . Injured have been rushed to AIIMStrauma centre , police said.Sources in the police say two people have been detained at the Delhi IGI airport in connection with the blast . Ammonium nitrate and nails were reportedly used to make the bomb , similar to the ones used in the September 13 blasts.The terror attack , within a stone 's throw of Delhi 's landmark Qutub Minar , came exactly a fortnight after a series of bombings left 24 people dead in the national capital . ( AIIMS helpline : 91-11-26588500 , 26589900 , 26588700 ; Safdarjung Hospital helpline : 91-11-2619469 ) Two youths on a motorcycleleft a container in a black polythene bag outside an electronic shop and sped off . It began smoking and soon after there was a huge explosion , said Pritam , an eyewitness . The motorcycle allegedly used by the suspects has been recovered by the police.The blast went off around 2.15 p.m. when crowds were milling around the area , in the popular flower market in Mehrauli . Initial reports indicated that it was a low-intensity blast , police said.Police , the fire brigade and ambulances rushed to the spot and the injured were taken to the All India Institute of Medical Sciences and Safdarjang Hospital.The area was cordoned off and most shopkeepers downed their shutters as panic prevailed.The impact of the blast was quite huge as glass panes of many shops were shattered and blood pooled in front of a few shops.We received a call at around 2.15 p.m. about an explosion in Mehrauli in south Delhi . At that time we had reports of six people being seriously injured , said Ajay Kashyap , joint commissioner ( southern range ) . My brother , Sanjay , was injured in the blast . There was a deafening explosion and people began to run for their lives fearing more blasts , said Bambam Kumar , who helped his brother into an ambulance.Exactly two weeks back , 24 people were killed and over 100 injured in serial blasts in various parts of the Indian capital . The earlier series of five blasts had all taken place in crowded markets and office areas . Official figures from AIIMS : According to an official of the All India Institute of Medical Sciences ( AIIMS ) three people including one child has been killed.Seven of them are reported to be critical , while one was brought dead to the hospital.Out of the 17 people brought to the hospital 11 are men , three women and three children.List of the victims : Following is the list of the injured people admitted to AIIMS after the blast : Sheetal ( 11 ) , Suresh ( 27 ) , Allauddin ( 24 ) , Nehar ( 31 ) , Vinod ( 46 ) , Shyam ( 24 ) , Bhim Singh ( 56 ) , Shakeel ( 24 ) , Vikas ( 10 ) , Gynendra ( 35 ) , Kusum ( 35 ) , Pradip ( 21 ) , Satyajeet Choudhary , Ustad Ansari , Piyush ( 23 ) Rahul ( 24 ) Bikash ( 24 ) Pradeep ( 40 ) Four children were yet to be identified while one person has been admitted in Fortis Hospital . He has been identified as Baldev Raj . Emergency meetingI had discussions with the home minister.We should wait for the investigations , saidExternal Affairs Minister Pranab Mukherjee after coming out of the emergency meeting at his residence in New Delhi . Senior leaders were present at the meeting to review the security situation of the Capital . Compensation announcedDelhi Chief Minister Sheila Dikshit announces Rs 5 lakh as compensation to the family of the boy killed in South Delhi blast and Rs 50,000 each to the injured . REACTIONSOpposition leader L. K. Advani lashed out at the government following the blasts in Mehrauli in Delhi on Saturday . Advani said that the UPA government has failed to combat terror and that is why blasts are rocking the country one after the other.Delhi Police Commissioner YS Dadwal , We are investigating the case . Preliminary investigations suggest that two boys came on a blackmotorcycle and dropped a polythene bag . A child picked up the bag and the blast occurred immediately after that . The toll stands at 1 dead and 18 injured.Mayor of Delhi , Aarti Mehta , has dubbed the blasts in Mehrauli as shameful.Mehta said that security of people is the top most priority at the moment . I have sent Deputy Commissioner of Police to the blast site to ensure security , she said.Government can not run away from its responsibility to provide safety to the people , Mehta said while speaking to a news channel.Aarti Mehta also reiterated the demand for stricter laws to deal with the recent spate of terror attacks in India.The PRO of Delhi Police Rajan Bhagat informed that the youth sitting as pillion was wearing a black and white T-shirt . He requested the general public to stay alert and inform police in case they see any suspicious object.Bharatiya Janata Party 's ( BJP ) leader Vijay Kumar Malhotra on Saturday demanded the resignation of Home Minister Shivraj Patil following a bomb blast in Delhi 's Mehrauli area.He should resign , Malhotra told reporters in New Delhi . If he can not stop these incidents even in the capital , he has no right to hold the post.Malhotra , who was on Friday named the BJP 's chief ministerial candidate , added : It is the lapse of the home minister.Related linksShivraj Patil reviews securityShivraj Patil condemns Delhi blast .\n",
      "('Predicted:', 'O O O O O O O O O O O O O O O O O O O O O LOC_Event O O O LOC_Others O O O O O O O O O O O O O O O O O O O O O O O O O O O O O O O O O O O O O O O O O O O O O O O O O O O O O O O O O O O O O O LOC_Others O O O O O O O O O O O O O O O O O O O O O O O O ORG_Others O O O O O O O O ORG_Others ORG_Others O O O O O O O O O O O O O O O O O O O O O O O O O O O O O O O O O O O O O PER_Others O O O O O O O O O O O O O O O O O O O O O O O O O O O O O O O O O O O O O LOC_Event O O O O O O O O O O O O O O O O O O O O O O O O O O O O O O ORG_Others ORG_Others ORG_Others ORG_Others ORG_Others ORG_Others O O O O O O O O O O O O O O O O O O O O O O O O O O O O O O O O O O O O O O O O O O O O O O O O O O O LOC_Event O O LOC_Others O O O O O O O O O O O O O O O PER_Others PER_Others O O O O O O O O O O O PER_Others O O O O O O O O O O O O O O O O O O O O O O O O O PER_Others PER_Others O O O O O O O O O O O O O O O O O O O O O O O O O O O O O O O O O O O O O O O O O O O O O O O O O O O LOC_Others O O O O O O O ORG_Others ORG_Others ORG_Others ORG_Others ORG_Others ORG_Others O ORG_Others O O O O O O O O O O O O O O O O O O O O O O O O O O O O O O O O O O O O O O O O O O O O O O O O O O O O O O O O ORG_Others O O O O O O O O O O O O O O PER_Victim O O O O O O O O O PER_Accused PER_Accused O O O O O O O O PER_Accused PER_Accused O O O O O O O O O O O O O O PER_Victim O O O O O O O O O O O O O O PER_Accused PER_Accused O PER_Accused PER_Accused O O O O O O O O O PER_Accused O O O O O O O O O O O O O O O O O O O O O ORG_Others ORG_Others O O O O O O PER_Others PER_Others O O O O O O O O O O O O O O O O O O PER_Others PER_Others O O O O O O O O O O O LOC_Others LOC_Others O O O O O O O O O O O O O O O O O O O O O PER_Others PER_Others O O O O O O O O O O O O O O LOC_Others LOC_Others O O O O O O O O O O O PER_Others PER_Others PER_Others O O O O O O O O O LOC_Event O LOC_Others O O O PER_Others O O O ORG_Others ORG_Others O O O O O O O O O O O O O O O O O O O O PER_Others PER_Others O O O O O O O O O O O O O O O O O O O O O O O O O O O O O O O O O O O O O O O O O O O O O O O LOC_Others O PER_Others PER_Others O O O O O O LOC_Event O O O O O O O O O O O O O O O O O O O O O O O O O O O O O O O O O O O O O O O O O O O O O O O PER_Others O O O O O O O O O O O O O O O O O O O O O O O O O O O O ORG_Others ORG_Others ORG_Others ORG_Others O O O O O O O O O O O O O O O O O O O O O O O O O O O O O O O O O O O O O ORG_Others O O PER_Others PER_Others PER_Others O O O O O O O O PER_Others PER_Others O O O O O LOC_Others O LOC_Event O O O O PER_Others O O O LOC_Others LOC_Others O O O O O O O O O O O O O O O O O O O O O O O O O O O O ORG_Others O O O O O O O O O O O O O O O PER_Others PER_Others PER_Others PER_Others PER_Others O O O O')\n",
      "('Correct:  ', 'O O O O O O O O O O O O O O O O O O O O O LOC_Event O O LOC_Others LOC_Others O O O O O O O O O O O O O O O O O O O O O O LOC_Others O O O O O O O O O O O O O O O O O O O O O O O O O O O O O O O O O O O O O O O LOC_Others O O LOC_Others LOC_Others O O O O O O O O O O O O O O O O O O O O ORG_Others O O O O O O O O ORG_Others ORG_Others O O O O O O O O O O O O O O O O O O O O O O O O O O O O O O O O O O O O O PER_Others O O O O O O O O O O O O O O O O O O O O O O O O O O O O O O O O O O O O O O O O O O O O O O O O O O O O O O O O O O O O O O O O O O O O ORG_Others ORG_Others ORG_Others ORG_Others ORG_Others ORG_Others O ORG_Others ORG_Others O O O O O O O O O O O O O O O O O O O O O O O O O O O O O O O O O O O O O O O O O O O O O O O O LOC_Event O LOC_Others LOC_Others O O O O O O O O O O O O O O O PER_Others PER_Others O O O O O O O O O O O PER_Victim O O O O O O O O O O O O O O O O O O O O O O O O O PER_Others PER_Others O O O O O O O O O O O O O O O O O O O O O O O O O O O O O O O O O O O O O O O O O O O O O O O O O O O LOC_Others O O O O O O O ORG_Others ORG_Others ORG_Others ORG_Others ORG_Others ORG_Others O ORG_Others O O O O O O O O O O O O O O O O O O O O O O O O O O O O O O O O O O O O O O O O O O O O O O O O O O O O O O O O ORG_Others O O O O PER_Victim O O O O PER_Victim O O O O PER_Victim O O O O PER_Victim O O O O PER_Victim O O O O PER_Victim O O O O PER_Victim PER_Victim O O O O PER_Victim O O O O PER_Victim O O O O PER_Victim O O O O PER_Victim O O O O PER_Victim O O O O PER_Victim PER_Victim O PER_Victim PER_Victim O PER_Victim O O O PER_Victim O O O PER_Victim O O O PER_Victim O O O O O O O O O O O O O O O O O ORG_Others ORG_Others O O O O O O PER_Victim PER_Victim O O O O O O O O O O O O O O O O O O PER_Others PER_Others O O O O O O O O O O O LOC_Others LOC_Others O O O O O O O O O O O O O O O O O O O O O PER_Others PER_Others O O O O O O O O O O O O O O LOC_Others LOC_Others O O O O O O O O O O O PER_Others PER_Others PER_Others O O O O O O O O O LOC_Event O LOC_Others O O O PER_Others O O O ORG_Others ORG_Others O O O O O O O O O O O O O O O O O O O O PER_Others PER_Others O O O O O O O O O O O O O O O O O O O O O O O O O O O O O O O O O O O O O O O O O O O O O O O LOC_Others O PER_Others PER_Others O O O O O O LOC_Others LOC_Others LOC_Others O O O O O O O O O O O O O O O O O O O O O O O O O O O O O O O O O O O O O O O O O O O O O PER_Others O O O O O O O O O O O O O O O O O O O O O O O O O O O O ORG_Others ORG_Others PER_Others PER_Others O O O O O O O O O O O O O O O O O O O O O O O O O O O O O O O O O O O O O ORG_Others O O PER_Others PER_Others PER_Others O O O O O O O O PER_Others PER_Others O O O O O LOC_Others O O O O O O PER_Others O O O LOC_Others LOC_Others O O O O O O O O O O O O O O O O O O O O O O O O O O O O ORG_Others O O O O O O O O O O O O O O O O O O O O O LOC_Others LOC_Others O')\n"
     ]
    }
   ],
   "source": [
    "example_sent = test_data[0]\n",
    "print(' '.join(sent2words(example_sent)))\n",
    "\n",
    "print(\"Predicted:\", ' '.join(tagger.tag(sent2features(example_sent))))\n",
    "print(\"Correct:  \", ' '.join(sent2tags(example_sent)))"
   ]
  },
  {
   "cell_type": "code",
   "execution_count": 55,
   "metadata": {},
   "outputs": [],
   "source": [
    "def report(y_true, y_pred):\n",
    "    \"\"\"\n",
    "    Classification report for a list of BIO-encoded sequences.\n",
    "    It computes token-level metrics and discards \"O\" labels.\n",
    "    \n",
    "    Note that it requires scikit-learn 0.15+ (or a version from github master)\n",
    "    to calculate averages properly!\n",
    "    \"\"\"\n",
    "    lb = LabelBinarizer()\n",
    "    y_true_combined = lb.fit_transform(list(chain.from_iterable(y_true)))\n",
    "    y_pred_combined = lb.transform(list(chain.from_iterable(y_pred)))\n",
    "        \n",
    "    tagset = set(lb.classes_) - {'O'}\n",
    "    tagset = sorted(tagset, key=lambda tag: tag.split('-', 1)[::-1])\n",
    "    class_indices = {cls: idx for idx, cls in enumerate(lb.classes_)}\n",
    "    \n",
    "    return classification_report(\n",
    "        y_true_combined,\n",
    "        y_pred_combined,\n",
    "        labels = [class_indices[cls] for cls in tagset],\n",
    "        target_names = tagset,\n",
    "    )"
   ]
  },
  {
   "cell_type": "code",
   "execution_count": 56,
   "metadata": {},
   "outputs": [],
   "source": [
    "x_test = [sent2features(s) for s in test_data]\n",
    "y_test = [sent2tags(s) for s in test_data]"
   ]
  },
  {
   "cell_type": "code",
   "execution_count": 57,
   "metadata": {},
   "outputs": [
    {
     "name": "stdout",
     "output_type": "stream",
     "text": [
      "CPU times: user 1.3 s, sys: 0 ns, total: 1.3 s\n",
      "Wall time: 1.31 s\n"
     ]
    }
   ],
   "source": [
    "%%time\n",
    "y_pred = [tagger.tag(xseq) for xseq in x_test]"
   ]
  },
  {
   "cell_type": "code",
   "execution_count": 58,
   "metadata": {},
   "outputs": [
    {
     "name": "stdout",
     "output_type": "stream",
     "text": [
      "             precision    recall  f1-score   support\n",
      "\n",
      "    Accused       0.00      0.00      0.00        57\n",
      "      Event       0.00      0.00      0.00        68\n",
      "LOC_Accused       0.22      0.01      0.02       212\n",
      "  LOC_Assoc       0.00      0.00      0.00        68\n",
      "  LOC_Event       0.51      0.42      0.46      1366\n",
      " LOC_Others       0.55      0.52      0.54      1956\n",
      " LOC_Victim       0.00      0.00      0.00        51\n",
      "   Location       0.20      0.01      0.01       132\n",
      "ORG_Accused       0.74      0.74      0.74       641\n",
      "  ORG_Assoc       0.00      0.00      0.00        10\n",
      " ORG_Others       0.68      0.55      0.61      2335\n",
      " ORG_Victim       0.22      0.02      0.04        98\n",
      "PER_Accused       0.53      0.39      0.45       828\n",
      "  PER_Assoc       0.00      0.00      0.00        53\n",
      " PER_Others       0.76      0.68      0.72      2084\n",
      " PER_Victim       0.35      0.22      0.27       319\n",
      "     Victim       0.00      0.00      0.00         6\n",
      "\n",
      "avg / total       0.59      0.50      0.54     10284\n",
      "\n"
     ]
    }
   ],
   "source": [
    "print(report(y_test, y_pred))"
   ]
  },
  {
   "cell_type": "code",
   "execution_count": 59,
   "metadata": {},
   "outputs": [
    {
     "name": "stdout",
     "output_type": "stream",
     "text": [
      "270\n",
      "270\n"
     ]
    }
   ],
   "source": [
    "num_test_data = len(y_test)\n",
    "print len(y_pred)\n",
    "print num_test_data"
   ]
  },
  {
   "cell_type": "code",
   "execution_count": 60,
   "metadata": {},
   "outputs": [],
   "source": [
    "# Test\n",
    "actual_tag_count = dict()\n",
    "matched_tag_count = dict()\n",
    "matched_tag_count['PER_Others'] = 0\n",
    "actual_tag_count['PER_Others'] = 0\n",
    "matched_tag_count['PER_Victim'] = 0\n",
    "actual_tag_count['PER_Victim'] = 0\n",
    "matched_tag_count['PER_Accused'] = 0\n",
    "actual_tag_count['PER_Accused'] = 0\n",
    "matched_tag_count['ORG_Victim'] = 0\n",
    "actual_tag_count['ORG_Victim'] = 0\n",
    "matched_tag_count['ORG_Accused'] = 0\n",
    "actual_tag_count['ORG_Accused'] = 0\n",
    "matched_tag_count['ORG_Others'] = 0\n",
    "actual_tag_count['ORG_Others'] = 0\n",
    "matched_tag_count['LOC_Accused'] = 0\n",
    "actual_tag_count['LOC_Accused'] = 0\n",
    "matched_tag_count['LOC_Others'] = 0\n",
    "actual_tag_count['LOC_Others'] = 0\n",
    "matched_tag_count['LOC_Event'] = 0\n",
    "actual_tag_count['LOC_Event'] = 0\n",
    "matched_tag_count['LOC_Victim'] = 0\n",
    "actual_tag_count['LOC_Victim'] = 0\n",
    "\n",
    "for i in xrange(num_test_data):\n",
    "    y_test_i = y_test[i]\n",
    "    y_pred_i = y_pred[i]\n",
    "    test_tag_length = len(y_test[i])\n",
    "    predicted_tag_length = len(y_pred[i])\n",
    "    for j in xrange(test_tag_length):\n",
    "        if y_test_i[j] in actual_tag_count.keys():\n",
    "            actual_tag_count[y_test_i[j]] = actual_tag_count[y_test_i[j]] + 1\n",
    "        \n",
    "        if y_test_i[j] == y_pred_i[j]:\n",
    "            if y_test_i[j] in matched_tag_count.keys():\n",
    "                matched_tag_count[y_test_i[j]] = matched_tag_count[y_test_i[j]] + 1"
   ]
  },
  {
   "cell_type": "code",
   "execution_count": 61,
   "metadata": {},
   "outputs": [
    {
     "name": "stdout",
     "output_type": "stream",
     "text": [
      "======= Accuracy Class Wise =====================\n",
      "\n",
      "Class    Matched Total %\n",
      "--------------------------\n",
      "PER_Others: 1419 2084 68%\n",
      "PER_Victim: 71 319 22%\n",
      "PER_Accused: 324 828 39%\n",
      "ORG_Victim: 2 98 2%\n",
      "ORG_Accused: 473 641 73%\n",
      "ORG_Others: 1295 2335 55%\n",
      "LOC_Accused: 2 212 0%\n",
      "LOC_Others: 1023 1956 52%\n",
      "LOC_Event: 571 1366 41%\n",
      "LOC_Victim: 0 51 0%\n"
     ]
    }
   ],
   "source": [
    "print('======= Accuracy Class Wise =====================\\n')\n",
    "\n",
    "print('Class    Matched Total %')\n",
    "print('--------------------------')\n",
    "print ('PER_Others: '+str(matched_tag_count['PER_Others'])+ ' ' + str(actual_tag_count['PER_Others'])+ ' ' + str(matched_tag_count['PER_Others']*100/actual_tag_count['PER_Others'])+'%')\n",
    "print ('PER_Victim: '+str(matched_tag_count['PER_Victim'])+ ' ' + str(actual_tag_count['PER_Victim'])+ ' '+str(matched_tag_count['PER_Victim']*100/actual_tag_count['PER_Victim'])+'%')\n",
    "print ('PER_Accused: '+str(matched_tag_count['PER_Accused'])+ ' ' + str(actual_tag_count['PER_Accused'])+ ' '+str(matched_tag_count['PER_Accused']*100/actual_tag_count['PER_Accused'])+'%')\n",
    "print ('ORG_Victim: '+str(matched_tag_count['ORG_Victim']) + ' '+ str(actual_tag_count['ORG_Victim'])+ ' '+str(matched_tag_count['ORG_Victim']*100/actual_tag_count['ORG_Victim'])+'%')\n",
    "print ('ORG_Accused: '+str(matched_tag_count['ORG_Accused']) + ' '+ str(actual_tag_count['ORG_Accused'])+ ' '+str(matched_tag_count['ORG_Accused']*100/actual_tag_count['ORG_Accused'])+'%')\n",
    "print ('ORG_Others: '+str(matched_tag_count['ORG_Others']) + ' '+ str(actual_tag_count['ORG_Others'])+ ' '+str(matched_tag_count['ORG_Others']*100/actual_tag_count['ORG_Others'])+'%')\n",
    "print ('LOC_Accused: '+str(matched_tag_count['LOC_Accused'])+ ' ' + str(actual_tag_count['LOC_Accused'])+ ' '+str(matched_tag_count['LOC_Accused']*100/actual_tag_count['LOC_Accused'])+'%')\n",
    "print ('LOC_Others: '+str(matched_tag_count['LOC_Others'])+ ' ' + str(actual_tag_count['LOC_Others'])+ ' '+str(matched_tag_count['LOC_Others']*100/actual_tag_count['LOC_Others'])+'%')\n",
    "print ('LOC_Event: '+str(matched_tag_count['LOC_Event']) + ' '+ str(actual_tag_count['LOC_Event'])+ ' '+str(matched_tag_count['LOC_Event']*100/actual_tag_count['LOC_Event'])+'%')\n",
    "print ('LOC_Victim: '+str(matched_tag_count['LOC_Victim']) + ' '+ str(actual_tag_count['LOC_Victim'])+ ' '+str(matched_tag_count['LOC_Victim']*100/actual_tag_count['LOC_Victim'])+'%')"
   ]
  }
 ],
 "metadata": {
  "kernelspec": {
   "display_name": "Python 2",
   "language": "python",
   "name": "python2"
  },
  "language_info": {
   "codemirror_mode": {
    "name": "ipython",
    "version": 2
   },
   "file_extension": ".py",
   "mimetype": "text/x-python",
   "name": "python",
   "nbconvert_exporter": "python",
   "pygments_lexer": "ipython2",
   "version": "2.7.12"
  }
 },
 "nbformat": 4,
 "nbformat_minor": 2
}
