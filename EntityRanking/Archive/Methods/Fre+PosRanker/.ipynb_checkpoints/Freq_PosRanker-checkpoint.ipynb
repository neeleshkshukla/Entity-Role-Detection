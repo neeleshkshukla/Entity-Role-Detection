{
 "cells": [
  {
   "cell_type": "code",
   "execution_count": 4,
   "metadata": {},
   "outputs": [
    {
     "name": "stderr",
     "output_type": "stream",
     "text": [
      "/usr/local/lib/python2.7/dist-packages/nltk/tag/stanford.py:183: DeprecationWarning: \n",
      "The StanfordTokenizer will be deprecated in version 3.2.5.\n",
      "Please use \u001b[91mnltk.tag.corenlp.CoreNLPPOSTagger\u001b[0m or \u001b[91mnltk.tag.corenlp.CoreNLPNERTagger\u001b[0m instead.\n",
      "  super(StanfordNERTagger, self).__init__(*args, **kwargs)\n"
     ]
    },
    {
     "data": {
      "text/plain": [
       "[(u'Rami', u'PERSON'),\n",
       " (u'Eid', u'PERSON'),\n",
       " (u'is', u'O'),\n",
       " (u'studying', u'O'),\n",
       " (u'at', u'O'),\n",
       " (u'Stony', u'ORGANIZATION'),\n",
       " (u'Brook', u'ORGANIZATION'),\n",
       " (u'University', u'ORGANIZATION'),\n",
       " (u'in', u'O'),\n",
       " (u'NY', u'O')]"
      ]
     },
     "execution_count": 4,
     "metadata": {},
     "output_type": "execute_result"
    }
   ],
   "source": [
    "from nltk.tag import StanfordNERTagger\n",
    "from nltk.corpus import stopwords\n",
    "from nltk.tokenize import word_tokenize, sent_tokenize\n",
    "\n",
    "import os\n",
    "\n",
    "stan_ner_classifier = \"../../lib/stanford-ner/classifiers/english.all.3class.distsim.crf.ser.gz\"\n",
    "stan_ner_jar = \"../../lib/stanford-ner/stanford-ner-3.8.0.jar\"\n",
    "tagger = StanfordNERTagger(stan_ner_classifier, stan_ner_jar);"
   ]
  },
  {
   "cell_type": "code",
   "execution_count": 21,
   "metadata": {},
   "outputs": [
    {
     "name": "stdout",
     "output_type": "stream",
     "text": [
      "[(u'Chidambaram', 25), (u'Srivastava', 114), (u'Amal', 126), (u'Das', 127), (u'Kahil', 129), (u'Sheikh', 130), (u'Chidambaram', 152), (u'Manmohan', 229), (u'Singh', 230), (u'Chidmabaram', 250), (u'Tarun', 286), (u'Gogoi', 287)]\n",
      "[(u'Guwahati-Shillong', 82), (u'Bhootnath', 146), (u'Baralumukh', 164), (u'Birubari', 214), (u'Tiniali', 215), (u'Shillong', 236), (u'Lokopriyo', 254), (u'Gopinath', 255), (u'Bordoloi', 256), (u'Assam', 268)]\n",
      "[(u'ULFA', 16), (u'Guwahati', 106), (u'Medical', 107), (u'College', 108), (u'Hospital', 109), (u'Gauhati', 197), (u'Municipal', 198), (u'Corporation', 199), (u'Congress', 242), (u'Unified', 280), (u'Command', 281)]\n",
      "[(u'Mirza', 19), (u'Himayat', 20), (u'Inayat', 21), (u'Baig', 22), (u'Baig', 54), (u'Faiyaz', 69), (u'Kagzi', 70), (u'Zabiuddin', 72), (u'Ansari', 73), (u'Kagzi', 79), (u'Ansari', 81), (u'Baig', 83), (u'Baig', 109), (u'Yusuf', 129), (u'Hasan', 132), (u'Riyaz', 150), (u'Bhatkal', 151), (u'Iqbal', 153), (u'Bhatkal', 154), (u'Yasin', 160), (u'Bhatkal', 161), (u'Mohsin', 163), (u'Chowdhary', 164), (u'Baig', 166), (u'Baig', 198), (u'Yasin', 219), (u'Chowdhary', 221), (u'Baig', 239), (u'Yasin', 265), (u'Chowdhary', 267), (u'Yasin', 317), (u'Baig', 349), (u'Baig', 370), (u'Baig', 390), (u'Rehman', 395), (u'Baig', 432), (u'Khayum', 441), (u'Ayub', 442), (u'Shaikh', 443), (u'Immadoddin', 445), (u'Ahmed', 446), (u'Shaikh', 447), (u'Khurshid', 467), (u'Alam', 468), (u'Baig', 473), (u'Khayum', 483), (u'Ayub', 484), (u'Shaikh', 485), (u'Baig', 500), (u'A.', 503), (u'Rehman', 504), (u'Baig', 512)]\n",
      "[(u'Colombo', 40), (u'Pakistan', 100), (u'Pakistan', 107), (u'India', 112), (u'Udgir', 118), (u'Maharashtra', 121), (u'Latur', 123), (u'Udgir', 168), (u'German', 185), (u'Bakery', 186), (u'Udgir', 224), (u'Mumbai', 241), (u'Udgir', 278), (u'Latur', 290), (u'Udgir', 299), (u'Latur', 301), (u'Udgir', 404), (u'Latur', 464)]\n",
      "[(u'Maharashtra', 1), (u'Anti-Terrorism', 2), (u'Squad', 3), (u'Nokia', 248), (u'Global', 274), (u'Internet', 275), (u'Caf', 276), (u'Students', 356), (u'Islamic', 357), (u'Movement', 358), (u'of', 359), (u'India', 360)]\n",
      "[(u'Atiq', 0), (u'Khan', 1), (u'Sudhakar', 22), (u'Dwivedi', 23), (u'Mukesh', 49), (u'Kumar', 50), (u'Dayanand', 69), (u'Pandey', 70), (u'Sudhakar', 88), (u'Dwivedi', 89), (u'Dayanand', 93), (u'Dwivedi', 94), (u'Sharda', 108), (u'Sarvagya', 109), (u'Peeth', 110), (u'Dwivedi', 116), (u'Pushkar', 131), (u'Dwivedi', 132), (u'Dwivedi', 155), (u'Sadhvi', 231), (u'Pragnya', 232), (u'Singh', 233)]\n",
      "[(u'LUCKNOW', 4), (u'Mumbai', 13), (u'Malegaon', 32), (u'Lucknow', 58), (u'Jammu', 112), (u'Mumbai', 122), (u'Rawatpur', 135), (u'Kanpur', 138), (u'Mumbai', 148), (u'Lucknow', 159), (u'Central', 196), (u'Uttar', 197), (u'Pradesh', 198), (u'Malegaon', 213)]\n",
      "[(u'Anti-Terrorism', 7), (u'Squad', 8), (u'Junior', 55), (u'Division', 56)]\n",
      "[(u'Qutub', 91), (u'Minar', 92), (u'Pritam', 161), (u'Ajay', 306), (u'Kashyap', 307), (u'Sanjay', 319), (u'Bambam', 345), (u'Kumar', 346), (u'Suresh', 480), (u'Allauddin', 485), (u'Vinod', 495), (u'Shyam', 500), (u'Bhim', 505), (u'Singh', 506), (u'Shakeel', 511), (u'Vikas', 516), (u'Gynendra', 521), (u'Pradip', 531), (u'Satyajeet', 536), (u'Choudhary', 537), (u'Ustad', 539), (u'Ansari', 540), (u'Piyush', 542), (u'Baldev', 580), (u'Raj', 581), (u'Pranab', 600), (u'Mukherjee', 601), (u'Sheila', 636), (u'Dikshit', 637), (u'L.', 665), (u'K.', 666), (u'Advani', 667), (u'Advani', 683), (u'Aarti', 760), (u'Mehta', 761), (u'Mehta', 816), (u'Mehta', 824), (u'Rajan', 847), (u'Bhagat', 848), (u'Vijay', 889), (u'Kumar', 890), (u'Malhotra', 891), (u'Shivraj', 900), (u'Patil', 901), (u'Malhotra', 914), (u'Patil', 965), (u'Patil', 968)]\n",
      "[(u'Mehrauli', 21), (u'Delhi', 25), (u'Delhi', 48), (u'Delhi', 88), (u'Safdarjung', 122), (u'Hospital', 123), (u'Mehrauli', 199), (u'Mehrauli', 287), (u'south', 289), (u'Delhi', 290), (u'Fortis', 572), (u'Hospital', 573), (u'New', 613), (u'Delhi', 614), (u'South', 652), (u'Delhi', 653), (u'Mehrauli', 677), (u'Delhi', 679), (u'Delhi', 758), (u'Mehrauli', 768), (u'Delhi', 845), (u'Delhi', 907), (u'New', 918), (u'Delhi', 919), (u'Delhi', 970)]\n",
      "[(u'AIIMS', 113), (u'All', 230), (u'India', 231), (u'Institute', 232), (u'of', 233), (u'Medical', 234), (u'Sciences', 235), (u'All', 406), (u'India', 407), (u'Institute', 408), (u'of', 409), (u'Medical', 410), (u'Sciences', 411), (u'AIIMS', 470), (u'UPA', 687), (u'Janata', 882), (u'Party', 883), (u'BJP', 886), (u'BJP', 948)]\n",
      "[(u'Francois', 41), (u'Hollande', 42), (u'Hollande', 86), (u'Hollande', 212)]\n",
      "[(u'New', 0), (u'Delhi', 1), (u'France', 3), (u'Hyderabad', 16), (u'India', 19), (u'Paris', 23), (u'India', 48), (u'Hyderabad', 64), (u'France', 84), (u'France', 111), (u'Hyderabad', 132), (u'Bangalore', 166), (u'India', 182), (u'India', 209), (u'France', 237), (u'India', 245)]\n",
      "[(u'Ministry', 154), (u'of', 155), (u'Foreign', 156), (u'Affairs', 157)]\n"
     ]
    },
    {
     "ename": "KeyboardInterrupt",
     "evalue": "",
     "output_type": "error",
     "traceback": [
      "\u001b[0;31m---------------------------------------------------------------------------\u001b[0m",
      "\u001b[0;31mKeyboardInterrupt\u001b[0m                         Traceback (most recent call last)",
      "\u001b[0;32m<ipython-input-21-53509c4f1679>\u001b[0m in \u001b[0;36m<module>\u001b[0;34m()\u001b[0m\n\u001b[1;32m     15\u001b[0m     \u001b[0;32mwith\u001b[0m \u001b[0mopen\u001b[0m\u001b[0;34m(\u001b[0m\u001b[0mword_file_path\u001b[0m\u001b[0;34m,\u001b[0m \u001b[0;34m\"rt\"\u001b[0m\u001b[0;34m)\u001b[0m \u001b[0;32mas\u001b[0m \u001b[0mword_file\u001b[0m\u001b[0;34m:\u001b[0m\u001b[0;34m\u001b[0m\u001b[0m\n\u001b[1;32m     16\u001b[0m         \u001b[0;32mfor\u001b[0m \u001b[0mline\u001b[0m \u001b[0;32min\u001b[0m \u001b[0mword_file\u001b[0m\u001b[0;34m:\u001b[0m\u001b[0;34m\u001b[0m\u001b[0m\n\u001b[0;32m---> 17\u001b[0;31m             \u001b[0mtags\u001b[0m \u001b[0;34m=\u001b[0m \u001b[0mtagger\u001b[0m\u001b[0;34m.\u001b[0m\u001b[0mtag\u001b[0m\u001b[0;34m(\u001b[0m\u001b[0mline\u001b[0m\u001b[0;34m.\u001b[0m\u001b[0msplit\u001b[0m\u001b[0;34m(\u001b[0m\u001b[0;34m)\u001b[0m\u001b[0;34m)\u001b[0m\u001b[0;34m\u001b[0m\u001b[0m\n\u001b[0m\u001b[1;32m     18\u001b[0m             \u001b[0;31m#print tags\u001b[0m\u001b[0;34m\u001b[0m\u001b[0;34m\u001b[0m\u001b[0m\n\u001b[1;32m     19\u001b[0m             \u001b[0mall_word_count\u001b[0m \u001b[0;34m=\u001b[0m \u001b[0mlen\u001b[0m\u001b[0;34m(\u001b[0m\u001b[0mtags\u001b[0m\u001b[0;34m)\u001b[0m\u001b[0;34m\u001b[0m\u001b[0m\n",
      "\u001b[0;32m/usr/local/lib/python2.7/dist-packages/nltk/tag/stanford.pyc\u001b[0m in \u001b[0;36mtag\u001b[0;34m(self, tokens)\u001b[0m\n\u001b[1;32m     82\u001b[0m     \u001b[0;32mdef\u001b[0m \u001b[0mtag\u001b[0m\u001b[0;34m(\u001b[0m\u001b[0mself\u001b[0m\u001b[0;34m,\u001b[0m \u001b[0mtokens\u001b[0m\u001b[0;34m)\u001b[0m\u001b[0;34m:\u001b[0m\u001b[0;34m\u001b[0m\u001b[0m\n\u001b[1;32m     83\u001b[0m         \u001b[0;31m# This function should return list of tuple rather than list of list\u001b[0m\u001b[0;34m\u001b[0m\u001b[0;34m\u001b[0m\u001b[0m\n\u001b[0;32m---> 84\u001b[0;31m         \u001b[0;32mreturn\u001b[0m \u001b[0msum\u001b[0m\u001b[0;34m(\u001b[0m\u001b[0mself\u001b[0m\u001b[0;34m.\u001b[0m\u001b[0mtag_sents\u001b[0m\u001b[0;34m(\u001b[0m\u001b[0;34m[\u001b[0m\u001b[0mtokens\u001b[0m\u001b[0;34m]\u001b[0m\u001b[0;34m)\u001b[0m\u001b[0;34m,\u001b[0m \u001b[0;34m[\u001b[0m\u001b[0;34m]\u001b[0m\u001b[0;34m)\u001b[0m\u001b[0;34m\u001b[0m\u001b[0m\n\u001b[0m\u001b[1;32m     85\u001b[0m \u001b[0;34m\u001b[0m\u001b[0m\n\u001b[1;32m     86\u001b[0m     \u001b[0;32mdef\u001b[0m \u001b[0mtag_sents\u001b[0m\u001b[0;34m(\u001b[0m\u001b[0mself\u001b[0m\u001b[0;34m,\u001b[0m \u001b[0msentences\u001b[0m\u001b[0;34m)\u001b[0m\u001b[0;34m:\u001b[0m\u001b[0;34m\u001b[0m\u001b[0m\n",
      "\u001b[0;32m/usr/local/lib/python2.7/dist-packages/nltk/tag/stanford.pyc\u001b[0m in \u001b[0;36mtag_sents\u001b[0;34m(self, sentences)\u001b[0m\n\u001b[1;32m    105\u001b[0m         \u001b[0;31m# Run the tagger and get the output\u001b[0m\u001b[0;34m\u001b[0m\u001b[0;34m\u001b[0m\u001b[0m\n\u001b[1;32m    106\u001b[0m         stanpos_output, _stderr = java(cmd, classpath=self._stanford_jar,\n\u001b[0;32m--> 107\u001b[0;31m                                        stdout=PIPE, stderr=PIPE)\n\u001b[0m\u001b[1;32m    108\u001b[0m         \u001b[0mstanpos_output\u001b[0m \u001b[0;34m=\u001b[0m \u001b[0mstanpos_output\u001b[0m\u001b[0;34m.\u001b[0m\u001b[0mdecode\u001b[0m\u001b[0;34m(\u001b[0m\u001b[0mencoding\u001b[0m\u001b[0;34m)\u001b[0m\u001b[0;34m\u001b[0m\u001b[0m\n\u001b[1;32m    109\u001b[0m \u001b[0;34m\u001b[0m\u001b[0m\n",
      "\u001b[0;32m/usr/local/lib/python2.7/dist-packages/nltk/__init__.pyc\u001b[0m in \u001b[0;36mjava\u001b[0;34m(cmd, classpath, stdin, stdout, stderr, blocking)\u001b[0m\n\u001b[1;32m    129\u001b[0m     \u001b[0mp\u001b[0m \u001b[0;34m=\u001b[0m \u001b[0msubprocess\u001b[0m\u001b[0;34m.\u001b[0m\u001b[0mPopen\u001b[0m\u001b[0;34m(\u001b[0m\u001b[0mcmd\u001b[0m\u001b[0;34m,\u001b[0m \u001b[0mstdin\u001b[0m\u001b[0;34m=\u001b[0m\u001b[0mstdin\u001b[0m\u001b[0;34m,\u001b[0m \u001b[0mstdout\u001b[0m\u001b[0;34m=\u001b[0m\u001b[0mstdout\u001b[0m\u001b[0;34m,\u001b[0m \u001b[0mstderr\u001b[0m\u001b[0;34m=\u001b[0m\u001b[0mstderr\u001b[0m\u001b[0;34m)\u001b[0m\u001b[0;34m\u001b[0m\u001b[0m\n\u001b[1;32m    130\u001b[0m     \u001b[0;32mif\u001b[0m \u001b[0;32mnot\u001b[0m \u001b[0mblocking\u001b[0m\u001b[0;34m:\u001b[0m \u001b[0;32mreturn\u001b[0m \u001b[0mp\u001b[0m\u001b[0;34m\u001b[0m\u001b[0m\n\u001b[0;32m--> 131\u001b[0;31m     \u001b[0;34m(\u001b[0m\u001b[0mstdout\u001b[0m\u001b[0;34m,\u001b[0m \u001b[0mstderr\u001b[0m\u001b[0;34m)\u001b[0m \u001b[0;34m=\u001b[0m \u001b[0mp\u001b[0m\u001b[0;34m.\u001b[0m\u001b[0mcommunicate\u001b[0m\u001b[0;34m(\u001b[0m\u001b[0;34m)\u001b[0m\u001b[0;34m\u001b[0m\u001b[0m\n\u001b[0m\u001b[1;32m    132\u001b[0m \u001b[0;34m\u001b[0m\u001b[0m\n\u001b[1;32m    133\u001b[0m     \u001b[0;31m# Check the return code.\u001b[0m\u001b[0;34m\u001b[0m\u001b[0;34m\u001b[0m\u001b[0m\n",
      "\u001b[0;32m/usr/lib/python2.7/subprocess.pyc\u001b[0m in \u001b[0;36mcommunicate\u001b[0;34m(self, input)\u001b[0m\n\u001b[1;32m    798\u001b[0m             \u001b[0;32mreturn\u001b[0m \u001b[0;34m(\u001b[0m\u001b[0mstdout\u001b[0m\u001b[0;34m,\u001b[0m \u001b[0mstderr\u001b[0m\u001b[0;34m)\u001b[0m\u001b[0;34m\u001b[0m\u001b[0m\n\u001b[1;32m    799\u001b[0m \u001b[0;34m\u001b[0m\u001b[0m\n\u001b[0;32m--> 800\u001b[0;31m         \u001b[0;32mreturn\u001b[0m \u001b[0mself\u001b[0m\u001b[0;34m.\u001b[0m\u001b[0m_communicate\u001b[0m\u001b[0;34m(\u001b[0m\u001b[0minput\u001b[0m\u001b[0;34m)\u001b[0m\u001b[0;34m\u001b[0m\u001b[0m\n\u001b[0m\u001b[1;32m    801\u001b[0m \u001b[0;34m\u001b[0m\u001b[0m\n\u001b[1;32m    802\u001b[0m \u001b[0;34m\u001b[0m\u001b[0m\n",
      "\u001b[0;32m/usr/lib/python2.7/subprocess.pyc\u001b[0m in \u001b[0;36m_communicate\u001b[0;34m(self, input)\u001b[0m\n\u001b[1;32m   1415\u001b[0m \u001b[0;34m\u001b[0m\u001b[0m\n\u001b[1;32m   1416\u001b[0m             \u001b[0;32mif\u001b[0m \u001b[0m_has_poll\u001b[0m\u001b[0;34m:\u001b[0m\u001b[0;34m\u001b[0m\u001b[0m\n\u001b[0;32m-> 1417\u001b[0;31m                 \u001b[0mstdout\u001b[0m\u001b[0;34m,\u001b[0m \u001b[0mstderr\u001b[0m \u001b[0;34m=\u001b[0m \u001b[0mself\u001b[0m\u001b[0;34m.\u001b[0m\u001b[0m_communicate_with_poll\u001b[0m\u001b[0;34m(\u001b[0m\u001b[0minput\u001b[0m\u001b[0;34m)\u001b[0m\u001b[0;34m\u001b[0m\u001b[0m\n\u001b[0m\u001b[1;32m   1418\u001b[0m             \u001b[0;32melse\u001b[0m\u001b[0;34m:\u001b[0m\u001b[0;34m\u001b[0m\u001b[0m\n\u001b[1;32m   1419\u001b[0m                 \u001b[0mstdout\u001b[0m\u001b[0;34m,\u001b[0m \u001b[0mstderr\u001b[0m \u001b[0;34m=\u001b[0m \u001b[0mself\u001b[0m\u001b[0;34m.\u001b[0m\u001b[0m_communicate_with_select\u001b[0m\u001b[0;34m(\u001b[0m\u001b[0minput\u001b[0m\u001b[0;34m)\u001b[0m\u001b[0;34m\u001b[0m\u001b[0m\n",
      "\u001b[0;32m/usr/lib/python2.7/subprocess.pyc\u001b[0m in \u001b[0;36m_communicate_with_poll\u001b[0;34m(self, input)\u001b[0m\n\u001b[1;32m   1469\u001b[0m             \u001b[0;32mwhile\u001b[0m \u001b[0mfd2file\u001b[0m\u001b[0;34m:\u001b[0m\u001b[0;34m\u001b[0m\u001b[0m\n\u001b[1;32m   1470\u001b[0m                 \u001b[0;32mtry\u001b[0m\u001b[0;34m:\u001b[0m\u001b[0;34m\u001b[0m\u001b[0m\n\u001b[0;32m-> 1471\u001b[0;31m                     \u001b[0mready\u001b[0m \u001b[0;34m=\u001b[0m \u001b[0mpoller\u001b[0m\u001b[0;34m.\u001b[0m\u001b[0mpoll\u001b[0m\u001b[0;34m(\u001b[0m\u001b[0;34m)\u001b[0m\u001b[0;34m\u001b[0m\u001b[0m\n\u001b[0m\u001b[1;32m   1472\u001b[0m                 \u001b[0;32mexcept\u001b[0m \u001b[0mselect\u001b[0m\u001b[0;34m.\u001b[0m\u001b[0merror\u001b[0m\u001b[0;34m,\u001b[0m \u001b[0me\u001b[0m\u001b[0;34m:\u001b[0m\u001b[0;34m\u001b[0m\u001b[0m\n\u001b[1;32m   1473\u001b[0m                     \u001b[0;32mif\u001b[0m \u001b[0me\u001b[0m\u001b[0;34m.\u001b[0m\u001b[0margs\u001b[0m\u001b[0;34m[\u001b[0m\u001b[0;36m0\u001b[0m\u001b[0;34m]\u001b[0m \u001b[0;34m==\u001b[0m \u001b[0merrno\u001b[0m\u001b[0;34m.\u001b[0m\u001b[0mEINTR\u001b[0m\u001b[0;34m:\u001b[0m\u001b[0;34m\u001b[0m\u001b[0m\n",
      "\u001b[0;31mKeyboardInterrupt\u001b[0m: "
     ]
    }
   ],
   "source": [
    "doc_dir = 'DataSet/content'\n",
    "P_TAG = \"PERSON\"\n",
    "O_TAG = \"ORGANIZATION\"\n",
    "L_TAG = \"LOCATION\"\n",
    "\n",
    "persons_data = []\n",
    "locations_data =[]\n",
    "organizations_data =[] \n",
    "\n",
    "for f in os.listdir(doc_dir):\n",
    "    print 'processing file '+f\n",
    "    word_file_path = os.path.join(doc_dir, f)\n",
    "    persons =[]\n",
    "    locations = []\n",
    "    organizations = []\n",
    "    with open(word_file_path, \"rt\") as word_file:\n",
    "        for line in word_file:\n",
    "            tags = tagger.tag(line.split())\n",
    "            #print tags\n",
    "            all_word_count = len(tags)\n",
    "            for i in xrange(all_word_count):\n",
    "                if tags[i][1] == P_TAG:\n",
    "                    persons.append((tags[i][0], i))\n",
    "                elif tags[i][1] == L_TAG:\n",
    "                    locations.append((tags[i][0], i))\n",
    "                elif tags[i][1] == O_TAG:\n",
    "                    organizations.append((tags[i][0], i))\n",
    "    persons_data.append(persons)\n",
    "    locations_data.append(locations)\n",
    "    organizations_data.append(organizations)\n",
    "        "
   ]
  }
 ],
 "metadata": {
  "kernelspec": {
   "display_name": "Python 2",
   "language": "python",
   "name": "python2"
  },
  "language_info": {
   "codemirror_mode": {
    "name": "ipython",
    "version": 2
   },
   "file_extension": ".py",
   "mimetype": "text/x-python",
   "name": "python",
   "nbconvert_exporter": "python",
   "pygments_lexer": "ipython2",
   "version": "2.7.12"
  }
 },
 "nbformat": 4,
 "nbformat_minor": 2
}
