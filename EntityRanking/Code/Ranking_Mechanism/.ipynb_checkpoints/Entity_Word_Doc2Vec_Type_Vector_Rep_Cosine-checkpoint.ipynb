{
 "cells": [
  {
   "cell_type": "markdown",
   "metadata": {},
   "source": [
    "#### This code Tests following configuration:\n",
    "\n",
    "Entity Representation: Doc2vec of Context words + Words in Entity\n",
    "\n",
    "Type Representation: Type representation learned on training corpus\n",
    "\n",
    "Ranking Score: Cosine distance\n",
    "\n",
    "Word Representation: Trained word vectors on corpus initialized with pretrained glove vector embeddings"
   ]
  },
  {
   "cell_type": "code",
   "execution_count": 12,
   "metadata": {},
   "outputs": [],
   "source": [
    "import os, pickle\n",
    "from operator import itemgetter\n",
    "import numpy as np"
   ]
  },
  {
   "cell_type": "code",
   "execution_count": 13,
   "metadata": {},
   "outputs": [],
   "source": [
    "entity_ranking_op_folder = '../../Data/output'\n",
    "type_rep_folder = 'TypeRep/type_word/train'\n",
    "entity_rep_test_folder = 'EntityRep/test'\n",
    "entity_rep_file_name = 'doc_role_entity_context_word_doc2vec_dict.p' \n",
    "entity_rep_doc_level_file_name = 'doc_role_entity_doc_level_context_word_doc2vec_dict.p' \n",
    "type_rep_file_name = 'tag_vec_dict.p'\n",
    "\n",
    "doc_level = False\n",
    "sent_level = True\n",
    "\n",
    "entity_rep_file = os.path.join(entity_ranking_op_folder, entity_rep_test_folder, entity_rep_file_name)\n",
    "entity_rep_doc_level_file = os.path.join(entity_ranking_op_folder, entity_rep_test_folder, entity_rep_doc_level_file_name)\n",
    "type_rep_file = os.path.join(entity_ranking_op_folder, type_rep_folder, type_rep_file_name)"
   ]
  },
  {
   "cell_type": "code",
   "execution_count": 14,
   "metadata": {},
   "outputs": [],
   "source": [
    "tag_list = ['LOC_Event', 'LOC_Accused', 'LOC_Victim', 'LOC_Others', 'ORG_Accused', 'ORG_Victim', 'ORG_Others', 'PER_Victim', 'PER_Others', 'PER_Accused']\n",
    "per_tag_list = ['PER_Victim', 'PER_Others', 'PER_Accused']\n",
    "loc_tag_list = ['LOC_Event', 'LOC_Accused', 'LOC_Victim', 'LOC_Others']\n",
    "org_tag_list = ['ORG_Accused', 'ORG_Victim', 'ORG_Others']"
   ]
  },
  {
   "cell_type": "code",
   "execution_count": 15,
   "metadata": {},
   "outputs": [],
   "source": [
    "if sent_level:\n",
    "    entity_rep_doc_role_context_dict = pickle.load(open(entity_rep_file, 'rb'))\n",
    "\n",
    "if doc_level:\n",
    "    entity_rep_doc_role_context_dict = pickle.load(open(entity_rep_doc_level_file, 'rb'))\n",
    "    \n",
    "type_rep_dict = pickle.load(open(type_rep_file, 'rb'))"
   ]
  },
  {
   "cell_type": "code",
   "execution_count": 16,
   "metadata": {},
   "outputs": [],
   "source": [
    "def cosine_distance(a, b):\n",
    "    dot_product = np.dot(a, b)\n",
    "    norm_a = np.linalg.norm(a)\n",
    "    norm_b = np.linalg.norm(b)\n",
    "    cosine_sim = dot_product / (norm_a * norm_b)\n",
    "    return 1-cosine_sim"
   ]
  },
  {
   "cell_type": "code",
   "execution_count": 22,
   "metadata": {
    "scrolled": true
   },
   "outputs": [
    {
     "name": "stdout",
     "output_type": "stream",
     "text": [
      "LOC_Event 69.66572504708097 %\n",
      "LOC_Accused 35.83333333333333 %\n",
      "ORG_Accused 60.57180851063832 %\n",
      "ORG_Victim 57.25 %\n",
      "PER_Victim 61.24643874643873 %\n",
      "PER_Accused 66.19281045751634 %\n",
      "MAP not including others 58.46001934916794 %\n"
     ]
    }
   ],
   "source": [
    "precision1 = dict()\n",
    "doc_count_for_tag = dict()\n",
    "AveP = dict()\n",
    "\n",
    "for tag in tag_list:\n",
    "    doc_count_for_tag[tag] = 0\n",
    "    precision1[tag] = 0\n",
    "    AveP[tag] = 0\n",
    "    \n",
    "\n",
    "# Precision at K\n",
    "K = 5\n",
    "count = 0\n",
    "for doc_id in entity_rep_doc_role_context_dict:\n",
    "    #print(doc_id)\n",
    "    num_actual_entities_with_role = dict()\n",
    "    if count > 0:\n",
    "        break\n",
    "    per_entities = list()\n",
    "    loc_entities = list()\n",
    "    org_entities = list()\n",
    "    doc_role_dict = entity_rep_doc_role_context_dict[doc_id]\n",
    "    for role in doc_role_dict.keys():\n",
    "        entities = doc_role_dict[role]\n",
    "        num_actual_entities_with_role[role] = len(entities)\n",
    "        if role in per_tag_list:\n",
    "            for entity in entities:\n",
    "                per_entities.append((entity, role))\n",
    "        if role in org_tag_list:\n",
    "            for entity in entities:\n",
    "                org_entities.append((entity, role))\n",
    "        if role in loc_tag_list:\n",
    "            for entity in entities:\n",
    "                loc_entities.append((entity, role))\n",
    "    \n",
    "    num_per_entity = len(per_entities)\n",
    "    num_org_entity = len(org_entities)\n",
    "    num_loc_entity = len(loc_entities)\n",
    "    \n",
    "    for role in per_tag_list:\n",
    "        role_vector = type_rep_dict[role]\n",
    "        retrivedResult = list()\n",
    "        if num_actual_entities_with_role[role] != 0:\n",
    "            TP = 0\n",
    "            avp = 0\n",
    "            doc_count_for_tag[role] = doc_count_for_tag[role] + 1\n",
    "            for entity in per_entities:\n",
    "                sim = 2\n",
    "                sim = cosine_distance(entity[0][1], role_vector)\n",
    "                retrivedResult.append((entity, sim))\n",
    "            retrivedResult = sorted(retrivedResult,key=itemgetter(1))\n",
    "            for i in range(min(K, num_per_entity)):\n",
    "                if retrivedResult[i][0][1] == role:\n",
    "                    TP = TP + 1\n",
    "                    avp = avp + (float(TP)/(i+1))\n",
    "            #if TP ==  num_actual_entities_with_role[role]:\n",
    "             #   precision1[role] = precision1[role] + 1\n",
    "            #else:\n",
    "            precision1[role] = precision1[role] + float(TP)/min(K, num_per_entity)\n",
    "            if TP != 0:\n",
    "                AveP[role] = AveP[role] + float(avp)/TP\n",
    "                \n",
    "    for role in loc_tag_list:\n",
    "        role_vector = type_rep_dict[role]\n",
    "        retrivedResult = list()\n",
    "        if num_actual_entities_with_role[role] != 0:\n",
    "            TP = 0\n",
    "            avp = 0\n",
    "            doc_count_for_tag[role] = doc_count_for_tag[role] + 1\n",
    "            for entity in loc_entities:\n",
    "                sim = 2\n",
    "                sim = cosine_distance(entity[0][1], role_vector)\n",
    "                retrivedResult.append((entity, sim))\n",
    "            retrivedResult = sorted(retrivedResult,key=itemgetter(1))\n",
    "            for i in range(min(K, num_loc_entity)):\n",
    "                if retrivedResult[i][0][1] == role:\n",
    "                    TP = TP + 1\n",
    "                    avp = avp + (float(TP)/(i+1))\n",
    "            #if TP ==  num_actual_entities_with_role[role]:\n",
    "             #   precision1[role] = precision1[role] + 1\n",
    "            #else:\n",
    "            precision1[role] = precision1[role] + float(TP)/min(K, num_loc_entity)\n",
    "            if TP != 0:\n",
    "                AveP[role] = AveP[role] + float(avp)/TP\n",
    "                \n",
    "    for role in org_tag_list:\n",
    "        role_vector = type_rep_dict[role]\n",
    "        retrivedResult = list()\n",
    "        if num_actual_entities_with_role[role] != 0:\n",
    "            TP = 0\n",
    "            avp = 0\n",
    "            doc_count_for_tag[role] = doc_count_for_tag[role] + 1\n",
    "            for entity in org_entities:\n",
    "                sim = 2\n",
    "                sim = cosine_distance(entity[0][1], role_vector)\n",
    "                retrivedResult.append((entity, sim))\n",
    "            retrivedResult = sorted(retrivedResult,key=itemgetter(1))\n",
    "            for i in range(min(K, num_org_entity)):\n",
    "                if retrivedResult[i][0][1] == role:\n",
    "                    TP = TP + 1\n",
    "                    avp = avp + (float(TP)/(i+1))\n",
    "            #if TP ==  num_actual_entities_with_role[role]:\n",
    "             #   precision1[role] = precision1[role] + 1\n",
    "            #else:\n",
    "            precision1[role] = precision1[role] + float(TP)/min(K, num_org_entity)\n",
    "            if TP != 0:\n",
    "                AveP[role] = AveP[role] + float(avp)/TP\n",
    "                \n",
    "avg_pre = 0\n",
    "mean_avg_pre = 0\n",
    "for tag in tag_list:\n",
    "    if tag[4:] != 'Others' and tag!= 'LOC_Victim':\n",
    "        if doc_count_for_tag[tag] > 0:\n",
    "            avg_pre = avg_pre + float(precision1[tag] * 100)/doc_count_for_tag[tag]\n",
    "            mean_avg_pre = mean_avg_pre + float(AveP[tag] * 100)/doc_count_for_tag[tag]\n",
    "            #print(tag, float(precision1[tag] * 100)/doc_count_for_tag[tag], '%')\n",
    "            print(tag, float(AveP[tag] * 100)/doc_count_for_tag[tag], '%')\n",
    "#print('Average', avg_pre/10, '%')\n",
    "print('MAP not including others', mean_avg_pre/6, '%')"
   ]
  },
  {
   "cell_type": "code",
   "execution_count": 18,
   "metadata": {},
   "outputs": [
    {
     "data": {
      "text/plain": [
       "[('abc', 2.31), ('abc', 2.21), ('abc', 1.48), ('abc', 1.21)]"
      ]
     },
     "execution_count": 18,
     "metadata": {},
     "output_type": "execute_result"
    }
   ],
   "source": [
    "from operator import itemgetter\n",
    "data = [('abc', 1.21),('abc', 2.31),('abc', 1.48), ('abc',2.21)]\n",
    "data = sorted(data,key=itemgetter(1), reverse=True)\n",
    "data[0:4]"
   ]
  }
 ],
 "metadata": {
  "kernelspec": {
   "display_name": "Python 3",
   "language": "python",
   "name": "python3"
  },
  "language_info": {
   "codemirror_mode": {
    "name": "ipython",
    "version": 3
   },
   "file_extension": ".py",
   "mimetype": "text/x-python",
   "name": "python",
   "nbconvert_exporter": "python",
   "pygments_lexer": "ipython3",
   "version": "3.5.2"
  }
 },
 "nbformat": 4,
 "nbformat_minor": 2
}
