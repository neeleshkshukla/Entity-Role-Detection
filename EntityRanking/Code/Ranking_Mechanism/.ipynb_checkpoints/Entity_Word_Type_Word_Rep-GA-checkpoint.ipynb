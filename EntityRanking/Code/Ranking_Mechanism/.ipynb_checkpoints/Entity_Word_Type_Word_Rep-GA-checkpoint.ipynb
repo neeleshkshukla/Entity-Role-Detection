{
 "cells": [
  {
   "cell_type": "code",
   "execution_count": 2,
   "metadata": {},
   "outputs": [],
   "source": [
    "import os, logging, pickle\n",
    "from operator import itemgetter\n",
    "import numpy as np\n",
    "from gensim.models import Word2Vec, Phrases, phrases, KeyedVectors\n",
    "\n",
    "logging.basicConfig(format='%(asctime)s : %(levelname)s : %(message)s', level=logging.INFO)"
   ]
  },
  {
   "cell_type": "code",
   "execution_count": 3,
   "metadata": {},
   "outputs": [],
   "source": [
    "entity_ranking_op_folder = '../../../Data/output/Entity_Ranking'\n",
    "type_rep_folder = 'TypeRep/type_word'\n",
    "type_words_folder = 'Type_Words'\n",
    "entity_rep_folder = 'EntityRep'\n",
    "entity_context_word_file = 'doc_entity_context_word.p'\n",
    "type_word_file_name = 'tag_word.p'\n",
    "\n",
    "word_emnbedding_pretrained_trained_on_corpus = '../../../word_embeddings/trained_word_embeddings/word2vec/word_pretrain_trained_on_corpus/w2v_pretain_corpus_trained_gensim_300.txt'\n",
    "\n",
    "entity_context_word_file = os.path.join(entity_ranking_op_folder, entity_rep_folder, entity_context_word_file)\n",
    "type_word_file = os.path.join(entity_ranking_op_folder, type_rep_folder, type_words_folder, type_word_file_name)"
   ]
  },
  {
   "cell_type": "code",
   "execution_count": 4,
   "metadata": {},
   "outputs": [],
   "source": [
    "tag_list = ['LOC_Event', 'LOC_Accused', 'LOC_Victim', 'LOC_Others', 'ORG_Accused', 'ORG_Victim', 'ORG_Others', 'PER_Victim', 'PER_Others', 'PER_Accused']\n",
    "per_tag_list = ['PER_Victim', 'PER_Others', 'PER_Accused']\n",
    "loc_tag_list = ['LOC_Event', 'LOC_Accused', 'LOC_Victim', 'LOC_Others']\n",
    "org_tag_list = ['ORG_Accused', 'ORG_Victim', 'ORG_Others']"
   ]
  },
  {
   "cell_type": "code",
   "execution_count": 8,
   "metadata": {},
   "outputs": [
    {
     "name": "stdout",
     "output_type": "stream",
     "text": [
      "LOC_Event [('near', 0.7774462699890137), ('A', 0.776093065738678), ('November', 0.7695729732513428), ('The', 0.7642201781272888), ('at', 0.7540594339370728), ('the', 0.7535964250564575), ('OPEN', 0.7424975633621216), ('attack', 0.7300781607627869), ('Monday', 0.728710412979126), ('on', 0.7264678478240967), ('Nadapuram', 0.7175939083099365), ('a', 0.713057816028595), ('people', 0.7122456431388855), ('city', 0.7111835479736328), ('bomb', 0.7110673189163208), ('in', 0.7069975733757019), ('Friday', 0.6984444856643677), ('case', 0.6968221664428711), ('Court', 0.6948869228363037), ('Masjid', 0.6918230056762695), ('blast', 0.6842758655548096), (',', 0.681684136390686), ('College', 0.6808955669403076), ('AP', 0.6805020570755005), ('Tuesday', 0.680214524269104), (\"'s\", 0.6764810085296631), ('around', 0.6760590672492981), ('three', 0.6759741306304932), ('and', 0.6748992800712585), ('least', 0.6737691164016724)] \n",
      "\n",
      "LOC_Accused [('completing', 0.2542300224304199), ('completion', 0.23934081196784973), ('starting', 0.23858757317066193), ('completed', 0.23341026902198792), ('ends', 0.2329089641571045), ('semesters', 0.23087626695632935), ('measures', 0.22690734267234802), ('reaching', 0.22200104594230652), ('middle', 0.2206116020679474), ('achieved', 0.2192816138267517), ('achieving', 0.2185600996017456), ('ending', 0.21759119629859924), ('outstanding', 0.21746870875358582), ('2014', 0.21688991785049438), ('steps', 0.21622174978256226), ('academic', 0.21410468220710754), ('resolved', 0.21098719537258148), ('prospects', 0.2099752426147461), ('preparation', 0.20960161089897156), ('martial', 0.2081095576286316), ('gcse', 0.20763139426708221), ('tackle', 0.20677006244659424), ('prospect', 0.2059212327003479), ('achievement', 0.20573775470256805), ('end', 0.20571735501289368), ('comprehensive', 0.20540395379066467), ('final', 0.20507648587226868), ('achievements', 0.20505356788635254), ('2008-2009', 0.2047625631093979), ('consideration', 0.20444059371948242)] \n",
      "\n",
      "LOC_Victim [('cataclysmic', 0.25573572516441345), ('unpredictable', 0.25536394119262695), ('megafauna', 0.24572810530662537), ('redolent', 0.24460867047309875), ('embittered', 0.24157346785068512), ('baptistry', 0.23585331439971924), ('bemoaned', 0.23384635150432587), ('deplored', 0.2328273355960846), ('globalisation', 0.23201967775821686), ('alarmed', 0.2313631922006607), ('decried', 0.2297690510749817), ('profoundly', 0.22922509908676147), ('feuille', 0.22866445779800415), ('incensed', 0.22826319932937622), ('globalization', 0.22794121503829956), ('visibly', 0.22777622938156128), ('malpelo', 0.2268892079591751), ('underpowered', 0.22678665816783905), ('overshadowed', 0.22536927461624146), ('suprised', 0.22506332397460938), ('unasur', 0.22426766157150269), ('unsustainable', 0.222361221909523), ('disturbed', 0.2221999168395996), ('91-year', 0.22185441851615906), ('battering', 0.22075475752353668), ('upsetting', 0.2204304039478302), ('distressing', 0.219712033867836), ('lamented', 0.21939823031425476), ('disheartening', 0.21922864019870758), ('devota', 0.21863727271556854)] \n",
      "\n",
      "LOC_Others [(',', 0.7877393364906311), ('OPEN', 0.757499098777771), ('case', 0.7490122318267822), ('and', 0.7488070726394653), ('Court', 0.7467109560966492), ('the', 0.745731770992279), ('The', 0.7424953579902649), ('Rangiya', 0.7363616228103638), ('two', 0.7350032329559326), ('near', 0.7193513512611389), ('Masjid', 0.7190041542053223), ('Mr.', 0.7162591218948364), ('Lokesh', 0.7151139378547668), ('Branch', 0.7072420120239258), ('Shabari', 0.7052634358406067), ('three', 0.7052210569381714), ('other', 0.7047229409217834), ('Act', 0.7019758224487305), ('several', 0.6999146938323975), ('his', 0.6996000409126282), ('others', 0.6948914527893066), ('people', 0.6930750608444214), ('A', 0.6891272664070129), ('police', 0.6883532404899597), ('bomb', 0.6866206526756287), ('a', 0.6858497858047485), ('at', 0.6856580972671509), ('after', 0.6833171248435974), ('Joshi', 0.6829785108566284), ('them', 0.6827753186225891)] \n",
      "\n",
      "ORG_Accused [('that', 0.7660433650016785), (')', 0.7608861923217773), ('The', 0.751059353351593), ('he', 0.7479322552680969), ('Police', 0.7342420816421509), ('Maharashtra', 0.7324711084365845), ('Maudany', 0.7306146621704102), ('Mr.', 0.7270402908325195), ('(', 0.725719690322876), ('who', 0.7229899168014526), ('not', 0.7078889608383179), ('as', 0.7053691148757935), ('Joshi', 0.7006787657737732), ('is', 0.6971596479415894), ('his', 0.689300537109375), ('accused', 0.6846307516098022), ('ATS', 0.6828821301460266), ('what', 0.6812580823898315), (',', 0.6804856657981873), ('with', 0.6796265840530396), ('Indian', 0.6783002018928528), ('an', 0.6757653951644897), ('and', 0.6745673418045044), ('Shabari', 0.6731327772140503), ('the', 0.671882688999176), ('Court', 0.6712188720703125), ('no', 0.6676146984100342), ('He', 0.6626918315887451), ('people', 0.6614840626716614), ('so', 0.6596431732177734)] \n",
      "\n",
      "ORG_Victim [('Harekrushna', 0.8016780614852905), ('charge-sheet', 0.765794575214386), ('Code', 0.7392617464065552), ('Behera', 0.7327091693878174), ('Unlawful', 0.7168137431144714), ('Assembly', 0.7140487432479858), ('Communist', 0.7046589255332947), ('Indian', 0.6763035655021667), ('Ahmedabad', 0.6715198755264282), ('Still', 0.6691207885742188), ('Anita', 0.665652871131897), ('IUML', 0.6607893705368042), ('area', 0.656597375869751), ('convenership', 0.6524528861045837), ('Ghagrapar', 0.648341715335846), ('Penal', 0.6435967683792114), ('Meanwhile', 0.6435255408287048), ('Under', 0.635815441608429), ('Maharashtra', 0.630220353603363), ('Court', 0.6215307712554932), ('Hindu', 0.6174513101577759), ('Police', 0.6059200167655945), ('CCB', 0.6030764579772949), ('Earlier', 0.6008789539337158), ('Lokesh', 0.5981040000915527), ('incident', 0.5900731086730957), ('Baldia', 0.5898072719573975), ('CID', 0.5863207578659058), ('Mr.', 0.5854530334472656), ('police', 0.5847992300987244)] \n",
      "\n",
      "ORG_Others [('The', 0.8372745513916016), ('Mr.', 0.7992314696311951), ('the', 0.7881213426589966), (',', 0.7825424075126648), ('Maudany', 0.7762993574142456), ('A', 0.7578059434890747), ('OPEN', 0.7570320963859558), ('Asimanand', 0.7562353610992432), ('also', 0.7550503015518188), (')', 0.7530462741851807), ('Police', 0.748507022857666), ('case', 0.7448943853378296), ('Swami', 0.7428547143936157), ('has', 0.7390161156654358), ('court', 0.7381510138511658), ('of', 0.7363488674163818), ('Monday', 0.7363085746765137), ('that', 0.7336993217468262), ('with', 0.730034351348877), ('(', 0.7294544577598572), ('is', 0.7289595603942871), ('had', 0.7251133322715759), ('Joshi', 0.7230173945426941), ('an', 0.7226563692092896), ('accused', 0.7198506593704224), ('police', 0.7127140760421753), ('been', 0.7115087509155273), ('which', 0.711110532283783), ('Sunil', 0.7095142602920532), ('his', 0.707250714302063)] \n",
      "\n",
      "PER_Victim [('The', 0.6758952140808105), ('Swami', 0.6596437096595764), ('Al-Qaeda', 0.6553924083709717), ('Director', 0.6546330451965332), ('Since', 0.6536052227020264), ('He', 0.648649275302887), (')', 0.6482274532318115), ('A', 0.6450929641723633), ('An', 0.6412845849990845), ('the', 0.6376655101776123), ('CID', 0.6269559860229492), ('police', 0.6261745095252991), ('Unlawful', 0.6253025531768799), ('charge-sheet', 0.6240220069885254), ('Assembly', 0.6188644170761108), ('(', 0.6183325052261353), ('LeT', 0.6165323257446289), ('also', 0.6165032982826233), ('Police', 0.6151585578918457), ('Muslim', 0.6136614084243774), ('Shabari', 0.6131011247634888), ('was', 0.6092086434364319), ('Personnel', 0.6032029390335083), ('Mr.', 0.6031122803688049), ('OPEN', 0.6028390526771545), ('Joshi', 0.5981928110122681), ('It', 0.5961729288101196), ('Azam', 0.5943844318389893), ('case', 0.5910661220550537), ('and', 0.5910290479660034)] \n",
      "\n",
      "PER_Others [('Mr.', 0.8624057769775391), ('Chief', 0.8243334293365479), ('The', 0.8238469362258911), ('Maudany', 0.8177616596221924), ('Police', 0.814093291759491), (',', 0.8116559386253357), ('Court', 0.803388774394989), ('that', 0.8032684326171875), ('he', 0.79439777135849), ('OPEN', 0.7936840653419495), ('has', 0.7875679731369019), ('Supreme', 0.7836238741874695), ('said', 0.7834555506706238), ('Asimanand', 0.7697612047195435), ('Additional', 0.765058159828186), ('also', 0.7546597123146057), ('Swami', 0.7542511820793152), ('to', 0.7520740032196045), ('the', 0.751483678817749), (')', 0.747936487197876), ('for', 0.7446399927139282), ('and', 0.7404553294181824), ('not', 0.7402031421661377), ('(', 0.7353559136390686), ('had', 0.7327477931976318), ('police', 0.7254220247268677), ('his', 0.7217705845832825), ('as', 0.7215944528579712), ('is', 0.7181911468505859), ('A', 0.7174006104469299)] \n",
      "\n",
      "PER_Accused [('Mr.', 0.8060578107833862), ('his', 0.8048292398452759), ('The', 0.8015027046203613), ('who', 0.7937533855438232), ('also', 0.77415931224823), ('case', 0.7736485600471497), ('and', 0.7704736590385437), ('Court', 0.7679876089096069), ('accused', 0.7577486038208008), ('is', 0.7514354586601257), ('OPEN', 0.7489660978317261), ('with', 0.7467199563980103), ('not', 0.7434868216514587), ('others', 0.7417405247688293), ('the', 0.7362477779388428), ('bail', 0.7348594665527344), ('Act', 0.7336032390594482), ('he', 0.7328787446022034), ('him', 0.730452299118042), ('an', 0.7290647029876709), ('as', 0.7276040315628052), ('Sudha', 0.7263973355293274), (',', 0.7153167724609375), ('two', 0.7125446200370789), ('that', 0.711988091468811), ('while', 0.7116064429283142), ('Indian', 0.7092979550361633), ('for', 0.7089004516601562), (')', 0.7087664604187012), ('in', 0.7086271047592163)] \n",
      "\n"
     ]
    }
   ],
   "source": [
    "entity_rep_context_word_file_dict = pickle.load(open(entity_context_word_file, 'rb'))\n",
    "type_word_dict = pickle.load(open(type_word_file, 'rb'))\n",
    "for tag in tag_list:\n",
    "    print(tag, type_word_dict[tag], '\\n')"
   ]
  },
  {
   "cell_type": "code",
   "execution_count": 7,
   "metadata": {},
   "outputs": [],
   "source": [
    "word_vectors = KeyedVectors.load_word2vec_format(word_emnbedding_pretrained_trained_on_corpus, binary=False)\n",
    "word_vector = word_vectors.get_vector('Narendra')\n",
    "size = len(word_vector)"
   ]
  },
  {
   "cell_type": "code",
   "execution_count": 17,
   "metadata": {},
   "outputs": [],
   "source": [
    "def group_average(entity, role):\n",
    "    num_of_words_in_entity = len(entity)\n",
    "    num_of_words_in_role = len(role)\n",
    "    total_number_of_words = num_of_words_in_entity + num_of_words_in_role\n",
    "    \n",
    "    sum_of_entity_type_word_vec = np.zeros(size)\n",
    "    for word in entity:\n",
    "        word_vec = word_vectors.get_vector(word)\n",
    "        word_vec = word_vec/np.linalg.norm(word_vec)\n",
    "        sum_of_entity_type_word_vec = np.add(sum_of_entity_type_word_vec, word_vec)\n",
    "    \n",
    "    for word in role:\n",
    "        word_vec = word_vectors.get_vector(word)\n",
    "        word_vec = word_vec/np.linalg.norm(word_vec)\n",
    "        sum_of_entity_type_word_vec = np.add(sum_of_entity_type_word_vec, word_vec)\n",
    "        \n",
    "    dot_product = np.dot(sum_of_entity_type_word_vec, sum_of_entity_type_word_vec)\n",
    "    group_avg = float(dot_product - (total_number_of_words))/(total_number_of_words * (total_number_of_words - 1))\n",
    "    return group_avg    \n",
    "    "
   ]
  },
  {
   "cell_type": "code",
   "execution_count": 20,
   "metadata": {},
   "outputs": [
    {
     "name": "stdout",
     "output_type": "stream",
     "text": [
      "LOC_Event 48.63088718510405 %\n",
      "LOC_Accused 35.273972602739725 %\n",
      "LOC_Victim 50.0 %\n",
      "LOC_Others 66.34920634920636 %\n",
      "ORG_Accused 55.3125 %\n",
      "ORG_Victim 50.0 %\n",
      "ORG_Others 81.11964873765093 %\n",
      "PER_Victim 54.26829268292683 %\n",
      "PER_Others 80.57210965435041 %\n",
      "PER_Accused 67.93103448275862 %\n"
     ]
    }
   ],
   "source": [
    "precision1 = dict()\n",
    "doc_count_for_tag = dict()\n",
    "\n",
    "for tag in tag_list:\n",
    "    doc_count_for_tag[tag] = 0\n",
    "    precision1[tag] = 0\n",
    "    \n",
    "\n",
    "# Precision at K\n",
    "K = 3\n",
    "count = 0\n",
    "for doc_id in entity_rep_context_word_file_dict:\n",
    "    #print(doc_id)\n",
    "    num_actual_entities_with_role = dict()\n",
    "    if count > 0:\n",
    "        break\n",
    "    per_entities = list()\n",
    "    loc_entities = list()\n",
    "    org_entities = list()\n",
    "    doc_role_dict = entity_rep_context_word_file_dict[doc_id]\n",
    "    for role in doc_role_dict.keys():\n",
    "        entities = doc_role_dict[role]\n",
    "        num_actual_entities_with_role[role] = len(entities)\n",
    "        if role in per_tag_list:\n",
    "            for entity in entities:\n",
    "                per_entities.append((entity, role))\n",
    "        if role in org_tag_list:\n",
    "            for entity in entities:\n",
    "                org_entities.append((entity, role))\n",
    "        if role in loc_tag_list:\n",
    "            for entity in entities:\n",
    "                loc_entities.append((entity, role))\n",
    "    \n",
    "    num_per_entity = len(per_entities)\n",
    "    num_org_entity = len(org_entities)\n",
    "    num_loc_entity = len(loc_entities)\n",
    "    \n",
    "    for role in per_tag_list:\n",
    "        role_word = type_word_dict[role]\n",
    "        retrivedResult = list()\n",
    "        if num_actual_entities_with_role[role] != 0:\n",
    "            TP = 0\n",
    "            doc_count_for_tag[role] = doc_count_for_tag[role] + 1\n",
    "            for entity in per_entities:\n",
    "                sim = 2\n",
    "                sim = group_average(entity[0], role_word)\n",
    "                retrivedResult.append((entity, sim))\n",
    "            retrivedResult = sorted(retrivedResult,key=itemgetter(1), reverse=True)\n",
    "            for i in range(min(K, num_per_entity)):\n",
    "                #print(len(retrivedResult))\n",
    "                #print(role)\n",
    "                #print(num_actual_entities_with_role)\n",
    "                if retrivedResult[i][0][1] == role:\n",
    "                    TP = TP + 1\n",
    "            if TP ==  num_actual_entities_with_role[role]:\n",
    "                precision1[role] = precision1[role] + 1\n",
    "            else:\n",
    "                precision1[role] = precision1[role] + float(TP)/min(K, num_per_entity)\n",
    "                \n",
    "    for role in loc_tag_list:\n",
    "        role_word = type_word_dict[role]\n",
    "        retrivedResult = list()\n",
    "        if num_actual_entities_with_role[role] != 0:\n",
    "            TP = 0\n",
    "            doc_count_for_tag[role] = doc_count_for_tag[role] + 1\n",
    "            for entity in loc_entities:\n",
    "                sim = 2\n",
    "                sim = group_average(entity[0], role_word)\n",
    "                retrivedResult.append((entity, sim))\n",
    "            retrivedResult = sorted(retrivedResult,key=itemgetter(1), reverse=True)\n",
    "            for i in range(min(K, num_loc_entity)):\n",
    "                #print(len(retrivedResult))\n",
    "                #print(role)\n",
    "                #print(num_actual_entities_with_role)\n",
    "                if retrivedResult[i][0][1] == role:\n",
    "                    TP = TP + 1\n",
    "            if TP ==  num_actual_entities_with_role[role]:\n",
    "                precision1[role] = precision1[role] + 1\n",
    "            else:\n",
    "                precision1[role] = precision1[role] + float(TP)/min(K, num_loc_entity)\n",
    "                \n",
    "    for role in org_tag_list:\n",
    "        role_word = type_word_dict[role]\n",
    "        retrivedResult = list()\n",
    "        if num_actual_entities_with_role[role] != 0:\n",
    "            TP = 0\n",
    "            doc_count_for_tag[role] = doc_count_for_tag[role] + 1\n",
    "            for entity in org_entities:\n",
    "                sim = 2\n",
    "                sim = group_average(entity[0], role_word)\n",
    "                retrivedResult.append((entity, sim))\n",
    "            retrivedResult = sorted(retrivedResult,key=itemgetter(1), reverse=True)\n",
    "            for i in range(min(K, num_org_entity)):\n",
    "                \n",
    "                #print(len(retrivedResult))\n",
    "                #print(role)\n",
    "                #print(num_actual_entities_with_role)\n",
    "                if retrivedResult[i][0][1] == role:\n",
    "                    TP = TP + 1\n",
    "            if TP ==  num_actual_entities_with_role[role]:\n",
    "                precision1[role] = precision1[role] + 1\n",
    "            else:\n",
    "                precision1[role] = precision1[role] + float(TP)/min(K, num_org_entity)\n",
    "    #print(num_actual_entities_with_role)\n",
    "    #count = 1\n",
    "\n",
    "for tag in tag_list:\n",
    "    if doc_count_for_tag[tag] > 0:\n",
    "        print(tag, float(precision1[tag] * 100)/doc_count_for_tag[tag], '%')"
   ]
  },
  {
   "cell_type": "code",
   "execution_count": 41,
   "metadata": {},
   "outputs": [
    {
     "data": {
      "text/plain": [
       "[('abc', 2.31), ('abc', 2.21), ('abc', 1.48), ('abc', 1.21)]"
      ]
     },
     "execution_count": 41,
     "metadata": {},
     "output_type": "execute_result"
    }
   ],
   "source": [
    "from operator import itemgetter\n",
    "data = [('abc', 1.21),('abc', 2.31),('abc', 1.48), ('abc',2.21)]\n",
    "data = sorted(data,key=itemgetter(1), reverse=True)\n",
    "data[0:4]"
   ]
  },
  {
   "cell_type": "code",
   "execution_count": 35,
   "metadata": {},
   "outputs": [
    {
     "data": {
      "text/plain": [
       "0.0"
      ]
     },
     "execution_count": 35,
     "metadata": {},
     "output_type": "execute_result"
    }
   ],
   "source": [
    "a = np.array([1,2,3])\n",
    "b = np.array([1,2,3])\n",
    "cosine_distance(a,b)\n"
   ]
  }
 ],
 "metadata": {
  "kernelspec": {
   "display_name": "Python 3",
   "language": "python",
   "name": "python3"
  },
  "language_info": {
   "codemirror_mode": {
    "name": "ipython",
    "version": 3
   },
   "file_extension": ".py",
   "mimetype": "text/x-python",
   "name": "python",
   "nbconvert_exporter": "python",
   "pygments_lexer": "ipython3",
   "version": "3.5.2"
  }
 },
 "nbformat": 4,
 "nbformat_minor": 2
}
