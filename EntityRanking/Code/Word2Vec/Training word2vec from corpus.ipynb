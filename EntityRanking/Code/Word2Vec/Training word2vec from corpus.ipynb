{
 "cells": [
  {
   "cell_type": "code",
   "execution_count": 10,
   "metadata": {},
   "outputs": [],
   "source": [
    "# import modules & set up logging\n",
    "import gensim, logging, os\n",
    "logging.basicConfig(format='%(asctime)s : %(levelname)s : %(message)s', level=logging.INFO)"
   ]
  },
  {
   "cell_type": "code",
   "execution_count": 11,
   "metadata": {},
   "outputs": [],
   "source": [
    "content_dir = '../../Data/input/content'\n",
    "\n",
    "class Corpus_Sentences(object):\n",
    "    def __init__(self, dirname):\n",
    "        self.dirname = dirname;\n",
    "        \n",
    "    def __iter__(self):\n",
    "        for fname in os.listdir(self.dirname):\n",
    "            for line in open(os.path.join(self.dirname, fname)):\n",
    "                yield line.split()\n",
    "                \n",
    "sentences = Corpus_Sentences(content_dir) # a memory-friendly iterator"
   ]
  },
  {
   "cell_type": "code",
   "execution_count": 12,
   "metadata": {},
   "outputs": [
    {
     "name": "stderr",
     "output_type": "stream",
     "text": [
      "2018-04-26 03:58:53,880 : INFO : collecting all words and their counts\n",
      "2018-04-26 03:58:54,049 : INFO : PROGRESS: at sentence #0, processed 0 words, keeping 0 word types\n",
      "2018-04-26 03:59:37,799 : INFO : collected 22787 word types from a corpus of 485731 raw words and 1305 sentences\n",
      "2018-04-26 03:59:37,801 : INFO : Loading a fresh vocabulary\n",
      "2018-04-26 03:59:40,168 : INFO : min_count=1 retains 22787 unique words (100% of original 22787, drops 0)\n",
      "2018-04-26 03:59:40,169 : INFO : min_count=1 leaves 485731 word corpus (100% of original 485731, drops 0)\n",
      "2018-04-26 03:59:40,805 : INFO : deleting the raw counts dictionary of 22787 items\n",
      "2018-04-26 03:59:40,807 : INFO : sample=0.001 downsamples 39 most-common words\n",
      "2018-04-26 03:59:40,808 : INFO : downsampling leaves estimated 353695 word corpus (72.8% of prior 485731)\n",
      "2018-04-26 03:59:41,188 : INFO : estimated required memory for 22787 words and 300 dimensions: 66082300 bytes\n",
      "2018-04-26 03:59:41,190 : INFO : resetting layer weights\n",
      "2018-04-26 03:59:41,873 : INFO : training model with 3 workers on 22787 vocabulary and 300 features, using sg=0 hs=0 sample=0.001 negative=5 window=5\n",
      "2018-04-26 03:59:43,056 : INFO : EPOCH 1 - PROGRESS: at 69.20% examples, 193116 words/s, in_qsize 0, out_qsize 0\n",
      "2018-04-26 03:59:43,392 : INFO : worker thread finished; awaiting finish of 2 more threads\n",
      "2018-04-26 03:59:43,404 : INFO : worker thread finished; awaiting finish of 1 more threads\n",
      "2018-04-26 03:59:43,417 : INFO : worker thread finished; awaiting finish of 0 more threads\n",
      "2018-04-26 03:59:43,418 : INFO : EPOCH - 1 : training on 485731 raw words (353641 effective words) took 1.5s, 241540 effective words/s\n",
      "2018-04-26 03:59:44,500 : INFO : EPOCH 2 - PROGRESS: at 76.48% examples, 223401 words/s, in_qsize 0, out_qsize 0\n",
      "2018-04-26 03:59:44,750 : INFO : worker thread finished; awaiting finish of 2 more threads\n",
      "2018-04-26 03:59:44,760 : INFO : worker thread finished; awaiting finish of 1 more threads\n",
      "2018-04-26 03:59:44,772 : INFO : worker thread finished; awaiting finish of 0 more threads\n",
      "2018-04-26 03:59:44,772 : INFO : EPOCH - 2 : training on 485731 raw words (353826 effective words) took 1.4s, 261938 effective words/s\n",
      "2018-04-26 03:59:47,282 : INFO : EPOCH 3 - PROGRESS: at 79.69% examples, 254473 words/s, in_qsize 0, out_qsize 0\n",
      "2018-04-26 03:59:47,516 : INFO : worker thread finished; awaiting finish of 2 more threads\n",
      "2018-04-26 03:59:47,528 : INFO : worker thread finished; awaiting finish of 1 more threads\n",
      "2018-04-26 03:59:47,536 : INFO : worker thread finished; awaiting finish of 0 more threads\n",
      "2018-04-26 03:59:47,537 : INFO : EPOCH - 3 : training on 485731 raw words (353643 effective words) took 1.3s, 281347 effective words/s\n",
      "2018-04-26 03:59:50,163 : INFO : EPOCH 4 - PROGRESS: at 58.77% examples, 65158 words/s, in_qsize 0, out_qsize 0\n",
      "2018-04-26 03:59:51,165 : INFO : EPOCH 4 - PROGRESS: at 62.53% examples, 50971 words/s, in_qsize 0, out_qsize 0\n",
      "2018-04-26 03:59:51,679 : INFO : worker thread finished; awaiting finish of 2 more threads\n",
      "2018-04-26 03:59:51,693 : INFO : worker thread finished; awaiting finish of 1 more threads\n",
      "2018-04-26 03:59:51,702 : INFO : worker thread finished; awaiting finish of 0 more threads\n",
      "2018-04-26 03:59:51,703 : INFO : EPOCH - 4 : training on 485731 raw words (353827 effective words) took 4.2s, 85006 effective words/s\n",
      "2018-04-26 03:59:52,708 : INFO : EPOCH 5 - PROGRESS: at 95.71% examples, 330851 words/s, in_qsize 0, out_qsize 0\n",
      "2018-04-26 03:59:52,747 : INFO : worker thread finished; awaiting finish of 2 more threads\n",
      "2018-04-26 03:59:52,757 : INFO : worker thread finished; awaiting finish of 1 more threads\n",
      "2018-04-26 03:59:52,775 : INFO : worker thread finished; awaiting finish of 0 more threads\n",
      "2018-04-26 03:59:52,776 : INFO : EPOCH - 5 : training on 485731 raw words (353831 effective words) took 1.1s, 330608 effective words/s\n",
      "2018-04-26 03:59:52,776 : INFO : training on a 2428655 raw words (1768768 effective words) took 10.9s, 162234 effective words/s\n"
     ]
    }
   ],
   "source": [
    "model = gensim.models.Word2Vec(sentences, min_count=1, size=300)"
   ]
  },
  {
   "cell_type": "code",
   "execution_count": 13,
   "metadata": {},
   "outputs": [
    {
     "name": "stderr",
     "output_type": "stream",
     "text": [
      "2018-04-26 03:59:52,785 : INFO : storing 22787x300 projection weights into ../../../../trained_word_embeddings/word2vec/word_trained_from_corpus/w2v_corpus_trained_gensim_300.bin\n",
      "2018-04-26 04:00:02,561 : INFO : storing 22787x300 projection weights into ../../../../trained_word_embeddings/word2vec/word_trained_from_corpus/w2v_corpus_trained_gensim_300.txt\n"
     ]
    }
   ],
   "source": [
    "model.wv.save_word2vec_format('../../../../trained_word_embeddings/word2vec/word_trained_from_corpus/w2v_corpus_trained_gensim_300.bin')\n",
    "model.wv.save_word2vec_format('../../../../trained_word_embeddings/word2vec/word_trained_from_corpus/w2v_corpus_trained_gensim_300.txt', binary=False)"
   ]
  },
  {
   "cell_type": "code",
   "execution_count": 14,
   "metadata": {},
   "outputs": [],
   "source": [
    "# Load\n",
    "\n",
    "#model = Word2Vec.load('model.bin')"
   ]
  }
 ],
 "metadata": {
  "kernelspec": {
   "display_name": "Python 3",
   "language": "python",
   "name": "python3"
  },
  "language_info": {
   "codemirror_mode": {
    "name": "ipython",
    "version": 3
   },
   "file_extension": ".py",
   "mimetype": "text/x-python",
   "name": "python",
   "nbconvert_exporter": "python",
   "pygments_lexer": "ipython3",
   "version": "3.5.2"
  }
 },
 "nbformat": 4,
 "nbformat_minor": 2
}
