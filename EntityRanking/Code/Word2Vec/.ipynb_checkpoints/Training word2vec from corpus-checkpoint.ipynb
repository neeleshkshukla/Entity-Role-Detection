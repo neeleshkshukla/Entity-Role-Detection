{
 "cells": [
  {
   "cell_type": "code",
   "execution_count": 1,
   "metadata": {},
   "outputs": [],
   "source": [
    "# import modules & set up logging\n",
    "import gensim, logging, os\n",
    "logging.basicConfig(format='%(asctime)s : %(levelname)s : %(message)s', level=logging.INFO)"
   ]
  },
  {
   "cell_type": "code",
   "execution_count": 2,
   "metadata": {},
   "outputs": [],
   "source": [
    "# Build the corpus sentence from training dataset\n",
    "\n",
    "content_dir = '../../Data/input/train/content'\n",
    "\n",
    "class Corpus_Sentences(object):\n",
    "    def __init__(self, dirname):\n",
    "        self.dirname = dirname;\n",
    "        \n",
    "    def __iter__(self):\n",
    "        for fname in os.listdir(self.dirname):\n",
    "            for line in open(os.path.join(self.dirname, fname)):\n",
    "                yield line.split()\n",
    "                \n",
    "sentences = Corpus_Sentences(content_dir) # a memory-friendly iterator"
   ]
  },
  {
   "cell_type": "code",
   "execution_count": 3,
   "metadata": {},
   "outputs": [
    {
     "name": "stderr",
     "output_type": "stream",
     "text": [
      "2018-05-02 23:11:23,784 : INFO : collecting all words and their counts\n",
      "2018-05-02 23:11:23,790 : INFO : PROGRESS: at sentence #0, processed 0 words, keeping 0 word types\n",
      "2018-05-02 23:11:24,158 : INFO : collected 18738 word types from a corpus of 325293 raw words and 854 sentences\n",
      "2018-05-02 23:11:24,158 : INFO : Loading a fresh vocabulary\n",
      "2018-05-02 23:11:24,252 : INFO : min_count=1 retains 18738 unique words (100% of original 18738, drops 0)\n",
      "2018-05-02 23:11:24,253 : INFO : min_count=1 leaves 325293 word corpus (100% of original 325293, drops 0)\n",
      "2018-05-02 23:11:24,361 : INFO : deleting the raw counts dictionary of 18738 items\n",
      "2018-05-02 23:11:24,362 : INFO : sample=0.001 downsamples 39 most-common words\n",
      "2018-05-02 23:11:24,363 : INFO : downsampling leaves estimated 236501 word corpus (72.7% of prior 325293)\n",
      "2018-05-02 23:11:24,512 : INFO : estimated required memory for 18738 words and 300 dimensions: 54340200 bytes\n",
      "2018-05-02 23:11:24,513 : INFO : resetting layer weights\n",
      "2018-05-02 23:11:24,937 : INFO : training model with 3 workers on 18738 vocabulary and 300 features, using sg=0 hs=0 sample=0.001 negative=5 window=5\n",
      "2018-05-02 23:11:25,647 : INFO : worker thread finished; awaiting finish of 2 more threads\n",
      "2018-05-02 23:11:25,649 : INFO : worker thread finished; awaiting finish of 1 more threads\n",
      "2018-05-02 23:11:25,652 : INFO : worker thread finished; awaiting finish of 0 more threads\n",
      "2018-05-02 23:11:25,653 : INFO : EPOCH - 1 : training on 325293 raw words (236860 effective words) took 0.7s, 333069 effective words/s\n",
      "2018-05-02 23:11:26,331 : INFO : worker thread finished; awaiting finish of 2 more threads\n",
      "2018-05-02 23:11:26,334 : INFO : worker thread finished; awaiting finish of 1 more threads\n",
      "2018-05-02 23:11:26,343 : INFO : worker thread finished; awaiting finish of 0 more threads\n",
      "2018-05-02 23:11:26,344 : INFO : EPOCH - 2 : training on 325293 raw words (236522 effective words) took 0.7s, 343693 effective words/s\n",
      "2018-05-02 23:11:27,046 : INFO : worker thread finished; awaiting finish of 2 more threads\n",
      "2018-05-02 23:11:27,049 : INFO : worker thread finished; awaiting finish of 1 more threads\n",
      "2018-05-02 23:11:27,063 : INFO : worker thread finished; awaiting finish of 0 more threads\n",
      "2018-05-02 23:11:27,064 : INFO : EPOCH - 3 : training on 325293 raw words (236216 effective words) took 0.7s, 331215 effective words/s\n",
      "2018-05-02 23:11:27,781 : INFO : worker thread finished; awaiting finish of 2 more threads\n",
      "2018-05-02 23:11:27,794 : INFO : worker thread finished; awaiting finish of 1 more threads\n",
      "2018-05-02 23:11:27,798 : INFO : worker thread finished; awaiting finish of 0 more threads\n",
      "2018-05-02 23:11:27,799 : INFO : EPOCH - 4 : training on 325293 raw words (236270 effective words) took 0.7s, 323611 effective words/s\n",
      "2018-05-02 23:11:28,488 : INFO : worker thread finished; awaiting finish of 2 more threads\n",
      "2018-05-02 23:11:28,513 : INFO : worker thread finished; awaiting finish of 1 more threads\n",
      "2018-05-02 23:11:28,528 : INFO : worker thread finished; awaiting finish of 0 more threads\n",
      "2018-05-02 23:11:28,529 : INFO : EPOCH - 5 : training on 325293 raw words (236584 effective words) took 0.7s, 326362 effective words/s\n",
      "2018-05-02 23:11:28,530 : INFO : training on a 1626465 raw words (1182452 effective words) took 3.6s, 329252 effective words/s\n"
     ]
    }
   ],
   "source": [
    "# Build word2vec model from training corpus with dimension 300\n",
    "\n",
    "model = gensim.models.Word2Vec(sentences, min_count=1, size=300)"
   ]
  },
  {
   "cell_type": "code",
   "execution_count": 4,
   "metadata": {},
   "outputs": [
    {
     "name": "stderr",
     "output_type": "stream",
     "text": [
      "2018-05-02 23:11:28,540 : INFO : storing 18738x300 projection weights into ../../trained_word_embeddings/word2vec/word_trained_from_corpus/w2v_corpus_trained_gensim_300.txt\n"
     ]
    }
   ],
   "source": [
    "#  Write the learned word vectors in text format to be used later\n",
    "\n",
    "#model.wv.save_word2vec_format('../../trained_word_embeddings/word2vec/word_trained_from_corpus/w2v_corpus_trained_gensim_300.bin')\n",
    "model.wv.save_word2vec_format('../../trained_word_embeddings/word2vec/word_trained_from_corpus/w2v_corpus_trained_gensim_300.txt', binary=False)"
   ]
  },
  {
   "cell_type": "code",
   "execution_count": 5,
   "metadata": {},
   "outputs": [],
   "source": [
    "# Load\n",
    "\n",
    "#model = Word2Vec.load('model.bin')"
   ]
  }
 ],
 "metadata": {
  "kernelspec": {
   "display_name": "Python 3",
   "language": "python",
   "name": "python3"
  },
  "language_info": {
   "codemirror_mode": {
    "name": "ipython",
    "version": 3
   },
   "file_extension": ".py",
   "mimetype": "text/x-python",
   "name": "python",
   "nbconvert_exporter": "python",
   "pygments_lexer": "ipython3",
   "version": "3.5.2"
  }
 },
 "nbformat": 4,
 "nbformat_minor": 2
}
