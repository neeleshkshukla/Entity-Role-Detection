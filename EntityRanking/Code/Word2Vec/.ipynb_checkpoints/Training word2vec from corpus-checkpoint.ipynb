{
 "cells": [
  {
   "cell_type": "code",
   "execution_count": 1,
   "metadata": {},
   "outputs": [],
   "source": [
    "# import modules & set up logging\n",
    "import gensim, logging, os\n",
    "logging.basicConfig(format='%(asctime)s : %(levelname)s : %(message)s', level=logging.INFO)"
   ]
  },
  {
   "cell_type": "code",
   "execution_count": 2,
   "metadata": {},
   "outputs": [],
   "source": [
    "# Build the corpus sentence from training dataset\n",
    "\n",
    "content_dir = '../../Data/input/train/content'\n",
    "\n",
    "class Corpus_Sentences(object):\n",
    "    def __init__(self, dirname):\n",
    "        self.dirname = dirname;\n",
    "        \n",
    "    def __iter__(self):\n",
    "        for fname in os.listdir(self.dirname):\n",
    "            for line in open(os.path.join(self.dirname, fname)):\n",
    "                yield line.split()\n",
    "                \n",
    "sentences = Corpus_Sentences(content_dir) # a memory-friendly iterator"
   ]
  },
  {
   "cell_type": "code",
   "execution_count": 3,
   "metadata": {},
   "outputs": [
    {
     "name": "stderr",
     "output_type": "stream",
     "text": [
      "2018-05-18 21:09:19,464 : INFO : collecting all words and their counts\n",
      "2018-05-18 21:09:19,469 : INFO : PROGRESS: at sentence #0, processed 0 words, keeping 0 word types\n",
      "2018-05-18 21:09:19,861 : INFO : collected 18799 word types from a corpus of 335548 raw words and 877 sentences\n",
      "2018-05-18 21:09:19,862 : INFO : Loading a fresh vocabulary\n",
      "2018-05-18 21:09:19,976 : INFO : min_count=1 retains 18799 unique words (100% of original 18799, drops 0)\n",
      "2018-05-18 21:09:19,977 : INFO : min_count=1 leaves 335548 word corpus (100% of original 335548, drops 0)\n",
      "2018-05-18 21:09:20,105 : INFO : deleting the raw counts dictionary of 18799 items\n",
      "2018-05-18 21:09:20,106 : INFO : sample=0.001 downsamples 39 most-common words\n",
      "2018-05-18 21:09:20,107 : INFO : downsampling leaves estimated 244121 word corpus (72.8% of prior 335548)\n",
      "2018-05-18 21:09:20,235 : INFO : estimated required memory for 18799 words and 300 dimensions: 54517100 bytes\n",
      "2018-05-18 21:09:20,236 : INFO : resetting layer weights\n",
      "2018-05-18 21:09:20,636 : INFO : training model with 3 workers on 18799 vocabulary and 300 features, using sg=0 hs=0 sample=0.001 negative=5 window=5\n",
      "2018-05-18 21:09:21,408 : INFO : worker thread finished; awaiting finish of 2 more threads\n",
      "2018-05-18 21:09:21,429 : INFO : worker thread finished; awaiting finish of 1 more threads\n",
      "2018-05-18 21:09:21,439 : INFO : worker thread finished; awaiting finish of 0 more threads\n",
      "2018-05-18 21:09:21,441 : INFO : EPOCH - 1 : training on 335548 raw words (244223 effective words) took 0.8s, 305925 effective words/s\n",
      "2018-05-18 21:09:22,102 : INFO : worker thread finished; awaiting finish of 2 more threads\n",
      "2018-05-18 21:09:22,120 : INFO : worker thread finished; awaiting finish of 1 more threads\n",
      "2018-05-18 21:09:22,128 : INFO : worker thread finished; awaiting finish of 0 more threads\n",
      "2018-05-18 21:09:22,129 : INFO : EPOCH - 2 : training on 335548 raw words (244312 effective words) took 0.7s, 358676 effective words/s\n",
      "2018-05-18 21:09:22,755 : INFO : worker thread finished; awaiting finish of 2 more threads\n",
      "2018-05-18 21:09:22,785 : INFO : worker thread finished; awaiting finish of 1 more threads\n",
      "2018-05-18 21:09:22,791 : INFO : worker thread finished; awaiting finish of 0 more threads\n",
      "2018-05-18 21:09:22,794 : INFO : EPOCH - 3 : training on 335548 raw words (244310 effective words) took 0.7s, 369428 effective words/s\n",
      "2018-05-18 21:09:23,541 : INFO : worker thread finished; awaiting finish of 2 more threads\n",
      "2018-05-18 21:09:23,569 : INFO : worker thread finished; awaiting finish of 1 more threads\n",
      "2018-05-18 21:09:23,581 : INFO : worker thread finished; awaiting finish of 0 more threads\n",
      "2018-05-18 21:09:23,583 : INFO : EPOCH - 4 : training on 335548 raw words (244365 effective words) took 0.8s, 312101 effective words/s\n",
      "2018-05-18 21:09:24,273 : INFO : worker thread finished; awaiting finish of 2 more threads\n",
      "2018-05-18 21:09:24,291 : INFO : worker thread finished; awaiting finish of 1 more threads\n",
      "2018-05-18 21:09:24,298 : INFO : worker thread finished; awaiting finish of 0 more threads\n",
      "2018-05-18 21:09:24,299 : INFO : EPOCH - 5 : training on 335548 raw words (244163 effective words) took 0.7s, 344408 effective words/s\n",
      "2018-05-18 21:09:24,305 : INFO : training on a 1677740 raw words (1221373 effective words) took 3.7s, 333002 effective words/s\n"
     ]
    }
   ],
   "source": [
    "# Build word2vec model from training corpus with dimension 300\n",
    "\n",
    "model = gensim.models.Word2Vec(sentences, min_count=1, size=300)"
   ]
  },
  {
   "cell_type": "code",
   "execution_count": 6,
   "metadata": {},
   "outputs": [
    {
     "name": "stderr",
     "output_type": "stream",
     "text": [
      "2018-05-18 21:11:22,402 : INFO : storing 18799x300 projection weights into ../../trained_word_embeddings/word2vec/word_trained_from_corpus/w2v_corpus_trained_gensim_300.txt\n"
     ]
    }
   ],
   "source": [
    "#  Write the learned word vectors in text format to be used later\n",
    "\n",
    "#model.wv.save_word2vec_format('../../trained_word_embeddings/word2vec/word_trained_from_corpus/w2v_corpus_trained_gensim_300.bin')\n",
    "model.wv.save_word2vec_format('../../trained_word_embeddings/word2vec/word_trained_from_corpus/w2v_corpus_trained_gensim_300.txt', binary=False)"
   ]
  },
  {
   "cell_type": "code",
   "execution_count": 5,
   "metadata": {},
   "outputs": [],
   "source": [
    "# Load\n",
    "\n",
    "#model = Word2Vec.load('model.bin')"
   ]
  }
 ],
 "metadata": {
  "kernelspec": {
   "display_name": "Python 3",
   "language": "python",
   "name": "python3"
  },
  "language_info": {
   "codemirror_mode": {
    "name": "ipython",
    "version": 3
   },
   "file_extension": ".py",
   "mimetype": "text/x-python",
   "name": "python",
   "nbconvert_exporter": "python",
   "pygments_lexer": "ipython3",
   "version": "3.5.2"
  }
 },
 "nbformat": 4,
 "nbformat_minor": 2
}
