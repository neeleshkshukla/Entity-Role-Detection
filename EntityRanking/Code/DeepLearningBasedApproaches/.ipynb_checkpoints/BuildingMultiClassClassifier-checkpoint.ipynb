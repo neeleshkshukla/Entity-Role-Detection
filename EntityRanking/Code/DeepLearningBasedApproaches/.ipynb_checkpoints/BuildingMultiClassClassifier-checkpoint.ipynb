{
 "cells": [
  {
   "cell_type": "code",
   "execution_count": 1,
   "metadata": {},
   "outputs": [
    {
     "name": "stderr",
     "output_type": "stream",
     "text": [
      "/usr/local/lib/python3.5/dist-packages/h5py/__init__.py:36: FutureWarning: Conversion of the second argument of issubdtype from `float` to `np.floating` is deprecated. In future, it will be treated as `np.float64 == np.dtype(float).type`.\n",
      "  from ._conv import register_converters as _register_converters\n",
      "Using TensorFlow backend.\n"
     ]
    },
    {
     "data": {
      "text/html": [
       "<style>.container { width:100% !important; }</style>"
      ],
      "text/plain": [
       "<IPython.core.display.HTML object>"
      ]
     },
     "metadata": {},
     "output_type": "display_data"
    }
   ],
   "source": [
    "import os, pickle\n",
    "import pandas as pd\n",
    "\n",
    "import keras \n",
    "import numpy as np\n",
    "from keras.preprocessing.text import Tokenizer\n",
    "from keras.models import Sequential\n",
    "from keras.layers import Dense\n",
    "from keras.preprocessing.sequence import pad_sequences\n",
    "from keras.layers import Input, Dense, Dropout, Embedding, LSTM, Flatten, Conv2D, MaxPooling2D\n",
    "from keras.models import Model\n",
    "from keras.utils import to_categorical\n",
    "from keras.callbacks import ModelCheckpoint\n",
    "import seaborn as sns\n",
    "import matplotlib.pyplot as plt\n",
    "from sklearn.model_selection import train_test_split\n",
    "from sklearn.metrics import accuracy_score\n",
    "plt.style.use('ggplot')\n",
    "%matplotlib inline\n",
    "from IPython.core.display import display, HTML\n",
    "display(HTML(\"<style>.container { width:100% !important; }</style>\"))"
   ]
  },
  {
   "cell_type": "code",
   "execution_count": 8,
   "metadata": {},
   "outputs": [],
   "source": [
    "data_output_folder = '../../Data/output'\n",
    "train_entity_rep_output_folder = 'EntityRep/train'\n",
    "test_entity_rep_output_folder = 'EntityRep/test'\n",
    "entity_context_word_file = 'doc_entity_context_word.p'\n",
    "entity_doc_level_context_word_file = 'doc_entity_doc_Level_context_word.p'\n",
    "\n",
    "doc_level = False\n",
    "sent_level = True"
   ]
  },
  {
   "cell_type": "code",
   "execution_count": 9,
   "metadata": {},
   "outputs": [],
   "source": [
    "# Load the pickle file\n",
    "\n",
    "if sent_level:\n",
    "    train_doc_role_entity_context_word_dict = pickle.load(open(os.path.join(data_output_folder, train_entity_rep_output_folder, entity_context_word_file), 'rb'))\n",
    "    test_doc_role_entity_context_word_dict = pickle.load(open(os.path.join(data_output_folder, test_entity_rep_output_folder, entity_context_word_file), 'rb'))\n",
    "\n",
    "if doc_level:\n",
    "    train_doc_role_entity_context_word_dict = pickle.load(open(os.path.join(data_output_folder, train_entity_rep_output_folder, entity_doc_level_context_word_file), 'rb'))\n",
    "    test_doc_role_entity_context_word_dict = pickle.load(open(os.path.join(data_output_folder, test_entity_rep_output_folder, entity_doc_level_context_word_file), 'rb'))"
   ]
  },
  {
   "cell_type": "code",
   "execution_count": 41,
   "metadata": {},
   "outputs": [],
   "source": [
    "def build_dataFrame(entity_context_word_dict):\n",
    "    columnNames = ['entity_context_words', 'type']\n",
    "    df = pd.DataFrame(columns=columnNames)\n",
    "    i = 0\n",
    "    for doc in entity_context_word_dict.keys():\n",
    "        tag_dict = entity_context_word_dict[doc]\n",
    "        for tag in tag_dict.keys():\n",
    "            entities = tag_dict[tag]\n",
    "            if len(entities) > 0:\n",
    "                for entity in entities:\n",
    "                    df.loc[i] = [\" \".join(entity[1]), tag]\n",
    "                    i = i+1\n",
    "    return df"
   ]
  },
  {
   "cell_type": "code",
   "execution_count": 44,
   "metadata": {},
   "outputs": [],
   "source": [
    "test_df = build_dataFrame(test_doc_role_entity_context_word_dict)\n",
    "train_df = build_dataFrame(train_doc_role_entity_context_word_dict)"
   ]
  },
  {
   "cell_type": "markdown",
   "metadata": {},
   "source": [
    "### Check class distributions"
   ]
  },
  {
   "cell_type": "code",
   "execution_count": 48,
   "metadata": {},
   "outputs": [
    {
     "data": {
      "text/plain": [
       "LOC_Others     4886\n",
       "ORG_Others     3989\n",
       "PER_Others     3553\n",
       "LOC_Event      3327\n",
       "PER_Accused    1333\n",
       "ORG_Accused    1184\n",
       "PER_Victim      496\n",
       "LOC_Accused     338\n",
       "ORG_Victim      136\n",
       "LOC_Victim      124\n",
       "Name: type, dtype: int64"
      ]
     },
     "execution_count": 48,
     "metadata": {},
     "output_type": "execute_result"
    }
   ],
   "source": [
    "train_df.type.value_counts()"
   ]
  },
  {
   "cell_type": "code",
   "execution_count": 49,
   "metadata": {},
   "outputs": [
    {
     "data": {
      "text/plain": [
       "LOC_Others     1321\n",
       "PER_Others     1096\n",
       "ORG_Others     1054\n",
       "LOC_Event       994\n",
       "PER_Accused     360\n",
       "ORG_Accused     360\n",
       "PER_Victim      155\n",
       "LOC_Accused     106\n",
       "LOC_Victim       27\n",
       "ORG_Victim       27\n",
       "Name: type, dtype: int64"
      ]
     },
     "execution_count": 49,
     "metadata": {},
     "output_type": "execute_result"
    }
   ],
   "source": [
    "test_df.type.value_counts()"
   ]
  },
  {
   "cell_type": "code",
   "execution_count": 52,
   "metadata": {},
   "outputs": [
    {
     "data": {
      "text/plain": [
       "LOC_Others     6207\n",
       "ORG_Others     5043\n",
       "PER_Others     4649\n",
       "LOC_Event      4321\n",
       "PER_Accused    1693\n",
       "ORG_Accused    1544\n",
       "PER_Victim      651\n",
       "LOC_Accused     444\n",
       "ORG_Victim      163\n",
       "LOC_Victim      151\n",
       "Name: type, dtype: int64"
      ]
     },
     "execution_count": 52,
     "metadata": {},
     "output_type": "execute_result"
    }
   ],
   "source": [
    "# Append the test dataframe into train dataframe\n",
    "\n",
    "data_df = train_df.append(test_df)\n",
    "data_df.type.value_counts()"
   ]
  },
  {
   "cell_type": "markdown",
   "metadata": {},
   "source": [
    "### Convert tags to integers"
   ]
  },
  {
   "cell_type": "code",
   "execution_count": 53,
   "metadata": {},
   "outputs": [],
   "source": [
    "data_df['target'] = data_df.type.astype('category').cat.codes"
   ]
  },
  {
   "cell_type": "markdown",
   "metadata": {},
   "source": [
    "### Calculate the number of words in each posts\n",
    "\n",
    "We would like to look at the word distribution across all posts. This information would be key later when we are passing the data to Keras Deep Model."
   ]
  },
  {
   "cell_type": "code",
   "execution_count": 54,
   "metadata": {},
   "outputs": [],
   "source": [
    "data_df['num_words'] = data_df.entity_context_words.apply(lambda x : len(x.split()))"
   ]
  },
  {
   "cell_type": "markdown",
   "metadata": {},
   "source": [
    "### Binning the posts by word count.\n",
    "\n",
    "Ideally we would want to know how many posts are short, medium and large posts. Binning is a technique is efficient mechanism to do that"
   ]
  },
  {
   "cell_type": "code",
   "execution_count": 75,
   "metadata": {},
   "outputs": [],
   "source": [
    "data_df['bins']=pd.cut(data_df.num_words, bins=[0,5,10,20,25, 30, np.inf], labels=['0-5', '5-10', '10-20','20-25', '25-30' ,'>30'])"
   ]
  },
  {
   "cell_type": "code",
   "execution_count": 76,
   "metadata": {},
   "outputs": [],
   "source": [
    "word_distribution = data_df.groupby('bins').size().reset_index().rename(columns={0:'counts'})"
   ]
  },
  {
   "cell_type": "code",
   "execution_count": 77,
   "metadata": {},
   "outputs": [
    {
     "data": {
      "text/html": [
       "<div>\n",
       "<style scoped>\n",
       "    .dataframe tbody tr th:only-of-type {\n",
       "        vertical-align: middle;\n",
       "    }\n",
       "\n",
       "    .dataframe tbody tr th {\n",
       "        vertical-align: top;\n",
       "    }\n",
       "\n",
       "    .dataframe thead th {\n",
       "        text-align: right;\n",
       "    }\n",
       "</style>\n",
       "<table border=\"1\" class=\"dataframe\">\n",
       "  <thead>\n",
       "    <tr style=\"text-align: right;\">\n",
       "      <th></th>\n",
       "      <th>bins</th>\n",
       "      <th>counts</th>\n",
       "    </tr>\n",
       "  </thead>\n",
       "  <tbody>\n",
       "    <tr>\n",
       "      <th>0</th>\n",
       "      <td>0-5</td>\n",
       "      <td>0</td>\n",
       "    </tr>\n",
       "    <tr>\n",
       "      <th>1</th>\n",
       "      <td>5-10</td>\n",
       "      <td>0</td>\n",
       "    </tr>\n",
       "    <tr>\n",
       "      <th>2</th>\n",
       "      <td>10-20</td>\n",
       "      <td>1558</td>\n",
       "    </tr>\n",
       "    <tr>\n",
       "      <th>3</th>\n",
       "      <td>20-25</td>\n",
       "      <td>23241</td>\n",
       "    </tr>\n",
       "    <tr>\n",
       "      <th>4</th>\n",
       "      <td>25-30</td>\n",
       "      <td>67</td>\n",
       "    </tr>\n",
       "  </tbody>\n",
       "</table>\n",
       "</div>"
      ],
      "text/plain": [
       "    bins  counts\n",
       "0    0-5       0\n",
       "1   5-10       0\n",
       "2  10-20    1558\n",
       "3  20-25   23241\n",
       "4  25-30      67"
      ]
     },
     "execution_count": 77,
     "metadata": {},
     "output_type": "execute_result"
    }
   ],
   "source": [
    "word_distribution.head()"
   ]
  },
  {
   "cell_type": "code",
   "execution_count": 68,
   "metadata": {},
   "outputs": [
    {
     "data": {
      "text/plain": [
       "Text(0.5,1,'Word distribution per bin')"
      ]
     },
     "execution_count": 68,
     "metadata": {},
     "output_type": "execute_result"
    },
    {
     "data": {
      "image/png": "[encoded data removed]",
      "text/plain": [
       "<Figure size 432x288 with 1 Axes>"
      ]
     },
     "metadata": {},
     "output_type": "display_data"
    }
   ],
   "source": [
    "sns.barplot(x='bins', y='counts', data=word_distribution).set_title(\"Word distribution per bin\")"
   ]
  },
  {
   "cell_type": "markdown",
   "metadata": {},
   "source": [
    "#### Set number of classes and target variable"
   ]
  },
  {
   "cell_type": "code",
   "execution_count": 73,
   "metadata": {},
   "outputs": [
    {
     "name": "stdout",
     "output_type": "stream",
     "text": [
      "24866\n"
     ]
    }
   ],
   "source": [
    "num_class = len(np.unique(data_df.type.values))\n",
    "y = data_df['target'].values"
   ]
  },
  {
   "cell_type": "markdown",
   "metadata": {},
   "source": [
    "### Tokenize the input\n",
    "\n",
    "For a deep learning model we need to know what the input sequence length for our model should be. The distribution graph about shows us that max 30 words.\n",
    "\n",
    "Given the above information we can set the Input sequence length to be max(words per post). By doing so we are essentially wasting a lot of resources so we make a tradeoff and set the the Input sequence length to 30"
   ]
  },
  {
   "cell_type": "code",
   "execution_count": 78,
   "metadata": {},
   "outputs": [],
   "source": [
    "MAX_LEN = 30\n",
    "tokenizer = Tokenizer()\n",
    "tokenizer.fit_on_texts(data_df.entity_context_words.values)\n",
    "entity_seq = tokenizer.texts_to_sequences(data_df.entity_context_words.values)\n",
    "entity_seq_padded = pad_sequences(entity_seq, maxlen=MAX_LEN)"
   ]
  },
  {
   "cell_type": "code",
   "execution_count": 81,
   "metadata": {},
   "outputs": [],
   "source": [
    "X_train, X_test, y_train, y_test = train_test_split(entity_seq_padded, y, test_size=0.2)"
   ]
  },
  {
   "cell_type": "code",
   "execution_count": 82,
   "metadata": {},
   "outputs": [],
   "source": [
    "vocab_size = len(tokenizer.word_index) + 1"
   ]
  },
  {
   "cell_type": "markdown",
   "metadata": {},
   "source": [
    "### Deep Learning Model : Simple\n",
    "\n",
    "Let start with a simple model where the build an embedded layer, Dense followed by our prediction"
   ]
  },
  {
   "cell_type": "code",
   "execution_count": 89,
   "metadata": {},
   "outputs": [
    {
     "name": "stdout",
     "output_type": "stream",
     "text": [
      "_________________________________________________________________\n",
      "Layer (type)                 Output Shape              Param #   \n",
      "=================================================================\n",
      "input_5 (InputLayer)         (None, 30)                0         \n",
      "_________________________________________________________________\n",
      "embedding_5 (Embedding)      (None, 30, 128)           1827712   \n",
      "_________________________________________________________________\n",
      "flatten_5 (Flatten)          (None, 3840)              0         \n",
      "_________________________________________________________________\n",
      "dense_7 (Dense)              (None, 32)                122912    \n",
      "_________________________________________________________________\n",
      "dense_8 (Dense)              (None, 10)                330       \n",
      "=================================================================\n",
      "Total params: 1,950,954\n",
      "Trainable params: 1,950,954\n",
      "Non-trainable params: 0\n",
      "_________________________________________________________________\n",
      "Train on 14919 samples, validate on 4973 samples\n",
      "Epoch 1/5\n",
      "14919/14919 [==============================] - 11s 757us/step - loss: 1.4949 - acc: 0.4726 - val_loss: 1.0865 - val_acc: 0.6212\n",
      "\n",
      "Epoch 00001: val_acc improved from -inf to 0.62115, saving model to weights-simple.hdf5\n",
      "Epoch 2/5\n",
      "14919/14919 [==============================] - 11s 746us/step - loss: 0.7466 - acc: 0.7548 - val_loss: 0.9238 - val_acc: 0.6728\n",
      "\n",
      "Epoch 00002: val_acc improved from 0.62115 to 0.67283, saving model to weights-simple.hdf5\n",
      "Epoch 3/5\n",
      "14919/14919 [==============================] - 11s 750us/step - loss: 0.3625 - acc: 0.8922 - val_loss: 0.9578 - val_acc: 0.6678\n",
      "\n",
      "Epoch 00003: val_acc did not improve from 0.67283\n",
      "Epoch 4/5\n",
      "14919/14919 [==============================] - 12s 824us/step - loss: 0.1485 - acc: 0.9641 - val_loss: 1.0898 - val_acc: 0.6656\n",
      "\n",
      "Epoch 00004: val_acc did not improve from 0.67283\n",
      "Epoch 5/5\n",
      "14919/14919 [==============================] - 12s 813us/step - loss: 0.0763 - acc: 0.9852 - val_loss: 1.1253 - val_acc: 0.6698\n",
      "\n",
      "Epoch 00005: val_acc did not improve from 0.67283\n"
     ]
    }
   ],
   "source": [
    "inputs = Input(shape=(MAX_LEN,))\n",
    "embedding_layer = Embedding(vocab_size, 128, input_length=MAX_LEN)(inputs)\n",
    "\n",
    "x = Flatten()(embedding_layer)\n",
    "x = Dense(32, activation='relu')(x)\n",
    "\n",
    "predictions = Dense(num_class, activation='softmax')(x)\n",
    "model = Model(inputs=[inputs], outputs=predictions)\n",
    "model.compile(optimizer='adam',\n",
    "              loss='categorical_crossentropy',\n",
    "              metrics=['acc'])\n",
    "\n",
    "model.summary()\n",
    "\n",
    "filepath=\"weights-simple.hdf5\"\n",
    "checkpointer = ModelCheckpoint(filepath, monitor='val_acc', verbose=1, save_best_only=True, mode='max')\n",
    "history = model.fit([X_train], batch_size=64, y=to_categorical(y_train), verbose=1, validation_split=0.25, \n",
    "          shuffle=True, epochs=5, callbacks=[checkpointer])"
   ]
  },
  {
   "cell_type": "markdown",
   "metadata": {},
   "source": [
    "### Understanding the model fit\n",
    "\n",
    "Once we run model fit we can see that around 5th epoch the accuracy for training was 100% where as validation accuracy was around 67% which suggests that we are overfitting the data and not able to generalize the model"
   ]
  },
  {
   "cell_type": "code",
   "execution_count": 90,
   "metadata": {},
   "outputs": [
    {
     "data": {
      "image/png": "[encoded data removed]",
      "text/plain": [
       "<Figure size 432x288 with 1 Axes>"
      ]
     },
     "metadata": {},
     "output_type": "display_data"
    }
   ],
   "source": [
    "df = pd.DataFrame({'epochs':history.epoch, 'accuracy': history.history['acc'], 'validation_accuracy': history.history['val_acc']})\n",
    "g = sns.pointplot(x=\"epochs\", y=\"accuracy\", data=df, fit_reg=False)\n",
    "g = sns.pointplot(x=\"epochs\", y=\"validation_accuracy\", data=df, fit_reg=False, color='green')"
   ]
  },
  {
   "cell_type": "markdown",
   "metadata": {},
   "source": [
    "### Lets look at accuracy"
   ]
  },
  {
   "cell_type": "code",
   "execution_count": 91,
   "metadata": {},
   "outputs": [
    {
     "data": {
      "text/plain": [
       "0.6726980297547246"
      ]
     },
     "execution_count": 91,
     "metadata": {},
     "output_type": "execute_result"
    }
   ],
   "source": [
    "predicted = model.predict(X_test)\n",
    "predicted = np.argmax(predicted, axis=1)\n",
    "accuracy_score(y_test, predicted)"
   ]
  },
  {
   "cell_type": "markdown",
   "metadata": {},
   "source": [
    "### Recurrent Neural Networks\n",
    "\n",
    "For our example we will use LSTM’s to capture the notion of time in our posts. Which means we tend to see certain words after or before some other context word X and we would want to capture that."
   ]
  },
  {
   "cell_type": "code",
   "execution_count": 130,
   "metadata": {},
   "outputs": [
    {
     "data": {
      "text/plain": [
       "(30,)"
      ]
     },
     "execution_count": 130,
     "metadata": {},
     "output_type": "execute_result"
    }
   ],
   "source": [
    "X_train[0].shape"
   ]
  },
  {
   "cell_type": "code",
   "execution_count": 6,
   "metadata": {},
   "outputs": [
    {
     "ename": "NameError",
     "evalue": "name 'vocab_size' is not defined",
     "output_type": "error",
     "traceback": [
      "\u001b[0;31m---------------------------------------------------------------------------\u001b[0m",
      "\u001b[0;31mNameError\u001b[0m                                 Traceback (most recent call last)",
      "\u001b[0;32m<ipython-input-6-2fe50056c951>\u001b[0m in \u001b[0;36m<module>\u001b[0;34m()\u001b[0m\n\u001b[1;32m      1\u001b[0m \u001b[0minputs\u001b[0m \u001b[0;34m=\u001b[0m \u001b[0mInput\u001b[0m\u001b[0;34m(\u001b[0m\u001b[0mshape\u001b[0m\u001b[0;34m=\u001b[0m\u001b[0;34m(\u001b[0m\u001b[0;36m30\u001b[0m\u001b[0;34m,\u001b[0m \u001b[0;34m)\u001b[0m\u001b[0;34m)\u001b[0m\u001b[0;34m\u001b[0m\u001b[0m\n\u001b[0;32m----> 2\u001b[0;31m \u001b[0membedding_layer\u001b[0m \u001b[0;34m=\u001b[0m \u001b[0mEmbedding\u001b[0m\u001b[0;34m(\u001b[0m\u001b[0mvocab_size\u001b[0m\u001b[0;34m,\u001b[0m\u001b[0;36m128\u001b[0m\u001b[0;34m,\u001b[0m\u001b[0minput_length\u001b[0m\u001b[0;34m=\u001b[0m\u001b[0;36m30\u001b[0m\u001b[0;34m)\u001b[0m\u001b[0;34m(\u001b[0m\u001b[0minputs\u001b[0m\u001b[0;34m)\u001b[0m\u001b[0;34m\u001b[0m\u001b[0m\n\u001b[0m\u001b[1;32m      3\u001b[0m \u001b[0;31m#conv_layer = Conv2D(4, (1,1), activation='relu', input_shape=(1,30,1))(inputs)\u001b[0m\u001b[0;34m\u001b[0m\u001b[0;34m\u001b[0m\u001b[0m\n\u001b[1;32m      4\u001b[0m \u001b[0mmax_pool_layer\u001b[0m \u001b[0;34m=\u001b[0m \u001b[0mMaxPooling2D\u001b[0m\u001b[0;34m(\u001b[0m\u001b[0mpool_size\u001b[0m\u001b[0;34m=\u001b[0m\u001b[0;34m(\u001b[0m\u001b[0;36m2\u001b[0m\u001b[0;34m,\u001b[0m\u001b[0;36m2\u001b[0m\u001b[0;34m)\u001b[0m\u001b[0;34m)\u001b[0m\u001b[0;34m(\u001b[0m\u001b[0membedding_layer\u001b[0m\u001b[0;34m)\u001b[0m\u001b[0;34m\u001b[0m\u001b[0m\n\u001b[1;32m      5\u001b[0m \u001b[0mflat_layer\u001b[0m \u001b[0;34m=\u001b[0m \u001b[0mFlatten\u001b[0m\u001b[0;34m(\u001b[0m\u001b[0;34m)\u001b[0m\u001b[0;34m(\u001b[0m\u001b[0mmax_pool_layer\u001b[0m\u001b[0;34m)\u001b[0m\u001b[0;34m\u001b[0m\u001b[0m\n",
      "\u001b[0;31mNameError\u001b[0m: name 'vocab_size' is not defined"
     ]
    }
   ],
   "source": [
    "inputs = Input(shape=(MAX_LEN, ))\n",
    "embedding_layer = Embedding(vocab_size,128,input_length=MAX_LEN)(inputs)\n",
    "#conv_layer = Conv2D(4, (1,1), activation='relu', input_shape=(1,30,1))(inputs)\n",
    "max_pool_layer = MaxPooling2D(pool_size=(2,2))(embedding_layer)\n",
    "flat_layer = Flatten()(max_pool_layer)\n",
    "dense_layer = Dense(32, activation='relu')(flat_layer)\n",
    "predictions = Dense(num_class, activation='softmax')(x)\n",
    "model = Model(inputs=[inputs], outputs=predictions)\n",
    "model.compile(optimizer='adam',\n",
    "              loss='categorical_crossentropy',\n",
    "              metrics=['acc'])\n",
    "\n",
    "model.summary()"
   ]
  },
  {
   "cell_type": "code",
   "execution_count": 95,
   "metadata": {},
   "outputs": [
    {
     "name": "stdout",
     "output_type": "stream",
     "text": [
      "Train on 14919 samples, validate on 4973 samples\n",
      "Epoch 1/10\n",
      "14919/14919 [==============================] - 22s 1ms/step - loss: 1.6672 - acc: 0.3633 - val_loss: 1.2447 - val_acc: 0.5628\n",
      "\n",
      "Epoch 00001: val_acc improved from -inf to 0.56284, saving model to weights.hdf5\n",
      "Epoch 2/10\n",
      "14919/14919 [==============================] - 19s 1ms/step - loss: 0.9362 - acc: 0.6664 - val_loss: 1.0436 - val_acc: 0.6224\n",
      "\n",
      "Epoch 00002: val_acc improved from 0.56284 to 0.62236, saving model to weights.hdf5\n",
      "Epoch 3/10\n",
      "14919/14919 [==============================] - 19s 1ms/step - loss: 0.6200 - acc: 0.7804 - val_loss: 1.0210 - val_acc: 0.6380\n",
      "\n",
      "Epoch 00003: val_acc improved from 0.62236 to 0.63805, saving model to weights.hdf5\n",
      "Epoch 4/10\n",
      "14919/14919 [==============================] - 19s 1ms/step - loss: 0.4395 - acc: 0.8460 - val_loss: 1.1305 - val_acc: 0.6497\n",
      "\n",
      "Epoch 00004: val_acc improved from 0.63805 to 0.64971, saving model to weights.hdf5\n",
      "Epoch 5/10\n",
      "14919/14919 [==============================] - 19s 1ms/step - loss: 0.3367 - acc: 0.8830 - val_loss: 1.2506 - val_acc: 0.6499\n",
      "\n",
      "Epoch 00005: val_acc improved from 0.64971 to 0.64991, saving model to weights.hdf5\n",
      "Epoch 6/10\n",
      "14919/14919 [==============================] - 19s 1ms/step - loss: 0.2586 - acc: 0.9125 - val_loss: 1.3170 - val_acc: 0.6397\n",
      "\n",
      "Epoch 00006: val_acc did not improve from 0.64991\n",
      "Epoch 7/10\n",
      "14919/14919 [==============================] - 21s 1ms/step - loss: 0.2036 - acc: 0.9314 - val_loss: 1.5531 - val_acc: 0.6429\n",
      "\n",
      "Epoch 00007: val_acc did not improve from 0.64991\n",
      "Epoch 8/10\n",
      "14919/14919 [==============================] - 20s 1ms/step - loss: 0.1742 - acc: 0.9425 - val_loss: 1.5421 - val_acc: 0.6240\n",
      "\n",
      "Epoch 00008: val_acc did not improve from 0.64991\n",
      "Epoch 9/10\n",
      "14919/14919 [==============================] - 21s 1ms/step - loss: 0.1411 - acc: 0.9525 - val_loss: 1.7560 - val_acc: 0.6322\n",
      "\n",
      "Epoch 00009: val_acc did not improve from 0.64991\n",
      "Epoch 10/10\n",
      "14919/14919 [==============================] - 21s 1ms/step - loss: 0.1207 - acc: 0.9616 - val_loss: 1.8078 - val_acc: 0.6312\n",
      "\n",
      "Epoch 00010: val_acc did not improve from 0.64991\n"
     ]
    }
   ],
   "source": [
    "filepath=\"weights.hdf5\"\n",
    "checkpointer = ModelCheckpoint(filepath, monitor='val_acc', verbose=1, save_best_only=True, mode='max')\n",
    "history = model.fit([X_train], batch_size=64, y=to_categorical(y_train), verbose=1, validation_split=0.25, \n",
    "          shuffle=True, epochs=10, callbacks=[checkpointer])"
   ]
  },
  {
   "cell_type": "code",
   "execution_count": 96,
   "metadata": {},
   "outputs": [
    {
     "data": {
      "image/png": "[encoded data removed]",
      "text/plain": [
       "<Figure size 432x288 with 1 Axes>"
      ]
     },
     "metadata": {},
     "output_type": "display_data"
    }
   ],
   "source": [
    "df = pd.DataFrame({'epochs':history.epoch, 'accuracy': history.history['acc'], 'validation_accuracy': history.history['val_acc']})\n",
    "g = sns.pointplot(x=\"epochs\", y=\"accuracy\", data=df, fit_reg=False)\n",
    "g = sns.pointplot(x=\"epochs\", y=\"validation_accuracy\", data=df, fit_reg=False, color='green')"
   ]
  },
  {
   "cell_type": "code",
   "execution_count": 104,
   "metadata": {},
   "outputs": [],
   "source": [
    "model.load_weights('weights.hdf5')\n",
    "predicted = model.predict(X_test)"
   ]
  },
  {
   "cell_type": "code",
   "execution_count": 105,
   "metadata": {},
   "outputs": [
    {
     "data": {
      "text/plain": [
       "array([[1.0344639e-05, 1.5351452e-02, 5.0802883e-03, ..., 7.1069127e-04,\n",
       "        9.6186298e-01, 6.0175946e-03],\n",
       "       [2.2912056e-05, 2.9242530e-03, 3.2436173e-02, ..., 1.3660104e-04,\n",
       "        9.6118915e-01, 2.0749243e-03],\n",
       "       [1.0845945e-03, 5.3637080e-02, 8.5993581e-02, ..., 7.3944764e-05,\n",
       "        7.2158611e-04, 2.2209517e-06],\n",
       "       ...,\n",
       "       [5.9987395e-04, 1.6572144e-02, 5.8027308e-02, ..., 1.8266826e-04,\n",
       "        1.9588366e-03, 7.3912452e-06],\n",
       "       [3.5473499e-03, 5.7793319e-01, 2.7633289e-01, ..., 1.6199077e-04,\n",
       "        8.4578857e-04, 2.1994520e-05],\n",
       "       [1.1130843e-02, 2.0849971e-01, 4.9983567e-01, ..., 6.5097730e-03,\n",
       "        1.3685922e-01, 3.0198141e-03]], dtype=float32)"
      ]
     },
     "execution_count": 105,
     "metadata": {},
     "output_type": "execute_result"
    }
   ],
   "source": [
    "predicted"
   ]
  },
  {
   "cell_type": "code",
   "execution_count": 106,
   "metadata": {},
   "outputs": [],
   "source": [
    "predicted = np.argmax(predicted, axis=1)"
   ]
  },
  {
   "cell_type": "code",
   "execution_count": 107,
   "metadata": {},
   "outputs": [
    {
     "data": {
      "text/plain": [
       "0.6572175311620426"
      ]
     },
     "execution_count": 107,
     "metadata": {},
     "output_type": "execute_result"
    }
   ],
   "source": [
    "accuracy_score(y_test, predicted)"
   ]
  }
 ],
 "metadata": {
  "kernelspec": {
   "display_name": "Python 3",
   "language": "python",
   "name": "python3"
  },
  "language_info": {
   "codemirror_mode": {
    "name": "ipython",
    "version": 3
   },
   "file_extension": ".py",
   "mimetype": "text/x-python",
   "name": "python",
   "nbconvert_exporter": "python",
   "pygments_lexer": "ipython3",
   "version": "3.5.2"
  }
 },
 "nbformat": 4,
 "nbformat_minor": 2
}
