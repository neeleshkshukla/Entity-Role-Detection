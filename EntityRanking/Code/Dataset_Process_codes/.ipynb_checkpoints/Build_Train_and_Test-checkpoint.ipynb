{
 "cells": [
  {
   "cell_type": "markdown",
   "metadata": {},
   "source": [
    "Divide the corpus in train and test dataset by 80:20 ratio"
   ]
  },
  {
   "cell_type": "code",
   "execution_count": 1,
   "metadata": {},
   "outputs": [],
   "source": [
    "import os\n",
    "import numpy as np\n",
    "import shutil as sh"
   ]
  },
  {
   "cell_type": "code",
   "execution_count": 2,
   "metadata": {},
   "outputs": [],
   "source": [
    "corpus_dir = '../../Data/input/all'\n",
    "corpus_dir_train = '../../Data/input/train'\n",
    "corpus_dir_test = '../../Data/input/test'\n",
    "content_dir_name = 'content'\n",
    "tag_dir_name = 'new_tags'"
   ]
  },
  {
   "cell_type": "code",
   "execution_count": 3,
   "metadata": {},
   "outputs": [
    {
     "name": "stdout",
     "output_type": "stream",
     "text": [
      "856\n",
      "231\n"
     ]
    }
   ],
   "source": [
    "# Random sample to divide train and test file name in 80:20\n",
    "\n",
    "train_file_list = []\n",
    "test_file_list = []\n",
    "\n",
    "content_dir = os.path.join(corpus_dir, content_dir_name)\n",
    "for f in os.listdir(content_dir):\n",
    "    #Random Sampling\n",
    "    if np.random.uniform(0,1)< 0.8:\n",
    "        train_file_list.append(f)\n",
    "    else:\n",
    "        test_file_list.append(f)\n",
    "\n",
    "print (len(train_file_list))\n",
    "print (len(test_file_list))"
   ]
  },
  {
   "cell_type": "code",
   "execution_count": 4,
   "metadata": {},
   "outputs": [],
   "source": [
    "# Move the file to train and test\n",
    "\n",
    "train_content_dir = os.path.join(corpus_dir_train, content_dir_name)\n",
    "train_tag_dir = os.path.join(corpus_dir_train, tag_dir_name)\n",
    "test_content_dir = os.path.join(corpus_dir_test, content_dir_name)\n",
    "test_tag_dir = os.path.join(corpus_dir_test, tag_dir_name)\n",
    "\n",
    "for f in train_file_list:\n",
    "    sh.copy(os.path.join(corpus_dir, content_dir_name, f), train_content_dir)\n",
    "    sh.copy(os.path.join(corpus_dir, tag_dir_name, f), train_tag_dir)\n",
    "    \n",
    "    \n",
    "for f in test_file_list:\n",
    "    sh.copy(os.path.join(corpus_dir, content_dir_name, f), test_content_dir)\n",
    "    sh.copy(os.path.join(corpus_dir, tag_dir_name, f), test_tag_dir)"
   ]
  }
 ],
 "metadata": {
  "kernelspec": {
   "display_name": "Python 3",
   "language": "python",
   "name": "python3"
  },
  "language_info": {
   "codemirror_mode": {
    "name": "ipython",
    "version": 3
   },
   "file_extension": ".py",
   "mimetype": "text/x-python",
   "name": "python",
   "nbconvert_exporter": "python",
   "pygments_lexer": "ipython3",
   "version": "3.5.2"
  }
 },
 "nbformat": 4,
 "nbformat_minor": 2
}
