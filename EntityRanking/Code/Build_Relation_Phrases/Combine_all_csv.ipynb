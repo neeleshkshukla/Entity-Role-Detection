{
 "cells": [
  {
   "cell_type": "code",
   "execution_count": 1,
   "metadata": {},
   "outputs": [],
   "source": [
    "import csv, os"
   ]
  },
  {
   "cell_type": "code",
   "execution_count": 2,
   "metadata": {},
   "outputs": [],
   "source": [
    "csv_folder = '../../Data/output/StanfordOpenIE/Relation_Phrases'"
   ]
  },
  {
   "cell_type": "code",
   "execution_count": 10,
   "metadata": {},
   "outputs": [],
   "source": [
    "unigram_dict = dict()\n",
    "bigram_dict = dict()\n",
    "ngram_dict = dict()\n",
    "\n",
    "for f in os.listdir(csv_folder):\n",
    "    with open(os.path.join(csv_folder, f), 'rt') as csvfile:\n",
    "        csvReader = csv.reader(csvfile)\n",
    "        for row in csvReader:\n",
    "            phrase = row[0]\n",
    "            phraseParts = phrase.split()\n",
    "            if len(phraseParts) == 1:\n",
    "                if phrase in unigram_dict.keys():\n",
    "                    count = unigram_dict[phrase]\n",
    "                    unigram_dict[phrase] = count + int(row[1])\n",
    "                else:\n",
    "                    unigram_dict[phrase] = int(row[1])\n",
    "            elif len(phraseParts) == 2:\n",
    "                if phrase in bigram_dict.keys():\n",
    "                    count = bigram_dict[phrase]\n",
    "                    bigram_dict[phrase] = count + int(row[1])\n",
    "                else:\n",
    "                    bigram_dict[phrase] = int(row[1])\n",
    "            else:\n",
    "                if phrase in ngram_dict.keys():\n",
    "                    count = ngram_dict[phrase]\n",
    "                    ngram_dict[phrase] = count + int(row[1])\n",
    "                else:\n",
    "                    ngram_dict[phrase] = int(row[1])\n",
    "\n",
    "with open(os.path.join(csv_folder, 'unigram_phrases.csv'), 'wt') as csvfile:\n",
    "    writer = csv.writer(csvfile)\n",
    "    for key, value in unigram_dict.items():\n",
    "            writer.writerow([key, value])\n",
    "            \n",
    "with open(os.path.join(csv_folder, 'bigram_phrases.csv'), 'wt') as csvfile:\n",
    "    writer = csv.writer(csvfile)\n",
    "    for key, value in bigram_dict.items():\n",
    "            writer.writerow([key, value])\n",
    "            \n",
    "with open(os.path.join(csv_folder, 'ngram_phrases.csv'), 'wt') as csvfile:\n",
    "    writer = csv.writer(csvfile)\n",
    "    for key, value in ngram_dict.items():\n",
    "            writer.writerow([key, value])"
   ]
  }
 ],
 "metadata": {
  "kernelspec": {
   "display_name": "Python 3",
   "language": "python",
   "name": "python3"
  },
  "language_info": {
   "codemirror_mode": {
    "name": "ipython",
    "version": 3
   },
   "file_extension": ".py",
   "mimetype": "text/x-python",
   "name": "python",
   "nbconvert_exporter": "python",
   "pygments_lexer": "ipython3",
   "version": "3.5.2"
  }
 },
 "nbformat": 4,
 "nbformat_minor": 2
}
