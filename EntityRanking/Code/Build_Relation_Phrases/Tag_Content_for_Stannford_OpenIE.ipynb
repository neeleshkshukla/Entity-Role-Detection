{
 "cells": [
  {
   "cell_type": "markdown",
   "metadata": {},
   "source": [
    "This code anotates the content with /PERSON, /LOCATION and /ORGANIZATION tags which is needed for Stanford OpenIE for Relation extraction."
   ]
  },
  {
   "cell_type": "code",
   "execution_count": 1,
   "metadata": {},
   "outputs": [],
   "source": [
    "import os"
   ]
  },
  {
   "cell_type": "code",
   "execution_count": 3,
   "metadata": {},
   "outputs": [],
   "source": [
    "corpus_dir = '../../Data/input/all'\n",
    "annotated_content_dir = '../../Data/output/StanfordOpenIE/annotated'\n",
    "\n",
    "content_dir_name = 'content'\n",
    "tag_dir_name = 'new_tags'\n",
    "\n",
    "content_dir = os.path.join(corpus_dir, content_dir_name)\n",
    "tag_dir = os.path.join(corpus_dir, tag_dir_name)\n",
    "\n",
    "per_tag_in_corpus = 'PER'\n",
    "per_tag_for_stanford_ie = 'PERSON'\n",
    "\n",
    "loc_tag_in_corpus = 'LOC'\n",
    "loc_tag_for_stanford_ie = 'LOCATION'\n",
    "\n",
    "org_tag_in_corpus = 'ORG'\n",
    "org_tag_for_stanford_ie = 'ORGANIZATION'"
   ]
  },
  {
   "cell_type": "code",
   "execution_count": 9,
   "metadata": {},
   "outputs": [],
   "source": [
    "for f in os.listdir(content_dir):\n",
    "    #print('Processing file '+f)\n",
    "    content_file = os.path.join(content_dir, f)\n",
    "    tag_file = os.path.join(tag_dir, f)\n",
    "    annotated_content_file = os.path.join(annotated_content_dir, f)\n",
    "    \n",
    "    words = list()\n",
    "    tags = list()\n",
    "    \n",
    "    with open(content_file, 'rt') as cf:\n",
    "            for line in cf:\n",
    "                for word in line.strip('\\n').split():\n",
    "                    words.append(word)\n",
    "\n",
    "    with open(tag_file, 'rt') as tf:\n",
    "            for line in tf:\n",
    "                for tag in line.strip('\\n').split():\n",
    "                    tags.append(tag)\n",
    "    \n",
    "    word_len = len(words)\n",
    "    tag_len = len(tags)\n",
    "    \n",
    "    #print('words ' + str(word_len))\n",
    "    if word_len == tag_len:\n",
    "       # print('inside annotation')\n",
    "        \n",
    "        annotated_content = ''\n",
    "        i = 0\n",
    "        while i < word_len:\n",
    "            #print(tags[i][:3])\n",
    "            annotated_content = annotated_content+words[i]\n",
    "            if tags[i][:3] == per_tag_in_corpus:\n",
    "                annotated_content = annotated_content+'/'+per_tag_for_stanford_ie\n",
    "            elif tags[i][:3] == loc_tag_in_corpus:\n",
    "                annotated_content = annotated_content+'/'+loc_tag_for_stanford_ie\n",
    "            elif tags[i][:3] == org_tag_in_corpus:\n",
    "                annotated_content = annotated_content+'/'+org_tag_for_stanford_ie\n",
    "                \n",
    "            annotated_content = annotated_content + ' '\n",
    "            i = i+1\n",
    "        with open(annotated_content_file, 'wt') as acf:\n",
    "            acf.write(annotated_content)"
   ]
  }
 ],
 "metadata": {
  "kernelspec": {
   "display_name": "Python 3",
   "language": "python",
   "name": "python3"
  },
  "language_info": {
   "codemirror_mode": {
    "name": "ipython",
    "version": 3
   },
   "file_extension": ".py",
   "mimetype": "text/x-python",
   "name": "python",
   "nbconvert_exporter": "python",
   "pygments_lexer": "ipython3",
   "version": "3.5.2"
  }
 },
 "nbformat": 4,
 "nbformat_minor": 2
}
