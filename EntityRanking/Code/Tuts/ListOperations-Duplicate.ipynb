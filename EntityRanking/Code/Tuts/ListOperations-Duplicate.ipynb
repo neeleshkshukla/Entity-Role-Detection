{
 "cells": [
  {
   "cell_type": "code",
   "execution_count": 4,
   "metadata": {},
   "outputs": [],
   "source": [
    "from operator import itemgetter"
   ]
  },
  {
   "cell_type": "code",
   "execution_count": 15,
   "metadata": {},
   "outputs": [],
   "source": [
    "retrievedResult= [(('Mumbai', 'Others'), 4),(('Mumbai', 'Event'), 5),(('Mumbai', 'Others'), 2),(('Mumbai', 'Others'), 7),(('Mumbai', 'Event'), 8),(('Mumbai', 'Event'), 1)]"
   ]
  },
  {
   "cell_type": "code",
   "execution_count": 16,
   "metadata": {},
   "outputs": [
    {
     "name": "stdout",
     "output_type": "stream",
     "text": [
      "(('Mumbai', 'Event'), 8)\n",
      "(('Mumbai', 'Others'), 7)\n",
      "(('Mumbai', 'Event'), 5)\n",
      "(('Mumbai', 'Others'), 4)\n",
      "(('Mumbai', 'Others'), 2)\n",
      "(('Mumbai', 'Event'), 1)\n"
     ]
    }
   ],
   "source": [
    "# Sort by the weight\n",
    "retrievedResult = sorted(retrievedResult,key=itemgetter(1), reverse=True)\n",
    "for result in retrievedResult:\n",
    "    print(result)"
   ]
  },
  {
   "cell_type": "code",
   "execution_count": 19,
   "metadata": {},
   "outputs": [
    {
     "name": "stdout",
     "output_type": "stream",
     "text": [
      "[(('Mumbai', 'Event'), 8), (('Mumbai', 'Others'), 7)]\n"
     ]
    }
   ],
   "source": [
    "retrievedResultSet = set()\n",
    "newretrievedResult = list()\n",
    "for result in retrievedResult:\n",
    "    if result[0] in retrievedResultSet:\n",
    "        pass\n",
    "    else:\n",
    "        retrievedResultSet.add(result[0])\n",
    "        newretrievedResult.append(result)\n",
    "print(newretrievedResult)"
   ]
  }
 ],
 "metadata": {
  "kernelspec": {
   "display_name": "Python 3",
   "language": "python",
   "name": "python3"
  },
  "language_info": {
   "codemirror_mode": {
    "name": "ipython",
    "version": 3
   },
   "file_extension": ".py",
   "mimetype": "text/x-python",
   "name": "python",
   "nbconvert_exporter": "python",
   "pygments_lexer": "ipython3",
   "version": "3.5.2"
  }
 },
 "nbformat": 4,
 "nbformat_minor": 2
}
