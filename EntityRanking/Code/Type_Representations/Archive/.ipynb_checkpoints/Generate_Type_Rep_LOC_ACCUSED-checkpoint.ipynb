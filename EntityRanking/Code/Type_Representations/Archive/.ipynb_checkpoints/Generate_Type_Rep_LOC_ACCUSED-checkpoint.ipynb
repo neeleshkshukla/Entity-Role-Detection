{
 "cells": [
  {
   "cell_type": "code",
   "execution_count": 1,
   "metadata": {},
   "outputs": [],
   "source": [
    "import os\n",
    "import shutil"
   ]
  },
  {
   "cell_type": "code",
   "execution_count": 2,
   "metadata": {},
   "outputs": [],
   "source": [
    "content_dir = '../../../Data/input/train/content'\n",
    "tag_dir = '../../../Data/input/train/new_tags'\n",
    "target_dir = '../../../Data/output/TypeRep/type_word/corpus_replaced_entity_with_tag'"
   ]
  },
  {
   "cell_type": "code",
   "execution_count": 3,
   "metadata": {},
   "outputs": [],
   "source": [
    "_tag = 'LOC_Accused'"
   ]
  },
  {
   "cell_type": "code",
   "execution_count": 4,
   "metadata": {},
   "outputs": [
    {
     "ename": "FileNotFoundError",
     "evalue": "[Errno 2] No such file or directory: '../../Data/input/train/content'",
     "output_type": "error",
     "traceback": [
      "\u001b[0;31m---------------------------------------------------------------------------\u001b[0m",
      "\u001b[0;31mFileNotFoundError\u001b[0m                         Traceback (most recent call last)",
      "\u001b[0;32m<ipython-input-4-cca6ca8e0833>\u001b[0m in \u001b[0;36m<module>\u001b[0;34m()\u001b[0m\n\u001b[1;32m      1\u001b[0m \u001b[0mtag_word_content\u001b[0m \u001b[0;34m=\u001b[0m \u001b[0;34m''\u001b[0m\u001b[0;34m\u001b[0m\u001b[0m\n\u001b[1;32m      2\u001b[0m \u001b[0;34m\u001b[0m\u001b[0m\n\u001b[0;32m----> 3\u001b[0;31m \u001b[0;32mfor\u001b[0m \u001b[0mf\u001b[0m \u001b[0;32min\u001b[0m \u001b[0mos\u001b[0m\u001b[0;34m.\u001b[0m\u001b[0mlistdir\u001b[0m\u001b[0;34m(\u001b[0m\u001b[0mcontent_dir\u001b[0m\u001b[0;34m)\u001b[0m\u001b[0;34m:\u001b[0m\u001b[0;34m\u001b[0m\u001b[0m\n\u001b[0m\u001b[1;32m      4\u001b[0m     \u001b[0mprint\u001b[0m\u001b[0;34m(\u001b[0m\u001b[0mf\u001b[0m\u001b[0;34m)\u001b[0m\u001b[0;34m\u001b[0m\u001b[0m\n\u001b[1;32m      5\u001b[0m     \u001b[0mcontent_file\u001b[0m \u001b[0;34m=\u001b[0m \u001b[0mos\u001b[0m\u001b[0;34m.\u001b[0m\u001b[0mpath\u001b[0m\u001b[0;34m.\u001b[0m\u001b[0mjoin\u001b[0m\u001b[0;34m(\u001b[0m\u001b[0mcontent_dir\u001b[0m\u001b[0;34m,\u001b[0m \u001b[0mf\u001b[0m\u001b[0;34m)\u001b[0m\u001b[0;34m\u001b[0m\u001b[0m\n",
      "\u001b[0;31mFileNotFoundError\u001b[0m: [Errno 2] No such file or directory: '../../Data/input/train/content'"
     ]
    }
   ],
   "source": [
    "tag_word_content = ''\n",
    "\n",
    "for f in os.listdir(content_dir):\n",
    "    print(f)\n",
    "    content_file = os.path.join(content_dir, f)\n",
    "    tag_file = os.path.join(tag_dir, f)\n",
    "    words = list()\n",
    "    tags = list()\n",
    "    with open(content_file, 'rt') as cf:\n",
    "        for line in cf:\n",
    "            for word in line.strip('\\n').split():\n",
    "                words.append(word)\n",
    "\n",
    "    with open(tag_file, 'rt') as tf:\n",
    "        for line in tf:\n",
    "            for tag in line.strip('\\n').split():\n",
    "                tags.append(tag)\n",
    "    word_len = len(words)\n",
    "    tag_len = len(tags)\n",
    "    if word_len == tag_len:\n",
    "        i = 0\n",
    "        while i < word_len:\n",
    "            if tags[i] == _tag:\n",
    "                entity_start_index = i\n",
    "                entity_end_index = i \n",
    "                while entity_end_index< word_len -1 and tags[entity_end_index] == tags[entity_end_index+1]:\n",
    "                    entity_end_index = entity_end_index + 1\n",
    "                i = entity_end_index;\n",
    "                tag_word_content = tag_word_content + _tag + ' '\n",
    "            else:\n",
    "                tag_word_content = tag_word_content + words[i] + ' '\n",
    "            i = i + 1\n",
    "            \n",
    "with open(os.path.join(target_dir, _tag), \"w\") as text_file:\n",
    "    text_file.write(tag_word_content)"
   ]
  }
 ],
 "metadata": {
  "kernelspec": {
   "display_name": "Python 3",
   "language": "python",
   "name": "python3"
  },
  "language_info": {
   "codemirror_mode": {
    "name": "ipython",
    "version": 3
   },
   "file_extension": ".py",
   "mimetype": "text/x-python",
   "name": "python",
   "nbconvert_exporter": "python",
   "pygments_lexer": "ipython3",
   "version": "3.5.2"
  }
 },
 "nbformat": 4,
 "nbformat_minor": 2
}
