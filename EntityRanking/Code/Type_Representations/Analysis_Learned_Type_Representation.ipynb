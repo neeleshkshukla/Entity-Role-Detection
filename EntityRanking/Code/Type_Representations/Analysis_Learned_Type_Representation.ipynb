{
 "cells": [
  {
   "cell_type": "code",
   "execution_count": 1,
   "metadata": {},
   "outputs": [],
   "source": [
    "import pickle"
   ]
  },
  {
   "cell_type": "code",
   "execution_count": 2,
   "metadata": {},
   "outputs": [],
   "source": [
    "_tag_vect_dict = pickle.load(open( \"../../Data/output/TypeRep/type_word/train/tag_vec_dict.p\", \"rb\" ) )\n",
    "_tag_word_dict = pickle.load(open( \"../../Data/output/TypeRep/type_word/train/tag_word_dict.p\", \"rb\" ) )"
   ]
  },
  {
   "cell_type": "code",
   "execution_count": 3,
   "metadata": {},
   "outputs": [
    {
     "name": "stdout",
     "output_type": "stream",
     "text": [
      "LOC_Event [('298.8', 0.9452037215232849), ('friday', 0.9345641136169434), ('one', 0.9336049556732178), ('bomb', 0.9318419694900513), ('near', 0.9280843734741211), ('blast', 0.9222268462181091), ('monday', 0.9185738563537598), ('two', 0.9151285886764526), ('waste-papers', 0.9148021936416626), ('wednesday', 0.9094426035881042), ('riyas', 0.9089627861976624), ('people', 0.9072010517120361), ('brought', 0.9038133025169373), ('area', 0.9037970304489136), ('killed', 0.9035921692848206), ('blasts', 0.9032737016677856), ('attack', 0.9032616019248962), ('another', 0.9013210535049438), ('first', 0.8993592262268066), ('said', 0.8977240920066833), ('asimanand', 0.8961100578308105), ('time', 0.894812822341919), ('outside', 0.8946843147277832), ('explosion', 0.8944391012191772), ('day', 0.8940559029579163), ('just', 0.8935253620147705), ('khallikote', 0.8933696746826172), ('since', 0.8933420181274414), ('ttp-pakistan', 0.8924744129180908), ('went', 0.8914841413497925)] \n",
      "\n",
      "PER_Others [('said', 0.9422405958175659), ('asimanand', 0.9250243902206421), ('riyas', 0.9231883883476257), ('charge-sheets', 0.9225724935531616), ('mr.', 0.9140095710754395), ('told', 0.9095957279205322), ('one', 0.9093930721282959), ('time', 0.9080648422241211), ('even', 0.9071923494338989), ('convenership', 0.9042215347290039), ('0475-2222595', 0.9020213484764099), ('charge-sheet', 0.9015170335769653), ('however', 0.9004624485969543), ('just', 0.8979451656341553), ('monday', 0.8969449996948242), ('maudany', 0.8960754871368408), ('police', 0.8946294188499451), ('several', 0.894182026386261), ('friday', 0.8936131596565247), ('9497990026', 0.8933936953544617), ('abubucker', 0.8931101560592651), ('people', 0.8917158246040344), ('sharp-shooter', 0.8878262042999268), ('will', 0.887008786201477), ('sanjarpur', 0.8867735266685486), ('another', 0.8866739869117737), ('government', 0.8852883577346802), ('brought', 0.8838703036308289), ('thursday', 0.8833408355712891), ('earlier', 0.8829832673072815)] \n",
      "\n",
      "LOC_Victim [('lunel', 0.2375759780406952), ('indigenas', 0.2215781807899475), ('barnhouse', 0.21979007124900818), ('olivaceous', 0.21857064962387085), ('bâtiments', 0.217471644282341), ('kliment', 0.21737352013587952), ('takua', 0.21722453832626343), ('buninyong', 0.2166830599308014), ('yumnam', 0.21615007519721985), ('tully', 0.21533815562725067), ('bkeefe', 0.21390657126903534), ('quasars', 0.21316707134246826), ('konoe', 0.21236057579517365), ('askham', 0.2115919589996338), ('perowne', 0.20990251004695892), ('quindaro', 0.20882561802864075), ('mjohnson', 0.20848391950130463), ('ullevål', 0.20839178562164307), ('keefe', 0.20801150798797607), ('glens', 0.2074698507785797), ('wraxall', 0.2074541449546814), ('presbyterate', 0.20697686076164246), ('nisbet', 0.20601263642311096), ('white-faced', 0.20534749329090118), ('whitbourne', 0.20445463061332703), ('kirkegaard', 0.20150741934776306), ('cooktown', 0.20123594999313354), ('cuyp', 0.20051658153533936), ('plantation', 0.19921696186065674), ('subdeacon', 0.19916853308677673)] \n",
      "\n",
      "PER_Accused [('accused', 0.9418718814849854), ('convenership', 0.9192255735397339), ('arrested', 0.9191650748252869), ('case', 0.9128508567810059), ('shabari', 0.9093378782272339), ('charge-sheet', 0.9091379642486572), ('sudershan', 0.9078994989395142), ('charge', 0.9075798392295837), ('l-18', 0.8987394571304321), ('charge-sheets', 0.8985549807548523), ('0475-2222595', 0.8974622488021851), ('one', 0.894463062286377), ('brought', 0.8936512470245361), ('mr.', 0.8927192687988281), ('others', 0.8850715160369873), ('harekrushna', 0.8845686912536621), ('abinav', 0.8831072449684143), ('bomb', 0.8790754079818726), ('court', 0.8758383989334106), ('9497990026', 0.8756937980651855), ('time', 0.8749146461486816), ('two', 0.8744850158691406), ('though', 0.8743789196014404), ('said', 0.8740407228469849), ('monday', 0.8724896311759949), ('police', 0.8718445301055908), ('several', 0.8714673519134521), ('friday', 0.8702476024627686), ('earlier', 0.8694374561309814), ('markandey', 0.8688684105873108)] \n",
      "\n",
      "LOC_Accused [('asimanand', 0.9454209804534912), ('shabari', 0.936920166015625), ('convenership', 0.9221765995025635), ('riyas', 0.915876030921936), ('9497990026', 0.91286700963974), ('kunangudi', 0.9119603633880615), ('l-18', 0.9112036824226379), ('0475-2222595', 0.9077712893486023), ('abomb', 0.9068185091018677), ('koukuntla', 0.9029040336608887), ('immadoddin', 0.900985836982727), ('charge-sheet', 0.8996303081512451), ('one', 0.8970804214477539), ('kalasangra', 0.8958536386489868), ('harekrushna', 0.8929758071899414), ('saif-ur-rehman', 0.8921274542808533), ('muzafarpur', 0.8898143172264099), ('sudershan', 0.8883577585220337), ('arrested', 0.8864405751228333), ('viqar', 0.8806506991386414), ('accused', 0.8803809881210327), ('brought', 0.8798083066940308), ('khayum', 0.8795431852340698), ('abubucker', 0.8776448965072632), ('charge-sheets', 0.875582218170166), ('gupta', 0.8753807544708252), ('shekowal', 0.8743835091590881), ('charge', 0.8719557523727417), ('sharp-shooter', 0.871337890625), ('two', 0.8710074424743652)] \n",
      "\n",
      "ORG_Victim [('attack', 0.9185558557510376), ('bomb', 0.9062715768814087), ('ttp-pakistan', 0.9061791896820068), ('monday', 0.9059170484542847), ('attacks', 0.9051231145858765), ('two', 0.9032524824142456), ('one', 0.9027931690216064), ('sudershan', 0.8984682559967041), ('area', 0.8981497287750244), ('khyber-pukhtoonkhwa', 0.8979072570800781), ('hinduthat', 0.8974096775054932), ('riyas', 0.8960084915161133), ('said', 0.8946608304977417), ('explosives-laden', 0.8925450444221497), ('friday', 0.8886942267417908), ('harekrushna', 0.8877631425857544), ('near', 0.8873148560523987), ('security', 0.8844919800758362), ('killed', 0.8843268156051636), ('blast', 0.8833388090133667), ('wednesday', 0.8824120759963989), ('parirakshana', 0.8821346163749695), ('another', 0.881576418876648), ('asimanand', 0.87940514087677), ('convenership', 0.8786070346832275), ('shabari', 0.8745625019073486), ('298.8', 0.8732839822769165), ('kalasangra', 0.8731852769851685), ('several', 0.8731032609939575), ('ethiopian-themed', 0.869598925113678)] \n",
      "\n",
      "LOC_Others [('asimanand', 0.9430825114250183), ('charge-sheet', 0.9389287829399109), ('one', 0.9379254579544067), ('298.8', 0.9334632158279419), ('sudershan', 0.92961585521698), ('two', 0.9221305251121521), ('riyas', 0.9210858941078186), ('brought', 0.9179030656814575), ('case', 0.9161907434463501), ('9497990026', 0.9158051013946533), ('friday', 0.9151583909988403), ('near', 0.9148216843605042), ('kurhani', 0.9121353626251221), ('several', 0.9109270572662354), ('kunangudi', 0.9105280637741089), ('police', 0.9098106622695923), ('said', 0.9097225666046143), ('monday', 0.9083868265151978), ('harekrushna', 0.9082036018371582), ('even', 0.9056267142295837), ('bomb', 0.9051738381385803), ('day', 0.9040321111679077), ('people', 0.9035966396331787), ('hinduthat', 0.903542697429657), ('convenership', 0.9018660187721252), ('0475-2222595', 0.9018518328666687), ('blast', 0.9012017846107483), ('government', 0.9007714986801147), ('shabari', 0.8996436595916748), ('just', 0.8988564610481262)] \n",
      "\n",
      "ORG_Accused [('attacks', 0.917985200881958), ('convenership', 0.9113845825195312), ('asimanand', 0.9065645337104797), ('shabari', 0.9029696583747864), ('two', 0.8981506824493408), ('riyas', 0.8974621295928955), ('one', 0.8947892189025879), ('ttp-pakistan', 0.8909041881561279), ('sudershan', 0.8880447745323181), ('claimed', 0.8877192139625549), ('accused', 0.8868237733840942), ('involved', 0.8835858702659607), ('earlier', 0.8835199475288391), ('attack', 0.8829811811447144), ('abubucker', 0.8809958100318909), ('said', 0.8796486258506775), ('bomb', 0.8795349597930908), ('government', 0.8788508176803589), ('jehadi/terrorist', 0.8783489465713501), ('time', 0.8774645328521729), ('blast', 0.876347541809082), ('involvement', 0.8760037422180176), ('even', 0.875984251499176), ('298.8', 0.8753966093063354), ('several', 0.8736342787742615), ('ethiopian-themed', 0.873575747013092), ('806-page', 0.8731213212013245), ('khyber-pukhtoonkhwa', 0.8730509281158447), ('group', 0.8728405237197876), ('though', 0.871416449546814)] \n",
      "\n",
      "PER_Victim [('one', 0.9017773866653442), ('injured', 0.9013577103614807), ('near', 0.8833698034286499), ('said', 0.8768473267555237), ('killed', 0.8741815090179443), ('mr.', 0.8718171119689941), ('another', 0.8688304424285889), ('maudany', 0.8670182228088379), ('blast', 0.8651986122131348), ('bahadurganj', 0.8647977113723755), ('later', 0.861527681350708), ('others', 0.8600032925605774), ('sudershan', 0.85760897397995), ('asimanand', 0.8556925058364868), ('people', 0.8542639017105103), ('riyas', 0.8533855080604553), ('went', 0.8526415824890137), ('abubucker', 0.8516939878463745), ('several', 0.8452515602111816), ('muzafarpur', 0.8426973819732666), ('friday', 0.840084969997406), ('monday', 0.8391702175140381), ('dead', 0.8391593098640442), ('attack', 0.837725818157196), ('however', 0.8367050886154175), ('convenership', 0.8365142345428467), ('time', 0.8362993001937866), ('told', 0.836220383644104), ('home', 0.8354474306106567), ('minister', 0.8351866006851196)] \n",
      "\n",
      "ORG_Others [('asimanand', 0.9601529240608215), ('riyas', 0.9462783336639404), ('charge-sheet', 0.9403635263442993), ('sudershan', 0.938666820526123), ('case', 0.9365936517715454), ('charge-sheets', 0.9347002506256104), ('monday', 0.9287720918655396), ('kunangudi', 0.9238499402999878), ('accused', 0.9227895736694336), ('said', 0.9212100505828857), ('saif-ur-rehman', 0.9199929237365723), ('friday', 0.9186412692070007), ('maudany', 0.9163399934768677), ('two', 0.9148588180541992), ('one', 0.9130955338478088), ('several', 0.913074791431427), ('immadoddin', 0.9122252464294434), ('abubucker', 0.9100793600082397), ('brought', 0.9096928834915161), ('viqar', 0.9093886613845825), ('mr.', 0.9072449207305908), ('court', 0.9068187475204468), ('will', 0.9065840244293213), ('police', 0.906124472618103), ('investigation', 0.9050744771957397), ('kalasangra', 0.9018268585205078), ('time', 0.9017588496208191), ('convenership', 0.9017219543457031), ('charge', 0.901673436164856), ('arrested', 0.9009542465209961)] \n",
      "\n"
     ]
    }
   ],
   "source": [
    "# Print all the words for Types\n",
    "\n",
    "for key in _tag_word_dict.keys():\n",
    "    print(key, _tag_word_dict[key], '\\n')"
   ]
  },
  {
   "cell_type": "code",
   "execution_count": 4,
   "metadata": {},
   "outputs": [],
   "source": [
    "import numpy as np\n",
    "def cosine_distance(a, b):\n",
    "    dot_product = np.dot(a, b)\n",
    "    norm_a = np.linalg.norm(a)\n",
    "    norm_b = np.linalg.norm(b)\n",
    "    cosine_sim = dot_product / (norm_a * norm_b)\n",
    "    return 1-cosine_sim"
   ]
  },
  {
   "cell_type": "code",
   "execution_count": 5,
   "metadata": {},
   "outputs": [
    {
     "name": "stdout",
     "output_type": "stream",
     "text": [
      "Cosine distances\n",
      "\n",
      "LOC_Event LOC_Event 0.0\n",
      "LOC_Event LOC_Victim 0.9441628009080887\n",
      "LOC_Event LOC_Accused 0.09673887491226196\n",
      "LOC_Event LOC_Others 0.03497910499572754\n",
      "PER_Others PER_Others 5.960464477539063e-08\n",
      "PER_Others PER_Accused 0.07437223196029663\n",
      "PER_Others PER_Victim 0.08802562952041626\n",
      "LOC_Victim LOC_Event 0.9441628009080887\n",
      "LOC_Victim LOC_Victim 0.0\n",
      "LOC_Victim LOC_Accused 1.000433192908531\n",
      "LOC_Victim LOC_Others 0.9760257918387651\n",
      "PER_Accused PER_Others 0.07437223196029663\n",
      "PER_Accused PER_Accused 0.0\n",
      "PER_Accused PER_Victim 0.13391757011413574\n",
      "LOC_Accused LOC_Event 0.09673887491226196\n",
      "LOC_Accused LOC_Victim 1.000433192908531\n",
      "LOC_Accused LOC_Accused -1.1920928955078125e-07\n",
      "LOC_Accused LOC_Others 0.05557006597518921\n",
      "ORG_Victim ORG_Victim -1.1920928955078125e-07\n",
      "ORG_Victim ORG_Accused 0.07035648822784424\n",
      "ORG_Victim ORG_Others 0.07668763399124146\n",
      "LOC_Others LOC_Event 0.03497910499572754\n",
      "LOC_Others LOC_Victim 0.9760257918387651\n",
      "LOC_Others LOC_Accused 0.05557006597518921\n",
      "LOC_Others LOC_Others 5.960464477539063e-08\n",
      "ORG_Accused ORG_Victim 0.07035648822784424\n",
      "ORG_Accused ORG_Accused 0.0\n",
      "ORG_Accused ORG_Others 0.05366230010986328\n",
      "PER_Victim PER_Others 0.08802562952041626\n",
      "PER_Victim PER_Accused 0.13391757011413574\n",
      "PER_Victim PER_Victim 0.0\n",
      "ORG_Others ORG_Victim 0.07668763399124146\n",
      "ORG_Others ORG_Accused 0.05366230010986328\n",
      "ORG_Others ORG_Others 1.1920928955078125e-07\n"
     ]
    }
   ],
   "source": [
    "print('Cosine distances\\n')\n",
    "for key1 in _tag_vect_dict.keys():\n",
    "    for key2 in _tag_vect_dict.keys():\n",
    "        if key1[:3] == key2[:3]:\n",
    "            print(key1, key2, cosine_distance(_tag_vect_dict[key1], _tag_vect_dict[key2]))"
   ]
  }
 ],
 "metadata": {
  "kernelspec": {
   "display_name": "Python 3",
   "language": "python",
   "name": "python3"
  },
  "language_info": {
   "codemirror_mode": {
    "name": "ipython",
    "version": 3
   },
   "file_extension": ".py",
   "mimetype": "text/x-python",
   "name": "python",
   "nbconvert_exporter": "python",
   "pygments_lexer": "ipython3",
   "version": "3.5.2"
  }
 },
 "nbformat": 4,
 "nbformat_minor": 2
}
