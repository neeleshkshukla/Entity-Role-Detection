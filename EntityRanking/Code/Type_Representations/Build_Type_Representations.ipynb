{
 "cells": [
  {
   "cell_type": "markdown",
   "metadata": {},
   "source": [
    "This implements:\n",
    "\n",
    "1. Learn type representations from the corpus generated for types at Data/output/TypeRep/type_word/train/corpus_replaced_entity_with_tag\n",
    "\n",
    "2. Generate and store vector representations for the tag in type_vector dictionary Data/output/TypeRep/type_word/train\n",
    "3. Get the top n similar words to the type and store the tag in type_word dictionary at Data/output/TypeRep/type_word/train"
   ]
  },
  {
   "cell_type": "code",
   "execution_count": null,
   "metadata": {},
   "outputs": [],
   "source": [
    "import gensim, logging, os\n",
    "from gensim.models import Word2Vec, Phrases, phrases, KeyedVectors\n",
    "import scipy\n",
    "import pickle\n",
    "\n",
    "\n",
    "logging.basicConfig(format='%(asctime)s : %(levelname)s : %(message)s', level=logging.INFO)"
   ]
  },
  {
   "cell_type": "code",
   "execution_count": null,
   "metadata": {},
   "outputs": [],
   "source": [
    "type_corpus_dir = '../../Data/output/TypeRep/type_word/train/corpus_replaced_entity_with_tag'\n",
    "_tag_vect_dict = dict()\n",
    "_tag_word_dict = dict()\n",
    "_tag_list = ['LOC_Event', 'LOC_Accused', 'LOC_Victim', 'LOC_Others', 'ORG_Accused', 'ORG_Victim', 'ORG_Others', 'PER_Victim', 'PER_Others', 'PER_Accused']"
   ]
  },
  {
   "cell_type": "code",
   "execution_count": null,
   "metadata": {},
   "outputs": [],
   "source": [
    "class Corpus_Sentences(object):\n",
    "    def __init__(self, filename):\n",
    "        self.filename = filename;\n",
    "        \n",
    "    def __iter__(self):\n",
    "        for line in open(self.filename):\n",
    "            yield line.split()"
   ]
  },
  {
   "cell_type": "code",
   "execution_count": null,
   "metadata": {},
   "outputs": [],
   "source": [
    "glove_wv = KeyedVectors.load_word2vec_format('../../../word_embeddings/pretrained_word_embeddings/Word2Vec/Glove_Converted/glove_2_word2vec.6B.300d.txt', binary=False)"
   ]
  },
  {
   "cell_type": "code",
   "execution_count": null,
   "metadata": {},
   "outputs": [],
   "source": [
    "for _tag in _tag_list:\n",
    "    \n",
    "    print('Start Processing for ', _tag)\n",
    "    sentences = Corpus_Sentences(os.path.join(type_corpus_dir, _tag)) # a memory-friendly iterator\n",
    "    \n",
    "    model = Word2Vec(size=300, min_count=1, iter=10)\n",
    "    model.build_vocab(sentences)\n",
    "    training_examples_count = model.corpus_count\n",
    "    # below line will make it 1, so saving it before\n",
    "    print('Building vocab')\n",
    "    model.build_vocab([list(glove_wv.vocab.keys())], update=True)\n",
    "    print('Updating layer weights')\n",
    "    model.intersect_word2vec_format(\"../../../word_embeddings/pretrained_word_embeddings/Word2Vec/Glove_Converted/glove_2_word2vec.6B.300d.txt\",binary=False, lockf=1.0)\n",
    "    print('Training model')\n",
    "    model.train(sentences, total_examples=training_examples_count, epochs=100)\n",
    "    print('Saving model')\n",
    "    model.wv.save_word2vec_format(os.path.join('../../trained_word_embeddings/word2vec/type_rep_pretrain_trained_on_corpus', _tag), binary=False)\n",
    "    print('Getting similar words')\n",
    "    similar_words = model.similar_by_word(_tag, topn=30)\n",
    "    print('Updating similar words and vectors dictionary')\n",
    "    _tag_word_dict[_tag] = similar_words    \n",
    "    _tag_vect_dict[_tag] = model[_tag]\n",
    "    \n",
    "    print('End Processing for ', _tag)"
   ]
  },
  {
   "cell_type": "code",
   "execution_count": null,
   "metadata": {},
   "outputs": [],
   "source": [
    "print('Writing similar words and vectors dictionary')\n",
    "\n",
    "pickle.dump(_tag_vect_dict, open( \"../../Data/output/TypeRep/type_word/train/tag_vec_dict.p\", \"wb\" ) )\n",
    "pickle.dump(_tag_word_dict, open( \"../../Data/output/TypeRep/type_word/train/tag_word_dict.p\", \"wb\" ) )\n",
    "\n",
    "print('Done Writing similar words and vectors dictionary')"
   ]
  }
 ],
 "metadata": {
  "kernelspec": {
   "display_name": "Python 3",
   "language": "python",
   "name": "python3"
  },
  "language_info": {
   "codemirror_mode": {
    "name": "ipython",
    "version": 3
   },
   "file_extension": ".py",
   "mimetype": "text/x-python",
   "name": "python",
   "nbconvert_exporter": "python",
   "pygments_lexer": "ipython3",
   "version": "3.5.2"
  }
 },
 "nbformat": 4,
 "nbformat_minor": 2
}
