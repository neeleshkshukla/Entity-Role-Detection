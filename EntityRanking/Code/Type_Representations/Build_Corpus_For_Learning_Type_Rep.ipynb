{
 "cells": [
  {
   "cell_type": "code",
   "execution_count": 1,
   "metadata": {},
   "outputs": [],
   "source": [
    "import os\n",
    "import shutil"
   ]
  },
  {
   "cell_type": "code",
   "execution_count": 2,
   "metadata": {},
   "outputs": [],
   "source": [
    "content_dir = '../../../Data/input/train/content'\n",
    "tag_dir = '../../../Data/input/train/new_tags'\n",
    "target_dir = '../../../Data/output/TypeRep/type_word/train/corpus_replaced_entity_with_tag'"
   ]
  },
  {
   "cell_type": "code",
   "execution_count": 3,
   "metadata": {},
   "outputs": [],
   "source": [
    "_tag_list = ['LOC_Event', 'LOC_Accused', 'LOC_Victim', 'LOC_Others', 'ORG_Accused', 'ORG_Victim', 'ORG_Others', 'PER_Victim', 'PER_Others', 'PER_Accused']"
   ]
  },
  {
   "cell_type": "code",
   "execution_count": 4,
   "metadata": {},
   "outputs": [],
   "source": [
    "def generate_corpus_for_all_tags():\n",
    "    print('Building corpus for all tags')\n",
    "    tag_word_content = ''\n",
    "\n",
    "    for f in os.listdir(content_dir):\n",
    "        content_file = os.path.join(content_dir, f)\n",
    "        tag_file = os.path.join(tag_dir, f)\n",
    "        words = list()\n",
    "        tags = list()\n",
    "        with open(content_file, 'rt') as cf:\n",
    "            for line in cf:\n",
    "                for word in line.strip('\\n').split():\n",
    "                    words.append(word)\n",
    "\n",
    "        with open(tag_file, 'rt') as tf:\n",
    "            for line in tf:\n",
    "                for tag in line.strip('\\n').split():\n",
    "                    tags.append(tag)\n",
    "        word_len = len(words)\n",
    "        tag_len = len(tags)\n",
    "        if word_len == tag_len:\n",
    "            i = 0\n",
    "            while i < word_len:\n",
    "                if tags[i] in _tag_list:\n",
    "                    _tag = tags[i]\n",
    "                    entity_start_index = i\n",
    "                    entity_end_index = i \n",
    "                    while entity_end_index< word_len -1 and tags[entity_end_index] == tags[entity_end_index+1]:\n",
    "                        entity_end_index = entity_end_index + 1\n",
    "                    i = entity_end_index;\n",
    "                    tag_word_content = tag_word_content + _tag + ' '\n",
    "                else:\n",
    "                    tag_word_content = tag_word_content + words[i] + ' '\n",
    "                i = i + 1\n",
    "    \n",
    "    print('writing corpus for all tags')\n",
    "    with open(os.path.join(target_dir, 'ALL_TAGS'), \"w\") as text_file:\n",
    "        text_file.write(tag_word_content)"
   ]
  },
  {
   "cell_type": "code",
   "execution_count": 5,
   "metadata": {},
   "outputs": [],
   "source": [
    "def generate_corpus_for_all_tags_indivisually():\n",
    "    \n",
    "    for _tag in _tag_list:\n",
    "        print('Building corpus for', _tag)\n",
    "        tag_word_content = ''\n",
    "\n",
    "        for f in os.listdir(content_dir):\n",
    "            content_file = os.path.join(content_dir, f)\n",
    "            tag_file = os.path.join(tag_dir, f)\n",
    "            words = list()\n",
    "            tags = list()\n",
    "            with open(content_file, 'rt') as cf:\n",
    "                for line in cf:\n",
    "                    for word in line.strip('\\n').split():\n",
    "                        words.append(word)\n",
    "\n",
    "            with open(tag_file, 'rt') as tf:\n",
    "                for line in tf:\n",
    "                    for tag in line.strip('\\n').split():\n",
    "                        tags.append(tag)\n",
    "            word_len = len(words)\n",
    "            tag_len = len(tags)\n",
    "            if word_len == tag_len:\n",
    "                i = 0\n",
    "                while i < word_len:\n",
    "                    if tags[i] == _tag:\n",
    "                        _tag = tags[i]\n",
    "                        entity_start_index = i\n",
    "                        entity_end_index = i \n",
    "                        while entity_end_index< word_len -1 and tags[entity_end_index] == tags[entity_end_index+1]:\n",
    "                            entity_end_index = entity_end_index + 1\n",
    "                        i = entity_end_index;\n",
    "                        tag_word_content = tag_word_content + _tag + ' '\n",
    "                    else:\n",
    "                        tag_word_content = tag_word_content + words[i] + ' '\n",
    "                    i = i + 1\n",
    "                    \n",
    "        print('writing corpus for', _tag)\n",
    "        with open(os.path.join(target_dir, _tag), \"w\") as text_file:\n",
    "            text_file.write(tag_word_content)"
   ]
  },
  {
   "cell_type": "code",
   "execution_count": 6,
   "metadata": {},
   "outputs": [
    {
     "name": "stdout",
     "output_type": "stream",
     "text": [
      "Building corpus for all tags\n",
      "writing corpus for all tags\n",
      "Building corpus for LOC_Event\n",
      "writing corpus for LOC_Event\n",
      "Building corpus for LOC_Accused\n",
      "writing corpus for LOC_Accused\n",
      "Building corpus for LOC_Victim\n",
      "writing corpus for LOC_Victim\n",
      "Building corpus for LOC_Others\n",
      "writing corpus for LOC_Others\n",
      "Building corpus for ORG_Accused\n",
      "writing corpus for ORG_Accused\n",
      "Building corpus for ORG_Victim\n",
      "writing corpus for ORG_Victim\n",
      "Building corpus for ORG_Others\n",
      "writing corpus for ORG_Others\n",
      "Building corpus for PER_Victim\n",
      "writing corpus for PER_Victim\n",
      "Building corpus for PER_Others\n",
      "writing corpus for PER_Others\n",
      "Building corpus for PER_Accused\n",
      "writing corpus for PER_Accused\n"
     ]
    }
   ],
   "source": [
    "generate_corpus_for_all_tags()\n",
    "generate_corpus_for_all_tags_indivisually()"
   ]
  }
 ],
 "metadata": {
  "kernelspec": {
   "display_name": "Python 3",
   "language": "python",
   "name": "python3"
  },
  "language_info": {
   "codemirror_mode": {
    "name": "ipython",
    "version": 3
   },
   "file_extension": ".py",
   "mimetype": "text/x-python",
   "name": "python",
   "nbconvert_exporter": "python",
   "pygments_lexer": "ipython3",
   "version": "3.5.2"
  }
 },
 "nbformat": 4,
 "nbformat_minor": 2
}
