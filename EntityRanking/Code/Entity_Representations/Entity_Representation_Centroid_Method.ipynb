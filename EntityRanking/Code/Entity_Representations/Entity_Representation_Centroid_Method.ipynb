{
 "cells": [
  {
   "cell_type": "code",
   "execution_count": 2,
   "metadata": {},
   "outputs": [],
   "source": [
    "import os, pickle\n",
    "import gensim, logging\n",
    "from gensim.models import Word2Vec, Phrases, phrases, KeyedVectors\n",
    "import scipy, numpy\n",
    "\n",
    "\n",
    "logging.basicConfig(format='%(asctime)s : %(levelname)s : %(message)s', level=logging.INFO)"
   ]
  },
  {
   "cell_type": "code",
   "execution_count": 3,
   "metadata": {},
   "outputs": [],
   "source": [
    "data_output_folder = '../../../Data/output'\n",
    "entity_rep_output_folder = 'Entity_Ranking/EntityRep'\n",
    "entity_context_word_file = 'doc_entity_context_word.p'\n",
    "\n",
    "\n",
    "word_emnbedding_pretrained_trained_on_corpus = '../../../word_embeddings/trained_word_embeddings/word2vec/word_pretrain_trained_on_corpus/w2v_pretain_corpus_trained_gensim_300.txt'"
   ]
  },
  {
   "cell_type": "code",
   "execution_count": 4,
   "metadata": {},
   "outputs": [],
   "source": [
    "# Load the pickle file\n",
    "doc_role_entity_context_word_dict = pickle.load(open(os.path.join(data_output_folder, entity_rep_output_folder, entity_context_word_file), 'rb'))"
   ]
  },
  {
   "cell_type": "code",
   "execution_count": 5,
   "metadata": {},
   "outputs": [
    {
     "name": "stderr",
     "output_type": "stream",
     "text": [
      "2018-04-29 04:55:03,657 : INFO : loading projection weights from ../../../word_embeddings/trained_word_embeddings/word2vec/word_pretrain_trained_on_corpus/w2v_pretain_corpus_trained_gensim_300.txt\n",
      "2018-04-29 04:57:19,463 : INFO : loaded (410894, 300) matrix from ../../../word_embeddings/trained_word_embeddings/word2vec/word_pretrain_trained_on_corpus/w2v_pretain_corpus_trained_gensim_300.txt\n"
     ]
    }
   ],
   "source": [
    "word_vectors = KeyedVectors.load_word2vec_format(word_emnbedding_pretrained_trained_on_corpus, binary=False)"
   ]
  },
  {
   "cell_type": "code",
   "execution_count": 6,
   "metadata": {},
   "outputs": [
    {
     "data": {
      "text/plain": [
       "0.84234518702434402"
      ]
     },
     "execution_count": 6,
     "metadata": {},
     "output_type": "execute_result"
    }
   ],
   "source": [
    "word_vector = word_vectors.get_vector('Narendra')\n",
    "size = len(word_vector)\n",
    "#print(type(word_vector))\n",
    "word_vectors.distance('Jammu', 'Narendra')"
   ]
  },
  {
   "cell_type": "code",
   "execution_count": 7,
   "metadata": {},
   "outputs": [],
   "source": [
    "doc_role_entity_context_word_centroid_dict = dict()\n",
    "for doc in doc_role_entity_context_word_dict.keys():\n",
    "    tag_dict = doc_role_entity_context_word_dict[doc]\n",
    "    tag_centroid_dict = dict()\n",
    "    for tag in tag_dict.keys():\n",
    "        entity_list = tag_dict[tag]\n",
    "        entity_centroid_list = list()\n",
    "        for entity in entity_list:\n",
    "            num_of_words_in_entity = len(entity)\n",
    "            entity_centroid = numpy.zeros(size)\n",
    "            for word in entity:\n",
    "                entity_centroid = numpy.add(entity_centroid, word_vectors.get_vector(word))\n",
    "            entity_centroid = entity_centroid/num_of_words_in_entity\n",
    "            entity_centroid_list.append(entity_centroid)\n",
    "        tag_centroid_dict[tag] = entity_centroid_list\n",
    "    doc_role_entity_context_word_centroid_dict[doc] = tag_centroid_dict"
   ]
  },
  {
   "cell_type": "code",
   "execution_count": 8,
   "metadata": {},
   "outputs": [],
   "source": [
    "#for key in doc_role_entity_context_word_centroid_dict.keys():\n",
    "#    print(key, '\\n')\n",
    "#    print(doc_role_entity_context_word_centroid_dict[key], '\\n')\n",
    "    \n",
    "pickle.dump(doc_role_entity_context_word_centroid_dict, open('../../../Data/output/Entity_Ranking/EntityRep/doc_role_entity_context_word_centroid.p', 'wb'))"
   ]
  }
 ],
 "metadata": {
  "kernelspec": {
   "display_name": "Python 3",
   "language": "python",
   "name": "python3"
  },
  "language_info": {
   "codemirror_mode": {
    "name": "ipython",
    "version": 3
   },
   "file_extension": ".py",
   "mimetype": "text/x-python",
   "name": "python",
   "nbconvert_exporter": "python",
   "pygments_lexer": "ipython3",
   "version": "3.5.2"
  }
 },
 "nbformat": 4,
 "nbformat_minor": 2
}
