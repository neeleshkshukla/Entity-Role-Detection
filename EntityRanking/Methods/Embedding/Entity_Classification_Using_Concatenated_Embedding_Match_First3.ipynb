{
 "cells": [
  {
   "cell_type": "code",
   "execution_count": 1,
   "metadata": {},
   "outputs": [],
   "source": [
    "import os\n",
    "import numpy as np\n",
    "\n",
    "#from sklearn.metrics.pairwise import cosine_similarity\n",
    "from numpy import dot\n",
    "from numpy.linalg import norm"
   ]
  },
  {
   "cell_type": "code",
   "execution_count": 2,
   "metadata": {},
   "outputs": [
    {
     "name": "stdout",
     "output_type": "stream",
     "text": [
      "Done. 400000  words loaded!\n"
     ]
    }
   ],
   "source": [
    "# Load Glove Embedding\n",
    "gloveFile = \"glove.6B/glove.6B.300d.txt\"\n",
    "glove_model = {}\n",
    "\n",
    "with open(gloveFile, 'r') as f:\n",
    "    for line in f:\n",
    "        splitLine = line.split()\n",
    "        word = splitLine[0]\n",
    "        embedding = np.array([float(val) for val in splitLine[1:]])\n",
    "        glove_model[word] = embedding\n",
    "    print \"Done.\",len(glove_model),\" words loaded!\"  \n",
    "\n",
    "#print glove_model['unk']"
   ]
  },
  {
   "cell_type": "code",
   "execution_count": 3,
   "metadata": {},
   "outputs": [],
   "source": [
    "#print glove_model['organization']"
   ]
  },
  {
   "cell_type": "code",
   "execution_count": 4,
   "metadata": {},
   "outputs": [
    {
     "name": "stdout",
     "output_type": "stream",
     "text": [
      "1033\n",
      "274\n"
     ]
    }
   ],
   "source": [
    "# Prepare dataset for NLTK HMM Tagger\n",
    "# Divide in train and test files [80:20] \n",
    "\n",
    "# Directory having content\n",
    "doc_dir = 'Data/content'\n",
    "\n",
    "train_file_list = []\n",
    "test_file_list = []\n",
    "\n",
    "for f in os.listdir(doc_dir):\n",
    "    #Random Sampling\n",
    "    if np.random.uniform(0,1)< 0.8:\n",
    "        train_file_list.append(f)\n",
    "    else:\n",
    "        test_file_list.append(f)\n",
    "\n",
    "print len(train_file_list)\n",
    "print len(test_file_list)"
   ]
  },
  {
   "cell_type": "code",
   "execution_count": 5,
   "metadata": {},
   "outputs": [],
   "source": [
    "# Directory having tags\n",
    "tag_dir = 'Data/new_tags'\n",
    "\n",
    "tagEmbedding = dict()\n",
    "tagCount = dict()\n",
    "win_size = 2\n",
    "word_dim = 300\n",
    "#unknown_words = set()\n",
    "\n",
    "for f in train_file_list:\n",
    "    #print 'Processing file '+f\n",
    "    word_file_path = os.path.join(doc_dir, f)\n",
    "    tag_file_path = os.path.join(tag_dir, f)\n",
    "    lines_in_word_file = []\n",
    "    lines_in_tag_file = []\n",
    "    with open(word_file_path, \"rt\") as word_file:\n",
    "        for line in word_file:\n",
    "            lines_in_word_file.append(line)\n",
    "    with open(tag_file_path, \"rt\") as tag_file:\n",
    "        for line in tag_file:\n",
    "            lines_in_tag_file.append(line)\n",
    "    if (len(lines_in_word_file) == len(lines_in_tag_file)) and len(lines_in_word_file) > 0:\n",
    "        for i in xrange(len(lines_in_word_file)):\n",
    "            word_in_file = lines_in_word_file[i].split()\n",
    "            tag_in_file = lines_in_tag_file[i].split()\n",
    "            length = min(len(word_in_file), len(tag_in_file))\n",
    "            for j in xrange(length):\n",
    "                # Get the word embedding of the word\n",
    "                word_embed = np.zeros(word_dim)\n",
    "                if (j>(win_size-1)) and (j<length-win_size):\n",
    "                    replace_unk = 'unk'\n",
    "                    for k in xrange(2*win_size + 1):\n",
    "                        if word_in_file[j-win_size+k].lower() in glove_model:\n",
    "                            word_embed = np.concatenate((word_embed, glove_model[word_in_file[j-win_size+k].lower()]), axis=0)\n",
    "                        else:\n",
    "                            #unknown_words.add(word_in_file[j-win_size+k])\n",
    "                            #word_embed = np.concatenate((word_embed, glove_model['unk']), axis = 0)  \n",
    "                            word_embed = np.concatenate((word_embed, glove_model[replace_unk]), axis = 0)  \n",
    "                    # Create embdedding of Tag    \n",
    "                    if tag_in_file[j] in tagEmbedding:\n",
    "                        tagEmbedding[tag_in_file[j]] = np.add(tagEmbedding[tag_in_file[j]], word_embed)\n",
    "                        tagCount[tag_in_file[j]] = tagCount[tag_in_file[j]] + 1\n",
    "                    else:\n",
    "                        tagEmbedding[tag_in_file[j]] = word_embed\n",
    "                        tagCount[tag_in_file[j]] = 1\n",
    "                    "
   ]
  },
  {
   "cell_type": "code",
   "execution_count": 6,
   "metadata": {},
   "outputs": [],
   "source": [
    "for key in tagCount:\n",
    "    tagEmbedding[key] = tagEmbedding[key]/tagCount[key]\n"
   ]
  },
  {
   "cell_type": "code",
   "execution_count": 7,
   "metadata": {},
   "outputs": [],
   "source": [
    "# Test\n",
    "actual_tag_count = dict()\n",
    "matched_tag_count = dict()\n",
    "matched_tag_count['PER'] = 0\n",
    "actual_tag_count['PER'] = 0\n",
    "matched_tag_count['ORG'] = 0\n",
    "actual_tag_count['ORG'] = 0\n",
    "matched_tag_count['LOC'] = 0\n",
    "actual_tag_count['LOC'] = 0\n",
    "\n",
    "for f in test_file_list:\n",
    "    word_file_path = os.path.join(doc_dir, f)\n",
    "    tag_file_path = os.path.join(tag_dir, f)\n",
    "    \n",
    "    lines_in_word_file = []\n",
    "    lines_in_tag_file = []\n",
    "    \n",
    "    with open(word_file_path, \"rt\") as word_file:\n",
    "        for line in word_file:\n",
    "            lines_in_word_file.append(line)\n",
    "    with open(tag_file_path, \"rt\") as tag_file:\n",
    "        for line in tag_file:\n",
    "            lines_in_tag_file.append(line)\n",
    "    if (len(lines_in_word_file) == len(lines_in_tag_file)) and len(lines_in_word_file) > 0:\n",
    "        for i in xrange(len(lines_in_word_file)):\n",
    "            word_in_file = lines_in_word_file[i].split()\n",
    "            tag_in_file = lines_in_tag_file[i].split()\n",
    "            length = min(len(word_in_file), len(tag_in_file))\n",
    "            for j in xrange(length):\n",
    "                # Get the word embedding of the word\n",
    "                word_embed = np.zeros(word_dim)\n",
    "                if (j>(win_size-1)) and (j<length-win_size):\n",
    "                    replace_unk = 'unk'\n",
    "                    \n",
    "                    for k in xrange(2*win_size + 1):\n",
    "                        if word_in_file[j-win_size+k].lower() in glove_model:\n",
    "                            word_embed = np.concatenate((word_embed, glove_model[word_in_file[j-win_size+k].lower()]), axis = 0)\n",
    "                        else:\n",
    "                            word_embed = np.concatenate((word_embed, glove_model['unk']), axis=0)  \n",
    "                    \n",
    "                    actual_tag = tag_in_file[j][:3]\n",
    "                    if actual_tag in actual_tag_count.keys():\n",
    "                        actual_tag_count[actual_tag] = actual_tag_count[actual_tag] + 1\n",
    "                    # Get the predicted tag\n",
    "                    nearestCosineDist = 2\n",
    "                    predicted_tag = \"\"\n",
    "                    for tag in tagEmbedding:\n",
    "                        dist = 1 - (dot(tagEmbedding[tag], word_embed)/(norm(tagEmbedding[tag]) * norm(word_embed)))\n",
    "                        if dist < nearestCosineDist:\n",
    "                            predicted_tag = tag[:3]\n",
    "                            nearestCosineDist = dist\n",
    "                    if actual_tag == predicted_tag:\n",
    "                        if actual_tag in matched_tag_count.keys():\n",
    "                            matched_tag_count[actual_tag] = matched_tag_count[actual_tag] + 1\n",
    "                        "
   ]
  },
  {
   "cell_type": "code",
   "execution_count": 8,
   "metadata": {},
   "outputs": [
    {
     "name": "stdout",
     "output_type": "stream",
     "text": [
      "======= Accuracy Class Wise =====================\n",
      "\n",
      "Class    Matched Total %\n",
      "--------------------------\n",
      "PER: 2868 3334 86%\n",
      "ORG: 1936 3406 56%\n",
      "LOC: 2693 3749 71%\n"
     ]
    }
   ],
   "source": [
    "print('======= Accuracy Class Wise =====================\\n')\n",
    "\n",
    "print('Class    Matched Total %')\n",
    "print('--------------------------')\n",
    "print ('PER: '+str(matched_tag_count['PER'])+ ' ' + str(actual_tag_count['PER'])+ ' ' + str(matched_tag_count['PER']*100/actual_tag_count['PER'])+'%')\n",
    "print ('ORG: '+str(matched_tag_count['ORG']) + ' '+ str(actual_tag_count['ORG'])+ ' '+str(matched_tag_count['ORG']*100/actual_tag_count['ORG'])+'%')\n",
    "print ('LOC: '+str(matched_tag_count['LOC'])+ ' ' + str(actual_tag_count['LOC'])+ ' '+str(matched_tag_count['LOC']*100/actual_tag_count['LOC'])+'%')"
   ]
  }
 ],
 "metadata": {
  "kernelspec": {
   "display_name": "Python 2",
   "language": "python",
   "name": "python2"
  },
  "language_info": {
   "codemirror_mode": {
    "name": "ipython",
    "version": 2
   },
   "file_extension": ".py",
   "mimetype": "text/x-python",
   "name": "python",
   "nbconvert_exporter": "python",
   "pygments_lexer": "ipython2",
   "version": "2.7.12"
  }
 },
 "nbformat": 4,
 "nbformat_minor": 2
}
