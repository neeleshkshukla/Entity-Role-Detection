{
 "cells": [
  {
   "cell_type": "code",
   "execution_count": 41,
   "metadata": {},
   "outputs": [
    {
     "name": "stdout",
     "output_type": "stream",
     "text": [
      "0.19.1\n"
     ]
    }
   ],
   "source": [
    "from itertools import chain\n",
    "import nltk\n",
    "from sklearn.metrics import classification_report, confusion_matrix\n",
    "from sklearn.preprocessing import LabelBinarizer\n",
    "import sklearn\n",
    "import pycrfsuite\n",
    "import os\n",
    "import numpy as np\n",
    "\n",
    "print(sklearn.__version__)"
   ]
  },
  {
   "cell_type": "code",
   "execution_count": 42,
   "metadata": {},
   "outputs": [
    {
     "name": "stdout",
     "output_type": "stream",
     "text": [
      "870\n",
      "215\n"
     ]
    }
   ],
   "source": [
    "# Divide in train and test files [80:20] \n",
    "\n",
    "# Directory having content\n",
    "\n",
    "doc_dir = '../../../../Data/input/rectified/content'\n",
    "\n",
    "train_file_list = []\n",
    "test_file_list = []\n",
    "\n",
    "for f in os.listdir(doc_dir):\n",
    "    #Random Sampling\n",
    "    if np.random.uniform(0,1)< 0.8:\n",
    "        train_file_list.append(f)\n",
    "    else:\n",
    "        test_file_list.append(f)\n",
    "\n",
    "print (len(train_file_list))\n",
    "print (len(test_file_list))"
   ]
  },
  {
   "cell_type": "code",
   "execution_count": 43,
   "metadata": {},
   "outputs": [
    {
     "name": "stdout",
     "output_type": "stream",
     "text": [
      "[('In', 'O'), ('a', 'O'), ('major', 'O'), ('breakthrough', 'O'), ('for', 'O'), ('security', 'O'), ('agencies', 'O'), ('in', 'O'), ('India', 'LOC_Others'), (',', 'O'), ('Yasin', 'PER_Accused'), ('Bhatkal', 'PER_Accused'), (',', 'O'), ('a', 'O'), ('key', 'O'), ('conspirator', 'O'), ('in', 'O'), ('several', 'O'), ('bomb', 'O'), ('blasts', 'O'), ('and', 'O'), ('co-founder', 'O'), ('of', 'O'), ('the', 'O'), ('banned', 'O'), ('Indian', 'ORG_Accused'), ('Mujahideen', 'ORG_Accused'), ('(', 'O'), ('IM', 'ORG_Accused'), (')', 'O'), (',', 'O'), ('and', 'O'), ('another', 'O'), ('IM', 'ORG_Accused'), ('operative', 'O'), ('Asadullah', 'PER_Accused'), ('Akhtar', 'PER_Accused'), ('alias', 'O'), ('Haddi', 'PER_Accused'), (',', 'O'), ('were', 'O'), ('arrested', 'O'), ('from', 'O'), ('the', 'O'), ('India-Nepal', 'LOC_Accused'), ('border', 'O'), ('in', 'O'), ('Bihar', 'LOC_Accused'), ('Raxaul', 'LOC_Accused'), ('town', 'LOC_Accused'), ('on', 'O'), ('Thursday', 'O'), ('.', 'O'), ('Yasin', 'PER_Accused'), (',', 'O'), ('originally', 'O'), ('named', 'O'), ('Mohammad', 'PER_Accused'), ('Ahmed', 'PER_Accused'), ('Zarar', 'PER_Accused'), ('Siddibappa', 'PER_Accused'), (',', 'O'), ('is', 'O'), ('on', 'O'), ('Indias', 'O'), ('list', 'O'), ('of', 'O'), ('12', 'O'), ('most-wanted', 'O'), ('terror', 'O'), ('suspects', 'O'), ('.', 'O'), ('He', 'O'), ('is', 'O'), ('involved', 'O'), ('in', 'O'), ('Punes', 'LOC_Event'), ('German', 'LOC_Event'), ('Bakery', 'LOC_Event'), ('blast', 'LOC_Event'), ('and', 'O'), ('blasts', 'O'), ('in', 'O'), ('Delhi', 'LOC_Event'), (',', 'O'), ('Hyderabad', 'LOC_Event'), (',', 'O'), ('Bangalore', 'LOC_Event'), ('and', 'O'), ('Mumbai', 'LOC_Event'), ('.', 'O'), ('He', 'O'), ('and', 'O'), ('Asadullah', 'PER_Accused'), ('were', 'O'), ('arrested', 'O'), ('near', 'O'), ('Nahar', 'LOC_Accused'), ('Chowk', 'LOC_Accused'), ('in', 'O'), ('Raxaul', 'LOC_Accused'), (',', 'O'), ('East', 'LOC_Accused'), ('Champaran', 'LOC_Accused'), ('district', 'O'), (',', 'O'), ('about', 'O'), ('one', 'O'), ('km', 'O'), ('from', 'O'), ('the', 'O'), ('international', 'O'), ('border', 'O'), ('of', 'O'), ('Nepal', 'LOC_Others'), (',', 'O'), ('around', 'O'), ('8', 'O'), ('a.m.', 'O'), ('.', 'O'), ('The', 'O'), ('Bihar', 'ORG_Others'), ('police', 'ORG_Others'), ('detained', 'O'), ('him', 'O'), ('in', 'O'), ('Raxaul', 'LOC_Accused'), ('and', 'O'), ('the', 'O'), ('National', 'ORG_Others'), ('Investigation', 'ORG_Others'), ('Agency', 'ORG_Others'), ('made', 'O'), ('the', 'O'), ('formal', 'O'), ('arrest', 'O'), ('.', 'O'), ('He', 'O'), ('was', 'O'), ('then', 'O'), ('taken', 'O'), ('to', 'O'), ('the', 'O'), ('district', 'O'), ('headquarters', 'O'), ('in', 'O'), ('Motihari', 'LOC_Others'), ('.', 'O'), ('Police', 'O'), ('sources', 'O'), ('told', 'O'), ('The', 'ORG_Others'), ('Hindu', 'ORG_Others'), ('that', 'O'), ('Yasin', 'PER_Accused'), ('was', 'O'), ('planning', 'O'), ('to', 'O'), ('carry', 'O'), ('out', 'O'), ('blasts', 'O'), ('during', 'O'), ('the', 'O'), ('upcoming', 'O'), ('festival', 'O'), ('season', 'O'), ('of', 'O'), ('Diwali', 'O'), ('and', 'O'), ('Dussehra', 'O'), ('and', 'O'), ('had', 'O'), ('come', 'O'), ('to', 'O'), ('India', 'LOC_Others'), ('to', 'O'), ('scout', 'O'), ('for', 'O'), ('local', 'O'), ('support', 'O'), ('to', 'O'), ('execute', 'O'), ('his', 'O'), ('plan', 'O'), ('.', 'O'), ('The', 'O'), ('duo', 'O'), ('was', 'O'), ('meeting', 'O'), ('in', 'O'), ('Raxaul', 'LOC_Accused'), ('with', 'O'), ('the', 'O'), ('purpose', 'O'), ('of', 'O'), ('planning', 'O'), ('terror', 'O'), ('activities', 'O'), ('.', 'O'), ('After', 'O'), ('receiving', 'O'), ('intelligence', 'O'), ('inputs', 'O'), (',', 'O'), ('a', 'O'), ('team', 'O'), ('of', 'O'), ('the', 'O'), ('Bihar', 'ORG_Others'), ('police', 'ORG_Others'), ('was', 'O'), ('sent', 'O'), ('to', 'O'), ('Raxaul', 'LOC_Accused'), ('.', 'O'), ('Another', 'O'), ('team', 'O'), ('of', 'O'), ('the', 'O'), ('National', 'ORG_Others'), ('Investigation', 'ORG_Others'), ('Agency', 'ORG_Others'), ('also', 'O'), ('went', 'O'), ('to', 'O'), ('the', 'O'), ('district', 'O'), ('.', 'O'), ('The', 'O'), ('NIA', 'ORG_Others'), ('already', 'O'), ('has', 'O'), ('a', 'O'), ('non-bailable', 'O'), ('warrant', 'O'), ('against', 'O'), ('the', 'O'), ('two', 'O'), (',', 'O'), ('which', 'O'), ('was', 'O'), ('issued', 'O'), ('on', 'O'), ('July', 'O'), ('18', 'O'), ('.', 'O'), ('The', 'O'), ('NIA', 'ORG_Others'), ('will', 'O'), ('carry', 'O'), ('out', 'O'), ('further', 'O'), ('investigations', 'O'), (',', 'O'), ('Ravinder', 'PER_Others'), ('Kumar', 'PER_Others'), (',', 'O'), ('Additional', 'ORG_Others'), ('Director-General', 'ORG_Others'), ('of', 'ORG_Others'), ('Police', 'ORG_Others'), ('(', 'O'), ('Headquarters', 'O'), (')', 'O'), (',', 'O'), ('said', 'O'), ('in', 'O'), ('Patna', 'LOC_Others'), ('.', 'O'), ('Yasin', 'PER_Accused'), ('and', 'O'), ('Asadullah', 'PER_Accused'), ('were', 'O'), ('produced', 'O'), ('before', 'O'), ('the', 'O'), ('chief', 'ORG_Others'), ('judicial', 'ORG_Others'), ('magistrate', 'ORG_Others'), ('in', 'O'), ('Motihari', 'LOC_Others'), ('in', 'LOC_Others'), ('East', 'LOC_Others'), ('Champaran', 'LOC_Others'), ('in', 'O'), ('the', 'O'), ('evening', 'O'), ('.', 'O'), ('The', 'O'), ('court', 'O'), ('issued', 'O'), ('a', 'O'), ('three-day', 'O'), ('transit', 'O'), ('remand', 'O'), ('to', 'O'), ('the', 'O'), ('NIA', 'ORG_Others'), ('to', 'O'), ('take', 'O'), ('them', 'O'), ('to', 'O'), ('Delhi', 'LOC_Others'), ('.', 'O'), ('The', 'O'), ('two', 'O'), ('left', 'O'), ('for', 'O'), ('Patna', 'LOC_Others'), ('from', 'O'), ('Motihari', 'LOC_Others'), (',', 'O'), ('from', 'O'), ('where', 'O'), ('they', 'O'), ('would', 'O'), ('be', 'O'), ('flown', 'O'), ('to', 'O'), ('Delhi', 'LOC_Others'), ('by', 'O'), ('a', 'O'), ('special', 'O'), ('Border', 'ORG_Others'), ('Security', 'ORG_Others'), ('Force', 'ORG_Others'), ('aircraft', 'ORG_Others'), ('.', 'O'), ('Known', 'O'), ('as', 'O'), ('a', 'O'), ('motivator', 'O'), (',', 'O'), ('recruiter', 'O'), ('and', 'O'), ('bomb-maker', 'O'), (',', 'O'), ('Yasin', 'PER_Accused'), ('was', 'O'), ('interrogated', 'O'), ('for', 'O'), ('several', 'O'), ('hours', 'O'), ('at', 'O'), ('the', 'O'), ('district', 'O'), ('headquarters', 'O'), ('.', 'O'), ('During', 'O'), ('his', 'O'), ('day-long', 'O'), ('interrogation', 'O'), (',', 'O'), ('Yasin', 'PER_Accused'), ('is', 'O'), ('learnt', 'O'), ('to', 'O'), ('have', 'O'), ('revealed', 'O'), ('a', 'O'), ('lot', 'O'), ('about', 'O'), ('Pakistans', 'O'), ('role', 'O'), ('in', 'O'), ('several', 'O'), ('serial', 'O'), ('blasts', 'O'), ('in', 'O'), ('India', 'LOC_Event'), ('.', 'O'), ('He', 'O'), ('has', 'O'), ('also', 'O'), ('provided', 'O'), ('information', 'O'), ('about', 'O'), ('the', 'O'), ('hideouts', 'O'), ('of', 'O'), ('other', 'O'), ('operatives', 'O'), ('in', 'O'), ('India', 'LOC_Accused'), ('and', 'O'), ('Kathmandu', 'LOC_Accused'), ('.', 'O'), ('He', 'O'), ('did', 'O'), ('not', 'O'), ('seem', 'O'), ('to', 'O'), ('be', 'O'), ('worried', 'O'), ('about', 'O'), ('the', 'O'), ('consequences', 'O'), (',', 'O'), ('an', 'O'), ('officer', 'O'), ('said', 'O'), ('.', 'O'), ('After', 'O'), ('the', 'O'), ('alerts', 'O'), (',', 'O'), ('Central', 'O'), ('security', 'O'), ('agencies', 'O'), ('had', 'O'), ('launched', 'O'), ('a', 'O'), ('covert', 'O'), ('operation', 'O'), ('along', 'O'), ('the', 'O'), ('border', 'O'), ('days', 'O'), ('before', 'O'), ('Thursdays', 'O'), ('arrest', 'O'), ('.', 'O'), ('The', 'O'), ('alerts', 'O'), ('were', 'O'), ('generated', 'O'), ('by', 'O'), ('the', 'O'), ('intelligence', 'O'), ('wing', 'O'), ('of', 'O'), ('the', 'O'), ('Sashastra', 'ORG_Others'), ('Seema', 'ORG_Others'), ('Bal', 'ORG_Others'), ('(', 'ORG_Others'), ('SSB', 'ORG_Others'), (')', 'ORG_Others'), (',', 'O'), ('a', 'O'), ('specialised', 'O'), ('force', 'O'), ('for', 'O'), ('border', 'O'), ('areas', 'O'), ('in', 'O'), ('Bihar', 'LOC_Others'), ('.', 'O'), ('They', 'O'), ('were', 'O'), ('passed', 'O'), ('on', 'O'), ('to', 'O'), ('their', 'O'), ('Delhi', 'LOC_Others'), ('headquarters', 'O'), ('and', 'O'), ('then', 'O'), ('shared', 'O'), ('with', 'O'), ('the', 'O'), ('NIA', 'ORG_Others'), ('.', 'O'), ('An', 'O'), ('NIA', 'ORG_Others'), ('team', 'O'), ('arrived', 'O'), ('in', 'O'), ('Bihar', 'LOC_Others'), ('from', 'O'), ('Delhi', 'LOC_Others'), ('and', 'O'), ('conducted', 'O'), ('the', 'O'), ('operation', 'O'), ('along', 'O'), ('with', 'O'), ('the', 'O'), ('local', 'O'), ('police', 'ORG_Others'), ('and', 'O'), ('the', 'O'), ('intelligence', 'ORG_Others'), ('wing', 'ORG_Others'), ('of', 'O'), ('the', 'O'), ('SSB', 'ORG_Others'), ('.', 'O'), ('When', 'O'), ('he', 'O'), ('crossed', 'O'), ('the', 'O'), ('border', 'O'), (',', 'O'), ('he', 'O'), ('was', 'O'), ('apprehended', 'O'), ('.', 'O'), ('He', 'O'), ('was', 'O'), ('wearing', 'O'), ('a', 'O'), ('denim', 'O'), ('shirt', 'O'), ('and', 'O'), ('khaki', 'O'), ('pants', 'O'), ('.', 'O'), ('A', 'O'), ('lot', 'O'), ('of', 'O'), ('homework', 'O'), ('had', 'O'), ('gone', 'O'), ('into', 'O'), ('this', 'O'), ('operation', 'O'), ('.', 'O'), ('There', 'O'), ('were', 'O'), ('manual', 'O'), ('as', 'O'), ('well', 'O'), ('as', 'O'), ('technical', 'O'), ('inputs', 'O'), ('with', 'O'), ('the', 'O'), ('local', 'O'), ('police', 'O'), ('.', 'O'), ('Initially', 'O'), (',', 'O'), ('he', 'O'), ('denied', 'O'), ('his', 'O'), ('identity', 'O'), ('.', 'O'), ('But', 'O'), ('based', 'O'), ('on', 'O'), ('his', 'O'), ('photographs', 'O'), ('and', 'O'), ('other', 'O'), ('identification', 'O'), ('marks', 'O'), (',', 'O'), ('his', 'O'), ('identity', 'O'), ('could', 'O'), ('be', 'O'), ('confirmed', 'O'), ('.', 'O'), ('So', 'O'), ('he', 'O'), ('could', 'O'), ('not', 'O'), ('deny', 'O'), ('for', 'O'), ('long', 'O'), (',', 'O'), ('the', 'O'), ('Bihar', 'ORG_Others'), ('police', 'ORG_Others'), ('told', 'O'), ('The', 'ORG_Others'), ('Hindu', 'ORG_Others'), ('.', 'O')]\n"
     ]
    }
   ],
   "source": [
    "# Build Tagged dataset to be fed in nltk hmm tagger\n",
    "# It is a list of tagged sentences. \n",
    "# training_data = [ [(word, tag), (word, tag).....]\n",
    "# [(word, tag), (word, tag).....]\n",
    "#]\n",
    "\n",
    "# Directory having tags\n",
    "tag_dir = '../../../../Data/input/rectified/new_tags'\n",
    "\n",
    "training_data = []\n",
    "\n",
    "for f in train_file_list:\n",
    "    training_sentences =[]\n",
    "    word_file_path = os.path.join(doc_dir, f)\n",
    "    tag_file_path = os.path.join(tag_dir, f)\n",
    "    lines_in_word_file = []\n",
    "    lines_in_tag_file = []\n",
    "    with open(word_file_path, \"rt\") as word_file:\n",
    "        for line in word_file:\n",
    "            lines_in_word_file.append(line)\n",
    "    with open(tag_file_path, \"rt\") as tag_file:\n",
    "        for line in tag_file:\n",
    "            lines_in_tag_file.append(line)\n",
    "    if (len(lines_in_word_file) == len(lines_in_tag_file)) and len(lines_in_word_file) > 0:\n",
    "        for i in range(len(lines_in_word_file)):\n",
    "            word_in_file = lines_in_word_file[i].split()\n",
    "            tag_in_file = lines_in_tag_file[i].split()\n",
    "            pairs_in_line = []\n",
    "            length = min(len(word_in_file), len(tag_in_file))\n",
    "            #Create the word_tag pair\n",
    "            for j in range(length):\n",
    "                pairs_in_line.append((word_in_file[j], tag_in_file[j]));\n",
    "            training_sentences.append(pairs_in_line)\n",
    "    if len(training_sentences) > 0:\n",
    "        training_data.extend(training_sentences)\n",
    "\n",
    "print(training_data[0])"
   ]
  },
  {
   "cell_type": "code",
   "execution_count": 44,
   "metadata": {},
   "outputs": [],
   "source": [
    "def word2features(sent, i):\n",
    "    word = sent[i][0]\n",
    "    features = [\n",
    "        'bias',\n",
    "        'word.lower=' + word.lower(),\n",
    "        'word[-3:]=' + word[-3:],\n",
    "        'word[-2:]=' + word[-2:],\n",
    "        'word.isupper=%s' % word.isupper(),\n",
    "        'word.istitle=%s' % word.istitle(),\n",
    "        'word.isdigit=%s' % word.isdigit(),\n",
    "    ]\n",
    "    if i > 0:\n",
    "        word1 = sent[i-1][0]\n",
    "        tag1 = sent[i-1][1]\n",
    "        features.extend([\n",
    "            '-1:word.lower=' + word1.lower(),\n",
    "            '-1:word.istitle=%s' % word1.istitle(),\n",
    "            '-1:word.isupper=%s' % word1.isupper(),\n",
    "           # '-1:tag1=' + tag1,\n",
    "        ])\n",
    "    else:\n",
    "        features.append('BOS')\n",
    "    if i < len(sent)-1:\n",
    "        word1 = sent[i+1][0]\n",
    "        features.extend([\n",
    "            '+1:word.lower=' + word1.lower(),\n",
    "            '+1:word.istitle=%s' % word1.istitle(),\n",
    "            '+1:word.isupper=%s' % word1.isupper(),\n",
    "        ])\n",
    "    else:\n",
    "        features.append('EOS')\n",
    "        \n",
    "    return features\n",
    "\n",
    "\n",
    "def sent2features(sent):\n",
    "    return [word2features(sent, i) for i in range(len(sent))]\n",
    "\n",
    "def sent2tags(sent):\n",
    "    return [tag for word, tag in sent]\n",
    "\n",
    "def sent2words(sent):\n",
    "    return [word for word, tag in sent] "
   ]
  },
  {
   "cell_type": "code",
   "execution_count": 45,
   "metadata": {},
   "outputs": [
    {
     "name": "stdout",
     "output_type": "stream",
     "text": [
      "[('In', 'O'), ('a', 'O'), ('major', 'O'), ('breakthrough', 'O'), ('for', 'O'), ('security', 'O'), ('agencies', 'O'), ('in', 'O'), ('India', 'LOC_Others'), (',', 'O'), ('Yasin', 'PER_Accused'), ('Bhatkal', 'PER_Accused'), (',', 'O'), ('a', 'O'), ('key', 'O'), ('conspirator', 'O'), ('in', 'O'), ('several', 'O'), ('bomb', 'O'), ('blasts', 'O'), ('and', 'O'), ('co-founder', 'O'), ('of', 'O'), ('the', 'O'), ('banned', 'O'), ('Indian', 'ORG_Accused'), ('Mujahideen', 'ORG_Accused'), ('(', 'O'), ('IM', 'ORG_Accused'), (')', 'O'), (',', 'O'), ('and', 'O'), ('another', 'O'), ('IM', 'ORG_Accused'), ('operative', 'O'), ('Asadullah', 'PER_Accused'), ('Akhtar', 'PER_Accused'), ('alias', 'O'), ('Haddi', 'PER_Accused'), (',', 'O'), ('were', 'O'), ('arrested', 'O'), ('from', 'O'), ('the', 'O'), ('India-Nepal', 'LOC_Accused'), ('border', 'O'), ('in', 'O'), ('Bihar', 'LOC_Accused'), ('Raxaul', 'LOC_Accused'), ('town', 'LOC_Accused'), ('on', 'O'), ('Thursday', 'O'), ('.', 'O'), ('Yasin', 'PER_Accused'), (',', 'O'), ('originally', 'O'), ('named', 'O'), ('Mohammad', 'PER_Accused'), ('Ahmed', 'PER_Accused'), ('Zarar', 'PER_Accused'), ('Siddibappa', 'PER_Accused'), (',', 'O'), ('is', 'O'), ('on', 'O'), ('Indias', 'O'), ('list', 'O'), ('of', 'O'), ('12', 'O'), ('most-wanted', 'O'), ('terror', 'O'), ('suspects', 'O'), ('.', 'O'), ('He', 'O'), ('is', 'O'), ('involved', 'O'), ('in', 'O'), ('Punes', 'LOC_Event'), ('German', 'LOC_Event'), ('Bakery', 'LOC_Event'), ('blast', 'LOC_Event'), ('and', 'O'), ('blasts', 'O'), ('in', 'O'), ('Delhi', 'LOC_Event'), (',', 'O'), ('Hyderabad', 'LOC_Event'), (',', 'O'), ('Bangalore', 'LOC_Event'), ('and', 'O'), ('Mumbai', 'LOC_Event'), ('.', 'O'), ('He', 'O'), ('and', 'O'), ('Asadullah', 'PER_Accused'), ('were', 'O'), ('arrested', 'O'), ('near', 'O'), ('Nahar', 'LOC_Accused'), ('Chowk', 'LOC_Accused'), ('in', 'O'), ('Raxaul', 'LOC_Accused'), (',', 'O'), ('East', 'LOC_Accused'), ('Champaran', 'LOC_Accused'), ('district', 'O'), (',', 'O'), ('about', 'O'), ('one', 'O'), ('km', 'O'), ('from', 'O'), ('the', 'O'), ('international', 'O'), ('border', 'O'), ('of', 'O'), ('Nepal', 'LOC_Others'), (',', 'O'), ('around', 'O'), ('8', 'O'), ('a.m.', 'O'), ('.', 'O'), ('The', 'O'), ('Bihar', 'ORG_Others'), ('police', 'ORG_Others'), ('detained', 'O'), ('him', 'O'), ('in', 'O'), ('Raxaul', 'LOC_Accused'), ('and', 'O'), ('the', 'O'), ('National', 'ORG_Others'), ('Investigation', 'ORG_Others'), ('Agency', 'ORG_Others'), ('made', 'O'), ('the', 'O'), ('formal', 'O'), ('arrest', 'O'), ('.', 'O'), ('He', 'O'), ('was', 'O'), ('then', 'O'), ('taken', 'O'), ('to', 'O'), ('the', 'O'), ('district', 'O'), ('headquarters', 'O'), ('in', 'O'), ('Motihari', 'LOC_Others'), ('.', 'O'), ('Police', 'O'), ('sources', 'O'), ('told', 'O'), ('The', 'ORG_Others'), ('Hindu', 'ORG_Others'), ('that', 'O'), ('Yasin', 'PER_Accused'), ('was', 'O'), ('planning', 'O'), ('to', 'O'), ('carry', 'O'), ('out', 'O'), ('blasts', 'O'), ('during', 'O'), ('the', 'O'), ('upcoming', 'O'), ('festival', 'O'), ('season', 'O'), ('of', 'O'), ('Diwali', 'O'), ('and', 'O'), ('Dussehra', 'O'), ('and', 'O'), ('had', 'O'), ('come', 'O'), ('to', 'O'), ('India', 'LOC_Others'), ('to', 'O'), ('scout', 'O'), ('for', 'O'), ('local', 'O'), ('support', 'O'), ('to', 'O'), ('execute', 'O'), ('his', 'O'), ('plan', 'O'), ('.', 'O'), ('The', 'O'), ('duo', 'O'), ('was', 'O'), ('meeting', 'O'), ('in', 'O'), ('Raxaul', 'LOC_Accused'), ('with', 'O'), ('the', 'O'), ('purpose', 'O'), ('of', 'O'), ('planning', 'O'), ('terror', 'O'), ('activities', 'O'), ('.', 'O'), ('After', 'O'), ('receiving', 'O'), ('intelligence', 'O'), ('inputs', 'O'), (',', 'O'), ('a', 'O'), ('team', 'O'), ('of', 'O'), ('the', 'O'), ('Bihar', 'ORG_Others'), ('police', 'ORG_Others'), ('was', 'O'), ('sent', 'O'), ('to', 'O'), ('Raxaul', 'LOC_Accused'), ('.', 'O'), ('Another', 'O'), ('team', 'O'), ('of', 'O'), ('the', 'O'), ('National', 'ORG_Others'), ('Investigation', 'ORG_Others'), ('Agency', 'ORG_Others'), ('also', 'O'), ('went', 'O'), ('to', 'O'), ('the', 'O'), ('district', 'O'), ('.', 'O'), ('The', 'O'), ('NIA', 'ORG_Others'), ('already', 'O'), ('has', 'O'), ('a', 'O'), ('non-bailable', 'O'), ('warrant', 'O'), ('against', 'O'), ('the', 'O'), ('two', 'O'), (',', 'O'), ('which', 'O'), ('was', 'O'), ('issued', 'O'), ('on', 'O'), ('July', 'O'), ('18', 'O'), ('.', 'O'), ('The', 'O'), ('NIA', 'ORG_Others'), ('will', 'O'), ('carry', 'O'), ('out', 'O'), ('further', 'O'), ('investigations', 'O'), (',', 'O'), ('Ravinder', 'PER_Others'), ('Kumar', 'PER_Others'), (',', 'O'), ('Additional', 'ORG_Others'), ('Director-General', 'ORG_Others'), ('of', 'ORG_Others'), ('Police', 'ORG_Others'), ('(', 'O'), ('Headquarters', 'O'), (')', 'O'), (',', 'O'), ('said', 'O'), ('in', 'O'), ('Patna', 'LOC_Others'), ('.', 'O'), ('Yasin', 'PER_Accused'), ('and', 'O'), ('Asadullah', 'PER_Accused'), ('were', 'O'), ('produced', 'O'), ('before', 'O'), ('the', 'O'), ('chief', 'ORG_Others'), ('judicial', 'ORG_Others'), ('magistrate', 'ORG_Others'), ('in', 'O'), ('Motihari', 'LOC_Others'), ('in', 'LOC_Others'), ('East', 'LOC_Others'), ('Champaran', 'LOC_Others'), ('in', 'O'), ('the', 'O'), ('evening', 'O'), ('.', 'O'), ('The', 'O'), ('court', 'O'), ('issued', 'O'), ('a', 'O'), ('three-day', 'O'), ('transit', 'O'), ('remand', 'O'), ('to', 'O'), ('the', 'O'), ('NIA', 'ORG_Others'), ('to', 'O'), ('take', 'O'), ('them', 'O'), ('to', 'O'), ('Delhi', 'LOC_Others'), ('.', 'O'), ('The', 'O'), ('two', 'O'), ('left', 'O'), ('for', 'O'), ('Patna', 'LOC_Others'), ('from', 'O'), ('Motihari', 'LOC_Others'), (',', 'O'), ('from', 'O'), ('where', 'O'), ('they', 'O'), ('would', 'O'), ('be', 'O'), ('flown', 'O'), ('to', 'O'), ('Delhi', 'LOC_Others'), ('by', 'O'), ('a', 'O'), ('special', 'O'), ('Border', 'ORG_Others'), ('Security', 'ORG_Others'), ('Force', 'ORG_Others'), ('aircraft', 'ORG_Others'), ('.', 'O'), ('Known', 'O'), ('as', 'O'), ('a', 'O'), ('motivator', 'O'), (',', 'O'), ('recruiter', 'O'), ('and', 'O'), ('bomb-maker', 'O'), (',', 'O'), ('Yasin', 'PER_Accused'), ('was', 'O'), ('interrogated', 'O'), ('for', 'O'), ('several', 'O'), ('hours', 'O'), ('at', 'O'), ('the', 'O'), ('district', 'O'), ('headquarters', 'O'), ('.', 'O'), ('During', 'O'), ('his', 'O'), ('day-long', 'O'), ('interrogation', 'O'), (',', 'O'), ('Yasin', 'PER_Accused'), ('is', 'O'), ('learnt', 'O'), ('to', 'O'), ('have', 'O'), ('revealed', 'O'), ('a', 'O'), ('lot', 'O'), ('about', 'O'), ('Pakistans', 'O'), ('role', 'O'), ('in', 'O'), ('several', 'O'), ('serial', 'O'), ('blasts', 'O'), ('in', 'O'), ('India', 'LOC_Event'), ('.', 'O'), ('He', 'O'), ('has', 'O'), ('also', 'O'), ('provided', 'O'), ('information', 'O'), ('about', 'O'), ('the', 'O'), ('hideouts', 'O'), ('of', 'O'), ('other', 'O'), ('operatives', 'O'), ('in', 'O'), ('India', 'LOC_Accused'), ('and', 'O'), ('Kathmandu', 'LOC_Accused'), ('.', 'O'), ('He', 'O'), ('did', 'O'), ('not', 'O'), ('seem', 'O'), ('to', 'O'), ('be', 'O'), ('worried', 'O'), ('about', 'O'), ('the', 'O'), ('consequences', 'O'), (',', 'O'), ('an', 'O'), ('officer', 'O'), ('said', 'O'), ('.', 'O'), ('After', 'O'), ('the', 'O'), ('alerts', 'O'), (',', 'O'), ('Central', 'O'), ('security', 'O'), ('agencies', 'O'), ('had', 'O'), ('launched', 'O'), ('a', 'O'), ('covert', 'O'), ('operation', 'O'), ('along', 'O'), ('the', 'O'), ('border', 'O'), ('days', 'O'), ('before', 'O'), ('Thursdays', 'O'), ('arrest', 'O'), ('.', 'O'), ('The', 'O'), ('alerts', 'O'), ('were', 'O'), ('generated', 'O'), ('by', 'O'), ('the', 'O'), ('intelligence', 'O'), ('wing', 'O'), ('of', 'O'), ('the', 'O'), ('Sashastra', 'ORG_Others'), ('Seema', 'ORG_Others'), ('Bal', 'ORG_Others'), ('(', 'ORG_Others'), ('SSB', 'ORG_Others'), (')', 'ORG_Others'), (',', 'O'), ('a', 'O'), ('specialised', 'O'), ('force', 'O'), ('for', 'O'), ('border', 'O'), ('areas', 'O'), ('in', 'O'), ('Bihar', 'LOC_Others'), ('.', 'O'), ('They', 'O'), ('were', 'O'), ('passed', 'O'), ('on', 'O'), ('to', 'O'), ('their', 'O'), ('Delhi', 'LOC_Others'), ('headquarters', 'O'), ('and', 'O'), ('then', 'O'), ('shared', 'O'), ('with', 'O'), ('the', 'O'), ('NIA', 'ORG_Others'), ('.', 'O'), ('An', 'O'), ('NIA', 'ORG_Others'), ('team', 'O'), ('arrived', 'O'), ('in', 'O'), ('Bihar', 'LOC_Others'), ('from', 'O'), ('Delhi', 'LOC_Others'), ('and', 'O'), ('conducted', 'O'), ('the', 'O'), ('operation', 'O'), ('along', 'O'), ('with', 'O'), ('the', 'O'), ('local', 'O'), ('police', 'ORG_Others'), ('and', 'O'), ('the', 'O'), ('intelligence', 'ORG_Others'), ('wing', 'ORG_Others'), ('of', 'O'), ('the', 'O'), ('SSB', 'ORG_Others'), ('.', 'O'), ('When', 'O'), ('he', 'O'), ('crossed', 'O'), ('the', 'O'), ('border', 'O'), (',', 'O'), ('he', 'O'), ('was', 'O'), ('apprehended', 'O'), ('.', 'O'), ('He', 'O'), ('was', 'O'), ('wearing', 'O'), ('a', 'O'), ('denim', 'O'), ('shirt', 'O'), ('and', 'O'), ('khaki', 'O'), ('pants', 'O'), ('.', 'O'), ('A', 'O'), ('lot', 'O'), ('of', 'O'), ('homework', 'O'), ('had', 'O'), ('gone', 'O'), ('into', 'O'), ('this', 'O'), ('operation', 'O'), ('.', 'O'), ('There', 'O'), ('were', 'O'), ('manual', 'O'), ('as', 'O'), ('well', 'O'), ('as', 'O'), ('technical', 'O'), ('inputs', 'O'), ('with', 'O'), ('the', 'O'), ('local', 'O'), ('police', 'O'), ('.', 'O'), ('Initially', 'O'), (',', 'O'), ('he', 'O'), ('denied', 'O'), ('his', 'O'), ('identity', 'O'), ('.', 'O'), ('But', 'O'), ('based', 'O'), ('on', 'O'), ('his', 'O'), ('photographs', 'O'), ('and', 'O'), ('other', 'O'), ('identification', 'O'), ('marks', 'O'), (',', 'O'), ('his', 'O'), ('identity', 'O'), ('could', 'O'), ('be', 'O'), ('confirmed', 'O'), ('.', 'O'), ('So', 'O'), ('he', 'O'), ('could', 'O'), ('not', 'O'), ('deny', 'O'), ('for', 'O'), ('long', 'O'), (',', 'O'), ('the', 'O'), ('Bihar', 'ORG_Others'), ('police', 'ORG_Others'), ('told', 'O'), ('The', 'ORG_Others'), ('Hindu', 'ORG_Others'), ('.', 'O')]\n",
      "['bias', 'word.lower=in', 'word[-3:]=In', 'word[-2:]=In', 'word.isupper=False', 'word.istitle=True', 'word.isdigit=False', 'BOS', '+1:word.lower=a', '+1:word.istitle=False', '+1:word.isupper=False']\n",
      "O\n",
      "In\n"
     ]
    }
   ],
   "source": [
    "print (training_data[0])\n",
    "print (sent2features(training_data[0])[0])\n",
    "print (sent2tags(training_data[0])[0])\n",
    "print (sent2words(training_data[0])[0])"
   ]
  },
  {
   "cell_type": "code",
   "execution_count": 46,
   "metadata": {},
   "outputs": [],
   "source": [
    "x_train = [sent2features(s) for s in training_data]\n",
    "y_train = [sent2tags(s) for s in training_data]"
   ]
  },
  {
   "cell_type": "code",
   "execution_count": 47,
   "metadata": {},
   "outputs": [],
   "source": [
    "trainer = pycrfsuite.Trainer(verbose=False)\n",
    "\n",
    "for xseq, yseq in zip(x_train, y_train):\n",
    "    trainer.append(xseq, yseq)"
   ]
  },
  {
   "cell_type": "code",
   "execution_count": 48,
   "metadata": {},
   "outputs": [],
   "source": [
    "trainer.set_params({\n",
    "    'c1': 1.0,   # coefficient for L1 penalty\n",
    "    'c2': 1e-3,  # coefficient for L2 penalty\n",
    "    'max_iterations': 50,  # stop earlier\n",
    "\n",
    "    # include transitions that are possible, but not observed\n",
    "    'feature.possible_transitions': True\n",
    "})"
   ]
  },
  {
   "cell_type": "code",
   "execution_count": 49,
   "metadata": {},
   "outputs": [
    {
     "data": {
      "text/plain": [
       "['feature.minfreq',\n",
       " 'feature.possible_states',\n",
       " 'feature.possible_transitions',\n",
       " 'c1',\n",
       " 'c2',\n",
       " 'max_iterations',\n",
       " 'num_memories',\n",
       " 'epsilon',\n",
       " 'period',\n",
       " 'delta',\n",
       " 'linesearch',\n",
       " 'max_linesearch']"
      ]
     },
     "execution_count": 49,
     "metadata": {},
     "output_type": "execute_result"
    }
   ],
   "source": [
    "trainer.params()"
   ]
  },
  {
   "cell_type": "code",
   "execution_count": 50,
   "metadata": {},
   "outputs": [],
   "source": [
    "# Train and save the model\n",
    "trainer.train('osint-bomb-blast.crfsuite')"
   ]
  },
  {
   "cell_type": "code",
   "execution_count": 51,
   "metadata": {},
   "outputs": [
    {
     "data": {
      "text/plain": [
       "<contextlib.closing at 0x7f7c5b214b00>"
      ]
     },
     "execution_count": 51,
     "metadata": {},
     "output_type": "execute_result"
    }
   ],
   "source": [
    "tagger = pycrfsuite.Tagger()\n",
    "tagger.open('osint-bomb-blast.crfsuite')"
   ]
  },
  {
   "cell_type": "code",
   "execution_count": 52,
   "metadata": {},
   "outputs": [
    {
     "name": "stdout",
     "output_type": "stream",
     "text": [
      "[('The', 'O'), ('charge', 'O'), ('sheet', 'O'), ('filed', 'O'), ('by', 'O'), ('the', 'O'), ('Anti-Terrorism', 'ORG_Others'), ('Squad', 'ORG_Others'), ('(', 'ORG_Others'), ('ATS', 'ORG_Others'), (')', 'ORG_Others'), ('of', 'ORG_Others'), ('the', 'ORG_Others'), ('Rajasthan', 'ORG_Others'), ('police', 'ORG_Others'), ('against', 'O'), ('five', 'O'), ('accused', 'O'), ('in', 'O'), ('the', 'O'), ('2007', 'O'), ('Ajmer', 'LOC_Event'), ('dargah', 'LOC_Event'), ('blast', 'O'), ('case', 'O'), ('on', 'O'), ('Friday', 'O'), ('has', 'O'), ('named', 'O'), ('senior', 'O'), ('Rashtriya', 'ORG_Accused'), ('Swayamsevak', 'ORG_Accused'), ('Sangh', 'ORG_Accused'), ('leader', 'O'), ('Indresh', 'PER_Accused'), ('Kumar', 'PER_Accused'), ('as', 'O'), ('having', 'O'), ('provided', 'O'), ('guidance', 'O'), ('for', 'O'), ('a', 'O'), ('conspiracy', 'O'), ('hatched', 'O'), ('by', 'O'), ('radical', 'O'), ('elements', 'O'), ('for', 'O'), ('planting', 'O'), ('bombs', 'O'), ('in', 'O'), ('several', 'O'), ('cities', 'O'), ('across', 'O'), ('the', 'O'), ('country', 'O'), ('.', 'O'), ('Despite', 'O'), ('pointing', 'O'), ('the', 'O'), ('finger', 'O'), ('at', 'O'), ('Mr.', 'O'), ('Kumar', 'PER_Accused'), ('for', 'O'), ('addressing', 'O'), ('a', 'O'), ('secret', 'O'), ('meeting', 'O'), ('in', 'O'), ('Jaipur', 'LOC_Accused'), ('on', 'O'), ('October', 'O'), ('31', 'O'), (',', 'O'), ('2005', 'O'), (',', 'O'), ('the', 'O'), ('charge', 'O'), ('sheet', 'O'), (',', 'O'), ('filed', 'O'), ('in', 'O'), ('an', 'O'), ('Ajmer', 'LOC_Others'), ('court', 'O'), (',', 'O'), ('has', 'O'), ('not', 'O'), ('arraigned', 'O'), ('him', 'O'), ('as', 'O'), ('an', 'O'), ('accused', 'O'), ('.', 'O'), ('It', 'O'), ('only', 'O'), ('says', 'O'), ('the', 'O'), ('probe', 'O'), ('is', 'O'), ('still', 'O'), ('continuing', 'O'), (',', 'O'), ('though', 'O'), ('the', 'O'), ('RSS', 'ORG_Accused'), ('has', 'O'), ('denied', 'O'), ('Mr.', 'O'), ('Kumar', 'PER_Accused'), (\"'s\", 'O'), ('involvement', 'O'), ('.', 'O'), ('The', 'O'), ('ATS', 'ORG_Others'), ('has', 'O'), ('not', 'O'), ('identified', 'O'), ('the', 'O'), ('RSS', 'ORG_Accused'), ('or', 'O'), ('the', 'O'), ('radical', 'O'), ('outfit', 'O'), ('Abhinav', 'ORG_Accused'), ('Bharat', 'ORG_Accused'), ('as', 'O'), ('being', 'O'), ('involved', 'O'), ('in', 'O'), ('the', 'O'), ('conspiracy', 'O'), ('for', 'O'), ('the', 'O'), ('blast', 'O'), (',', 'O'), ('drawing', 'O'), ('flak', 'O'), ('from', 'O'), ('activist', 'O'), ('groups', 'O'), ('here', 'O'), ('.', 'O'), ('They', 'O'), ('have', 'O'), ('alleged', 'O'), ('that', 'O'), ('the', 'O'), ('investigating', 'O'), ('agencies', 'O'), ('are', 'O'), ('trying', 'O'), ('to', 'O'), ('pre-empt', 'O'), ('the', 'O'), ('conclusions', 'O'), ('about', 'O'), ('the', 'O'), ('Sangh', 'ORG_Accused'), ('Parivar', 'ORG_Accused'), (\"'s\", 'O'), ('direct', 'O'), ('role', 'O'), ('in', 'O'), ('terrorism', 'O'), ('.', 'O'), ('The', 'O'), ('806-page', 'O'), ('charge', 'O'), ('sheet', 'O'), ('says', 'O'), ('the', 'O'), ('office-bearers', 'O'), ('of', 'O'), ('some', 'O'), ('organisations', 'O'), ('hatched', 'O'), ('a', 'O'), ('conspiracy', 'O'), ('to', 'O'), ('counter', 'O'), ('the', 'O'), ('terror', 'O'), ('attacks', 'O'), ('on', 'O'), ('Hindu', 'O'), ('religious', 'O'), ('places', 'O'), ('and', 'O'), ('prepared', 'O'), ('a', 'O'), ('list', 'O'), ('of', 'O'), ('targets', 'O'), ('where', 'O'), ('the', 'O'), ('blasts', 'O'), ('are', 'O'), ('to', 'O'), ('be', 'O'), ('carried', 'O'), ('out', 'O'), ('.', 'O'), ('These', 'O'), ('included', 'O'), ('the', 'O'), ('Ajmer', 'LOC_Event'), ('dargah', 'LOC_Event'), (',', 'O'), ('the', 'O'), ('Malegaon', 'LOC_Event'), ('mosque', 'LOC_Event'), ('and', 'O'), ('the', 'O'), ('Makkah', 'LOC_Event'), ('Masjid', 'LOC_Event'), ('in', 'O'), ('Hyderabad', 'LOC_Event'), ('.', 'O'), ('Mr.', 'O'), ('Kumar', 'PER_Accused'), (',', 'O'), ('says', 'O'), ('the', 'O'), ('charge', 'O'), ('sheet', 'O'), (',', 'O'), ('addressed', 'O'), ('a', 'O'), ('secret', 'O'), ('meeting', 'O'), ('of', 'O'), ('radical', 'O'), ('activists', 'O'), ('at', 'O'), ('a', 'O'), ('guesthouse', 'O'), ('in', 'O'), ('Jaipur', 'LOC_Accused'), (',', 'O'), ('where', 'O'), ('he', 'O'), ('exhorted', 'O'), ('them', 'O'), ('to', 'O'), ('get', 'O'), ('affiliated', 'O'), ('to', 'O'), ('various', 'O'), ('religious', 'O'), ('bodies', 'O'), ('for', 'O'), ('completing', 'O'), ('their', 'O'), ('mission', 'O'), ('.', 'O'), ('This', 'O'), ('will', 'O'), ('eliminate', 'O'), ('the', 'O'), ('scope', 'O'), ('for', 'O'), ('suspicion', 'O'), ('about', 'O'), ('their', 'O'), ('trips', 'O'), ('to', 'O'), ('different', 'O'), ('cities', 'O'), ('.', 'O'), ('According', 'O'), ('to', 'O'), ('the', 'O'), ('charge', 'O'), ('sheet', 'O'), (',', 'O'), ('the', 'O'), ('main', 'O'), ('accused', 'O'), ('in', 'O'), ('the', 'O'), ('Ajmer', 'LOC_Event'), ('blast', 'O'), ('case', 'O'), (',', 'O'), ('Sunil', 'PER_Accused'), ('Joshi', 'PER_Accused'), ('of', 'O'), ('Indore', 'LOC_Accused'), ('(', 'O'), ('who', 'O'), ('was', 'O'), ('later', 'O'), ('murdered', 'O'), (')', 'O'), (';', 'O'), ('the', 'O'), ('prime', 'O'), ('accused', 'O'), ('in', 'O'), ('the', 'O'), ('Malegaon', 'LOC_Event'), ('blast', 'O'), ('case', 'O'), (',', 'O'), ('Pragnya', 'PER_Accused'), ('Singh', 'PER_Accused'), ('Thakur', 'PER_Accused'), (';', 'O'), ('and', 'O'), ('four', 'O'), ('others', 'O'), ('checked', 'O'), ('into', 'O'), ('the', 'O'), ('guesthouse', 'O'), ('under', 'O'), ('fake', 'O'), ('names', 'O'), ('for', 'O'), ('attending', 'O'), ('the', 'O'), ('meeting', 'O'), ('.', 'O'), ('The', 'O'), ('roles', 'O'), ('of', 'O'), ('different', 'O'), ('persons', 'O'), ('were', 'O'), ('decided', 'O'), ('at', 'O'), ('the', 'O'), ('meeting', 'O'), (',', 'O'), ('with', 'O'), ('the', 'O'), ('prime', 'O'), ('task', 'O'), ('of', 'O'), ('carrying', 'O'), ('out', 'O'), ('the', 'O'), ('blast', 'O'), ('at', 'O'), ('the', 'O'), ('time', 'O'), ('of', 'O'), ('Iftar', 'O'), (\"'\", 'O'), ('at', 'O'), ('Ahata-e-Noor', 'O'), ('in', 'O'), ('the', 'O'), ('dargah', 'O'), ('assigned', 'O'), ('to', 'O'), ('Sunil', 'PER_Accused'), ('Joshi', 'PER_Accused'), (',', 'O'), ('alleges', 'O'), ('the', 'O'), ('charge', 'O'), ('sheet', 'O'), ('.', 'O'), ('Lokesh', 'PER_Accused'), ('Sharma', 'PER_Accused'), ('and', 'O'), ('Ramji', 'PER_Accused'), ('Kalsangare', 'PER_Accused'), ('were', 'O'), ('asked', 'O'), ('to', 'O'), ('collect', 'O'), ('weapons', 'O'), ('and', 'O'), ('explosives', 'O'), ('and', 'O'), ('carry', 'O'), ('out', 'O'), ('a', 'O'), ('recce', 'O'), ('.', 'O'), ('The', 'O'), ('charge', 'O'), ('sheet', 'O'), ('says', 'O'), ('Devendra', 'PER_Accused'), ('Gupta', 'PER_Accused'), ('was', 'O'), ('asked', 'O'), ('to', 'O'), ('arrange', 'O'), ('for', 'O'), ('a', 'O'), ('mobile', 'O'), ('SIM', 'O'), ('card', 'O'), ('with', 'O'), ('fake', 'O'), ('identity', 'O'), ('papers', 'O'), (',', 'O'), ('while', 'O'), ('Sandeep', 'PER_Accused'), ('Dange', 'PER_Accused'), ('and', 'O'), ('Sunil', 'PER_Accused'), ('Joshi', 'PER_Accused'), ('would', 'O'), ('have', 'O'), ('to', 'O'), ('arrange', 'O'), ('for', 'O'), ('money', 'O'), ('for', 'O'), ('the', 'O'), ('terror', 'O'), ('activities', 'O'), ('.', 'O'), ('The', 'O'), ('ATS', 'ORG_Others'), ('produced', 'O'), ('one', 'O'), ('of', 'O'), ('the', 'O'), ('accused', 'O'), (',', 'O'), ('Chandrashekhar', 'PER_Accused'), (',', 'O'), ('in', 'O'), ('the', 'O'), ('court', 'O'), ('while', 'O'), ('two', 'O'), ('others', 'O'), ('Devendra', 'PER_Accused'), ('and', 'O'), ('Lokesh', 'PER_Accused'), ('are', 'O'), ('in', 'O'), ('Hyderabad', 'LOC_Others'), ('for', 'O'), ('interrogation', 'O'), ('in', 'O'), ('connection', 'O'), ('with', 'O'), ('the', 'O'), ('Makkah', 'LOC_Event'), ('Masjid', 'LOC_Event'), ('blast', 'O'), ('.', 'O'), ('Sandeep', 'PER_Accused'), ('and', 'O'), ('Ramji', 'PER_Accused'), (',', 'O'), ('who', 'O'), ('are', 'O'), ('reportedly', 'O'), ('absconding', 'O'), (',', 'O'), ('were', 'O'), ('named', 'O'), ('as', 'O'), ('accused', 'O'), ('.', 'O'), ('The', 'O'), ('prosecution', 'O'), ('appended', 'O'), ('to', 'O'), ('the', 'O'), ('charge', 'O'), ('sheet', 'O'), ('213', 'O'), ('support', 'O'), ('documents', 'O'), ('as', 'O'), ('well', 'O'), ('as', 'O'), ('a', 'O'), ('list', 'O'), ('of', 'O'), ('133', 'O'), ('witnesses', 'O'), ('.', 'O'), ('Chief', 'O'), ('Judicial', 'O'), ('Magistrate', 'O'), ('Jagendra', 'PER_Others'), ('Agrawal', 'PER_Others'), ('took', 'O'), ('cognisance', 'O'), ('against', 'O'), ('Devendra', 'PER_Accused'), (',', 'O'), ('Chandrashekhar', 'PER_Accused'), ('and', 'O'), ('Lokesh', 'PER_Accused'), ('under', 'O'), ('various', 'O'), ('Sections', 'O'), ('of', 'O'), ('the', 'O'), ('Indian', 'O'), ('Penal', 'O'), ('Code', 'O'), (',', 'O'), ('the', 'O'), ('Explosives', 'O'), ('Act', 'O'), ('and', 'O'), ('the', 'O'), ('Unlawful', 'O'), ('Activities', 'O'), ('(', 'O'), ('Prevention', 'O'), (')', 'O'), ('Act', 'O'), ('and', 'O'), ('posted', 'O'), ('the', 'O'), ('case', 'O'), ('to', 'O'), ('October', 'O'), ('26', 'O'), ('.', 'O')]\n"
     ]
    }
   ],
   "source": [
    "# Create test data\n",
    "test_data = []\n",
    "for f in test_file_list:\n",
    "    test_sentences =[]\n",
    "    word_file_path = os.path.join(doc_dir, f)\n",
    "    tag_file_path = os.path.join(tag_dir, f)\n",
    "    lines_in_word_file = []\n",
    "    lines_in_tag_file = []\n",
    "    with open(word_file_path, \"rt\") as word_file:\n",
    "        for line in word_file:\n",
    "            lines_in_word_file.append(line)\n",
    "    with open(tag_file_path, \"rt\") as tag_file:\n",
    "        for line in tag_file:\n",
    "            lines_in_tag_file.append(line)\n",
    "    if (len(lines_in_word_file) == len(lines_in_tag_file)) and len(lines_in_word_file) > 0:\n",
    "        for i in range(len(lines_in_word_file)):\n",
    "            word_in_file = lines_in_word_file[i].split()\n",
    "            tag_in_file = lines_in_tag_file[i].split()\n",
    "            pairs_in_line = []\n",
    "            length = min(len(word_in_file), len(tag_in_file))\n",
    "            #Create the word_tag pair\n",
    "            for j in range(length):\n",
    "                pairs_in_line.append((word_in_file[j], tag_in_file[j]));\n",
    "            test_sentences.append(pairs_in_line)\n",
    "    if len(test_sentences) > 0:\n",
    "        test_data.extend(test_sentences)\n",
    "\n",
    "print(test_data[0])"
   ]
  },
  {
   "cell_type": "code",
   "execution_count": 53,
   "metadata": {},
   "outputs": [
    {
     "name": "stdout",
     "output_type": "stream",
     "text": [
      "The charge sheet filed by the Anti-Terrorism Squad ( ATS ) of the Rajasthan police against five accused in the 2007 Ajmer dargah blast case on Friday has named senior Rashtriya Swayamsevak Sangh leader Indresh Kumar as having provided guidance for a conspiracy hatched by radical elements for planting bombs in several cities across the country . Despite pointing the finger at Mr. Kumar for addressing a secret meeting in Jaipur on October 31 , 2005 , the charge sheet , filed in an Ajmer court , has not arraigned him as an accused . It only says the probe is still continuing , though the RSS has denied Mr. Kumar 's involvement . The ATS has not identified the RSS or the radical outfit Abhinav Bharat as being involved in the conspiracy for the blast , drawing flak from activist groups here . They have alleged that the investigating agencies are trying to pre-empt the conclusions about the Sangh Parivar 's direct role in terrorism . The 806-page charge sheet says the office-bearers of some organisations hatched a conspiracy to counter the terror attacks on Hindu religious places and prepared a list of targets where the blasts are to be carried out . These included the Ajmer dargah , the Malegaon mosque and the Makkah Masjid in Hyderabad . Mr. Kumar , says the charge sheet , addressed a secret meeting of radical activists at a guesthouse in Jaipur , where he exhorted them to get affiliated to various religious bodies for completing their mission . This will eliminate the scope for suspicion about their trips to different cities . According to the charge sheet , the main accused in the Ajmer blast case , Sunil Joshi of Indore ( who was later murdered ) ; the prime accused in the Malegaon blast case , Pragnya Singh Thakur ; and four others checked into the guesthouse under fake names for attending the meeting . The roles of different persons were decided at the meeting , with the prime task of carrying out the blast at the time of Iftar ' at Ahata-e-Noor in the dargah assigned to Sunil Joshi , alleges the charge sheet . Lokesh Sharma and Ramji Kalsangare were asked to collect weapons and explosives and carry out a recce . The charge sheet says Devendra Gupta was asked to arrange for a mobile SIM card with fake identity papers , while Sandeep Dange and Sunil Joshi would have to arrange for money for the terror activities . The ATS produced one of the accused , Chandrashekhar , in the court while two others Devendra and Lokesh are in Hyderabad for interrogation in connection with the Makkah Masjid blast . Sandeep and Ramji , who are reportedly absconding , were named as accused . The prosecution appended to the charge sheet 213 support documents as well as a list of 133 witnesses . Chief Judicial Magistrate Jagendra Agrawal took cognisance against Devendra , Chandrashekhar and Lokesh under various Sections of the Indian Penal Code , the Explosives Act and the Unlawful Activities ( Prevention ) Act and posted the case to October 26 .\n",
      "Predicted: O O O O O O ORG_Others ORG_Others O ORG_Others O O O LOC_Others O O O O O O O LOC_Event LOC_Event O O O O O O O PER_Others PER_Others PER_Others PER_Others PER_Others PER_Others O O O O O O O O O O O O O O O O O O O O O O O O O O O PER_Others O O O O O O LOC_Event O O O O O O O O O O O O O ORG_Others ORG_Others O O O O O O O O O O O O O O O O O O O O ORG_Accused O O O PER_Others O O O O ORG_Others O O O O ORG_Accused O O O O ORG_Accused ORG_Accused O O O O O O O O O O O O O O O O O O O O O O O O O O O O O O O O O O O O O O O O O O O O O O O O O O O O O O O O O O O O O O O O O O O O O O O O O O O O O O O O LOC_Event LOC_Event O O LOC_Event LOC_Event O O LOC_Event LOC_Event O LOC_Event O O PER_Others O O O O O O O O O O O O O O O O O LOC_Event O O O O O O O O O O O O O O O O O O O O O O O O O O O O O O O O O O O O O O O O O O LOC_Event O O O PER_Accused PER_Accused O LOC_Others O O O O O O O O O O O O LOC_Event O O O PER_Accused PER_Accused PER_Accused O O O O O O O O O O O O O O O O O O O O O O O O O O O O O O O O O O O O O O O O O O O O O O O O O PER_Accused PER_Accused O O O O O O PER_Accused PER_Accused O PER_Accused PER_Accused O O O O O O O O O O O O O O O O O PER_Accused PER_Accused O O O O O O O O O O O O O O O PER_Accused PER_Accused O PER_Accused PER_Accused O O O O O O O O O O O O ORG_Others O O O O O O LOC_Others O O O O O O O PER_Accused O PER_Accused O O LOC_Others O O O O O O LOC_Event LOC_Event O O O O PER_Accused O O O O O O O O O O O O O O O O O O O O O O O O O O O O O O O O O PER_Others PER_Others O O O PER_Accused O LOC_Others O PER_Accused O O O O O O O O O O O O O O O O O O O O O O O O O O O O\n",
      "Correct:   O O O O O O ORG_Others ORG_Others ORG_Others ORG_Others ORG_Others ORG_Others ORG_Others ORG_Others ORG_Others O O O O O O LOC_Event LOC_Event O O O O O O O ORG_Accused ORG_Accused ORG_Accused O PER_Accused PER_Accused O O O O O O O O O O O O O O O O O O O O O O O O O O O PER_Accused O O O O O O LOC_Accused O O O O O O O O O O O O O LOC_Others O O O O O O O O O O O O O O O O O O O O O ORG_Accused O O O PER_Accused O O O O ORG_Others O O O O ORG_Accused O O O O ORG_Accused ORG_Accused O O O O O O O O O O O O O O O O O O O O O O O O O O O O O O O O ORG_Accused ORG_Accused O O O O O O O O O O O O O O O O O O O O O O O O O O O O O O O O O O O O O O O O O O O O O O LOC_Event LOC_Event O O LOC_Event LOC_Event O O LOC_Event LOC_Event O LOC_Event O O PER_Accused O O O O O O O O O O O O O O O O O LOC_Accused O O O O O O O O O O O O O O O O O O O O O O O O O O O O O O O O O O O O O O O O O O LOC_Event O O O PER_Accused PER_Accused O LOC_Accused O O O O O O O O O O O O LOC_Event O O O PER_Accused PER_Accused PER_Accused O O O O O O O O O O O O O O O O O O O O O O O O O O O O O O O O O O O O O O O O O O O O O O O O O PER_Accused PER_Accused O O O O O O PER_Accused PER_Accused O PER_Accused PER_Accused O O O O O O O O O O O O O O O O O PER_Accused PER_Accused O O O O O O O O O O O O O O O PER_Accused PER_Accused O PER_Accused PER_Accused O O O O O O O O O O O O ORG_Others O O O O O O PER_Accused O O O O O O O PER_Accused O PER_Accused O O LOC_Others O O O O O O LOC_Event LOC_Event O O PER_Accused O PER_Accused O O O O O O O O O O O O O O O O O O O O O O O O O O O O O O O O O PER_Others PER_Others O O O PER_Accused O PER_Accused O PER_Accused O O O O O O O O O O O O O O O O O O O O O O O O O O O O\n"
     ]
    }
   ],
   "source": [
    "example_sent = test_data[0]\n",
    "print(' '.join(sent2words(example_sent)))\n",
    "\n",
    "print(\"Predicted:\", ' '.join(tagger.tag(sent2features(example_sent))))\n",
    "print(\"Correct:  \", ' '.join(sent2tags(example_sent)))"
   ]
  },
  {
   "cell_type": "code",
   "execution_count": 54,
   "metadata": {},
   "outputs": [],
   "source": [
    "def report(y_true, y_pred):\n",
    "    \"\"\"\n",
    "    Classification report for a list of BIO-encoded sequences.\n",
    "    It computes token-level metrics and discards \"O\" labels.\n",
    "    \n",
    "    Note that it requires scikit-learn 0.15+ (or a version from github master)\n",
    "    to calculate averages properly!\n",
    "    \"\"\"\n",
    "    lb = LabelBinarizer()\n",
    "    y_true_combined = lb.fit_transform(list(chain.from_iterable(y_true)))\n",
    "    y_pred_combined = lb.transform(list(chain.from_iterable(y_pred)))\n",
    "        \n",
    "    tagset = set(lb.classes_) - {'O'}\n",
    "    tagset = sorted(tagset, key=lambda tag: tag.split('-', 1)[::-1])\n",
    "    class_indices = {cls: idx for idx, cls in enumerate(lb.classes_)}\n",
    "    \n",
    "    return classification_report(\n",
    "        y_true_combined,\n",
    "        y_pred_combined,\n",
    "        labels = [class_indices[cls] for cls in tagset],\n",
    "        target_names = tagset,\n",
    "    )"
   ]
  },
  {
   "cell_type": "code",
   "execution_count": 55,
   "metadata": {},
   "outputs": [],
   "source": [
    "x_test = [sent2features(s) for s in test_data]\n",
    "y_test = [sent2tags(s) for s in test_data]"
   ]
  },
  {
   "cell_type": "code",
   "execution_count": 56,
   "metadata": {},
   "outputs": [
    {
     "name": "stdout",
     "output_type": "stream",
     "text": [
      "CPU times: user 1.18 s, sys: 0 ns, total: 1.18 s\n",
      "Wall time: 1.18 s\n"
     ]
    }
   ],
   "source": [
    "%%time\n",
    "y_pred = [tagger.tag(xseq) for xseq in x_test]"
   ]
  },
  {
   "cell_type": "code",
   "execution_count": 57,
   "metadata": {},
   "outputs": [
    {
     "name": "stdout",
     "output_type": "stream",
     "text": [
      "             precision    recall  f1-score   support\n",
      "\n",
      "LOC_Accused       0.18      0.04      0.06       152\n",
      "  LOC_Event       0.59      0.52      0.56      1390\n",
      " LOC_Others       0.52      0.56      0.54      1356\n",
      " LOC_Victim       0.80      0.07      0.13        58\n",
      "  LOC_event       0.00      0.00      0.00         1\n",
      "ORG_Accused       0.80      0.72      0.76       597\n",
      " ORG_Others       0.73      0.67      0.70      1849\n",
      " ORG_Victim       0.62      0.19      0.29       106\n",
      "PER_Accused       0.66      0.53      0.59       658\n",
      " PER_Others       0.75      0.75      0.75      1513\n",
      " PER_Victim       0.36      0.27      0.31       184\n",
      "\n",
      "avg / total       0.65      0.60      0.62      7864\n",
      "\n"
     ]
    },
    {
     "name": "stderr",
     "output_type": "stream",
     "text": [
      "/usr/local/lib/python3.5/dist-packages/sklearn/metrics/classification.py:1135: UndefinedMetricWarning: Precision and F-score are ill-defined and being set to 0.0 in labels with no predicted samples.\n",
      "  'precision', 'predicted', average, warn_for)\n"
     ]
    }
   ],
   "source": [
    "print(report(y_test, y_pred))"
   ]
  },
  {
   "cell_type": "code",
   "execution_count": 58,
   "metadata": {},
   "outputs": [
    {
     "name": "stdout",
     "output_type": "stream",
     "text": [
      "215\n",
      "215\n"
     ]
    }
   ],
   "source": [
    "num_test_data = len(y_test)\n",
    "print (len(y_pred))\n",
    "print (num_test_data)"
   ]
  },
  {
   "cell_type": "code",
   "execution_count": 59,
   "metadata": {},
   "outputs": [],
   "source": [
    "# Test\n",
    "relevant_tag_count = dict() # TP + FN\n",
    "relevant_retrieved_tag_count = dict() # TP\n",
    "retrieved_tag_count = dict() # TP + FP\n",
    "\n",
    "relevant_tag_count[u'PER_Others'] = 0\n",
    "relevant_retrieved_tag_count[u'PER_Others'] = 0\n",
    "retrieved_tag_count[u'PER_Others'] = 0\n",
    "\n",
    "relevant_tag_count[u'PER_Victim'] = 0\n",
    "relevant_retrieved_tag_count[u'PER_Victim'] = 0\n",
    "retrieved_tag_count[u'PER_Victim'] = 0\n",
    "\n",
    "relevant_tag_count[u'PER_Accused'] = 0\n",
    "relevant_retrieved_tag_count[u'PER_Accused'] = 0\n",
    "retrieved_tag_count[u'PER_Accused'] = 0\n",
    "\n",
    "relevant_tag_count[u'ORG_Victim'] = 0\n",
    "relevant_retrieved_tag_count[u'ORG_Victim'] = 0\n",
    "retrieved_tag_count[u'ORG_Victim'] = 0\n",
    "\n",
    "relevant_tag_count[u'ORG_Accused'] = 0\n",
    "relevant_retrieved_tag_count[u'ORG_Accused'] = 0\n",
    "retrieved_tag_count[u'ORG_Accused'] = 0\n",
    "\n",
    "relevant_tag_count[u'ORG_Others'] = 0\n",
    "relevant_retrieved_tag_count[u'ORG_Others'] = 0\n",
    "retrieved_tag_count[u'ORG_Others'] = 0\n",
    "\n",
    "relevant_tag_count[u'LOC_Accused'] = 0\n",
    "relevant_retrieved_tag_count[u'LOC_Accused'] = 0\n",
    "retrieved_tag_count[u'LOC_Accused'] = 0\n",
    "\n",
    "relevant_tag_count[u'LOC_Others'] = 0\n",
    "relevant_retrieved_tag_count[u'LOC_Others'] = 0\n",
    "retrieved_tag_count[u'LOC_Others'] = 0\n",
    "\n",
    "relevant_tag_count[u'LOC_Event'] = 0\n",
    "relevant_retrieved_tag_count[u'LOC_Event'] = 0\n",
    "retrieved_tag_count[u'LOC_Event'] = 0\n",
    "\n",
    "relevant_tag_count[u'LOC_Victim'] = 0\n",
    "relevant_retrieved_tag_count[u'LOC_Victim'] = 0\n",
    "retrieved_tag_count[u'LOC_Victim'] = 0\n",
    "\n",
    "for i in range(num_test_data):\n",
    "    y_test_i = y_test[i]\n",
    "    y_pred_i = y_pred[i]\n",
    "    test_tag_length = len(y_test[i])\n",
    "    predicted_tag_length = len(y_pred[i])\n",
    "    for j in range(test_tag_length):\n",
    "        if y_test_i[j] in relevant_tag_count.keys():\n",
    "            relevant_tag_count[y_test_i[j]] = relevant_tag_count[y_test_i[j]] + 1\n",
    "            \n",
    "        if y_pred_i[j] in retrieved_tag_count.keys():\n",
    "                retrieved_tag_count[y_pred_i[j]] = retrieved_tag_count[y_pred_i[j]] + 1\n",
    "        \n",
    "        if y_test_i[j] == y_pred_i[j]:\n",
    "            if y_test_i[j] in relevant_retrieved_tag_count.keys():\n",
    "                relevant_retrieved_tag_count[y_test_i[j]] = relevant_retrieved_tag_count[y_test_i[j]] + 1"
   ]
  },
  {
   "cell_type": "code",
   "execution_count": 60,
   "metadata": {},
   "outputs": [
    {
     "name": "stdout",
     "output_type": "stream",
     "text": [
      "======= Precision Class Wise =====================\n",
      "\n",
      "Class    Precision %\n",
      "--------------------------\n",
      "LOC_Victim 0.8\n",
      "LOC_Accused 0.17647058823529413\n",
      "ORG_Accused 0.8026070763500931\n",
      "ORG_Victim 0.625\n",
      "LOC_Event 0.593469387755102\n",
      "PER_Accused 0.6579439252336449\n",
      "PER_Victim 0.35714285714285715\n",
      "\n",
      "======= Avergae Precision =====================\n",
      "\n",
      "Average Precision:  0.5732334049595701\n",
      "Average Recall:  0.3355395165392239\n",
      "Average f1:  0.4233014761202313\n"
     ]
    }
   ],
   "source": [
    "avg_precision = 0\n",
    "avg_recall = 0\n",
    "\n",
    "print('======= Precision Class Wise =====================\\n')\n",
    "\n",
    "print('Class    Precision %')\n",
    "print('--------------------------')\n",
    "\n",
    "count_keys = 0\n",
    "for key in retrieved_tag_count.keys():\n",
    "    if key[4:]!='Others':\n",
    "        count_keys = count_keys + 1\n",
    "        if retrieved_tag_count[key] != 0:\n",
    "            prec = float(relevant_retrieved_tag_count[key])/retrieved_tag_count[key]\n",
    "            print(key, prec)\n",
    "            avg_precision = avg_precision + prec\n",
    "        else:\n",
    "            print(key, 0.0)\n",
    "        \n",
    "        recall = float(relevant_retrieved_tag_count[key])/relevant_tag_count[key]\n",
    "        avg_recall = avg_recall + recall\n",
    "        \n",
    "        \n",
    "print('\\n======= Avergae Precision =====================\\n')\n",
    "print('Average Precision: ',avg_precision/count_keys)\n",
    "print('Average Recall: ',avg_recall/count_keys)\n",
    "\n",
    "avg_f1 = (2*avg_precision*avg_recall)/(avg_precision + avg_recall)/count_keys\n",
    "\n",
    "print('Average f1: ',avg_f1)"
   ]
  }
 ],
 "metadata": {
  "kernelspec": {
   "display_name": "Python 3",
   "language": "python",
   "name": "python3"
  },
  "language_info": {
   "codemirror_mode": {
    "name": "ipython",
    "version": 3
   },
   "file_extension": ".py",
   "mimetype": "text/x-python",
   "name": "python",
   "nbconvert_exporter": "python",
   "pygments_lexer": "ipython3",
   "version": "3.5.2"
  }
 },
 "nbformat": 4,
 "nbformat_minor": 2
}
