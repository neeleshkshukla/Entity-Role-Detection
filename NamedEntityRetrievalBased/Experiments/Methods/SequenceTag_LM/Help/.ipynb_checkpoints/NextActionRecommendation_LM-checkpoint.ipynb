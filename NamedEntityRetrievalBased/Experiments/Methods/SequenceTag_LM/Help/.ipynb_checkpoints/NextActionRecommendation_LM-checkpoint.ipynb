{
 "cells": [
  {
   "cell_type": "code",
   "execution_count": 2,
   "metadata": {
    "collapsed": true
   },
   "outputs": [],
   "source": [
    "# Implementation of Next Action Recommendation. \n",
    "# Import packages\n",
    "\n",
    "import pickle\n",
    "from cloudant.client import Cloudant\n",
    "from cloudant.result import Result, ResultByKey\n",
    "import traceback\n",
    "import numpy as np\n",
    "import tensorflow as tf\n",
    "from tensorflow.python.framework import ops\n",
    "import string, re, os\n",
    "import requests\n",
    "import collections\n",
    "import random"
   ]
  },
  {
   "cell_type": "code",
   "execution_count": 2,
   "metadata": {
    "collapsed": true
   },
   "outputs": [],
   "source": [
    "# If activities.pkl is not present then get all activities from cloudant db.\n",
    "# If you want to invoke database call just remove the object file\n",
    "try:\n",
    "    activitiesDataObjectInputFile = open('data/activities.pkl', 'rb')\n",
    "\n",
    "    if activitiesDataObjectInputFile:\n",
    "        result = pickle.load(activitiesDataObjectInputFile)\n",
    "        activitiesDataObjectInputFile.close()\n",
    "\n",
    "except FileNotFoundError:\n",
    "    print('activity object is not found. Try taking from cloudant db')"
   ]
  },
  {
   "cell_type": "code",
   "execution_count": 4,
   "metadata": {
    "collapsed": true
   },
   "outputs": [],
   "source": [
    "# Connect to cloudant db\n",
    "client = Cloudant(\"neelshuk\", \"neelshuk\", account=\"neelshuk\", connect=True)\n",
    "db = client['prd_masked']"
   ]
  },
  {
   "cell_type": "code",
   "execution_count": 5,
   "metadata": {
    "collapsed": true
   },
   "outputs": [],
   "source": [
    "# Get the results\n",
    "activitiesDataObjectOutputFile = open('data/activities.pkl', 'wb')\n",
    "result_collection = Result(db.all_docs, include_docs=True)\n",
    "result = result_collection[0 : ]\n",
    "pickle.dump(result, activitiesDataObjectOutputFile, pickle.HIGHEST_PROTOCOL)\n",
    "activitiesDataObjectOutputFile.close()"
   ]
  },
  {
   "cell_type": "code",
   "execution_count": 3,
   "metadata": {},
   "outputs": [
    {
     "name": "stdout",
     "output_type": "stream",
     "text": [
      "Processing result 0\n",
      "Processing result 1000\n",
      "Processing result 2000\n",
      "Processing result 3000\n",
      "Processing result 4000\n",
      "Processing result 5000\n",
      "Processing result 6000\n",
      "Processing result 7000\n",
      "Processing result 8000\n",
      "Processing result 9000\n",
      "Processing result 10000\n",
      "Processing result 11000\n",
      "Processing result 12000\n",
      "Processing result 13000\n",
      "Processing result 14000\n",
      "Processing result 15000\n",
      "Processing result 16000\n",
      "Processing result 17000\n",
      "Processing result 18000\n",
      "Processing result 19000\n",
      "Processing result 20000\n",
      "Processing result 21000\n",
      "Processing result 22000\n",
      "Processing result 23000\n",
      "Processing result 24000\n",
      "Processing result 25000\n",
      "Processing result 26000\n",
      "Processing result 27000\n",
      "Processing result 28000\n",
      "Processing result 29000\n",
      "Processing result 30000\n",
      "Processing result 31000\n",
      "Processing result 32000\n",
      "Processing result 33000\n",
      "Processing result 34000\n",
      "Processing result 35000\n",
      "Processing result 36000\n",
      "Processing result 37000\n",
      "Processing result 38000\n",
      "Processing result 39000\n",
      "Processing result 40000\n",
      "Processing result 41000\n",
      "Processing result 42000\n",
      "Processing result 43000\n",
      "Processing result 44000\n",
      "Processing result 45000\n",
      "Processing result 46000\n",
      "Processing result 47000\n",
      "Processing result 48000\n",
      "Processing result 49000\n",
      "Processing result 50000\n",
      "Processing result 51000\n",
      "Processing result 52000\n",
      "Processing result 53000\n",
      "Processing result 54000\n",
      "Processing result 55000\n",
      "Processing result 56000\n",
      "Processing result 57000\n",
      "Processing result 58000\n",
      "Processing result 59000\n",
      "Processing result 60000\n",
      "Processing result 61000\n",
      "Processing result 62000\n",
      "Processing result 63000\n",
      "Processing result 64000\n",
      "Processing result 65000\n",
      "Processing result 66000\n",
      "Processing result 67000\n",
      "Processing result 68000\n",
      "Processing result 69000\n",
      "Processing result 70000\n",
      "Processing result 71000\n",
      "Processing result 72000\n",
      "Processing result 73000\n",
      "Processing result 74000\n",
      "Processing result 75000\n",
      "Processing result 76000\n",
      "Processing result 77000\n",
      "Processing result 78000\n",
      "Processing result 79000\n",
      "Processing result 80000\n",
      "Number of transactions: 25552\n",
      "Number of sequences: 4159\n"
     ]
    }
   ],
   "source": [
    "# Build Sequences and Transactions\n",
    "\n",
    "Sequences = []\n",
    "Transactions = []\n",
    "printAt = 0\n",
    "try:\n",
    "    for i in range(len(result)):\n",
    "        # Print per 1000\n",
    "        if i == printAt:\n",
    "            print('Processing result ' + str(i))\n",
    "            printAt = printAt + 1000\n",
    "        list1 = []\n",
    "        inputDocument = result[i]['doc']['attributes']['inputDocument']\n",
    "        if 'shapingPipelines' in inputDocument:\n",
    "            shapingPipelines = inputDocument['shapingPipelines']\n",
    "            numPipelines = len(shapingPipelines)\n",
    "            for j in range(numPipelines):\n",
    "                if 'shapingOperations' in shapingPipelines[j]:\n",
    "                    shapingOperations = shapingPipelines[j]['shapingOperations']\n",
    "                    if 'sourceTable' in shapingPipelines[j]:\n",
    "                        sourceTable = 'TAB_'+shapingPipelines[j]['sourceTable']['name']\n",
    "                    numOperations = len(shapingOperations)\n",
    "                    for k in range(numOperations):\n",
    "                        cols = []\n",
    "                        if 'originalJoinOperation' in shapingOperations[k]['operation']:\n",
    "                            if 'op' in shapingOperations[k]['operation']['originalJoinOperation']:\n",
    "                                operation = shapingOperations[k]['operation']\n",
    "                                op = 'OPR_'+operation['originalJoinOperation']['op']\n",
    "                                parentTable = 'TAB_' + inputDocument['sources'][0]['tables'][0]['name']\n",
    "                                childTable = 'TAB_' + shapingOperations[k]['operation']['childTable']['name']\n",
    "                                parentColumn = 'COL_' + operation['originalJoinOperation']['criteria'][0]['parentColumnName']['name']\n",
    "                                childColumn = 'COL_' + operation['originalJoinOperation']['criteria'][0]['childColumnName']['name']\n",
    "                            list1.append([op, parentTable, childTable, parentColumn, childColumn])\n",
    "                            Transactions.append([op, parentTable, childTable, parentColumn, childColumn])\n",
    "                    \n",
    "                        elif 'op' in shapingOperations[k]['operation']:\n",
    "                            operation = shapingOperations[k]['operation']\n",
    "                            op = 'OPR_'+shapingOperations[k]['operation']['op']\n",
    "                            if op == 'ibm/join-datasets':\n",
    "                                parentColumn = 'COL_'+operation['criteria'][0]['parentColumnName']['name']\n",
    "                                childColumn='COL_'+operation['criteria'][0]['childColumnName']['name']\n",
    "                                if 'childTable' in operation:\n",
    "                                    childTable = 'TAB_'+operation['childTable']['name']\n",
    "                                    list1.append([op, sourceTable, childTable, parentColumn, childColumn])\n",
    "                                    Transactions.append([op, sourceTable, childTable, parentColumn, childColumn])\n",
    "                            else:\n",
    "                                if 'columnName' in operation:\n",
    "                                    columnName = 'COL_'+operation['columnName']\n",
    "                                    list1.append([op, sourceTable, columnName])\n",
    "                                    Transactions.append([op, sourceTable, columnName])\n",
    "                                elif 'columnNames' in operation:\n",
    "                                    columnNames = operation['columnNames']\n",
    "                                    for l in range(len(columnNames)):\n",
    "                                        cols.append('COL_'+columnNames[l])\n",
    "                                    list1.append([op, sourceTable])\n",
    "                                    Transactions.append([op, sourceTable])\n",
    "                                    if cols:\n",
    "                                        list1[len(list1)-1].extend(cols)\n",
    "                                        Transactions[len(Transactions)-1].extend(cols)\n",
    "        if len(list1) > 0:\n",
    "            Sequences.append(list1)\n",
    "except:\n",
    "    print('Oops!! Not again :)')\n",
    "    traceback.print_exc()\n",
    "        \n",
    "num_sequences = len(Sequences)\n",
    "num_transactions = len(Transactions)\n",
    "print(\"Number of transactions: \"+str(num_transactions))\n",
    "print(\"Number of sequences: \"+str(num_sequences))"
   ]
  },
  {
   "cell_type": "code",
   "execution_count": 15,
   "metadata": {
    "collapsed": true
   },
   "outputs": [],
   "source": [
    "# Format transaction to make it ready for SPMF tool\n",
    "itemSet = set()\n",
    "\n",
    "for i in range(num_transactions):\n",
    "    if len(Transactions[i]) > 0:\n",
    "        for item in Transactions[i]:\n",
    "            itemSet.add(item)\n",
    "\n",
    "uniqueItemList = list(itemSet)\n",
    "\n",
    "# Use hash table to get the index for an item.\n",
    "item_index_map = dict()\n",
    "\n",
    "for i in range(len(uniqueItemList)):\n",
    "    item_index_map[uniqueItemList[i]] = i;"
   ]
  },
  {
   "cell_type": "code",
   "execution_count": 16,
   "metadata": {
    "collapsed": true
   },
   "outputs": [],
   "source": [
    "# Generate Ids for item sets\n",
    "actionSet = set()\n",
    "for i in range(num_sequences):\n",
    "    if len(Sequences[i]) > 0:\n",
    "        list1 = Sequences[i]\n",
    "        if len(list1) > 0:\n",
    "            for sublist in list1:\n",
    "                if len(sublist) > 0:\n",
    "                    action = ''\n",
    "                    for item in sublist:\n",
    "                        action = action+str(item_index_map[item])+'##'\n",
    "                    actionSet.add(action)\n",
    "\n",
    "uniqueActionList = list(actionSet)\n",
    "\n",
    "# Use hash table to get the index for an action.\n",
    "action_index_map = dict()\n",
    "\n",
    "for i in range(len(uniqueActionList)):\n",
    "    action_index_map[uniqueActionList[i]] = i;\n",
    "        "
   ]
  },
  {
   "cell_type": "code",
   "execution_count": 28,
   "metadata": {},
   "outputs": [
    {
     "name": "stdout",
     "output_type": "stream",
     "text": [
      "3315\n",
      "844\n"
     ]
    }
   ],
   "source": [
    "# Build Training data and Test Data set assume 80:20\n",
    "trainSequences = []\n",
    "testSequences = []\n",
    "\n",
    "for i in range(num_sequences):\n",
    "    alpha = np.random.uniform(0, 1)\n",
    "    if alpha <= .8:\n",
    "        trainSequences.append(Sequences[i])\n",
    "    else:\n",
    "        testSequences.append(Sequences[i])\n",
    "\n",
    "numTrainSequences = len(trainSequences)\n",
    "numTestSequences = len(testSequences)\n",
    "print(numTrainSequences)\n",
    "print(numTestSequences)"
   ]
  },
  {
   "cell_type": "code",
   "execution_count": 3,
   "metadata": {},
   "outputs": [
    {
     "ename": "NameError",
     "evalue": "name 'numTrainSequences' is not defined",
     "output_type": "error",
     "traceback": [
      "\u001b[1;31m---------------------------------------------------------------------------\u001b[0m",
      "\u001b[1;31mNameError\u001b[0m                                 Traceback (most recent call last)",
      "\u001b[1;32m<ipython-input-3-485ca0bb38f2>\u001b[0m in \u001b[0;36m<module>\u001b[1;34m()\u001b[0m\n\u001b[0;32m      2\u001b[0m \u001b[1;33m\u001b[0m\u001b[0m\n\u001b[0;32m      3\u001b[0m \u001b[0msequenceDoc\u001b[0m \u001b[1;33m=\u001b[0m \u001b[0mopen\u001b[0m\u001b[1;33m(\u001b[0m\u001b[1;34m'sequenceDoc.txt'\u001b[0m\u001b[1;33m,\u001b[0m \u001b[1;34m'w'\u001b[0m\u001b[1;33m)\u001b[0m\u001b[1;33m\u001b[0m\u001b[0m\n\u001b[1;32m----> 4\u001b[1;33m \u001b[1;32mfor\u001b[0m \u001b[0mi\u001b[0m \u001b[1;32min\u001b[0m \u001b[0mrange\u001b[0m\u001b[1;33m(\u001b[0m\u001b[0mnumTrainSequences\u001b[0m\u001b[1;33m)\u001b[0m\u001b[1;33m:\u001b[0m\u001b[1;33m\u001b[0m\u001b[0m\n\u001b[0m\u001b[0;32m      5\u001b[0m     \u001b[1;32mif\u001b[0m \u001b[0mlen\u001b[0m\u001b[1;33m(\u001b[0m\u001b[0mtrainSequences\u001b[0m\u001b[1;33m[\u001b[0m\u001b[0mi\u001b[0m\u001b[1;33m]\u001b[0m\u001b[1;33m)\u001b[0m \u001b[1;33m>\u001b[0m \u001b[1;36m0\u001b[0m\u001b[1;33m:\u001b[0m\u001b[1;33m\u001b[0m\u001b[0m\n\u001b[0;32m      6\u001b[0m         \u001b[0mlist1\u001b[0m \u001b[1;33m=\u001b[0m \u001b[0mtrainSequences\u001b[0m\u001b[1;33m[\u001b[0m\u001b[0mi\u001b[0m\u001b[1;33m]\u001b[0m\u001b[1;33m\u001b[0m\u001b[0m\n",
      "\u001b[1;31mNameError\u001b[0m: name 'numTrainSequences' is not defined"
     ]
    }
   ],
   "source": [
    "# Create doc from sequeneces to feed to neural network\n",
    "\n",
    "sequenceDoc = open('sequenceDoc.txt', 'w')\n",
    "for i in range(numTrainSequences):\n",
    "    if len(trainSequences[i]) > 0:\n",
    "        list1 = trainSequences[i]\n",
    "        #print(list1)\n",
    "        if len(list1) > 0:\n",
    "            for sublist in list1:\n",
    "                if len(sublist) > 0:\n",
    "                    #print(sublist)\n",
    "                    action = ''\n",
    "                    for i in range(len(sublist)):\n",
    "                        #print(sublist[i])\n",
    "                        action = action+str(item_index_map[sublist[i]])+'##'\n",
    "                    sequenceDoc.write(str(action_index_map[action])+ ' ')\n",
    "sequenceDoc.close()\n",
    "    "
   ]
  },
  {
   "cell_type": "code",
   "execution_count": 4,
   "metadata": {},
   "outputs": [
    {
     "name": "stdout",
     "output_type": "stream",
     "text": [
      "Sample data:\n",
      "4065 11037 3651 3651 3651 3261 11551 2434 5901 4127 743 6508 12557 4098 10696 13416 2923 11678 2383 1715 5480 3884 1709 7702 1553 2959 6746 13017 1700 12828 5985 12541 7973 3496 9435 12541 9651 7973 1\n"
     ]
    }
   ],
   "source": [
    "# Build the doc vector \n",
    "\n",
    "data_dir = 'data'\n",
    "data_file = 'sequenceDoc.txt'\n",
    "with open(os.path.join(data_dir, data_file), 'r') as sequenceFile:\n",
    "        s_text = sequenceFile.read().replace('\\n', '')\n",
    "print('Sample data:\\n'+ s_text[:200])"
   ]
  },
  {
   "cell_type": "code",
   "execution_count": 5,
   "metadata": {},
   "outputs": [
    {
     "name": "stdout",
     "output_type": "stream",
     "text": [
      "word counts:  11220 text len:  20072\n",
      "Vocabulary Length = 11222\n"
     ]
    }
   ],
   "source": [
    "# Build vocabulary\n",
    "\n",
    "def build_vocab(text, min_word_freq):\n",
    "    word_counts = collections.Counter(text.split(' '))\n",
    "    print ('word counts: ', len(word_counts), 'text len: ', len(text.split(' ')))\n",
    "    # limit word counts to those more frequent than cutoff\n",
    "    word_counts = {key: val for key, val in word_counts.items() if val > min_word_freq}\n",
    "    # Create vocab --> index mapping\n",
    "    words = word_counts.keys()\n",
    "    vocab_to_ix_dict = {key: (ix + 1) for ix, key in enumerate(words)}\n",
    "    # Add unknown key --> 0 index\n",
    "    vocab_to_ix_dict['unknown'] = 0\n",
    "    # Create index --> vocab mapping\n",
    "    ix_to_vocab_dict = {val: key for key, val in vocab_to_ix_dict.items()}\n",
    "    return (ix_to_vocab_dict, vocab_to_ix_dict)\n",
    "\n",
    "# Build Sequence vocabulary\n",
    "min_word_freq = 0  # Trim the less frequent words off\n",
    "ix2vocab, vocab2ix = build_vocab(s_text, min_word_freq)\n",
    "vocab_size = len(ix2vocab) + 1\n",
    "print('Vocabulary Length = {}'.format(vocab_size))\n",
    "# Sanity Check\n",
    "assert (len(ix2vocab) == len(vocab2ix))"
   ]
  },
  {
   "cell_type": "code",
   "execution_count": 6,
   "metadata": {
    "collapsed": true
   },
   "outputs": [],
   "source": [
    "# Convert text to word \n",
    "\n",
    "s_text_words = s_text.split(' ')\n",
    "s_text_ix = []\n",
    "for ix, x in enumerate(s_text_words):\n",
    "    try:\n",
    "        s_text_ix.append(vocab2ix[x])\n",
    "    except:\n",
    "        s_text_ix.append(0)\n",
    "s_text_ix = np.array(s_text_ix)"
   ]
  },
  {
   "cell_type": "code",
   "execution_count": 7,
   "metadata": {
    "collapsed": true
   },
   "outputs": [],
   "source": [
    "# LSTM\n",
    "\n",
    "class LSTM_Model():\n",
    "    def __init__(self, rnn_size, batch_size, learning_rate,\n",
    "                 training_seq_len, vocab_size, infer_sample=False):\n",
    "        self.rnn_size = rnn_size\n",
    "        self.vocab_size = vocab_size\n",
    "        self.infer_sample = infer_sample\n",
    "        self.learning_rate = learning_rate\n",
    "\n",
    "        if infer_sample:\n",
    "            self.batch_size = 1\n",
    "            self.training_seq_len = 1\n",
    "        else:\n",
    "            self.batch_size = batch_size\n",
    "            self.training_seq_len = training_seq_len\n",
    "\n",
    "        self.lstm_cell = tf.contrib.rnn.BasicLSTMCell(rnn_size)\n",
    "        self.initial_state = self.lstm_cell.zero_state(self.batch_size, tf.float32)\n",
    "\n",
    "        self.x_data = tf.placeholder(tf.int32, [self.batch_size, self.training_seq_len])\n",
    "        self.y_output = tf.placeholder(tf.int32, [self.batch_size, self.training_seq_len])\n",
    "\n",
    "        with tf.variable_scope('lstm_vars'):\n",
    "            # Softmax Output Weights\n",
    "            W = tf.get_variable('W', [self.rnn_size, self.vocab_size], tf.float32, tf.random_normal_initializer())\n",
    "            b = tf.get_variable('b', [self.vocab_size], tf.float32, tf.constant_initializer(0.0))\n",
    "\n",
    "            # Define Embedding\n",
    "            embedding_mat = tf.get_variable('embedding_mat', [self.vocab_size, self.rnn_size],\n",
    "                                            tf.float32, tf.random_normal_initializer())\n",
    "            print('xdata:', self.x_data.get_shape())\n",
    "            print('emb_mat: ', embedding_mat.get_shape())\n",
    "            embedding_output = tf.nn.embedding_lookup(embedding_mat, self.x_data)\n",
    "            print('emb_output: ', embedding_output.get_shape())\n",
    "            rnn_inputs = tf.split(axis=1, num_or_size_splits=self.training_seq_len, value=embedding_output)\n",
    "            print('rnninputs: ', len(rnn_inputs), rnn_inputs[0].get_shape())\n",
    "            rnn_inputs_trimmed = [tf.squeeze(x, [1]) for x in rnn_inputs]\n",
    "            print('rnninput trimmed:', len(rnn_inputs_trimmed), rnn_inputs_trimmed[0].get_shape())\n",
    "\n",
    "            # If we are inferring (generating text), we add a 'loop' function\n",
    "            # Define how to get the i+1 th input from the i th output\n",
    "            def inferred_loop(prev, count):\n",
    "                # Apply hidden layer\n",
    "                prev_transformed = tf.matmul(prev, W) + b\n",
    "                # Get the index of the output (also don't run the gradient)\n",
    "                prev_symbol = tf.stop_gradient(tf.argmax(prev_transformed, 1))\n",
    "                # Get embedded vector\n",
    "                output = tf.nn.embedding_lookup(embedding_mat, prev_symbol)\n",
    "                return (output)\n",
    "\n",
    "            decoder = tf.contrib.legacy_seq2seq.rnn_decoder\n",
    "            outputs, last_state = decoder(rnn_inputs_trimmed,\n",
    "                                          self.initial_state,\n",
    "                                          self.lstm_cell,\n",
    "                                          loop_function=inferred_loop if infer_sample else None)\n",
    "            # Non inferred outputs\n",
    "            output = tf.reshape(tf.concat(axis=1, values=outputs), [-1, self.rnn_size])\n",
    "            # Logits and output\n",
    "            self.logit_output = tf.matmul(output, W) + b\n",
    "            self.model_output = tf.nn.softmax(self.logit_output)\n",
    "\n",
    "            loss_fun = tf.contrib.legacy_seq2seq.sequence_loss_by_example\n",
    "            loss = loss_fun([self.logit_output], [tf.reshape(self.y_output, [-1])],\n",
    "                            [tf.ones([self.batch_size * self.training_seq_len])],\n",
    "                            self.vocab_size)\n",
    "            self.cost = tf.reduce_sum(loss) / (self.batch_size * self.training_seq_len)\n",
    "            self.final_state = last_state\n",
    "            gradients, _ = tf.clip_by_global_norm(tf.gradients(self.cost, tf.trainable_variables()), 4.5)\n",
    "            optimizer = tf.train.AdamOptimizer(self.learning_rate)\n",
    "            self.train_op = optimizer.apply_gradients(zip(gradients, tf.trainable_variables()))\n",
    "\n",
    "    def sample(self, sess, words=ix2vocab, vocab=vocab2ix, num=1, prime_text='thou art'):\n",
    "        state = sess.run(self.lstm_cell.zero_state(1, tf.float32))\n",
    "        word_list = prime_text.split()\n",
    "        for word in word_list[:-1]:\n",
    "            x = np.zeros((1, 1))\n",
    "            x[0, 0] = vocab[word]\n",
    "            feed_dict = {self.x_data: x, self.initial_state: state}\n",
    "            [state] = sess.run([self.final_state], feed_dict=feed_dict)\n",
    "\n",
    "        out_sentence = prime_text\n",
    "        word = word_list[-1]\n",
    "        for n in range(num):\n",
    "            x = np.zeros((1, 1))\n",
    "            x[0, 0] = vocab[word]\n",
    "            feed_dict = {self.x_data: x, self.initial_state: state}\n",
    "            [model_output, state] = sess.run([self.model_output, self.final_state], feed_dict=feed_dict)\n",
    "            sample = np.argmax(model_output[0])\n",
    "            if sample == 0:\n",
    "                break\n",
    "            word = words[sample]\n",
    "            out_sentence = out_sentence + ' ' + word\n",
    "        return (out_sentence)"
   ]
  },
  {
   "cell_type": "code",
   "execution_count": 8,
   "metadata": {},
   "outputs": [
    {
     "name": "stdout",
     "output_type": "stream",
     "text": [
      "xdata: (32, 3)\n",
      "emb_mat:  (11222, 1024)\n",
      "emb_output:  (32, 3, 1024)\n",
      "rnninputs:  3 (32, 1, 1024)\n",
      "rnninput trimmed: 3 (32, 1024)\n",
      "xdata: (1, 1)\n",
      "emb_mat:  (11222, 1024)\n",
      "emb_output:  (1, 1, 1024)\n",
      "rnninputs:  1 (1, 1, 1024)\n",
      "rnninput trimmed: 1 (1, 1024)\n"
     ]
    }
   ],
   "source": [
    "rnn_size = 1024  # RNN Model size, has to equal embedding size\n",
    "epochs = 10  # Number of epochs to cycle through data\n",
    "batch_size = 32  # Train on this many examples at once\n",
    "learning_rate = 0.001  # Learning rate\n",
    "training_seq_len = 3  # how long of a word group to consider #Work with Trigram\n",
    "embedding_size = rnn_size\n",
    "eval_every = 50  # How often to evaluate the test sentences\n",
    "prime_texts = ['11110 3564 2460', '9394 5392 5862 12667', '10007 5735 589']\n",
    "\n",
    "sess = tf.Session()\n",
    "\n",
    "# Define LSTM RNN Model\n",
    "with tf.variable_scope('lstm_model') as scope:\n",
    "    # Define LSTM Model\n",
    "    lstm_model = LSTM_Model(rnn_size, batch_size, learning_rate,\n",
    "                            training_seq_len, vocab_size)\n",
    "    scope.reuse_variables()\n",
    "    test_lstm_model = LSTM_Model(rnn_size, batch_size, learning_rate,\n",
    "                                 training_seq_len, vocab_size, infer_sample=True)"
   ]
  },
  {
   "cell_type": "code",
   "execution_count": 9,
   "metadata": {
    "collapsed": true
   },
   "outputs": [],
   "source": [
    "num_batches = int(len(s_text_ix) / (batch_size * training_seq_len)) + 1\n",
    "# Split up text indices into subarrays, of equal size\n",
    "batches = np.array_split(s_text_ix, num_batches)\n",
    "# Reshape each split into [batch_size, training_seq_len]\n",
    "batches = [np.resize(x, [batch_size, training_seq_len]) for x in batches]"
   ]
  },
  {
   "cell_type": "code",
   "execution_count": 10,
   "metadata": {
    "collapsed": true
   },
   "outputs": [],
   "source": [
    "init = tf.global_variables_initializer()\n",
    "sess.run(init)"
   ]
  },
  {
   "cell_type": "code",
   "execution_count": 23,
   "metadata": {},
   "outputs": [
    {
     "name": "stdout",
     "output_type": "stream",
     "text": [
      "Starting Epoch #1 of 10.\n",
      "Iteration: 10, Epoch: 1, Batch: 10 out of 211, Loss: 0.19\n",
      "Iteration: 20, Epoch: 1, Batch: 20 out of 211, Loss: 0.41\n",
      "Iteration: 30, Epoch: 1, Batch: 30 out of 211, Loss: 0.42\n",
      "Iteration: 40, Epoch: 1, Batch: 40 out of 211, Loss: 0.60\n",
      "Iteration: 50, Epoch: 1, Batch: 50 out of 211, Loss: 0.58\n",
      "11110 3564 2460 11110 3564 2460 11110 3564 2460 11110 3564 2460 11110\n",
      "9394 5392 5862 12667 5392 5862 12667 5392 5862 12667 5392 5862 12667 5392\n",
      "10007 5735 589 1140 5735 4607 8657 5735 4607 8657 5735 4607 8657\n",
      "Iteration: 60, Epoch: 1, Batch: 60 out of 211, Loss: 0.22\n",
      "Iteration: 70, Epoch: 1, Batch: 70 out of 211, Loss: 0.97\n",
      "Iteration: 80, Epoch: 1, Batch: 80 out of 211, Loss: 0.27\n",
      "Iteration: 90, Epoch: 1, Batch: 90 out of 211, Loss: 0.04\n",
      "Iteration: 100, Epoch: 1, Batch: 100 out of 211, Loss: 1.15\n",
      "11110 3564 2460 11110 3564 2460 11110 3564 2460 11110 3564 2460 11110\n",
      "9394 5392 5862 12667 5392 5862 12667 5392 5862 12667 5392 5862 12667 5392\n",
      "10007 5735 589 1140 5735 4607 8657 5735 4607 8657 5735 4607 8657\n",
      "Iteration: 110, Epoch: 1, Batch: 110 out of 211, Loss: 0.12\n",
      "Iteration: 120, Epoch: 1, Batch: 120 out of 211, Loss: 0.65\n",
      "Iteration: 130, Epoch: 1, Batch: 130 out of 211, Loss: 0.76\n",
      "Iteration: 140, Epoch: 1, Batch: 140 out of 211, Loss: 0.43\n",
      "Iteration: 150, Epoch: 1, Batch: 150 out of 211, Loss: 0.94\n",
      "11110 3564 2460 11110 3564 2460 11110 3564 2460 11110 3564 2460 11110\n",
      "9394 5392 5862 12667 5392 5862 12667 5392 5862 12667 5392 5862 12667 5392\n",
      "10007 5735 589 1140 5735 589 1140 5735 589 1140 5735 589 1140\n",
      "Iteration: 160, Epoch: 1, Batch: 160 out of 211, Loss: 0.43\n",
      "Iteration: 170, Epoch: 1, Batch: 170 out of 211, Loss: 2.32\n",
      "Iteration: 180, Epoch: 1, Batch: 180 out of 211, Loss: 1.94\n",
      "Iteration: 190, Epoch: 1, Batch: 190 out of 211, Loss: 2.01\n",
      "Iteration: 200, Epoch: 1, Batch: 200 out of 211, Loss: 2.46\n",
      "11110 3564 2460 11110 3564 2460 11110 3564 2460 11110 3564 2460 11110\n",
      "9394 5392 5862 12667 5392 5862 12667 5392 5862 12667 5392 5862 12667 5392\n",
      "10007 5735 589 1140 5735 589 1140 5735 589 1140 5735 589 1140\n",
      "Iteration: 210, Epoch: 1, Batch: 210 out of 211, Loss: 1.17\n",
      "Starting Epoch #2 of 10.\n",
      "Iteration: 220, Epoch: 2, Batch: 10 out of 211, Loss: 1.44\n"
     ]
    },
    {
     "ename": "KeyboardInterrupt",
     "evalue": "",
     "output_type": "error",
     "traceback": [
      "\u001b[1;31m---------------------------------------------------------------------------\u001b[0m",
      "\u001b[1;31mKeyboardInterrupt\u001b[0m                         Traceback (most recent call last)",
      "\u001b[1;32m<ipython-input-23-d6be9ae094ad>\u001b[0m in \u001b[0;36m<module>\u001b[1;34m()\u001b[0m\n\u001b[0;32m     17\u001b[0m \u001b[1;33m\u001b[0m\u001b[0m\n\u001b[0;32m     18\u001b[0m         temp_loss, state, _ = sess.run([lstm_model.cost, lstm_model.final_state, lstm_model.train_op],\n\u001b[1;32m---> 19\u001b[1;33m                                        feed_dict=training_dict)\n\u001b[0m\u001b[0;32m     20\u001b[0m         \u001b[0mtrain_loss\u001b[0m\u001b[1;33m.\u001b[0m\u001b[0mappend\u001b[0m\u001b[1;33m(\u001b[0m\u001b[0mtemp_loss\u001b[0m\u001b[1;33m)\u001b[0m\u001b[1;33m\u001b[0m\u001b[0m\n\u001b[0;32m     21\u001b[0m \u001b[1;33m\u001b[0m\u001b[0m\n",
      "\u001b[1;32mC:\\Users\\IBM_ADMIN\\AppData\\Local\\Programs\\Python\\Python36\\lib\\site-packages\\tensorflow\\python\\client\\session.py\u001b[0m in \u001b[0;36mrun\u001b[1;34m(self, fetches, feed_dict, options, run_metadata)\u001b[0m\n\u001b[0;32m    787\u001b[0m     \u001b[1;32mtry\u001b[0m\u001b[1;33m:\u001b[0m\u001b[1;33m\u001b[0m\u001b[0m\n\u001b[0;32m    788\u001b[0m       result = self._run(None, fetches, feed_dict, options_ptr,\n\u001b[1;32m--> 789\u001b[1;33m                          run_metadata_ptr)\n\u001b[0m\u001b[0;32m    790\u001b[0m       \u001b[1;32mif\u001b[0m \u001b[0mrun_metadata\u001b[0m\u001b[1;33m:\u001b[0m\u001b[1;33m\u001b[0m\u001b[0m\n\u001b[0;32m    791\u001b[0m         \u001b[0mproto_data\u001b[0m \u001b[1;33m=\u001b[0m \u001b[0mtf_session\u001b[0m\u001b[1;33m.\u001b[0m\u001b[0mTF_GetBuffer\u001b[0m\u001b[1;33m(\u001b[0m\u001b[0mrun_metadata_ptr\u001b[0m\u001b[1;33m)\u001b[0m\u001b[1;33m\u001b[0m\u001b[0m\n",
      "\u001b[1;32mC:\\Users\\IBM_ADMIN\\AppData\\Local\\Programs\\Python\\Python36\\lib\\site-packages\\tensorflow\\python\\client\\session.py\u001b[0m in \u001b[0;36m_run\u001b[1;34m(self, handle, fetches, feed_dict, options, run_metadata)\u001b[0m\n\u001b[0;32m    995\u001b[0m     \u001b[1;32mif\u001b[0m \u001b[0mfinal_fetches\u001b[0m \u001b[1;32mor\u001b[0m \u001b[0mfinal_targets\u001b[0m\u001b[1;33m:\u001b[0m\u001b[1;33m\u001b[0m\u001b[0m\n\u001b[0;32m    996\u001b[0m       results = self._do_run(handle, final_targets, final_fetches,\n\u001b[1;32m--> 997\u001b[1;33m                              feed_dict_string, options, run_metadata)\n\u001b[0m\u001b[0;32m    998\u001b[0m     \u001b[1;32melse\u001b[0m\u001b[1;33m:\u001b[0m\u001b[1;33m\u001b[0m\u001b[0m\n\u001b[0;32m    999\u001b[0m       \u001b[0mresults\u001b[0m \u001b[1;33m=\u001b[0m \u001b[1;33m[\u001b[0m\u001b[1;33m]\u001b[0m\u001b[1;33m\u001b[0m\u001b[0m\n",
      "\u001b[1;32mC:\\Users\\IBM_ADMIN\\AppData\\Local\\Programs\\Python\\Python36\\lib\\site-packages\\tensorflow\\python\\client\\session.py\u001b[0m in \u001b[0;36m_do_run\u001b[1;34m(self, handle, target_list, fetch_list, feed_dict, options, run_metadata)\u001b[0m\n\u001b[0;32m   1130\u001b[0m     \u001b[1;32mif\u001b[0m \u001b[0mhandle\u001b[0m \u001b[1;32mis\u001b[0m \u001b[1;32mNone\u001b[0m\u001b[1;33m:\u001b[0m\u001b[1;33m\u001b[0m\u001b[0m\n\u001b[0;32m   1131\u001b[0m       return self._do_call(_run_fn, self._session, feed_dict, fetch_list,\n\u001b[1;32m-> 1132\u001b[1;33m                            target_list, options, run_metadata)\n\u001b[0m\u001b[0;32m   1133\u001b[0m     \u001b[1;32melse\u001b[0m\u001b[1;33m:\u001b[0m\u001b[1;33m\u001b[0m\u001b[0m\n\u001b[0;32m   1134\u001b[0m       return self._do_call(_prun_fn, self._session, handle, feed_dict,\n",
      "\u001b[1;32mC:\\Users\\IBM_ADMIN\\AppData\\Local\\Programs\\Python\\Python36\\lib\\site-packages\\tensorflow\\python\\client\\session.py\u001b[0m in \u001b[0;36m_do_call\u001b[1;34m(self, fn, *args)\u001b[0m\n\u001b[0;32m   1137\u001b[0m   \u001b[1;32mdef\u001b[0m \u001b[0m_do_call\u001b[0m\u001b[1;33m(\u001b[0m\u001b[0mself\u001b[0m\u001b[1;33m,\u001b[0m \u001b[0mfn\u001b[0m\u001b[1;33m,\u001b[0m \u001b[1;33m*\u001b[0m\u001b[0margs\u001b[0m\u001b[1;33m)\u001b[0m\u001b[1;33m:\u001b[0m\u001b[1;33m\u001b[0m\u001b[0m\n\u001b[0;32m   1138\u001b[0m     \u001b[1;32mtry\u001b[0m\u001b[1;33m:\u001b[0m\u001b[1;33m\u001b[0m\u001b[0m\n\u001b[1;32m-> 1139\u001b[1;33m       \u001b[1;32mreturn\u001b[0m \u001b[0mfn\u001b[0m\u001b[1;33m(\u001b[0m\u001b[1;33m*\u001b[0m\u001b[0margs\u001b[0m\u001b[1;33m)\u001b[0m\u001b[1;33m\u001b[0m\u001b[0m\n\u001b[0m\u001b[0;32m   1140\u001b[0m     \u001b[1;32mexcept\u001b[0m \u001b[0merrors\u001b[0m\u001b[1;33m.\u001b[0m\u001b[0mOpError\u001b[0m \u001b[1;32mas\u001b[0m \u001b[0me\u001b[0m\u001b[1;33m:\u001b[0m\u001b[1;33m\u001b[0m\u001b[0m\n\u001b[0;32m   1141\u001b[0m       \u001b[0mmessage\u001b[0m \u001b[1;33m=\u001b[0m \u001b[0mcompat\u001b[0m\u001b[1;33m.\u001b[0m\u001b[0mas_text\u001b[0m\u001b[1;33m(\u001b[0m\u001b[0me\u001b[0m\u001b[1;33m.\u001b[0m\u001b[0mmessage\u001b[0m\u001b[1;33m)\u001b[0m\u001b[1;33m\u001b[0m\u001b[0m\n",
      "\u001b[1;32mC:\\Users\\IBM_ADMIN\\AppData\\Local\\Programs\\Python\\Python36\\lib\\site-packages\\tensorflow\\python\\client\\session.py\u001b[0m in \u001b[0;36m_run_fn\u001b[1;34m(session, feed_dict, fetch_list, target_list, options, run_metadata)\u001b[0m\n\u001b[0;32m   1119\u001b[0m         return tf_session.TF_Run(session, options,\n\u001b[0;32m   1120\u001b[0m                                  \u001b[0mfeed_dict\u001b[0m\u001b[1;33m,\u001b[0m \u001b[0mfetch_list\u001b[0m\u001b[1;33m,\u001b[0m \u001b[0mtarget_list\u001b[0m\u001b[1;33m,\u001b[0m\u001b[1;33m\u001b[0m\u001b[0m\n\u001b[1;32m-> 1121\u001b[1;33m                                  status, run_metadata)\n\u001b[0m\u001b[0;32m   1122\u001b[0m \u001b[1;33m\u001b[0m\u001b[0m\n\u001b[0;32m   1123\u001b[0m     \u001b[1;32mdef\u001b[0m \u001b[0m_prun_fn\u001b[0m\u001b[1;33m(\u001b[0m\u001b[0msession\u001b[0m\u001b[1;33m,\u001b[0m \u001b[0mhandle\u001b[0m\u001b[1;33m,\u001b[0m \u001b[0mfeed_dict\u001b[0m\u001b[1;33m,\u001b[0m \u001b[0mfetch_list\u001b[0m\u001b[1;33m)\u001b[0m\u001b[1;33m:\u001b[0m\u001b[1;33m\u001b[0m\u001b[0m\n",
      "\u001b[1;31mKeyboardInterrupt\u001b[0m: "
     ]
    }
   ],
   "source": [
    "train_loss = []\n",
    "iteration_count = 1\n",
    "for epoch in range(epochs):\n",
    "    # Shuffle word indices\n",
    "    random.shuffle(batches)\n",
    "    # Create targets from shuffled batches\n",
    "    targets = [np.roll(x, -1, axis=1) for x in batches]\n",
    "    # Run a through one epoch\n",
    "    print('Starting Epoch #{} of {}.'.format(epoch + 1, epochs))\n",
    "    # Reset initial LSTM state every epoch\n",
    "    state = sess.run(lstm_model.initial_state)\n",
    "    for ix, batch in enumerate(batches):\n",
    "        training_dict = {lstm_model.x_data: batch, lstm_model.y_output: targets[ix]}\n",
    "        c, h = lstm_model.initial_state\n",
    "        training_dict[c] = state.c\n",
    "        training_dict[h] = state.h\n",
    "\n",
    "        temp_loss, state, _ = sess.run([lstm_model.cost, lstm_model.final_state, lstm_model.train_op],\n",
    "                                       feed_dict=training_dict)\n",
    "        train_loss.append(temp_loss)\n",
    "\n",
    "        # Print status every 10 gens\n",
    "        if iteration_count % 10 == 0:\n",
    "            summary_nums = (iteration_count, epoch + 1, ix + 1, num_batches + 1, temp_loss)\n",
    "            print('Iteration: {}, Epoch: {}, Batch: {} out of {}, Loss: {:.2f}'.format(*summary_nums))\n",
    "\n",
    "        if iteration_count % eval_every == 0:\n",
    "            for sample in prime_texts:\n",
    "                print(test_lstm_model.sample(sess, ix2vocab, vocab2ix, num=10, prime_text=sample))\n",
    "\n",
    "        iteration_count += 1"
   ]
  },
  {
   "cell_type": "code",
   "execution_count": 22,
   "metadata": {},
   "outputs": [
    {
     "data": {
      "image/png": "[encoded data removed]",
      "text/plain": [
       "<matplotlib.figure.Figure at 0x15d279e8>"
      ]
     },
     "metadata": {},
     "output_type": "display_data"
    }
   ],
   "source": [
    "import matplotlib.pyplot as plt\n",
    "plt.figure(figsize=(30,10))\n",
    "plt.plot(train_loss, 'k-')\n",
    "plt.title('Sequence to Sequence Loss')\n",
    "plt.xlabel('Generation')\n",
    "plt.ylabel('Loss')\n",
    "plt.show()"
   ]
  },
  {
   "cell_type": "code",
   "execution_count": null,
   "metadata": {
    "collapsed": true
   },
   "outputs": [],
   "source": []
  }
 ],
 "metadata": {
  "kernelspec": {
   "display_name": "Python 3",
   "language": "python",
   "name": "python3"
  },
  "language_info": {
   "codemirror_mode": {
    "name": "ipython",
    "version": 2
   },
   "file_extension": ".py",
   "mimetype": "text/x-python",
   "name": "python",
   "nbconvert_exporter": "python",
   "pygments_lexer": "ipython2",
   "version": "2.7.12"
  }
 },
 "nbformat": 4,
 "nbformat_minor": 1
}
