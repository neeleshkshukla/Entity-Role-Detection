{
 "cells": [
  {
   "cell_type": "code",
   "execution_count": 3,
   "metadata": {},
   "outputs": [
    {
     "name": "stdout",
     "output_type": "stream",
     "text": [
      "Tag Sequence Generated\n"
     ]
    }
   ],
   "source": [
    "# Create tag sequence\n",
    "\n",
    "import os\n",
    "\n",
    "tag_dir = 'Data/new_tags'\n",
    "sequencePath = 'Data/tag_sequence.txt'\n",
    "\n",
    "fout = open(sequencePath, 'w')\n",
    "\n",
    "for f in os.listdir(tag_dir):\n",
    "    filepath = os.path.join(tag_dir, f)\n",
    "    with open(filepath, \"rt\") as fin:\n",
    "        for line in fin:\n",
    "            fout.write(line)\n",
    "    fout.write(\" \")\n",
    "\n",
    "fout.close()\n",
    "\n",
    "print 'Tag Sequence Generated'\n"
   ]
  },
  {
   "cell_type": "code",
   "execution_count": null,
   "metadata": {},
   "outputs": [],
   "source": [
    "# Build vocabulary\n",
    "\n",
    "def build_vocab(text, min_word_freq):\n",
    "    word_counts = collections.Counter(text.split(' '))\n",
    "    print ('word counts: ', len(word_counts), 'text len: ', len(text.split(' ')))\n",
    "    # limit word counts to those more frequent than cutoff\n",
    "    word_counts = {key: val for key, val in word_counts.items() if val > min_word_freq}\n",
    "    # Create vocab --> index mapping\n",
    "    words = word_counts.keys()\n",
    "    vocab_to_ix_dict = {key: (ix + 1) for ix, key in enumerate(words)}\n",
    "    # Add unknown key --> 0 index\n",
    "    vocab_to_ix_dict['unknown'] = 0\n",
    "    # Create index --> vocab mapping\n",
    "    ix_to_vocab_dict = {val: key for key, val in vocab_to_ix_dict.items()}\n",
    "    return (ix_to_vocab_dict, vocab_to_ix_dict)\n",
    "\n",
    "# Build Sequence vocabulary\n",
    "min_word_freq = 0  # Trim the less frequent words off\n",
    "ix2vocab, vocab2ix = build_vocab(s_text, min_word_freq)\n",
    "vocab_size = len(ix2vocab) + 1\n",
    "print('Vocabulary Length = {}'.format(vocab_size))\n",
    "# Sanity Check\n",
    "assert (len(ix2vocab) == len(vocab2ix))"
   ]
  }
 ],
 "metadata": {
  "kernelspec": {
   "display_name": "Python 2",
   "language": "python",
   "name": "python2"
  },
  "language_info": {
   "codemirror_mode": {
    "name": "ipython",
    "version": 2
   },
   "file_extension": ".py",
   "mimetype": "text/x-python",
   "name": "python",
   "nbconvert_exporter": "python",
   "pygments_lexer": "ipython2",
   "version": "2.7.12"
  }
 },
 "nbformat": 4,
 "nbformat_minor": 2
}
