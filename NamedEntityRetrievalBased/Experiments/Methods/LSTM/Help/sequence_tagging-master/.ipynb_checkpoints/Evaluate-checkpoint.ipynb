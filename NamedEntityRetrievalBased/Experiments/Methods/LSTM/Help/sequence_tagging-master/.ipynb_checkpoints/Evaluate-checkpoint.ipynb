{
 "cells": [
  {
   "cell_type": "code",
   "execution_count": 1,
   "metadata": {},
   "outputs": [
    {
     "name": "stderr",
     "output_type": "stream",
     "text": [
      "/usr/local/lib/python3.5/dist-packages/h5py/__init__.py:36: FutureWarning: Conversion of the second argument of issubdtype from `float` to `np.floating` is deprecated. In future, it will be treated as `np.float64 == np.dtype(float).type`.\n",
      "  from ._conv import register_converters as _register_converters\n"
     ]
    }
   ],
   "source": [
    "from model.data_utils import CoNLLDataset\n",
    "from model.ner_model import NERModel\n",
    "from model.config import Config\n",
    "import os"
   ]
  },
  {
   "cell_type": "code",
   "execution_count": 2,
   "metadata": {},
   "outputs": [
    {
     "name": "stderr",
     "output_type": "stream",
     "text": [
      "/usr/local/lib/python3.5/dist-packages/tensorflow/python/ops/gradients_impl.py:100: UserWarning: Converting sparse IndexedSlices to a dense Tensor of unknown shape. This may consume a large amount of memory.\n",
      "  \"Converting sparse IndexedSlices to a dense Tensor of unknown shape. \"\n",
      "Initializing tf session\n",
      "Reloading the latest trained model...\n"
     ]
    },
    {
     "name": "stdout",
     "output_type": "stream",
     "text": [
      "INFO:tensorflow:Restoring parameters from results/test/model.weights/\n"
     ]
    },
    {
     "name": "stderr",
     "output_type": "stream",
     "text": [
      "Restoring parameters from results/test/model.weights/\n"
     ]
    }
   ],
   "source": [
    "config = Config()\n",
    "model = NERModel(config)\n",
    "model.build()\n",
    "model.restore_session(config.dir_model)"
   ]
  },
  {
   "cell_type": "code",
   "execution_count": 3,
   "metadata": {},
   "outputs": [
    {
     "name": "stdout",
     "output_type": "stream",
     "text": [
      "['O', 'O', 'ORG_Others', 'O', 'O', 'O', 'O', 'O', 'O', 'LOC_Others', 'O', 'O', 'PER_Accused', 'O', 'O', 'O', 'O', 'O', 'O', 'O', 'ORG_Others', 'O', 'O', 'O', 'O', 'PER_Accused', 'O', 'O', 'O', 'LOC_Others']\n"
     ]
    }
   ],
   "source": [
    "sentence = \"Staff Reporter Terror suspect is the prime accused in Kozhikode twin-blast case Nazir to be taken to blast sites today NIA has secured custody of Nazir for 10 days KOZHIKODE\"\n",
    "words_raw = sentence.strip().split(\" \")\n",
    "preds = model.predict(words_raw)\n",
    "print (preds)"
   ]
  },
  {
   "cell_type": "code",
   "execution_count": null,
   "metadata": {},
   "outputs": [],
   "source": [
    "# Test\n",
    "relevant_tag_count = dict() # TP + FN\n",
    "relevant_retrieved_tag_count = dict() # TP\n",
    "retrieved_tag_count = dict() # TP + FP\n",
    "\n",
    "relevant_tag_count['PER_Others'] = 0\n",
    "relevant_retrieved_tag_count['PER_Others'] = 0\n",
    "retrieved_tag_count['PER_Others'] = 0\n",
    "\n",
    "relevant_tag_count['PER_Victim'] = 0\n",
    "relevant_retrieved_tag_count['PER_Victim'] = 0\n",
    "retrieved_tag_count['PER_Victim'] = 0\n",
    "\n",
    "relevant_tag_count['PER_Accused'] = 0\n",
    "relevant_retrieved_tag_count['PER_Accused'] = 0\n",
    "retrieved_tag_count['PER_Accused'] = 0\n",
    "\n",
    "relevant_tag_count['ORG_Victim'] = 0\n",
    "relevant_retrieved_tag_count['ORG_Victim'] = 0\n",
    "retrieved_tag_count['ORG_Victim'] = 0\n",
    "\n",
    "relevant_tag_count['ORG_Accused'] = 0\n",
    "relevant_retrieved_tag_count['ORG_Accused'] = 0\n",
    "retrieved_tag_count['ORG_Accused'] = 0\n",
    "\n",
    "relevant_tag_count['ORG_Others'] = 0\n",
    "relevant_retrieved_tag_count['ORG_Others'] = 0\n",
    "retrieved_tag_count['ORG_Others'] = 0\n",
    "\n",
    "relevant_tag_count['LOC_Accused'] = 0\n",
    "relevant_retrieved_tag_count['LOC_Accused'] = 0\n",
    "retrieved_tag_count['LOC_Accused'] = 0\n",
    "\n",
    "relevant_tag_count['LOC_Others'] = 0\n",
    "relevant_retrieved_tag_count['LOC_Others'] = 0\n",
    "retrieved_tag_count['LOC_Others'] = 0\n",
    "\n",
    "relevant_tag_count['LOC_Event'] = 0\n",
    "relevant_retrieved_tag_count['LOC_Event'] = 0\n",
    "retrieved_tag_count['LOC_Event'] = 0\n",
    "\n",
    "relevant_tag_count['LOC_Victim'] = 0\n",
    "relevant_retrieved_tag_count['LOC_Victim'] = 0\n",
    "retrieved_tag_count['LOC_Victim'] = 0\n",
    "\n",
    "test_file_path = 'data/test.txt'\n",
    "\n",
    "with open(test_file_path, \"rt\") as test_file:\n",
    "    words = []\n",
    "    actual_tags = []\n",
    "    for line in test_file:\n",
    "        if line != '\\n':\n",
    "            tokens = line.split()\n",
    "            words.append(tokens[0])\n",
    "            actual_tags.append(tokens[1])\n",
    "        else:\n",
    "            # We have read one sentence\n",
    "            predicted_tags = model.predict(words)\n",
    "            result_len = min(len(predicted_tags), len(actual_tags))\n",
    "            for i in range(result_len):\n",
    "                if actual_tags[i] in relevant_tag_count.keys():\n",
    "                    relevant_tag_count[actual_tags[i]] = relevant_tag_count[actual_tags[i]] + 1\n",
    "                if predicted_tags[i] in retrieved_tag_count.keys():\n",
    "                    retrieved_tag_count[predicted_tags[i]] = retrieved_tag_count[predicted_tags[i]] + 1\n",
    "                if actual_tags[i] == predicted_tags[i]:\n",
    "                    if actual_tags[i] in relevant_retrieved_tag_count.keys():\n",
    "                        relevant_retrieved_tag_count[actual_tags[i]] = relevant_retrieved_tag_count[actual_tags[i]] + 1\n",
    "            # One sentence finished. Reinitialize\n",
    "            words = []\n",
    "            actual_tags = []"
   ]
  },
  {
   "cell_type": "code",
   "execution_count": 6,
   "metadata": {},
   "outputs": [
    {
     "name": "stdout",
     "output_type": "stream",
     "text": [
      "======= Precision Class Wise =====================\n",
      "\n",
      "Class    Precision %\n",
      "--------------------------\n",
      "PER_Accused 0.04140547674034972\n",
      "PER_Victim 0.008927038626609441\n",
      "ORG_Accused 0.044985555096987206\n",
      "ORG_Victim 0.003679476696647588\n",
      "LOC_Accused 0.0018008283810552854\n",
      "LOC_Event 0.0729829260127218\n",
      "LOC_Victim 0.0002872737719046251\n"
     ]
    },
    {
     "ename": "KeyError",
     "evalue": "'O'",
     "output_type": "error",
     "traceback": [
      "\u001b[0;31m---------------------------------------------------------------------------\u001b[0m",
      "\u001b[0;31mKeyError\u001b[0m                                  Traceback (most recent call last)",
      "\u001b[0;32m<ipython-input-6-888e4a5a9f57>\u001b[0m in \u001b[0;36m<module>\u001b[0;34m()\u001b[0m\n\u001b[1;32m     12\u001b[0m         \u001b[0mcount_keys\u001b[0m \u001b[0;34m=\u001b[0m \u001b[0mcount_keys\u001b[0m \u001b[0;34m+\u001b[0m \u001b[0;36m1\u001b[0m\u001b[0;34m\u001b[0m\u001b[0m\n\u001b[1;32m     13\u001b[0m         \u001b[0;32mif\u001b[0m \u001b[0mretrieved_tag_count\u001b[0m\u001b[0;34m[\u001b[0m\u001b[0mkey\u001b[0m\u001b[0;34m]\u001b[0m \u001b[0;34m!=\u001b[0m \u001b[0;36m0\u001b[0m\u001b[0;34m:\u001b[0m\u001b[0;34m\u001b[0m\u001b[0m\n\u001b[0;32m---> 14\u001b[0;31m             \u001b[0mprec\u001b[0m \u001b[0;34m=\u001b[0m \u001b[0mfloat\u001b[0m\u001b[0;34m(\u001b[0m\u001b[0mrelevant_retrieved_tag_count\u001b[0m\u001b[0;34m[\u001b[0m\u001b[0mkey\u001b[0m\u001b[0;34m]\u001b[0m\u001b[0;34m)\u001b[0m\u001b[0;34m/\u001b[0m\u001b[0mretrieved_tag_count\u001b[0m\u001b[0;34m[\u001b[0m\u001b[0mkey\u001b[0m\u001b[0;34m]\u001b[0m\u001b[0;34m\u001b[0m\u001b[0m\n\u001b[0m\u001b[1;32m     15\u001b[0m             \u001b[0mprint\u001b[0m\u001b[0;34m(\u001b[0m\u001b[0mkey\u001b[0m\u001b[0;34m,\u001b[0m \u001b[0mprec\u001b[0m\u001b[0;34m)\u001b[0m\u001b[0;34m\u001b[0m\u001b[0m\n\u001b[1;32m     16\u001b[0m             \u001b[0mavg_precision\u001b[0m \u001b[0;34m=\u001b[0m \u001b[0mavg_precision\u001b[0m \u001b[0;34m+\u001b[0m \u001b[0mprec\u001b[0m\u001b[0;34m\u001b[0m\u001b[0m\n",
      "\u001b[0;31mKeyError\u001b[0m: 'O'"
     ]
    }
   ],
   "source": [
    "avg_precision = 0\n",
    "avg_recall = 0\n",
    "\n",
    "print('======= Precision Class Wise =====================\\n')\n",
    "\n",
    "print('Class    Precision %')\n",
    "print('--------------------------')\n",
    "\n",
    "count_keys = 0\n",
    "for key in retrieved_tag_count.keys():\n",
    "    if key[4:]!='Others':\n",
    "        count_keys = count_keys + 1\n",
    "        if retrieved_tag_count[key] != 0:\n",
    "            prec = float(relevant_retrieved_tag_count[key])/retrieved_tag_count[key]\n",
    "            print(key, prec)\n",
    "            avg_precision = avg_precision + prec\n",
    "        else:\n",
    "            print(key, 0.0)\n",
    "        \n",
    "        recall = float(relevant_retrieved_tag_count[key])/relevant_tag_count[key]\n",
    "        avg_recall = avg_recall + recall\n",
    "        \n",
    "print('\\n======= Avergae Precision =====================\\n')\n",
    "print('Average Precision: ',avg_precision/count_keys)\n",
    "\n",
    "avg_f1 = (2*avg_precision*avg_recall)/(avg_precision + avg_recall)/count_keys\n",
    "print('Average Recall: ',avg_recall/count_keys)\n",
    "print('Average f1: ',avg_f1)"
   ]
  },
  {
   "cell_type": "code",
   "execution_count": 9,
   "metadata": {},
   "outputs": [
    {
     "name": "stdout",
     "output_type": "stream",
     "text": [
      "PER_Accused\n",
      "PER_Victim\n",
      "LOC_Accused\n",
      "ORG_Victim\n",
      "PER_Others\n",
      "ORG_Others\n",
      "ORG_Accused\n",
      "LOC_Others\n",
      "LOC_Victim\n",
      "LOC_Event\n"
     ]
    }
   ],
   "source": [
    "for key in relevant_retrieved_tag_count.keys():\n",
    "    print(key)"
   ]
  }
 ],
 "metadata": {
  "kernelspec": {
   "display_name": "Python 3",
   "language": "python",
   "name": "python3"
  },
  "language_info": {
   "codemirror_mode": {
    "name": "ipython",
    "version": 3
   },
   "file_extension": ".py",
   "mimetype": "text/x-python",
   "name": "python",
   "nbconvert_exporter": "python",
   "pygments_lexer": "ipython3",
   "version": "3.5.2"
  }
 },
 "nbformat": 4,
 "nbformat_minor": 2
}
