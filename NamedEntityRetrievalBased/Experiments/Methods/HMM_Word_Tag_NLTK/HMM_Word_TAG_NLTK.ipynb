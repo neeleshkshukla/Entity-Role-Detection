{
 "cells": [
  {
   "cell_type": "code",
   "execution_count": 1,
   "metadata": {},
   "outputs": [],
   "source": [
    "import nltk\n",
    "from nltk.corpus import treebank\n",
    "from nltk.tag import hmm\n",
    "import os\n",
    "import numpy as np"
   ]
  },
  {
   "cell_type": "code",
   "execution_count": 2,
   "metadata": {},
   "outputs": [],
   "source": [
    "#train_data = treebank.tagged_sents()[:3000]\n",
    "#print train_data[0][:10]"
   ]
  },
  {
   "cell_type": "code",
   "execution_count": 3,
   "metadata": {},
   "outputs": [
    {
     "name": "stdout",
     "output_type": "stream",
     "text": [
      "855\n",
      "230\n"
     ]
    }
   ],
   "source": [
    "# Prepare dataset for NLTK HMM Tagger\n",
    "# Divide in train and test files [80:20] \n",
    "\n",
    "# Directory having content\n",
    "doc_dir = '../../../../Data/input/rectified/content'\n",
    "\n",
    "train_file_list = []\n",
    "test_file_list = []\n",
    "\n",
    "for f in os.listdir(doc_dir):\n",
    "    #Random Sampling\n",
    "    if np.random.uniform(0,1)< 0.8:\n",
    "        train_file_list.append(f)\n",
    "    else:\n",
    "        test_file_list.append(f)\n",
    "\n",
    "print (len(train_file_list))\n",
    "print (len(test_file_list))"
   ]
  },
  {
   "cell_type": "code",
   "execution_count": 4,
   "metadata": {},
   "outputs": [],
   "source": [
    "# Build Tagged dataset to be fed in nltk hmm tagger\n",
    "# It is a list of tagged sentences. \n",
    "# training_data = [ [(word, tag), (word, tag).....]\n",
    "# [(word, tag), (word, tag).....]\n",
    "#]\n",
    "\n",
    "# Directory having tags\n",
    "tag_dir = '../../../../Data/input/rectified/new_tags'\n",
    "\n",
    "training_data = []\n",
    "\n",
    "for f in train_file_list:\n",
    "    training_sentences =[]\n",
    "    word_file_path = os.path.join(doc_dir, f)\n",
    "    tag_file_path = os.path.join(tag_dir, f)\n",
    "    lines_in_word_file = []\n",
    "    lines_in_tag_file = []\n",
    "    with open(word_file_path, \"rt\") as word_file:\n",
    "        for line in word_file:\n",
    "            lines_in_word_file.append(line)\n",
    "    with open(tag_file_path, \"rt\") as tag_file:\n",
    "        for line in tag_file:\n",
    "            lines_in_tag_file.append(line)\n",
    "    if (len(lines_in_word_file) == len(lines_in_tag_file)) and len(lines_in_word_file) > 0:\n",
    "        for i in range(len(lines_in_word_file)):\n",
    "            word_in_file = lines_in_word_file[i].split()\n",
    "            tag_in_file = lines_in_tag_file[i].split()\n",
    "            pairs_in_line = []\n",
    "            length = min(len(word_in_file), len(tag_in_file))\n",
    "            #Create the word_tag pair\n",
    "            for j in range(length):\n",
    "                pairs_in_line.append((word_in_file[j], tag_in_file[j]));\n",
    "            training_sentences.append(pairs_in_line)\n",
    "    if len(training_sentences) > 0:\n",
    "        training_data.extend(training_sentences)\n",
    "\n",
    "#print training_data[0]\n",
    "            "
   ]
  },
  {
   "cell_type": "code",
   "execution_count": 5,
   "metadata": {},
   "outputs": [
    {
     "name": "stdout",
     "output_type": "stream",
     "text": [
      "<HiddenMarkovModelTagger 14 states and 18316 output symbols>\n",
      "['O', 'ORG_Others', 'PER_Accused', 'LOC_Event', 'LOC_Accused', 'ORG_Accused', 'LOC_Others', 'PER_Others', 'PER_Victim', 'ORG_Victim', 'LOC_event', 'Org_Others', 'OORG_Others', 'LOC_Victim']\n"
     ]
    }
   ],
   "source": [
    "trainer = hmm.HiddenMarkovModelTrainer()\n",
    "tagger =  trainer.train_supervised(training_data)\n",
    "print(tagger)\n",
    "print (tagger._states)"
   ]
  },
  {
   "cell_type": "code",
   "execution_count": 6,
   "metadata": {},
   "outputs": [],
   "source": [
    "# Test\n",
    "relevant_tag_count = dict() # TP + FN\n",
    "relevant_retrieved_tag_count = dict() # TP\n",
    "retrieved_tag_count = dict() # TP + FP\n",
    "\n",
    "relevant_tag_count[u'PER_Others'] = 0\n",
    "relevant_retrieved_tag_count[u'PER_Others'] = 0\n",
    "retrieved_tag_count[u'PER_Others'] = 0\n",
    "\n",
    "relevant_tag_count[u'PER_Victim'] = 0\n",
    "relevant_retrieved_tag_count[u'PER_Victim'] = 0\n",
    "retrieved_tag_count[u'PER_Victim'] = 0\n",
    "\n",
    "relevant_tag_count[u'PER_Accused'] = 0\n",
    "relevant_retrieved_tag_count[u'PER_Accused'] = 0\n",
    "retrieved_tag_count[u'PER_Accused'] = 0\n",
    "\n",
    "relevant_tag_count[u'ORG_Victim'] = 0\n",
    "relevant_retrieved_tag_count[u'ORG_Victim'] = 0\n",
    "retrieved_tag_count[u'ORG_Victim'] = 0\n",
    "\n",
    "relevant_tag_count[u'ORG_Accused'] = 0\n",
    "relevant_retrieved_tag_count[u'ORG_Accused'] = 0\n",
    "retrieved_tag_count[u'ORG_Accused'] = 0\n",
    "\n",
    "relevant_tag_count[u'ORG_Others'] = 0\n",
    "relevant_retrieved_tag_count[u'ORG_Others'] = 0\n",
    "retrieved_tag_count[u'ORG_Others'] = 0\n",
    "\n",
    "relevant_tag_count[u'LOC_Accused'] = 0\n",
    "relevant_retrieved_tag_count[u'LOC_Accused'] = 0\n",
    "retrieved_tag_count[u'LOC_Accused'] = 0\n",
    "\n",
    "relevant_tag_count[u'LOC_Others'] = 0\n",
    "relevant_retrieved_tag_count[u'LOC_Others'] = 0\n",
    "retrieved_tag_count[u'LOC_Others'] = 0\n",
    "\n",
    "relevant_tag_count[u'LOC_Event'] = 0\n",
    "relevant_retrieved_tag_count[u'LOC_Event'] = 0\n",
    "retrieved_tag_count[u'LOC_Event'] = 0\n",
    "\n",
    "relevant_tag_count[u'LOC_Victim'] = 0\n",
    "relevant_retrieved_tag_count[u'LOC_Victim'] = 0\n",
    "retrieved_tag_count[u'LOC_Victim'] = 0\n",
    "\n",
    "for f in test_file_list:\n",
    "    word_file_path = os.path.join(doc_dir, f)\n",
    "    tag_file_path = os.path.join(tag_dir, f)\n",
    "    predicted_tags = []\n",
    "    with open(word_file_path, \"rt\") as word_file:\n",
    "        for line in word_file:\n",
    "            predicted_tags = tagger.tag(line.split())\n",
    "    if len(predicted_tags) > 0:\n",
    "        actual_tags = []\n",
    "        with open(tag_file_path, \"rt\") as tag_file:\n",
    "            for line in tag_file:\n",
    "                actual_tags = line.split()\n",
    "        result_len = min(len(predicted_tags), len(actual_tags))\n",
    "        \n",
    "        for i in range(result_len):\n",
    "            #print predicted_tags[i][1], actual_tags[i]\n",
    "            if actual_tags[i] in relevant_tag_count.keys():\n",
    "                relevant_tag_count[actual_tags[i]] = relevant_tag_count[actual_tags[i]] + 1\n",
    "            \n",
    "            if predicted_tags[i][1] in retrieved_tag_count.keys():\n",
    "                retrieved_tag_count[predicted_tags[i][1]] = retrieved_tag_count[predicted_tags[i][1]] + 1\n",
    "                \n",
    "            if actual_tags[i] == predicted_tags[i][1]:\n",
    "                if actual_tags[i] in relevant_retrieved_tag_count.keys():\n",
    "                    relevant_retrieved_tag_count[actual_tags[i]] = relevant_retrieved_tag_count[actual_tags[i]] + 1\n",
    "                    "
   ]
  },
  {
   "cell_type": "code",
   "execution_count": 10,
   "metadata": {},
   "outputs": [
    {
     "name": "stdout",
     "output_type": "stream",
     "text": [
      "======= Precision Class Wise =====================\n",
      "\n",
      "Class    Precision %\n",
      "--------------------------\n",
      "LOC_Accused 0.0\n",
      "PER_Accused 0.7625\n",
      "LOC_Event 0.5928571428571429\n",
      "ORG_Accused 0.7789473684210526\n",
      "LOC_Victim 0.0\n",
      "PER_Victim 0.22857142857142856\n",
      "ORG_Victim 0.24324324324324326\n",
      "\n",
      "======= Avergae Precision =====================\n",
      "\n",
      "Average Precision:  0.37230274044183814\n",
      "Average Recall:  0.5460502081332692\n",
      "Average f1:  0.12898798489238156\n"
     ]
    }
   ],
   "source": [
    "avg_precision = 0\n",
    "avg_recall = 0\n",
    "\n",
    "print('======= Precision Class Wise =====================\\n')\n",
    "\n",
    "print('Class    Precision %')\n",
    "print('--------------------------')\n",
    "\n",
    "count_keys = 0\n",
    "for key in retrieved_tag_count.keys():\n",
    "    if key[4:]!='Others':\n",
    "        count_keys = count_keys + 1\n",
    "        if retrieved_tag_count[key] != 0:\n",
    "            prec = float(relevant_retrieved_tag_count[key])/retrieved_tag_count[key]\n",
    "            print(key, prec)\n",
    "            avg_precision = avg_precision + prec\n",
    "        else:\n",
    "            print(key, 0.0)\n",
    "        \n",
    "        recall = float(relevant_retrieved_tag_count[key])/relevant_tag_count[key]\n",
    "        avg_recall = avg_recall + recall\n",
    "        \n",
    "print('\\n======= Avergae Precision =====================\\n')\n",
    "print('Average Precision: ',avg_precision/count_keys)\n",
    "\n",
    "avg_f1 = (2*avg_precision*avg_recall)/(avg_precision + avg_recall)/count_keys\n",
    "print('Average Recall: ',avg_recall)\n",
    "print('Average f1: ',avg_f1)"
   ]
  },
  {
   "cell_type": "code",
   "execution_count": 8,
   "metadata": {},
   "outputs": [
    {
     "name": "stdout",
     "output_type": "stream",
     "text": [
      "[('New', 'LOC_Others'), ('Delhi', 'LOC_Others'), (':', 'O'), ('In', 'O'), ('the', 'O'), ('wake', 'O'), ('of', 'O'), ('Fridays', 'O'), ('bomb', 'O'), ('blasts', 'O'), ('in', 'O'), ('Kabul', 'LOC_Event')]\n"
     ]
    }
   ],
   "source": [
    "result = tagger.tag(\"New Delhi : In the wake of Fridays bomb blasts in Kabul\".split())\n",
    "print (result)"
   ]
  },
  {
   "cell_type": "code",
   "execution_count": 9,
   "metadata": {},
   "outputs": [
    {
     "ename": "SyntaxError",
     "evalue": "Missing parentheses in call to 'print' (<ipython-input-9-2ca18c6e007a>, line 5)",
     "output_type": "error",
     "traceback": [
      "\u001b[0;36m  File \u001b[0;32m\"<ipython-input-9-2ca18c6e007a>\"\u001b[0;36m, line \u001b[0;32m5\u001b[0m\n\u001b[0;31m    print x\u001b[0m\n\u001b[0m          ^\u001b[0m\n\u001b[0;31mSyntaxError\u001b[0m\u001b[0;31m:\u001b[0m Missing parentheses in call to 'print'\n"
     ]
    }
   ],
   "source": [
    "# Dummy tab for test\n",
    "#print type(\"Chicago is the birthplace of Ginny\".split())\n",
    "x = [1,2,3]\n",
    "x.append(4)\n",
    "print x\n",
    "x.append([4,5])\n",
    "print x\n",
    "x.exten\n"
   ]
  }
 ],
 "metadata": {
  "kernelspec": {
   "display_name": "Python 3",
   "language": "python",
   "name": "python3"
  },
  "language_info": {
   "codemirror_mode": {
    "name": "ipython",
    "version": 3
   },
   "file_extension": ".py",
   "mimetype": "text/x-python",
   "name": "python",
   "nbconvert_exporter": "python",
   "pygments_lexer": "ipython3",
   "version": "3.5.2"
  }
 },
 "nbformat": 4,
 "nbformat_minor": 2
}
